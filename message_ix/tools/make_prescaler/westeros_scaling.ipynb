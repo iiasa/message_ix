{
 "cells": [
  {
   "cell_type": "markdown",
   "metadata": {},
   "source": [
    "# Westeros Tutorial - Introducing emissions (part1/2): Adding emission bounds\n",
    "\n",
    "In the first part, the model chose not to base the power system on wind power as electricity from wind turbines was more expensive than electricity produced from coal. However, we now introduce emissions to investigate the impact of climate policy. Let's see what happens then.\n",
    "\n",
    "**Pre-requisites**\n",
    "- You have the *MESSAGEix* framework installed and working\n",
    "- You have run Westeros baseline scenario (``westeros_baseline.ipynb``) and solved it successfully"
   ]
  },
  {
   "cell_type": "code",
   "execution_count": 1,
   "metadata": {},
   "outputs": [],
   "source": [
    "import pandas as pd\n",
    "import ixmp\n",
    "import message_ix\n",
    "import os\n",
    "\n",
    "from message_ix.tools.lp_diag import LPdiag\n",
    "from message_ix.tools.make_prescaler import make_prescaler\n",
    "from message_ix.tools.make_prescaler import disp_range\n",
    "\n",
    "from message_ix.util import make_df\n",
    "\n",
    "%matplotlib inline\n",
    "\n",
    "lp = LPdiag()\n",
    "mp = ixmp.Platform()"
   ]
  },
  {
   "cell_type": "markdown",
   "metadata": {},
   "source": [
    "## Making a clone of the existing scenario 'baseline'"
   ]
  },
  {
   "cell_type": "code",
   "execution_count": null,
   "metadata": {},
   "outputs": [],
   "source": [
    "model = \"Westeros Electrified\"\n",
    "\n",
    "base = message_ix.Scenario(mp, model=model, scenario=\"emission_bound\")\n",
    "\n",
    "\n",
    "scen_name = \"emission_bound_unscaled\"\n",
    "scen = base.clone(\n",
    "    model,\n",
    "    scen_name,\n",
    "    \"introducing scaling tool for westeros tutorial\",\n",
    "    keep_solution=False,\n",
    ")\n",
    "scen.check_out()"
   ]
  },
  {
   "cell_type": "markdown",
   "metadata": {},
   "source": [
    "## Time to Solve the Model"
   ]
  },
  {
   "cell_type": "code",
   "execution_count": null,
   "metadata": {},
   "outputs": [],
   "source": [
    "scen.commit(comment=\"Introducing scaling tool\")\n",
    "scen.set_as_default()\n",
    "\n",
    "current_directory = os.getcwd()\n",
    "mps_dir = os.path.join(current_directory, f\"{model}_{scen_name}.mps\")"
   ]
  },
  {
   "cell_type": "code",
   "execution_count": null,
   "metadata": {},
   "outputs": [],
   "source": [
    "scen.solve(solve_options={\"writemps\": mps_dir,})\n",
    "scen.var(\"OBJ\")[\"lvl\"]"
   ]
  },
  {
   "cell_type": "markdown",
   "metadata": {},
   "source": [
    "Using the unscaled scenario above, we make scaler arguments to solve scenario with scaled matrix coefficients"
   ]
  },
  {
   "cell_type": "code",
   "execution_count": null,
   "metadata": {
    "scrolled": false
   },
   "outputs": [],
   "source": [
    "scale_args = make_prescaler(mps_dir, scen, bounds=2, steps=1)\n",
    "scale_args"
   ]
  },
  {
   "cell_type": "markdown",
   "metadata": {},
   "source": [
    "## Run scenarios with scaled matrix"
   ]
  },
  {
   "cell_type": "code",
   "execution_count": 2,
   "metadata": {},
   "outputs": [
    {
     "name": "stderr",
     "output_type": "stream",
     "text": [
      "This Scenario has a solution, use `Scenario.remove_solution()` or `Scenario.clone(..., keep_solution=False)`\n"
     ]
    }
   ],
   "source": [
    "model = \"Westeros Electrified\"\n",
    "\n",
    "base = message_ix.Scenario(mp, model=model, scenario=\"emission_bound\")\n",
    "\n",
    "\n",
    "sc_name = \"emission_bound_scaled\"\n",
    "sc = base.clone(\n",
    "    model,\n",
    "    sc_name,\n",
    "    \"introducing scaling tool for westeros tutorial\",\n",
    "    keep_solution=False,\n",
    ")\n",
    "sc.check_out()\n",
    "\n",
    "sc.commit(comment=\"Introducing scaling tool\")\n",
    "sc.set_as_default()"
   ]
  },
  {
   "cell_type": "code",
   "execution_count": 3,
   "metadata": {},
   "outputs": [],
   "source": [
    "current_directory = os.getcwd()\n",
    "mps_dir = os.path.join(current_directory, f\"{model}_{sc_name}.mps\")"
   ]
  },
  {
   "cell_type": "code",
   "execution_count": 4,
   "metadata": {},
   "outputs": [],
   "source": [
    "model = model\n",
    "scenario_name = \"emission_bound_unscaled\"\n",
    "\n",
    "sc.solve(solve_options={\"writemps\": mps_dir},\n",
    "         #gams_args=[f\"--scaler='MsgPrescaler_Westeros Electrified_emission_bound_unscaled'\"]\n",
    "        )"
   ]
  },
  {
   "cell_type": "code",
   "execution_count": 5,
   "metadata": {},
   "outputs": [
    {
     "data": {
      "text/plain": [
       "206280.0625"
      ]
     },
     "execution_count": 5,
     "metadata": {},
     "output_type": "execute_result"
    }
   ],
   "source": [
    "sc.var(\"OBJ\")[\"lvl\"]"
   ]
  },
  {
   "cell_type": "code",
   "execution_count": 6,
   "metadata": {},
   "outputs": [
    {
     "name": "stdout",
     "output_type": "stream",
     "text": [
      "\n",
      "Reading MPS-format file C:\\Users\\pratama\\Documents\\GitHub\\MESSAGEix\\message_ix\\message_ix\\tools\\make_prescaler\\Westeros Electrified_emission_bound_scaled.mps.\n",
      "Next section found: NAME          gamsmodel (line 1).\n",
      "\tProblem name: gamsmodel.\n",
      "Next section found: ROWS (line 2).\n",
      "\tRow _obj (row_seq = 0) is the objective (goal function) row.\n",
      "Next section found: COLUMNS (line 74).\n",
      "Next section found: RHS (line 259).\n",
      "\tId of RHS: rhs\n",
      "Next section found: BOUNDS (line 268).\n",
      "\tId of BOUNDS: bnd\n",
      "Next section found: ENDATA (line 282).\n",
      "\n",
      "Finished processing 282 lines of the MPS file: C:\\Users\\pratama\\Documents\\GitHub\\MESSAGEix\\message_ix\\message_ix\\tools\\make_prescaler\\Westeros Electrified_emission_bound_scaled.mps.\n",
      "LP has: 71 rows, 55 cols, 184 non-zeros, matrix density = 4.71e-02.\n",
      "Numbers of redefined: RHS = 8, ranges = 0, bounds = 13.\n",
      "\n",
      "The GF (objective) row named \"_obj\" has 7 elements.\n",
      "Distribution of the GF (objective) values:\n",
      "count    7.000000\n",
      "mean     4.534986\n",
      "std      2.522265\n",
      "min      1.000000\n",
      "25%      2.910241\n",
      "50%      4.740475\n",
      "75%      6.231105\n",
      "max      7.721735\n",
      "Name: val, dtype: float64\n",
      "\n",
      "New exp range:: [ -1 | 1 ]\n"
     ]
    }
   ],
   "source": [
    "lp.read_mps(mps_dir)\n",
    "data = lp.read_matrix()\n",
    "disp_range(data,\"\\nNew exp range:\")"
   ]
  },
  {
   "cell_type": "markdown",
   "metadata": {},
   "source": [
    "## Close the connection to the database"
   ]
  },
  {
   "cell_type": "code",
   "execution_count": 7,
   "metadata": {},
   "outputs": [],
   "source": [
    "mp.close_db()"
   ]
  },
  {
   "cell_type": "code",
   "execution_count": null,
   "metadata": {},
   "outputs": [],
   "source": []
  }
 ],
 "metadata": {
  "kernelspec": {
   "display_name": "Python 3 (ipykernel)",
   "language": "python",
   "name": "python3"
  },
  "language_info": {
   "codemirror_mode": {
    "name": "ipython",
    "version": 3
   },
   "file_extension": ".py",
   "mimetype": "text/x-python",
   "name": "python",
   "nbconvert_exporter": "python",
   "pygments_lexer": "ipython3",
   "version": "3.10.9"
  }
 },
 "nbformat": 4,
 "nbformat_minor": 2
}
