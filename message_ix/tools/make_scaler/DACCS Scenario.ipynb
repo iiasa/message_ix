{
 "cells": [
  {
   "cell_type": "markdown",
   "metadata": {},
   "source": [
    "# Using scaling tool in global model with DACCS scenario"
   ]
  },
  {
   "cell_type": "code",
   "execution_count": 1,
   "metadata": {},
   "outputs": [],
   "source": [
    "import pandas as pd\n",
    "import ixmp\n",
    "import message_ix\n",
    "import os\n",
    "\n",
    "from message_ix.tools.lp_diag import LPdiag\n",
    "from message_ix.tools.make_scaler import make_scaler\n",
    "from message_ix.tools.make_scaler import show_range\n",
    "from message_ix.tools.make_scaler import get_scaler_args\n",
    "\n",
    "from message_ix.util import make_df\n",
    "\n",
    "%matplotlib inline\n",
    "\n",
    "lp = LPdiag()\n",
    "mp = ixmp.Platform()"
   ]
  },
  {
   "cell_type": "markdown",
   "metadata": {},
   "source": [
    "## Making a clone of the existing scenario 'baseline'"
   ]
  },
  {
   "cell_type": "code",
   "execution_count": 9,
   "metadata": {},
   "outputs": [
    {
     "name": "stderr",
     "output_type": "stream",
     "text": [
      "This Scenario has a solution, use `Scenario.remove_solution()` or `Scenario.clone(..., keep_solution=False)`\n"
     ]
    }
   ],
   "source": [
    "model = \"GENIE_sandbox\"\n",
    "\n",
    "base = message_ix.Scenario(mp, model=model, scenario=\"cb1000_splitCO2transdisp\")\n",
    "\n",
    "\n",
    "scen_name = \"cb1000_splitCO2transdisp_unscaled\"\n",
    "scen = base.clone(\n",
    "    model,\n",
    "    scen_name,\n",
    "    \"unscaled daccs scenario with split infrastructure\",\n",
    "    keep_solution=False,\n",
    ")\n",
    "scen.check_out()"
   ]
  },
  {
   "cell_type": "markdown",
   "metadata": {},
   "source": [
    "## Time to Solve the Model\n",
    "\n",
    "Solution time: 48.14s"
   ]
  },
  {
   "cell_type": "code",
   "execution_count": 10,
   "metadata": {},
   "outputs": [],
   "source": [
    "scen.commit(comment=\"unscaled daccs scenario with split infrastructure\")\n",
    "scen.set_as_default()\n",
    "\n",
    "current_directory = os.getcwd()\n",
    "mps_dir = os.path.join(current_directory, f\"{model}_{scen_name}.mps\")"
   ]
  },
  {
   "cell_type": "code",
   "execution_count": 11,
   "metadata": {},
   "outputs": [
    {
     "data": {
      "text/plain": [
       "2609317.5"
      ]
     },
     "execution_count": 11,
     "metadata": {},
     "output_type": "execute_result"
    }
   ],
   "source": [
    "scen.solve(solve_options={'barcrossalg': '2','scaind':'0'\n",
    "                          # ,\"writemps\": mps_dir,\n",
    "                         })\n",
    "scen.var(\"OBJ\")[\"lvl\"]"
   ]
  },
  {
   "cell_type": "markdown",
   "metadata": {},
   "source": [
    "Using the unscaled scenario above, we make scaler arguments to solve scenario with scaled matrix coefficients"
   ]
  },
  {
   "cell_type": "code",
   "execution_count": 2,
   "metadata": {},
   "outputs": [],
   "source": [
    "scen = message_ix.Scenario(mp, model=\"GENIE_sandbox\", scenario=\"cb1000_splitCO2transdisp_unscaled\")\n"
   ]
  },
  {
   "cell_type": "raw",
   "metadata": {
    "scrolled": false
   },
   "source": [
    "model = \"GENIE_sandbox\"\n",
    "scen_name = \"cb1000_splitCO2transdisp_unscaled\"\n",
    "\n",
    "current_directory = os.getcwd()\n",
    "mps_dir = os.path.join(current_directory, f\"{model}_{scen_name}.mps\")\n",
    "scale_df = make_scaler(mps_dir, scen, bounds=4, steps=1)"
   ]
  },
  {
   "cell_type": "markdown",
   "metadata": {},
   "source": [
    "## Run scenarios with scaled matrix\n",
    "\n",
    "Results: solution time 57.8s"
   ]
  },
  {
   "cell_type": "code",
   "execution_count": 4,
   "metadata": {},
   "outputs": [],
   "source": [
    "model = \"GENIE_sandbox\"\n",
    "\n",
    "base = message_ix.Scenario(mp, model=model, scenario=\"cb1000_splitCO2transdisp_unscaled\")\n",
    "\n",
    "\n",
    "sc_name = \"cb1000_splitCO2transdisp_scaled\"\n",
    "sc = base.clone(\n",
    "    model,\n",
    "    sc_name,\n",
    "    \"introducing scaling tool for global model daccs scenario\",\n",
    "    keep_solution=False,\n",
    ")\n",
    "sc.check_out()\n",
    "\n",
    "sc.commit(comment=\"Scaling tool test for global model\")\n",
    "sc.set_as_default()"
   ]
  },
  {
   "cell_type": "code",
   "execution_count": 5,
   "metadata": {},
   "outputs": [],
   "source": [
    "current_directory = os.getcwd()\n",
    "mps_dir = os.path.join(current_directory, f\"{model}_{sc_name}.mps\")"
   ]
  },
  {
   "cell_type": "code",
   "execution_count": 6,
   "metadata": {},
   "outputs": [],
   "source": [
    "argument = get_scaler_args(scen)\n",
    "\n",
    "sc.solve(solve_options={\"writemps\": mps_dir},\n",
    "         gams_args=[argument]\n",
    "        )"
   ]
  },
  {
   "cell_type": "code",
   "execution_count": 7,
   "metadata": {},
   "outputs": [
    {
     "data": {
      "text/plain": [
       "2609317.5"
      ]
     },
     "execution_count": 7,
     "metadata": {},
     "output_type": "execute_result"
    }
   ],
   "source": [
    "sc.var(\"OBJ\")[\"lvl\"]"
   ]
  },
  {
   "cell_type": "code",
   "execution_count": 12,
   "metadata": {},
   "outputs": [
    {
     "data": {
      "text/plain": [
       "2609317.5"
      ]
     },
     "execution_count": 12,
     "metadata": {},
     "output_type": "execute_result"
    }
   ],
   "source": [
    "scen.var(\"OBJ\")[\"lvl\"]"
   ]
  },
  {
   "cell_type": "raw",
   "metadata": {},
   "source": [
    "lp.read_mps(mps_dir)\n",
    "data = lp.read_matrix()\n",
    "show_range(data,\"\\nNew exp range:\")"
   ]
  },
  {
   "cell_type": "markdown",
   "metadata": {},
   "source": [
    "**Let's compare with running scenario without special arguments**\n",
    "\n",
    "Results: solution time 50s\n",
    "\n",
    "<code>\n",
    "\n",
    "Primal simplex solved model.\n",
    "\n",
    "Iteration:  4009    Objective     =       2609317.507987\n",
    "Elapsed time = 40.50 sec. (46961.19 ticks, 4009 iterations)\n",
    "Iteration:  4096    Objective     =       2609317.507987\n",
    "Iteration:  5667    Objective     =       2609317.519581\n",
    "Total crossover time = 29.84 sec. (24634.88 ticks)\n",
    "\n",
    "Total time on 4 threads = 50.02 sec. (52935.76 ticks)\n",
    "\n",
    "--- LP status (5): optimal with unscaled infeasibilities.\n",
    "--- Cplex Time: 50.03sec (det. 52937.85 ticks)\n",
    "\n",
    "Optimal solution found, but with infeasibilities after unscaling\n",
    "Simplex iterations after crossover: 0\n",
    "Objective:      2609317.507987\n",
    "\n",
    "</code>"
   ]
  },
  {
   "cell_type": "markdown",
   "metadata": {},
   "source": [
    "**Scaled with default GAMS options:**\n",
    "\n",
    "Solution time: 119.23s"
   ]
  },
  {
   "cell_type": "code",
   "execution_count": 1,
   "metadata": {},
   "outputs": [
    {
     "data": {
      "text/plain": [
       "2609317.5"
      ]
     },
     "execution_count": 1,
     "metadata": {},
     "output_type": "execute_result"
    }
   ],
   "source": [
    "import pandas as pd\n",
    "import ixmp\n",
    "import message_ix\n",
    "import os\n",
    "\n",
    "from message_ix.tools.lp_diag import LPdiag\n",
    "from message_ix.tools.make_scaler import make_scaler\n",
    "from message_ix.tools.make_scaler import show_range\n",
    "from message_ix.tools.make_scaler import get_scaler_args\n",
    "\n",
    "from message_ix.util import make_df\n",
    "\n",
    "%matplotlib inline\n",
    "\n",
    "lp = LPdiag()\n",
    "mp = ixmp.Platform()\n",
    "\n",
    "model = \"GENIE_sandbox\"\n",
    "\n",
    "base = message_ix.Scenario(mp, model=model, scenario=\"cb1000_splitCO2transdisp_unscaled\")\n",
    "\n",
    "\n",
    "scen_name = \"cb1000_splitCO2transdisp_scaled\"\n",
    "scen = base.clone(\n",
    "    model,\n",
    "    scen_name,\n",
    "    \"unscaled daccs scenario with split infrastructure\",\n",
    "    keep_solution=False,\n",
    ")\n",
    "scen.check_out()\n",
    "\n",
    "\n",
    "argument = get_scaler_args(base)\n",
    "\n",
    "\n",
    "scen.solve(solve_options={\"advind\": \"determined by GAMS Bratio\",\n",
    "                          \"epopt\": \"1.0e-06\",\n",
    "                          \"lpmethod\": \"0\",\n",
    "                         },\n",
    "           gams_args=[argument])\n",
    "scen.var(\"OBJ\")[\"lvl\"]"
   ]
  },
  {
   "cell_type": "markdown",
   "metadata": {},
   "source": [
    "**Unscaled with default GAMS settings**\n",
    "\n",
    "Solution time: 93.52sec"
   ]
  },
  {
   "cell_type": "code",
   "execution_count": 2,
   "metadata": {},
   "outputs": [
    {
     "name": "stderr",
     "output_type": "stream",
     "text": [
      "This Scenario has a solution, use `Scenario.remove_solution()` or `Scenario.clone(..., keep_solution=False)`\n"
     ]
    },
    {
     "data": {
      "text/plain": [
       "2609317.5"
      ]
     },
     "execution_count": 2,
     "metadata": {},
     "output_type": "execute_result"
    }
   ],
   "source": [
    "model = \"GENIE_sandbox\"\n",
    "\n",
    "base = message_ix.Scenario(mp, model=model, scenario=\"cb1000_splitCO2transdisp\")\n",
    "\n",
    "\n",
    "scen_name = \"cb1000_splitCO2transdisp_unscaled\"\n",
    "scen = base.clone(\n",
    "    model,\n",
    "    scen_name,\n",
    "    \"unscaled daccs scenario with split infrastructure\",\n",
    "    keep_solution=False,\n",
    ")\n",
    "scen.check_out()\n",
    "\n",
    "scen.solve(solve_options={\"advind\": \"determined by GAMS Bratio\",\n",
    "                          \"epopt\": \"1.0e-06\",\n",
    "                          \"lpmethod\": \"0\",\n",
    "                         })\n",
    "scen.var(\"OBJ\")[\"lvl\"]"
   ]
  },
  {
   "cell_type": "markdown",
   "metadata": {},
   "source": [
    "**Scaled with dual simplex:**\n",
    "\n",
    "Solution time: s"
   ]
  },
  {
   "cell_type": "code",
   "execution_count": null,
   "metadata": {},
   "outputs": [],
   "source": [
    "import pandas as pd\n",
    "import ixmp\n",
    "import message_ix\n",
    "import os\n",
    "\n",
    "from message_ix.tools.lp_diag import LPdiag\n",
    "from message_ix.tools.make_scaler import make_scaler\n",
    "from message_ix.tools.make_scaler import show_range\n",
    "from message_ix.tools.make_scaler import get_scaler_args\n",
    "\n",
    "from message_ix.util import make_df\n",
    "\n",
    "%matplotlib inline\n",
    "\n",
    "lp = LPdiag()\n",
    "mp = ixmp.Platform()\n",
    "\n",
    "model = \"GENIE_sandbox\"\n",
    "\n",
    "base = message_ix.Scenario(mp, model=model, scenario=\"cb1000_splitCO2transdisp_unscaled\")\n",
    "\n",
    "\n",
    "scen_name = \"cb1000_splitCO2transdisp_scaled\"\n",
    "scen = base.clone(\n",
    "    model,\n",
    "    scen_name,\n",
    "    \"unscaled daccs scenario with split infrastructure\",\n",
    "    keep_solution=False,\n",
    ")\n",
    "scen.check_out()\n",
    "\n",
    "\n",
    "argument = get_scaler_args(base)\n",
    "\n",
    "\n",
    "scen.solve(solve_options={\"advind\": \"determined by GAMS Bratio\",\n",
    "                          \"epopt\": \"1.0e-06\",\n",
    "                          \"lpmethod\": \"2\",\n",
    "                         },\n",
    "           gams_args=[argument])\n",
    "scen.var(\"OBJ\")[\"lvl\"]"
   ]
  },
  {
   "cell_type": "markdown",
   "metadata": {},
   "source": [
    "## Close the connection to the database"
   ]
  },
  {
   "cell_type": "code",
   "execution_count": null,
   "metadata": {},
   "outputs": [],
   "source": [
    "mp.close_db()"
   ]
  },
  {
   "cell_type": "code",
   "execution_count": null,
   "metadata": {},
   "outputs": [],
   "source": []
  }
 ],
 "metadata": {
  "kernelspec": {
   "display_name": "Python 3 (ipykernel)",
   "language": "python",
   "name": "python3"
  },
  "language_info": {
   "codemirror_mode": {
    "name": "ipython",
    "version": 3
   },
   "file_extension": ".py",
   "mimetype": "text/x-python",
   "name": "python",
   "nbconvert_exporter": "python",
   "pygments_lexer": "ipython3",
   "version": "3.10.9"
  }
 },
 "nbformat": 4,
 "nbformat_minor": 2
}
