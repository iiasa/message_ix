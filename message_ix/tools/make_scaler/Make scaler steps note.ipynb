{
 "cells": [
  {
   "cell_type": "markdown",
   "metadata": {},
   "source": [
    "# Using Scaler Arguments in MESSAGEix\n",
    "\n",
    "This notebook outlines the steps required to run a MESSAGEix model and scenario using scaler arguments, which help improve the condition of the coefficient matrix for solving in GAMS. These steps involve the use of the `LPdiag` and `make_scaler` tools.\n",
    "\n",
    "- `LPdiag` reads the MPS file and identifies rows and columns with outlier values.\n",
    "- `make_scaler` uses the information from LPdiag to generate a set of scaling arguments, stored in a `.gms` file. These arguments are then used by GAMS to scale the coefficients of rows and columns during model solution.\n",
    "\n",
    "## Steps\n",
    "\n",
    "### 1. **Create the MPS file**\n",
    "\n",
    "Generate an MPS file for a base scenario. This file will be used to derive the scaling arguments.\n",
    "\n",
    "> ⚠️ You do **not** need to generate scaling arguments for every scenario you want to run. Creating them can take around **2 hours**, so it's more efficient to generate them once for a **base scenario** (e.g., `model: SSP2 | scenario: baseline`) and reuse them for derivative scenarios (e.g., `1000f`, `600f`, etc.).\n",
    "\n",
    "### 2. **Create scaler arguments**\n",
    "\n",
    "Use the `make_scaler` tool with the MPS file from Step 1 to generate the scaling arguments. These will be stored in the `.../message_ix/model/scaler/` directory.\n",
    "\n",
    "### 3. **Run the scenarios**\n",
    "\n",
    "Once the scaler arguments have been created, you can use them when solving the base and derivative scenarios.\n",
    "\n",
    "- Use the function `get_scaler_args(scenario_parent)`, where `scenario_parent` refers to the MESSAGEix scenario object for which the scaler arguments were generated (e.g., `model: SSP2 | scenario: baseline`).\n",
    "- Pass the result of `get_scaler_args(scenario_parent)` to the `gams_args` parameter in the solve statement.\n",
    "\n",
    "> ⚠️ It is important to use the standard GAMS/CPLEX settings in the solve statement:\n",
    "> \n",
    "> ```python\n",
    "> gams_args={\"lpmethod\": \"0\", \"scaind\": \"0\"}\n",
    "> ```\n",
    "> \n",
    "> These settings allow GAMS to automatically choose the best LP method and scaling strategy. When running in multiple threads, this enables GAMS/CPLEX to try different methods, avoiding poor performance from a fixed strategy.\n"
   ]
  },
  {
   "cell_type": "code",
   "execution_count": 1,
   "metadata": {},
   "outputs": [],
   "source": [
    "import pandas as pd\n",
    "import ixmp\n",
    "import message_ix\n",
    "import os\n",
    "\n",
    "from message_ix.tools.lp_diag import LPdiag\n",
    "from message_ix.tools.make_scaler import make_scaler\n",
    "from message_ix.tools.make_scaler import show_range\n",
    "from message_ix.tools.make_scaler import get_scaler_args\n",
    "\n",
    "from message_ix.util import make_df\n",
    "\n",
    "%matplotlib inline\n",
    "\n",
    "lp = LPdiag()\n",
    "mp = ixmp.Platform()"
   ]
  },
  {
   "cell_type": "markdown",
   "metadata": {},
   "source": [
    "## Generating model-scenario mps file"
   ]
  },
  {
   "cell_type": "code",
   "execution_count": null,
   "metadata": {},
   "outputs": [],
   "source": [
    "ssp = \"SSP2\"\n",
    "base = message_ix.Scenario(mp, model=f\"SSP_{ssp}_development\", scenario=\"baseline_DEFAULT_step_15\")\n",
    "\n",
    "# creating unscaled scenario\n",
    "model_name = f\"ScalingSSP_{ssp}_development\"\n",
    "scenario_name = f\"baseline_DEFAULT_step_15_ywp\"\n",
    "scen = base.clone(\n",
    "    model_name,\n",
    "    scenario_name,\n",
    "    f\"unscaled {ssp} model\",\n",
    "    keep_solution = False,)\n",
    "\n",
    "scen.check_out()\n",
    "\n",
    "scen.commit(comment= f\"unscaled {ssp} scenario\")\n",
    "scen.set_as_default()\n",
    "\n",
    "current_directory = os.getcwd()\n",
    "mps_dir = os.path.join(current_directory, f\"{model_name}_{scenario_name}.mps\")\n",
    "\n",
    "scen.solve(solve_options={'barcrossalg': '2',\n",
    "                          'scaind':'-1',\n",
    "                          \"writemps\": mps_dir,\n",
    "                         })\n",
    "scen.var(\"OBJ\")[\"lvl\"]"
   ]
  },
  {
   "cell_type": "markdown",
   "metadata": {},
   "source": [
    "# Create scaler arguments"
   ]
  },
  {
   "cell_type": "code",
   "execution_count": 2,
   "metadata": {},
   "outputs": [],
   "source": [
    "ssp = \"SSP2\"\n",
    "model_name = f\"ScalingSSP_{ssp}_development\"\n",
    "scenario_name = f\"baseline_DEFAULT_step_15_ywp\"\n",
    "scen = message_ix.Scenario(mp, model=model_name, scenario=scenario_name)\n"
   ]
  },
  {
   "cell_type": "code",
   "execution_count": 3,
   "metadata": {},
   "outputs": [
    {
     "name": "stdout",
     "output_type": "stream",
     "text": [
      "\n",
      "Reading MPS-format file C:\\Users\\pratama\\Documents\\GitHub\\MESSAGEix\\message_ix\\message_ix\\tools\\make_scaler\\ScalingSSP_SSP2_development_baseline_DEFAULT_step_15_ywp.mps.\n",
      "Next section found: NAME          gamsmodel (line 1).\n",
      "\tProblem name: gamsmodel.\n",
      "Next section found: ROWS (line 2).\n",
      "\tRow _obj (row_seq = 0) is the objective (goal function) row.\n",
      "Next section found: COLUMNS (line 1819718).\n",
      "Next section found: RHS (line 8548702).\n",
      "\tId of RHS: rhs\n",
      "Next section found: BOUNDS (line 8615990).\n",
      "\tId of BOUNDS: bnd\n",
      "Next section found: ENDATA (line 9730612).\n",
      "\n",
      "Finished processing 9730612 lines of the MPS file: C:\\Users\\pratama\\Documents\\GitHub\\MESSAGEix\\message_ix\\message_ix\\tools\\make_scaler\\ScalingSSP_SSP2_development_baseline_DEFAULT_step_15_ywp.mps.\n",
      "LP has: 1819715 rows, 1728169 cols, 6728983 non-zeros, matrix density = 2.14e-06.\n",
      "Numbers of redefined: RHS = 67287, ranges = 0, bounds = 1114621.\n",
      "\n",
      "The GF (objective) row named \"_obj\" has 169 elements.\n",
      "Distribution of the GF (objective) values:\n",
      "count    169.000000\n",
      "mean       0.047908\n",
      "std        0.080067\n",
      "min        0.005121\n",
      "25%        0.022131\n",
      "50%        0.036049\n",
      "75%        0.068446\n",
      "max        1.000000\n",
      "Name: val, dtype: float64\n",
      "\n",
      "Unscaled range     : [ -6 | 6 ]\n",
      "Scaled range step 1: [ -4 | 4 ]\n"
     ]
    }
   ],
   "source": [
    "current_directory = os.getcwd()\n",
    "mps_dir = os.path.join(current_directory, f\"{model_name}_{scenario_name}.mps\")\n",
    "scale_df = make_scaler(mps_dir, scen, bounds=4, steps=1)"
   ]
  },
  {
   "cell_type": "markdown",
   "metadata": {},
   "source": [
    "## Run scenarios with scaled matrix\n",
    "\n",
    "Results: solution time 131.45s"
   ]
  },
  {
   "cell_type": "code",
   "execution_count": null,
   "metadata": {},
   "outputs": [],
   "source": [
    "sc_name = scenario_name+\"-scaled\"\n",
    "sc = scen.clone(\n",
    "    model_name,\n",
    "    sc_name,\n",
    "    \"solve scenario with scaler\",\n",
    "    keep_solution=False,\n",
    ")\n",
    "sc.check_out()\n",
    "\n",
    "sc.commit(comment=\"solve scenario with scaler\")\n",
    "sc.set_as_default()"
   ]
  },
  {
   "cell_type": "code",
   "execution_count": null,
   "metadata": {},
   "outputs": [],
   "source": [
    "argument = get_scaler_args(scen)\n",
    "\n",
    "sc.solve(gams_args=[argument],\n",
    "         solve_options={\"lpmethod\": \"0\"\n",
    "                        \"scaind\": \"0\",\n",
    "                       }\n",
    "        )"
   ]
  },
  {
   "cell_type": "code",
   "execution_count": null,
   "metadata": {},
   "outputs": [],
   "source": [
    "print(\"scaled objective: \", sc.var(\"OBJ\")[\"lvl\"])\n",
    "print(\"unscaled objective: \", scen.var(\"OBJ\")[\"lvl\"])"
   ]
  },
  {
   "cell_type": "code",
   "execution_count": null,
   "metadata": {},
   "outputs": [],
   "source": [
    "mp.close_db()"
   ]
  }
 ],
 "metadata": {
  "kernelspec": {
   "display_name": "Python 3 (ipykernel)",
   "language": "python",
   "name": "python3"
  },
  "language_info": {
   "codemirror_mode": {
    "name": "ipython",
    "version": 3
   },
   "file_extension": ".py",
   "mimetype": "text/x-python",
   "name": "python",
   "nbconvert_exporter": "python",
   "pygments_lexer": "ipython3",
   "version": "3.10.9"
  }
 },
 "nbformat": 4,
 "nbformat_minor": 2
}
