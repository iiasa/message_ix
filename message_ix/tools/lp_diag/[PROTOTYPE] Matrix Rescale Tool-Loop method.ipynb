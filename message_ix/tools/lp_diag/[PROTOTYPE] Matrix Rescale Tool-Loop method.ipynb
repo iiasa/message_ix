{
 "cells": [
  {
   "cell_type": "markdown",
   "id": "fdbea0ef",
   "metadata": {},
   "source": [
    "# MESSAGE-ix matrix improvement tool\n",
    "\n",
    "This jupyter notebook is a prototype of the MESSAGE-ix matrix improvement tool.\n",
    "This tool is aimed to automatically improve and optimize coefficient matrix quality for a MESSAGE-ix scenario and the used to return the results from scaled MESSAGE-ix matrix to the originally intended values.\n",
    "\n",
    "This tool is derived from the tool developed by Makowski & Sosnowski, 1981 (https://pure.iiasa.ac.at/id/eprint/1766/1/CP-81-037.pdf)\n",
    "\n",
    "According to Curtis and Reid (1972), matrix A can be described as well-scaled if:\n",
    "\n",
    "$\n",
    "\\sum_{i} \\sum_{j} \\ (log_{10} \\ |a_{i,j}|)^2 \\leq v \\qquad \\qquad Eq. 1\n",
    "$\n",
    "\n",
    "with $v$ is an acceptable matrix quality criteria.\n",
    "If $ax_{i,j}$ is $(log_{10} |a_{i,j}|)^2$ where $a_{i,j}$ is a non-zero value, matrix $Ax$ is:"
   ]
  },
  {
   "cell_type": "code",
   "execution_count": 1,
   "id": "a771a522",
   "metadata": {},
   "outputs": [],
   "source": [
    "import numpy as np\n",
    "import pandas as pd\n",
    "from pyomo.environ import *\n",
    "from datetime import datetime\n",
    "import xarray as xr\n",
    "\n",
    "import matplotlib.pyplot as plt\n",
    "\n",
    "def showme(df):\n",
    "    return df[\"val\"].unstack()"
   ]
  },
  {
   "cell_type": "code",
   "execution_count": 2,
   "id": "afc2eec6",
   "metadata": {},
   "outputs": [],
   "source": [
    "# determine absolute bound of exponent in matrix coeff\n",
    "bound = 4 \n",
    "\n",
    "def solv(df, bound):\n",
    "    \"\"\"\n",
    "    this function filters matrix coefficient\n",
    "    dataframe in which the log of the coefficient \n",
    "    is lower or higher than the bound\n",
    "    \"\"\"\n",
    "    df_solv = df.loc[(df[\"val\"] >= bound) |\n",
    "                     (df[\"val\"] <= -bound)]\n",
    "    return df_solv\n",
    "\n",
    "def make_logdf(df):\n",
    "    df.loc[df['val']!=0,'val'] = np.log10(np.absolute(df.loc[df['val']!=0,'val']))\n",
    "    return df\n",
    "    \n",
    "\n",
    "# Load the whole matrix\n",
    "matrix       = (pd.read_csv('data/matrix.csv')\n",
    "               .set_index(['row','col'],drop=True)[['val']])\n",
    "\n",
    "# calculate log base 10 of the absolute value of the matrix\n",
    "log_absmatrix = matrix.copy()\n",
    "log_absmatrix = make_logdf(log_absmatrix)\n",
    "\n",
    "# Create matrix with small and large coefficient\n",
    "log_absmatrix_solv  = solv(log_absmatrix,bound=bound)\n"
   ]
  },
  {
   "cell_type": "markdown",
   "id": "a4435293",
   "metadata": {},
   "source": [
    "## Start Looping"
   ]
  },
  {
   "cell_type": "code",
   "execution_count": 3,
   "id": "6dbeb665",
   "metadata": {},
   "outputs": [],
   "source": [
    "# SCALE BY ROW\n",
    "# Populating row scaler\n",
    "RSFs = {row:[] for row in set(log_absmatrix_solv.index.get_level_values(0))-set([\"_obj\"])}\n",
    "for k in RSFs.keys():\n",
    "    rval = log_absmatrix.loc[(k),\"val\"]\n",
    "    lb,ub = min(rval),max(rval)\n",
    "    mid = np.mean([lb,ub])\n",
    "    RSFs[k] = 10**(-mid)\n",
    "\n",
    "# Create DataFrame of row scaler\n",
    "row_scaler = pd.DataFrame(data=RSFs, index=[\"val\"]).transpose()\n",
    "row_scaler.index.name = 'row'\n",
    "\n",
    "# Create new matrix with scaled rows\n",
    "matrix0 = matrix.copy()\n",
    "index_mod = matrix0.index.get_level_values('row').isin(row_scaler.index)\n",
    "\n",
    "matrix0.loc[index_mod] = matrix0.loc[index_mod].mul(row_scaler)"
   ]
  },
  {
   "cell_type": "code",
   "execution_count": 4,
   "id": "351a01f9",
   "metadata": {
    "scrolled": false
   },
   "outputs": [],
   "source": [
    "# SCALE BY COL\n",
    "# Populating col scaler\n",
    "log_absmatrix0 = matrix0.copy()\n",
    "log_absmatrix0 = make_logdf(log_absmatrix0)\n",
    "log_absmatrix0_solv = solv(log_absmatrix0,bound=bound)\n",
    "\n",
    "CSFs = {col:[] for col in set(log_absmatrix0_solv.index.get_level_values(1))-set([\"constobj\"])}\n",
    "for k in CSFs.keys():\n",
    "    cval = log_absmatrix0.loc[(log_absmatrix0.index.get_level_values('col') == k),\"val\"]\n",
    "    lb,ub = min(cval),max(cval)\n",
    "    mid = np.mean([lb,ub])\n",
    "    CSFs[k] = 10**(-mid)\n",
    "\n",
    "# Create DataFrame of col scaler\n",
    "col_scaler = pd.DataFrame(data=CSFs, index=[\"val\"]).transpose()\n",
    "col_scaler.index.name = 'col'\n",
    "\n",
    "# Create new matrix with scaled rows\n",
    "new_matrix = matrix0.copy()\n",
    "index_mod = new_matrix.index.get_level_values('col').isin(col_scaler.index)\n",
    "new_matrix.loc[index_mod] = new_matrix.loc[index_mod].mul(col_scaler)"
   ]
  },
  {
   "cell_type": "code",
   "execution_count": 5,
   "id": "652c1c7d",
   "metadata": {},
   "outputs": [
    {
     "name": "stdout",
     "output_type": "stream",
     "text": [
      "Original value: [ -6 , 6 ]\n",
      "Row scaling val: [ -4 , 4 ]\n",
      "New Matrix: [ -3 , 3 ]\n"
     ]
    }
   ],
   "source": [
    "def report(text,df):\n",
    "    log_absdf = df.copy()\n",
    "    log_absdf.loc[log_absdf['val']!=0,'val']=(np.log10(\n",
    "        np.absolute(\n",
    "            log_absdf.loc[log_absdf['val']!=0,'val'])))\n",
    "    \n",
    "    print(f\"{text}:\",\"[\",np.int32(np.min(log_absdf)),\",\",np.int32(np.max(log_absdf)),\"]\")\n",
    "\n",
    "report(\"Original value\",matrix)\n",
    "report(\"Row scaling val\",matrix0)\n",
    "report(\"New Matrix\",new_matrix)"
   ]
  },
  {
   "cell_type": "markdown",
   "id": "afabf47e",
   "metadata": {},
   "source": [
    "## Modify below later"
   ]
  },
  {
   "cell_type": "raw",
   "id": "b717d3b8",
   "metadata": {},
   "source": [
    "scalers = [RSFs,CSFs]\n",
    "prescale_args = {}\n",
    "for s in scalers:\n",
    "    for k,v in s.items():\n",
    "        if k == '_obj':\n",
    "            k_ = \"_obj.scale\"\n",
    "        elif k == 'constobj':\n",
    "            k_ = \"constobj.scale\"\n",
    "        else:\n",
    "            k_ = k.replace(\"(\", \".scale('\")\n",
    "            k_ = k_.replace(\")\", \"')\")\n",
    "            k_ = k_.replace(\",\", \"','\")\n",
    "        prescale_args.update({k_:v})\n",
    "\n",
    "gams_args = (str(prescale_args)\n",
    "             .replace('{','')\n",
    "             .replace('}','')\n",
    "             .replace('\"','')\n",
    "             .replace(':','=')\n",
    "             .replace(', ',';\\n')\n",
    "             +';'\n",
    "            )"
   ]
  },
  {
   "cell_type": "raw",
   "id": "f953f972",
   "metadata": {
    "scrolled": true
   },
   "source": [
    "print(gams_args)"
   ]
  },
  {
   "cell_type": "markdown",
   "id": "24163828",
   "metadata": {},
   "source": [
    "np.log10(524288.0)"
   ]
  },
  {
   "cell_type": "raw",
   "id": "8598c36d",
   "metadata": {},
   "source": [
    "# Printing stats\n",
    "\n",
    "matrices_dict = {'Old Matrix':matrix,\n",
    "                 'New Matrix':new_matrix,\n",
    "                } \n",
    "\n",
    "for k,v in matrices_dict.items():\n",
    "    print(f'{k} stats:')\n",
    "    print('>> log10 coefficient range:',\n",
    "          np.floor(np.log10(np.abs(v['val'].unstack()).fillna(1)).min(axis=None)),'--',\n",
    "          np.floor(np.log10(np.abs(v['val'].unstack()).fillna(1)).max(axis=None)))\n",
    "    print('')\n",
    "\n",
    "# TO DO:\n",
    "# 1. plot histogram of log10 distribution of those matrix\n"
   ]
  },
  {
   "cell_type": "raw",
   "id": "6190999a",
   "metadata": {},
   "source": [
    "plt.hist(np.log10(matrix))"
   ]
  },
  {
   "cell_type": "raw",
   "id": "2363475f",
   "metadata": {},
   "source": [
    "plt.hist(np.log10(new_matrix))"
   ]
  },
  {
   "cell_type": "code",
   "execution_count": null,
   "id": "c483f4d9",
   "metadata": {},
   "outputs": [],
   "source": []
  }
 ],
 "metadata": {
  "kernelspec": {
   "display_name": "Python 3 (ipykernel)",
   "language": "python",
   "name": "python3"
  },
  "language_info": {
   "codemirror_mode": {
    "name": "ipython",
    "version": 3
   },
   "file_extension": ".py",
   "mimetype": "text/x-python",
   "name": "python",
   "nbconvert_exporter": "python",
   "pygments_lexer": "ipython3",
   "version": "3.10.9"
  }
 },
 "nbformat": 4,
 "nbformat_minor": 5
}
