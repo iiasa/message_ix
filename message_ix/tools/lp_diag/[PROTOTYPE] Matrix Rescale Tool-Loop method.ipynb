{
 "cells": [
  {
   "cell_type": "markdown",
   "id": "fdbea0ef",
   "metadata": {},
   "source": [
    "# MESSAGE-ix matrix improvement tool"
   ]
  },
  {
   "cell_type": "code",
   "execution_count": 1,
   "id": "c5db0ec5",
   "metadata": {},
   "outputs": [],
   "source": [
    "import numpy as np\n",
    "import pandas as pd\n",
    "from pyomo.environ import *\n",
    "from datetime import datetime\n",
    "import xarray as xr\n",
    "\n",
    "import matplotlib.pyplot as plt\n",
    "\n",
    "def showme(df):\n",
    "    return df[\"val\"].unstack()\n",
    "\n",
    "path = 'data/matrix_transport.csv'\n",
    "bound = 2\n",
    "steps = 1\n",
    "\n",
    "def solv(df, bound):\n",
    "    \"\"\"\n",
    "    this function filters matrix coefficient\n",
    "    dataframe in which the log of the coefficient \n",
    "    is lower or higher than the bound\n",
    "    \"\"\"\n",
    "    df_solv = df.loc[(df[\"val\"] >= bound) |\n",
    "                     (df[\"val\"] <= -bound)]\n",
    "    return df_solv\n",
    "\n",
    "def make_logdf(df):\n",
    "    df.loc[df['val']!=0,'val'] = np.log10(np.absolute(df.loc[df['val']!=0,'val']))\n",
    "    return df\n",
    "\n",
    "def read_ix(df, lvl):\n",
    "    return df.index.get_level_values(lvl)\n",
    "    \n",
    "def show_range(text,df):\n",
    "    log_absdf = df.copy()\n",
    "    log_absdf.loc[log_absdf['val']!=0,'val']=(np.log10(\n",
    "        np.absolute(\n",
    "            log_absdf.loc[log_absdf['val']!=0,'val'])))\n",
    "    \n",
    "    print(f\"{text}:\",\"[\",np.int32(np.min(log_absdf)),\",\",np.int32(np.max(log_absdf)),\"]\")\n",
    "\n",
    "def make_scale(path, bound, steps):\n",
    "    # Load the matrix coefficient\n",
    "    data       = (pd.read_csv(path)\n",
    "                   .set_index(['row','col'],drop=True)[['val']])\n",
    "\n",
    "    matrix = data\n",
    "    # TODO: show_range(\"Unscaled range\",matrix)\n",
    "    show_range(\"Unscaled range\",matrix)\n",
    "    \n",
    "    scalers = {\"row\":[], \"col\":[]}\n",
    "    counter = 0\n",
    "    while counter < steps:\n",
    "        for s in scalers.keys():\n",
    "            # calculate log base 10 of the absolute value of the matrix\n",
    "            log_absmatrix = matrix.copy()\n",
    "            log_absmatrix = make_logdf(log_absmatrix)\n",
    "\n",
    "            # Create matrix with small and large coefficient\n",
    "            log_absmatrix_solv  = solv(log_absmatrix, bound=bound)\n",
    "\n",
    "            # Populating row scaler\n",
    "            objective_ix = \"_obj\" if s == \"row\" else \"constobj\"\n",
    "            index_solv = [e for e in read_ix(log_absmatrix_solv,s) if e != objective_ix] #  \n",
    "            #print(index_solv)\n",
    "\n",
    "            SFs = {k:[] for k in index_solv}\n",
    "            for k in SFs.keys():\n",
    "                index_val = (read_ix(log_absmatrix,s) == k)\n",
    "                dflog_val = log_absmatrix.loc[index_val,\"val\"]\n",
    "                lb,ub = np.int32(min(dflog_val)),np.int32(max(dflog_val))\n",
    "                mid = np.int32(np.mean([lb,ub]))\n",
    "                SFs[k] = 10.0**(-mid)\n",
    "            #print(SFs)\n",
    "\n",
    "            # Create DataFrame of row scaler\n",
    "            scalers[s] = pd.DataFrame(data=SFs, index=[\"val\"]).transpose()\n",
    "            scalers[s].index.name = s\n",
    "\n",
    "            # Create new matrix with scaled rows\n",
    "            index_mod = read_ix(matrix,s).isin(scalers[s].index)\n",
    "            matrix.loc[index_mod] = matrix.loc[index_mod].mul(scalers[s])\n",
    "\n",
    "        # generating prescaler arguments for GAMS\n",
    "        prescale_args = {}\n",
    "        for key,val in scalers.items():\n",
    "            scaler_dict = val[\"val\"].to_dict()\n",
    "            for k,v in scaler_dict.items():\n",
    "                if k == '_obj':\n",
    "                    k_ = \"_obj.scale\"\n",
    "                elif k == 'constobj':\n",
    "                    k_ = \"constobj.scale\"\n",
    "                else:\n",
    "                    k_ = k.replace(\"(\", \".scale('\")\n",
    "                    k_ = k_.replace(\")\", \"')\")\n",
    "                    k_ = k_.replace(\",\", \"','\")\n",
    "                prescale_args.update({k_:v})    \n",
    "\n",
    "        # TODO: show_range(\"Scaled range  \",matrix)\n",
    "        show_range(\"Scaled range  \",matrix)\n",
    "        # Increment the counter\n",
    "        counter += 1\n",
    "\n",
    "    return(prescale_args)"
   ]
  },
  {
   "cell_type": "code",
   "execution_count": 2,
   "id": "4a27c67c",
   "metadata": {},
   "outputs": [
    {
     "name": "stdout",
     "output_type": "stream",
     "text": [
      "Unscaled range: [ -8 , 0 ]\n",
      "Scaled range  : [ -4 , 4 ]\n",
      "Scaled range  : [ -3 , 3 ]\n",
      "Scaled range  : [ -3 , 2 ]\n"
     ]
    },
    {
     "data": {
      "text/plain": [
       "{\"supply.scale('san-diego')\": 0.1,\n",
       " \"demand.scale('new-york')\": 0.1,\n",
       " \"demand.scale('topeka')\": 0.1,\n",
       " \"x.scale('seattle','new-york')\": 1.0,\n",
       " \"x.scale('seattle','topeka')\": 10.0,\n",
       " \"x.scale('san-diego','new-york')\": 1.0,\n",
       " \"x.scale('san-diego','chicago')\": 1.0,\n",
       " \"x.scale('san-diego','topeka')\": 1.0}"
      ]
     },
     "execution_count": 2,
     "metadata": {},
     "output_type": "execute_result"
    }
   ],
   "source": [
    "make_scale(path,bound,3)"
   ]
  },
  {
   "cell_type": "code",
   "execution_count": 5,
   "id": "44652dda",
   "metadata": {},
   "outputs": [
    {
     "ename": "NameError",
     "evalue": "name 'scaler' is not defined",
     "output_type": "error",
     "traceback": [
      "\u001b[1;31m---------------------------------------------------------------------------\u001b[0m",
      "\u001b[1;31mNameError\u001b[0m                                 Traceback (most recent call last)",
      "Cell \u001b[1;32mIn[5], line 1\u001b[0m\n\u001b[1;32m----> 1\u001b[0m \u001b[43mscaler\u001b[49m[\u001b[38;5;124m\"\u001b[39m\u001b[38;5;124mrow\u001b[39m\u001b[38;5;124m\"\u001b[39m]\n",
      "\u001b[1;31mNameError\u001b[0m: name 'scaler' is not defined"
     ]
    }
   ],
   "source": [
    "scaler[\"row\"]"
   ]
  },
  {
   "cell_type": "code",
   "execution_count": null,
   "id": "a36151be",
   "metadata": {},
   "outputs": [],
   "source": [
    "make_scale(path,bound,steps)"
   ]
  },
  {
   "cell_type": "code",
   "execution_count": null,
   "id": "572b9c01",
   "metadata": {},
   "outputs": [],
   "source": [
    "showme(matrix)"
   ]
  },
  {
   "cell_type": "markdown",
   "id": "faaa2c35",
   "metadata": {},
   "source": [
    "**Prototype - Dev**"
   ]
  },
  {
   "cell_type": "code",
   "execution_count": 6,
   "id": "667fd58c",
   "metadata": {},
   "outputs": [],
   "source": [
    "import numpy as np\n",
    "import pandas as pd\n",
    "from pyomo.environ import *\n",
    "from datetime import datetime\n",
    "import xarray as xr\n",
    "\n",
    "import matplotlib.pyplot as plt\n",
    "\n",
    "def showme(df):\n",
    "    return df[\"val\"].unstack()\n",
    "\n",
    "# determine absolute bound of exponent in matrix coeff\n",
    "bound = 4 \n",
    "\n",
    "def solv(df, bound):\n",
    "    \"\"\"\n",
    "    this function filters matrix coefficient\n",
    "    dataframe in which the log of the coefficient \n",
    "    is lower or higher than the bound\n",
    "    \"\"\"\n",
    "    df_solv = df.loc[(df[\"val\"] >= bound) |\n",
    "                     (df[\"val\"] <= -bound)]\n",
    "    return df_solv\n",
    "\n",
    "def make_logdf(df):\n",
    "    df.loc[df['val']!=0,'val'] = np.log10(np.absolute(df.loc[df['val']!=0,'val']))\n",
    "    return df\n",
    "    \n",
    "\n",
    "# Load the whole matrix\n",
    "matrix       = (pd.read_csv('data/matrix_transport.csv')\n",
    "               .set_index(['row','col'],drop=True)[['val']])\n",
    "\n",
    "# calculate log base 10 of the absolute value of the matrix\n",
    "log_absmatrix = matrix.copy()\n",
    "log_absmatrix = make_logdf(log_absmatrix)\n",
    "\n",
    "# Create matrix with small and large coefficient\n",
    "log_absmatrix_solv  = solv(log_absmatrix,bound=bound)\n",
    "\n",
    "# SCALE BY ROW\n",
    "# Populating row scaler\n",
    "rows_solv = list(set(log_absmatrix_solv.index.get_level_values(\"row\"))\n",
    "                 -set([\"_obj\"]))\n",
    "\n",
    "RSFs = {row:[] for row in rows_solv}\n",
    "for k in RSFs.keys():\n",
    "    index_row = (log_absmatrix.index.get_level_values('row') == k)\n",
    "    rval = log_absmatrix.loc[index_row,\"val\"]\n",
    "    lb,ub = min(rval),max(rval)\n",
    "    mid = np.mean([lb,ub])\n",
    "    RSFs[k] = 10**(-mid)\n",
    "\n",
    "# Create DataFrame of row scaler\n",
    "row_scaler = pd.DataFrame(data=RSFs, index=[\"val\"]).transpose()\n",
    "row_scaler.index.name = 'row'\n",
    "\n",
    "# Create new matrix with scaled rows\n",
    "matrix0 = matrix.copy()\n",
    "index_mod = matrix0.index.get_level_values('row').isin(row_scaler.index)\n",
    "matrix0.loc[index_mod] = matrix0.loc[index_mod].mul(row_scaler)\n",
    "\n",
    "# SCALE BY COL\n",
    "# Populating col scaler\n",
    "log_absmatrix0 = matrix0.copy()\n",
    "log_absmatrix0 = make_logdf(log_absmatrix0)\n",
    "log_absmatrix0_solv = solv(log_absmatrix0,bound=bound)\n",
    "\n",
    "cols_solv = list(set(log_absmatrix_solv.index.get_level_values(\"col\"))\n",
    "                 -set([\"constobj\"]))\n",
    "CSFs = {col:[] for col in cols_solv}\n",
    "for k in CSFs.keys():\n",
    "    index_col = (log_absmatrix0.index.get_level_values('col') == k)\n",
    "    cval = log_absmatrix0.loc[index_col,\"val\"]\n",
    "    lb,ub = min(cval),max(cval)\n",
    "    mid = np.mean([lb,ub])\n",
    "    CSFs[k] = 10**(-mid)\n",
    "\n",
    "# Create DataFrame of col scaler\n",
    "col_scaler = pd.DataFrame(data=CSFs, index=[\"val\"]).transpose()\n",
    "col_scaler.index.name = 'col'\n",
    "\n",
    "# Create new matrix with scaled rows\n",
    "new_matrix = matrix0.copy()\n",
    "index_mod = new_matrix.index.get_level_values('col').isin(col_scaler.index)\n",
    "new_matrix.loc[index_mod] = new_matrix.loc[index_mod].mul(col_scaler)\n",
    "\n",
    "scalers = [RSFs,CSFs]\n",
    "prescale_args = {}\n",
    "for s in scalers:\n",
    "    for k,v in s.items():\n",
    "        if k == '_obj':\n",
    "            k_ = \"_obj.scale\"\n",
    "        elif k == 'constobj':\n",
    "            k_ = \"constobj.scale\"\n",
    "        else:\n",
    "            k_ = k.replace(\"(\", \".scale('\")\n",
    "            k_ = k_.replace(\")\", \"')\")\n",
    "            k_ = k_.replace(\",\", \"','\")\n",
    "        prescale_args.update({k_:v})\n",
    "\n",
    "gams_args = (str(prescale_args)\n",
    "             .replace('{','')\n",
    "             .replace('}','')\n",
    "             .replace('\"','')\n",
    "             .replace(':','=')\n",
    "             .replace(', ',';\\n')\n",
    "             +';'\n",
    "            )"
   ]
  },
  {
   "cell_type": "code",
   "execution_count": 11,
   "id": "abbfa58f",
   "metadata": {},
   "outputs": [
    {
     "data": {
      "text/html": [
       "<div>\n",
       "<style scoped>\n",
       "    .dataframe tbody tr th:only-of-type {\n",
       "        vertical-align: middle;\n",
       "    }\n",
       "\n",
       "    .dataframe tbody tr th {\n",
       "        vertical-align: top;\n",
       "    }\n",
       "\n",
       "    .dataframe thead th {\n",
       "        text-align: right;\n",
       "    }\n",
       "</style>\n",
       "<table border=\"1\" class=\"dataframe\">\n",
       "  <thead>\n",
       "    <tr style=\"text-align: right;\">\n",
       "      <th></th>\n",
       "      <th>val</th>\n",
       "    </tr>\n",
       "    <tr>\n",
       "      <th>col</th>\n",
       "      <th></th>\n",
       "    </tr>\n",
       "  </thead>\n",
       "  <tbody>\n",
       "    <tr>\n",
       "      <th>x(san-diego,new-york)</th>\n",
       "      <td>20000.000000</td>\n",
       "    </tr>\n",
       "    <tr>\n",
       "      <th>x(san-diego,topeka)</th>\n",
       "      <td>8451.542547</td>\n",
       "    </tr>\n",
       "  </tbody>\n",
       "</table>\n",
       "</div>"
      ],
      "text/plain": [
       "                                val\n",
       "col                                \n",
       "x(san-diego,new-york)  20000.000000\n",
       "x(san-diego,topeka)     8451.542547"
      ]
     },
     "execution_count": 11,
     "metadata": {},
     "output_type": "execute_result"
    }
   ],
   "source": [
    "col_scaler"
   ]
  },
  {
   "cell_type": "code",
   "execution_count": 13,
   "id": "eacf37eb",
   "metadata": {},
   "outputs": [
    {
     "data": {
      "text/html": [
       "<div>\n",
       "<style scoped>\n",
       "    .dataframe tbody tr th:only-of-type {\n",
       "        vertical-align: middle;\n",
       "    }\n",
       "\n",
       "    .dataframe tbody tr th {\n",
       "        vertical-align: top;\n",
       "    }\n",
       "\n",
       "    .dataframe thead th {\n",
       "        text-align: right;\n",
       "    }\n",
       "</style>\n",
       "<table border=\"1\" class=\"dataframe\">\n",
       "  <thead>\n",
       "    <tr style=\"text-align: right;\">\n",
       "      <th></th>\n",
       "      <th>val</th>\n",
       "    </tr>\n",
       "    <tr>\n",
       "      <th>col</th>\n",
       "      <th></th>\n",
       "    </tr>\n",
       "  </thead>\n",
       "  <tbody>\n",
       "    <tr>\n",
       "      <th>x(san-diego,new-york)</th>\n",
       "      <td>20000.0</td>\n",
       "    </tr>\n",
       "  </tbody>\n",
       "</table>\n",
       "</div>"
      ],
      "text/plain": [
       "                           val\n",
       "col                           \n",
       "x(san-diego,new-york)  20000.0"
      ]
     },
     "execution_count": 13,
     "metadata": {},
     "output_type": "execute_result"
    }
   ],
   "source": [
    "col_scaler2 = col_scaler.loc[[(\"x(san-diego,new-york)\")]]\n",
    "col_scaler2"
   ]
  },
  {
   "cell_type": "code",
   "execution_count": 20,
   "id": "4fed41e6",
   "metadata": {},
   "outputs": [
    {
     "name": "stdout",
     "output_type": "stream",
     "text": [
      "                                val\n",
      "col                                \n",
      "x(san-diego,new-york)  4.000000e+08\n",
      "x(san-diego,topeka)    8.451543e+03\n"
     ]
    }
   ],
   "source": [
    "final_scaler = col_scaler.mul(col_scaler2.reindex(col_scaler.index).fillna(1))\n",
    "print(final_scaler)"
   ]
  },
  {
   "cell_type": "code",
   "execution_count": null,
   "id": "c662aa00",
   "metadata": {},
   "outputs": [],
   "source": []
  },
  {
   "cell_type": "code",
   "execution_count": null,
   "id": "d3476533",
   "metadata": {},
   "outputs": [],
   "source": []
  },
  {
   "cell_type": "code",
   "execution_count": null,
   "id": "6974599c",
   "metadata": {},
   "outputs": [],
   "source": []
  },
  {
   "cell_type": "code",
   "execution_count": null,
   "id": "a1f8e88f",
   "metadata": {},
   "outputs": [],
   "source": [
    "report(\"Original value\",matrix)\n",
    "report(\"Row scaling val\",matrix0)\n",
    "report(\"New Matrix\",new_matrix)"
   ]
  },
  {
   "cell_type": "code",
   "execution_count": null,
   "id": "a771a522",
   "metadata": {},
   "outputs": [],
   "source": [
    "import numpy as np\n",
    "import pandas as pd\n",
    "from pyomo.environ import *\n",
    "from datetime import datetime\n",
    "import xarray as xr\n",
    "\n",
    "import matplotlib.pyplot as plt\n",
    "\n",
    "def showme(df):\n",
    "    return df[\"val\"].unstack()"
   ]
  },
  {
   "cell_type": "code",
   "execution_count": null,
   "id": "afc2eec6",
   "metadata": {},
   "outputs": [],
   "source": [
    "# determine absolute bound of exponent in matrix coeff\n",
    "bound = 4 \n",
    "\n",
    "def solv(df, bound):\n",
    "    \"\"\"\n",
    "    this function filters matrix coefficient\n",
    "    dataframe in which the log of the coefficient \n",
    "    is lower or higher than the bound\n",
    "    \"\"\"\n",
    "    df_solv = df.loc[(df[\"val\"] >= bound) |\n",
    "                     (df[\"val\"] <= -bound)]\n",
    "    return df_solv\n",
    "\n",
    "def make_logdf(df):\n",
    "    df.loc[df['val']!=0,'val'] = np.log10(np.absolute(df.loc[df['val']!=0,'val']))\n",
    "    return df\n",
    "    \n",
    "\n",
    "# Load the whole matrix\n",
    "matrix       = (pd.read_csv('data/matrix.csv')\n",
    "               .set_index(['row','col'],drop=True)[['val']])\n",
    "\n",
    "# calculate log base 10 of the absolute value of the matrix\n",
    "log_absmatrix = matrix.copy()\n",
    "log_absmatrix = make_logdf(log_absmatrix)\n",
    "\n",
    "# Create matrix with small and large coefficient\n",
    "log_absmatrix_solv  = solv(log_absmatrix,bound=bound)\n"
   ]
  },
  {
   "cell_type": "markdown",
   "id": "a4435293",
   "metadata": {},
   "source": [
    "**Start Looping**"
   ]
  },
  {
   "cell_type": "code",
   "execution_count": null,
   "id": "6dbeb665",
   "metadata": {},
   "outputs": [],
   "source": [
    "# SCALE BY ROW\n",
    "# Populating row scaler\n",
    "RSFs = {row:[] for row in set(log_absmatrix_solv.index.get_level_values(0))-set([\"_obj\"])}\n",
    "for k in RSFs.keys():\n",
    "    rval = log_absmatrix.loc[(k),\"val\"]\n",
    "    lb,ub = min(rval),max(rval)\n",
    "    mid = np.mean([lb,ub])\n",
    "    RSFs[k] = 10**(-mid)\n",
    "\n",
    "# Create DataFrame of row scaler\n",
    "row_scaler = pd.DataFrame(data=RSFs, index=[\"val\"]).transpose()\n",
    "row_scaler.index.name = 'row'\n",
    "\n",
    "# Create new matrix with scaled rows\n",
    "matrix0 = matrix.copy()\n",
    "index_mod = matrix0.index.get_level_values('row').isin(row_scaler.index)\n",
    "\n",
    "matrix0.loc[index_mod] = matrix0.loc[index_mod].mul(row_scaler)"
   ]
  },
  {
   "cell_type": "code",
   "execution_count": null,
   "id": "e36a578d",
   "metadata": {
    "scrolled": false
   },
   "outputs": [],
   "source": [
    "# SCALE BY COL\n",
    "# Populating col scaler\n",
    "log_absmatrix0 = matrix0.copy()\n",
    "log_absmatrix0 = make_logdf(log_absmatrix0)\n",
    "log_absmatrix0_solv = solv(log_absmatrix0,bound=bound)\n",
    "\n",
    "CSFs = {col:[] for col in set(log_absmatrix0_solv.index.get_level_values(1))-set([\"constobj\"])}\n",
    "for k in CSFs.keys():\n",
    "    cval = log_absmatrix0.loc[(log_absmatrix0.index.get_level_values('col') == k),\"val\"]\n",
    "    lb,ub = min(cval),max(cval)\n",
    "    mid = np.mean([lb,ub])\n",
    "    CSFs[k] = 10**(-mid)\n",
    "\n",
    "# Create DataFrame of col scaler\n",
    "col_scaler = pd.DataFrame(data=CSFs, index=[\"val\"]).transpose()\n",
    "col_scaler.index.name = 'col'\n",
    "\n",
    "# Create new matrix with scaled rows\n",
    "new_matrix = matrix0.copy()\n",
    "index_mod = new_matrix.index.get_level_values('col').isin(col_scaler.index)\n",
    "new_matrix.loc[index_mod] = new_matrix.loc[index_mod].mul(col_scaler)"
   ]
  },
  {
   "cell_type": "code",
   "execution_count": null,
   "id": "ecdde9ae",
   "metadata": {},
   "outputs": [],
   "source": [
    "def report(text,df):\n",
    "    log_absdf = df.copy()\n",
    "    log_absdf.loc[log_absdf['val']!=0,'val']=(np.log10(\n",
    "        np.absolute(\n",
    "            log_absdf.loc[log_absdf['val']!=0,'val'])))\n",
    "    \n",
    "    print(f\"{text}:\",\"[\",np.int32(np.min(log_absdf)),\",\",np.int32(np.max(log_absdf)),\"]\")\n",
    "\n",
    "report(\"Original value\",matrix)\n",
    "report(\"Row scaling val\",matrix0)\n",
    "report(\"New Matrix\",new_matrix)"
   ]
  },
  {
   "cell_type": "markdown",
   "id": "18f6abac",
   "metadata": {},
   "source": [
    "**Modify below later**"
   ]
  },
  {
   "cell_type": "code",
   "execution_count": null,
   "id": "6a2977c2",
   "metadata": {},
   "outputs": [],
   "source": [
    "scalers = [RSFs,CSFs]\n",
    "prescale_args = {}\n",
    "for s in scalers:\n",
    "    for k,v in s.items():\n",
    "        if k == '_obj':\n",
    "            k_ = \"_obj.scale\"\n",
    "        elif k == 'constobj':\n",
    "            k_ = \"constobj.scale\"\n",
    "        else:\n",
    "            k_ = k.replace(\"(\", \".scale('\")\n",
    "            k_ = k_.replace(\")\", \"')\")\n",
    "            k_ = k_.replace(\",\", \"','\")\n",
    "        prescale_args.update({k_:v})\n",
    "\n",
    "gams_args = (str(prescale_args)\n",
    "             .replace('{','')\n",
    "             .replace('}','')\n",
    "             .replace('\"','')\n",
    "             .replace(':','=')\n",
    "             .replace(', ',';\\n')\n",
    "             +';'\n",
    "            )"
   ]
  },
  {
   "cell_type": "code",
   "execution_count": null,
   "id": "a6036657",
   "metadata": {
    "scrolled": false
   },
   "outputs": [],
   "source": [
    "# print(gams_args)"
   ]
  },
  {
   "cell_type": "code",
   "execution_count": null,
   "id": "e2470d75",
   "metadata": {},
   "outputs": [],
   "source": [
    "# Printing stats\n",
    "\n",
    "matrices_dict = {'Old Matrix':matrix,\n",
    "                 'New Matrix':new_matrix,\n",
    "                } \n",
    "\n",
    "for k,v in matrices_dict.items():\n",
    "    print(f'{k} stats:')\n",
    "    print('>> log10 coefficient range:',\n",
    "          np.int32(np.log10(np.abs(v['val']).fillna(1)).min(axis=None)),'--',\n",
    "          np.int32(np.log10(np.abs(v['val']).fillna(1)).max(axis=None)))\n",
    "    print('')\n",
    "\n",
    "# TO DO:\n",
    "# 1. plot histogram of log10 distribution of those matrix\n"
   ]
  },
  {
   "cell_type": "code",
   "execution_count": null,
   "id": "bdb8af8b",
   "metadata": {},
   "outputs": [],
   "source": [
    "fig, axs = plt.subplots(nrows=2, sharex=True)\n",
    "axs[0].hist(make_logdf(matrix))\n",
    "axs[1].hist(make_logdf(new_matrix))\n",
    "axs[0].set_title(\"Unscaled\")\n",
    "axs[1].set_title(\"Scaled\")\n",
    "plt.tight_layout()\n",
    "plt.show()"
   ]
  },
  {
   "cell_type": "markdown",
   "id": "2a598bf5",
   "metadata": {},
   "source": [
    "# Finalized Prototype"
   ]
  },
  {
   "cell_type": "code",
   "execution_count": null,
   "id": "72632fc6",
   "metadata": {},
   "outputs": [],
   "source": []
  },
  {
   "cell_type": "code",
   "execution_count": null,
   "id": "64d3bad7",
   "metadata": {},
   "outputs": [],
   "source": []
  }
 ],
 "metadata": {
  "kernelspec": {
   "display_name": "Python 3 (ipykernel)",
   "language": "python",
   "name": "python3"
  },
  "language_info": {
   "codemirror_mode": {
    "name": "ipython",
    "version": 3
   },
   "file_extension": ".py",
   "mimetype": "text/x-python",
   "name": "python",
   "nbconvert_exporter": "python",
   "pygments_lexer": "ipython3",
   "version": "3.10.9"
  }
 },
 "nbformat": 4,
 "nbformat_minor": 5
}
