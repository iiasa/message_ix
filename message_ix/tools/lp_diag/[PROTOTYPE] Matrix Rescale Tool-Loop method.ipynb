{
 "cells": [
  {
   "cell_type": "markdown",
   "id": "fdbea0ef",
   "metadata": {},
   "source": [
    "# MESSAGE-ix matrix improvement tool\n",
    "Need to investigate why more steps worsen the results"
   ]
  },
  {
   "cell_type": "code",
   "execution_count": 1,
   "id": "d5271360",
   "metadata": {},
   "outputs": [],
   "source": [
    "import numpy as np\n",
    "import pandas as pd\n",
    "from pyomo.environ import *\n",
    "from datetime import datetime\n",
    "import xarray as xr\n",
    "\n",
    "import matplotlib.pyplot as plt\n",
    "\n",
    "def showme(df):\n",
    "    return df[\"val\"].unstack()\n",
    "\n",
    "path = 'data/matrix_transport.csv'\n",
    "bound = 2\n",
    "steps = 1\n",
    "\n",
    "def solv(df, bound):\n",
    "    \"\"\"\n",
    "    this function filters matrix coefficient\n",
    "    dataframe in which the log of the coefficient \n",
    "    is lower or higher than the bound\n",
    "    \"\"\"\n",
    "    df_solv = df.loc[(df[\"val\"] >= bound) |\n",
    "                     (df[\"val\"] <= -bound)]\n",
    "    return df_solv\n",
    "\n",
    "def make_logdf(df):\n",
    "    df.loc[df['val']!=0,'val'] = np.log10(np.absolute(df.loc[df['val']!=0,'val']))\n",
    "    return df\n",
    "\n",
    "def read_ix(df, lvl):\n",
    "    return df.index.get_level_values(lvl)\n",
    "    \n",
    "def disp_range(text,df):\n",
    "    log_absdf = df.copy()\n",
    "    log_absdf.loc[log_absdf['val']!=0,'val']=(np.log10(\n",
    "        np.absolute(\n",
    "            log_absdf.loc[log_absdf['val']!=0,'val'])))\n",
    "    \n",
    "    print(f\"{text}:\",\"[\",np.int32(np.min(log_absdf)),\",\",np.int32(np.max(log_absdf)),\"]\")\n",
    "\n",
    "def make_scale(path, bound, steps, show_range=True):\n",
    "    # Load the matrix coefficient\n",
    "    data       = (pd.read_csv(path)\n",
    "                   .set_index(['row','col'],drop=True)[['val']])\n",
    "\n",
    "    matrix = data\n",
    "    \n",
    "    if show_range == True:\n",
    "        disp_range(\"Unscaled range     \",matrix)\n",
    "    \n",
    "    scalers = {\"row\":[], \"col\":[]}\n",
    "    counter = 0\n",
    "    while counter < steps:\n",
    "        for s in scalers.keys():\n",
    "            # print(matrix)\n",
    "            # calculate log base 10 of the absolute value of the matrix\n",
    "            log_absmatrix = matrix.copy()\n",
    "            log_absmatrix = make_logdf(log_absmatrix)\n",
    "\n",
    "            # Create matrix with small and large coefficient\n",
    "            log_absmatrix_solv  = solv(log_absmatrix, bound=bound)\n",
    "\n",
    "            # Populating row scaler\n",
    "            objective_ix = \"_obj\" if s == \"row\" else \"constobj\"\n",
    "            index_solv = [e for e in read_ix(log_absmatrix_solv,s) if e != objective_ix]  \n",
    "            #print(index_solv)\n",
    "\n",
    "            SFs = {k:[] for k in index_solv}\n",
    "            for k in SFs.keys():\n",
    "                index_val = (read_ix(log_absmatrix,s) == k)\n",
    "                dflog_val = log_absmatrix.loc[index_val,\"val\"]\n",
    "                lb,ub = np.int32(min(dflog_val)),np.int32(max(dflog_val))\n",
    "                mid = np.int32(np.mean([lb,ub]))\n",
    "                SFs[k] = 10.0**(-mid)\n",
    "            \n",
    "            # Create DataFrame of row scaler\n",
    "            return_index = list(set(read_ix(log_absmatrix,s)))\n",
    "            if counter == 0:\n",
    "                multiplier = 1\n",
    "            else:\n",
    "                multiplier = scalers[s].reindex(return_index).fillna(1)\n",
    "            scalers[s] = pd.DataFrame(data=SFs, index=[\"val\"]).transpose()\n",
    "            scalers[s].index.name = s\n",
    "            scalers[s] = scalers[s].reindex(return_index).fillna(1)\n",
    "            scalers[s] = scalers[s].mul(multiplier) # <--- this summarize multipliers from previous steps\n",
    "            \n",
    "            # Create new matrix with scaled rows\n",
    "            matrix = matrix.mul(scalers[s]) # <--- remember that this matrix is already changed, so double counting\n",
    "        \n",
    "        if show_range == True:\n",
    "            disp_range(f\"Scaled range step {counter}\",matrix)\n",
    "    \n",
    "        # Increment the counter\n",
    "        counter += 1\n",
    "    # generating prescaler arguments for GAMS\n",
    "    prescale_args = {}\n",
    "    for key,df_scaler in scalers.items():\n",
    "        df_scaler = df_scaler.loc[df_scaler[\"val\"] != 1]\n",
    "        scaler_dict = df_scaler[\"val\"].to_dict()\n",
    "        for k,v in scaler_dict.items():\n",
    "            if k == '_obj':\n",
    "                k_ = \"_obj.scale\"\n",
    "            elif k == 'constobj':\n",
    "                k_ = \"constobj.scale\"\n",
    "            else:\n",
    "                k_ = k.replace(\"(\", \".scale('\")\n",
    "                k_ = k_.replace(\")\", \"')\")\n",
    "                k_ = k_.replace(\",\", \"','\")\n",
    "            prescale_args.update({k_:v})    \n",
    "\n",
    "    return(prescale_args)"
   ]
  },
  {
   "cell_type": "code",
   "execution_count": 2,
   "id": "1dd0f34c",
   "metadata": {
    "scrolled": false
   },
   "outputs": [
    {
     "name": "stdout",
     "output_type": "stream",
     "text": [
      "Unscaled range     : [ -8 , 0 ]\n",
      "Scaled range step 0: [ -4 , 4 ]\n",
      "Scaled range step 1: [ -1 , 7 ]\n",
      "Scaled range step 2: [ -3 , 6 ]\n",
      "Scaled range step 3: [ -4 , 9 ]\n",
      "Scaled range step 4: [ -3 , 14 ]\n"
     ]
    },
    {
     "data": {
      "text/plain": [
       "{\"demand.scale('new-york')\": 1.0000000000000003e-05,\n",
       " \"supply.scale('san-diego')\": 1.0000000000000003e-05,\n",
       " \"demand.scale('topeka')\": 1e-05,\n",
       " \"supply.scale('seattle')\": 1e-05,\n",
       " \"demand.scale('chicago')\": 1e-05,\n",
       " \"x.scale('san-diego','chicago')\": 100000.0,\n",
       " \"x.scale('san-diego','new-york')\": 10.0,\n",
       " \"x.scale('seattle','new-york')\": 100000.0,\n",
       " \"x.scale('seattle','topeka')\": 100000.0,\n",
       " \"x.scale('san-diego','topeka')\": 1000.0,\n",
       " \"x.scale('seattle','chicago')\": 1000.0}"
      ]
     },
     "execution_count": 2,
     "metadata": {},
     "output_type": "execute_result"
    }
   ],
   "source": [
    "make_scale(path,bound,5,show_range=True)"
   ]
  },
  {
   "cell_type": "code",
   "execution_count": 3,
   "id": "06cb8817",
   "metadata": {},
   "outputs": [
    {
     "name": "stdout",
     "output_type": "stream",
     "text": [
      "Unscaled range     : [ -8 , 0 ]\n",
      "Scaled range step 0: [ -4 , 4 ]\n"
     ]
    },
    {
     "data": {
      "text/plain": [
       "{\"x.scale('san-diego','new-york')\": 10000.0,\n",
       " \"x.scale('san-diego','topeka')\": 1000.0}"
      ]
     },
     "execution_count": 3,
     "metadata": {},
     "output_type": "execute_result"
    }
   ],
   "source": [
    "make_scale(path,bound,1,show_range=True)"
   ]
  },
  {
   "cell_type": "markdown",
   "id": "bd05c345",
   "metadata": {},
   "source": [
    "**Prototype - Dev**"
   ]
  },
  {
   "cell_type": "code",
   "execution_count": null,
   "id": "fbf8ecd2",
   "metadata": {},
   "outputs": [],
   "source": [
    "import numpy as np\n",
    "import pandas as pd\n",
    "from pyomo.environ import *\n",
    "from datetime import datetime\n",
    "import xarray as xr\n",
    "\n",
    "import matplotlib.pyplot as plt\n",
    "\n",
    "def showme(df):\n",
    "    return df[\"val\"].unstack()\n",
    "\n",
    "# determine absolute bound of exponent in matrix coeff\n",
    "bound = 4 \n",
    "\n",
    "def solv(df, bound):\n",
    "    \"\"\"\n",
    "    this function filters matrix coefficient\n",
    "    dataframe in which the log of the coefficient \n",
    "    is lower or higher than the bound\n",
    "    \"\"\"\n",
    "    df_solv = df.loc[(df[\"val\"] >= bound) |\n",
    "                     (df[\"val\"] <= -bound)]\n",
    "    return df_solv\n",
    "\n",
    "def make_logdf(df):\n",
    "    df.loc[df['val']!=0,'val'] = np.log10(np.absolute(df.loc[df['val']!=0,'val']))\n",
    "    return df\n",
    "    \n",
    "\n",
    "# Load the whole matrix\n",
    "matrix       = (pd.read_csv('data/matrix_transport.csv')\n",
    "               .set_index(['row','col'],drop=True)[['val']])\n",
    "\n",
    "# calculate log base 10 of the absolute value of the matrix\n",
    "log_absmatrix = matrix.copy()\n",
    "log_absmatrix = make_logdf(log_absmatrix)\n",
    "\n",
    "# Create matrix with small and large coefficient\n",
    "log_absmatrix_solv  = solv(log_absmatrix,bound=bound)\n",
    "\n",
    "# SCALE BY ROW\n",
    "# Populating row scaler\n",
    "rows_solv = list(set(log_absmatrix_solv.index.get_level_values(\"row\"))\n",
    "                 -set([\"_obj\"]))\n",
    "\n",
    "RSFs = {row:[] for row in rows_solv}\n",
    "for k in RSFs.keys():\n",
    "    index_row = (log_absmatrix.index.get_level_values('row') == k)\n",
    "    rval = log_absmatrix.loc[index_row,\"val\"]\n",
    "    lb,ub = min(rval),max(rval)\n",
    "    mid = np.mean([lb,ub])\n",
    "    RSFs[k] = 10**(-mid)\n",
    "\n",
    "# Create DataFrame of row scaler\n",
    "row_scaler = pd.DataFrame(data=RSFs, index=[\"val\"]).transpose()\n",
    "row_scaler.index.name = 'row'\n",
    "\n",
    "# Create new matrix with scaled rows\n",
    "matrix0 = matrix.copy()\n",
    "index_mod = matrix0.index.get_level_values('row').isin(row_scaler.index)\n",
    "matrix0.loc[index_mod] = matrix0.loc[index_mod].mul(row_scaler)\n",
    "\n",
    "# SCALE BY COL\n",
    "# Populating col scaler\n",
    "log_absmatrix0 = matrix0.copy()\n",
    "log_absmatrix0 = make_logdf(log_absmatrix0)\n",
    "log_absmatrix0_solv = solv(log_absmatrix0,bound=bound)\n",
    "\n",
    "cols_solv = list(set(log_absmatrix_solv.index.get_level_values(\"col\"))\n",
    "                 -set([\"constobj\"]))\n",
    "CSFs = {col:[] for col in cols_solv}\n",
    "for k in CSFs.keys():\n",
    "    index_col = (log_absmatrix0.index.get_level_values('col') == k)\n",
    "    cval = log_absmatrix0.loc[index_col,\"val\"]\n",
    "    lb,ub = min(cval),max(cval)\n",
    "    mid = np.mean([lb,ub])\n",
    "    CSFs[k] = 10**(-mid)\n",
    "\n",
    "# Create DataFrame of col scaler\n",
    "col_scaler = pd.DataFrame(data=CSFs, index=[\"val\"]).transpose()\n",
    "col_scaler.index.name = 'col'\n",
    "\n",
    "# Create new matrix with scaled rows\n",
    "new_matrix = matrix0.copy()\n",
    "index_mod = new_matrix.index.get_level_values('col').isin(col_scaler.index)\n",
    "new_matrix.loc[index_mod] = new_matrix.loc[index_mod].mul(col_scaler)\n",
    "\n",
    "scalers = [RSFs,CSFs]\n",
    "prescale_args = {}\n",
    "for s in scalers:\n",
    "    for k,v in s.items():\n",
    "        if k == '_obj':\n",
    "            k_ = \"_obj.scale\"\n",
    "        elif k == 'constobj':\n",
    "            k_ = \"constobj.scale\"\n",
    "        else:\n",
    "            k_ = k.replace(\"(\", \".scale('\")\n",
    "            k_ = k_.replace(\")\", \"')\")\n",
    "            k_ = k_.replace(\",\", \"','\")\n",
    "        prescale_args.update({k_:v})\n",
    "\n",
    "gams_args = (str(prescale_args)\n",
    "             .replace('{','')\n",
    "             .replace('}','')\n",
    "             .replace('\"','')\n",
    "             .replace(':','=')\n",
    "             .replace(', ',';\\n')\n",
    "             +';'\n",
    "            )"
   ]
  },
  {
   "cell_type": "code",
   "execution_count": null,
   "id": "947dc97b",
   "metadata": {},
   "outputs": [],
   "source": [
    "new_matrix.loc[index_mod]"
   ]
  },
  {
   "cell_type": "code",
   "execution_count": null,
   "id": "28baf41e",
   "metadata": {},
   "outputs": [],
   "source": [
    "col_scaler"
   ]
  },
  {
   "cell_type": "code",
   "execution_count": null,
   "id": "c9402bdb",
   "metadata": {},
   "outputs": [],
   "source": [
    "final_scaler = col_scaler.mul(col_scaler2.reindex(col_scaler.index).fillna(1))\n",
    "print(final_scaler)"
   ]
  },
  {
   "cell_type": "code",
   "execution_count": null,
   "id": "f590d064",
   "metadata": {},
   "outputs": [],
   "source": []
  },
  {
   "cell_type": "code",
   "execution_count": null,
   "id": "2d8c2afd",
   "metadata": {},
   "outputs": [],
   "source": []
  },
  {
   "cell_type": "code",
   "execution_count": null,
   "id": "073e9e21",
   "metadata": {},
   "outputs": [],
   "source": []
  },
  {
   "cell_type": "code",
   "execution_count": null,
   "id": "a9a4b0a3",
   "metadata": {},
   "outputs": [],
   "source": [
    "report(\"Original value\",matrix)\n",
    "report(\"Row scaling val\",matrix0)\n",
    "report(\"New Matrix\",new_matrix)"
   ]
  },
  {
   "cell_type": "code",
   "execution_count": null,
   "id": "a771a522",
   "metadata": {},
   "outputs": [],
   "source": [
    "import numpy as np\n",
    "import pandas as pd\n",
    "from pyomo.environ import *\n",
    "from datetime import datetime\n",
    "import xarray as xr\n",
    "\n",
    "import matplotlib.pyplot as plt\n",
    "\n",
    "def showme(df):\n",
    "    return df[\"val\"].unstack()"
   ]
  },
  {
   "cell_type": "code",
   "execution_count": null,
   "id": "afc2eec6",
   "metadata": {},
   "outputs": [],
   "source": [
    "# determine absolute bound of exponent in matrix coeff\n",
    "bound = 4 \n",
    "\n",
    "def solv(df, bound):\n",
    "    \"\"\"\n",
    "    this function filters matrix coefficient\n",
    "    dataframe in which the log of the coefficient \n",
    "    is lower or higher than the bound\n",
    "    \"\"\"\n",
    "    df_solv = df.loc[(df[\"val\"] >= bound) |\n",
    "                     (df[\"val\"] <= -bound)]\n",
    "    return df_solv\n",
    "\n",
    "def make_logdf(df):\n",
    "    df.loc[df['val']!=0,'val'] = np.log10(np.absolute(df.loc[df['val']!=0,'val']))\n",
    "    return df\n",
    "    \n",
    "\n",
    "# Load the whole matrix\n",
    "matrix       = (pd.read_csv('data/matrix.csv')\n",
    "               .set_index(['row','col'],drop=True)[['val']])\n",
    "\n",
    "# calculate log base 10 of the absolute value of the matrix\n",
    "log_absmatrix = matrix.copy()\n",
    "log_absmatrix = make_logdf(log_absmatrix)\n",
    "\n",
    "# Create matrix with small and large coefficient\n",
    "log_absmatrix_solv  = solv(log_absmatrix,bound=bound)\n"
   ]
  },
  {
   "cell_type": "markdown",
   "id": "a4435293",
   "metadata": {},
   "source": [
    "**Start Looping**"
   ]
  },
  {
   "cell_type": "code",
   "execution_count": null,
   "id": "6dbeb665",
   "metadata": {},
   "outputs": [],
   "source": [
    "# SCALE BY ROW\n",
    "# Populating row scaler\n",
    "RSFs = {row:[] for row in set(log_absmatrix_solv.index.get_level_values(0))-set([\"_obj\"])}\n",
    "for k in RSFs.keys():\n",
    "    rval = log_absmatrix.loc[(k),\"val\"]\n",
    "    lb,ub = min(rval),max(rval)\n",
    "    mid = np.mean([lb,ub])\n",
    "    RSFs[k] = 10**(-mid)\n",
    "\n",
    "# Create DataFrame of row scaler\n",
    "row_scaler = pd.DataFrame(data=RSFs, index=[\"val\"]).transpose()\n",
    "row_scaler.index.name = 'row'\n",
    "\n",
    "# Create new matrix with scaled rows\n",
    "matrix0 = matrix.copy()\n",
    "index_mod = matrix0.index.get_level_values('row').isin(row_scaler.index)\n",
    "\n",
    "matrix0.loc[index_mod] = matrix0.loc[index_mod].mul(row_scaler)"
   ]
  },
  {
   "cell_type": "code",
   "execution_count": null,
   "id": "c873a4f8",
   "metadata": {
    "scrolled": false
   },
   "outputs": [],
   "source": [
    "# SCALE BY COL\n",
    "# Populating col scaler\n",
    "log_absmatrix0 = matrix0.copy()\n",
    "log_absmatrix0 = make_logdf(log_absmatrix0)\n",
    "log_absmatrix0_solv = solv(log_absmatrix0,bound=bound)\n",
    "\n",
    "CSFs = {col:[] for col in set(log_absmatrix0_solv.index.get_level_values(1))-set([\"constobj\"])}\n",
    "for k in CSFs.keys():\n",
    "    cval = log_absmatrix0.loc[(log_absmatrix0.index.get_level_values('col') == k),\"val\"]\n",
    "    lb,ub = min(cval),max(cval)\n",
    "    mid = np.mean([lb,ub])\n",
    "    CSFs[k] = 10**(-mid)\n",
    "\n",
    "# Create DataFrame of col scaler\n",
    "col_scaler = pd.DataFrame(data=CSFs, index=[\"val\"]).transpose()\n",
    "col_scaler.index.name = 'col'\n",
    "\n",
    "# Create new matrix with scaled rows\n",
    "new_matrix = matrix0.copy()\n",
    "index_mod = new_matrix.index.get_level_values('col').isin(col_scaler.index)\n",
    "new_matrix.loc[index_mod] = new_matrix.loc[index_mod].mul(col_scaler)"
   ]
  },
  {
   "cell_type": "code",
   "execution_count": null,
   "id": "fd32226c",
   "metadata": {},
   "outputs": [],
   "source": [
    "def report(text,df):\n",
    "    log_absdf = df.copy()\n",
    "    log_absdf.loc[log_absdf['val']!=0,'val']=(np.log10(\n",
    "        np.absolute(\n",
    "            log_absdf.loc[log_absdf['val']!=0,'val'])))\n",
    "    \n",
    "    print(f\"{text}:\",\"[\",np.int32(np.min(log_absdf)),\",\",np.int32(np.max(log_absdf)),\"]\")\n",
    "\n",
    "report(\"Original value\",matrix)\n",
    "report(\"Row scaling val\",matrix0)\n",
    "report(\"New Matrix\",new_matrix)"
   ]
  },
  {
   "cell_type": "markdown",
   "id": "af15cef2",
   "metadata": {},
   "source": [
    "**Modify below later**"
   ]
  },
  {
   "cell_type": "code",
   "execution_count": null,
   "id": "b2d59ae7",
   "metadata": {},
   "outputs": [],
   "source": [
    "scalers = [RSFs,CSFs]\n",
    "prescale_args = {}\n",
    "for s in scalers:\n",
    "    for k,v in s.items():\n",
    "        if k == '_obj':\n",
    "            k_ = \"_obj.scale\"\n",
    "        elif k == 'constobj':\n",
    "            k_ = \"constobj.scale\"\n",
    "        else:\n",
    "            k_ = k.replace(\"(\", \".scale('\")\n",
    "            k_ = k_.replace(\")\", \"')\")\n",
    "            k_ = k_.replace(\",\", \"','\")\n",
    "        prescale_args.update({k_:v})\n",
    "\n",
    "gams_args = (str(prescale_args)\n",
    "             .replace('{','')\n",
    "             .replace('}','')\n",
    "             .replace('\"','')\n",
    "             .replace(':','=')\n",
    "             .replace(', ',';\\n')\n",
    "             +';'\n",
    "            )"
   ]
  },
  {
   "cell_type": "code",
   "execution_count": null,
   "id": "ffe68313",
   "metadata": {
    "scrolled": false
   },
   "outputs": [],
   "source": [
    "# print(gams_args)"
   ]
  },
  {
   "cell_type": "code",
   "execution_count": null,
   "id": "b56feb0d",
   "metadata": {},
   "outputs": [],
   "source": [
    "# Printing stats\n",
    "\n",
    "matrices_dict = {'Old Matrix':matrix,\n",
    "                 'New Matrix':new_matrix,\n",
    "                } \n",
    "\n",
    "for k,v in matrices_dict.items():\n",
    "    print(f'{k} stats:')\n",
    "    print('>> log10 coefficient range:',\n",
    "          np.int32(np.log10(np.abs(v['val']).fillna(1)).min(axis=None)),'--',\n",
    "          np.int32(np.log10(np.abs(v['val']).fillna(1)).max(axis=None)))\n",
    "    print('')\n",
    "\n",
    "# TO DO:\n",
    "# 1. plot histogram of log10 distribution of those matrix\n"
   ]
  },
  {
   "cell_type": "code",
   "execution_count": null,
   "id": "0419fb2a",
   "metadata": {},
   "outputs": [],
   "source": [
    "fig, axs = plt.subplots(nrows=2, sharex=True)\n",
    "axs[0].hist(make_logdf(matrix))\n",
    "axs[1].hist(make_logdf(new_matrix))\n",
    "axs[0].set_title(\"Unscaled\")\n",
    "axs[1].set_title(\"Scaled\")\n",
    "plt.tight_layout()\n",
    "plt.show()"
   ]
  },
  {
   "cell_type": "markdown",
   "id": "1ddec7f4",
   "metadata": {},
   "source": [
    "# Finalized Prototype"
   ]
  },
  {
   "cell_type": "code",
   "execution_count": null,
   "id": "053f6a87",
   "metadata": {},
   "outputs": [],
   "source": []
  },
  {
   "cell_type": "code",
   "execution_count": null,
   "id": "b4b7f4d8",
   "metadata": {},
   "outputs": [],
   "source": []
  }
 ],
 "metadata": {
  "kernelspec": {
   "display_name": "Python 3 (ipykernel)",
   "language": "python",
   "name": "python3"
  },
  "language_info": {
   "codemirror_mode": {
    "name": "ipython",
    "version": 3
   },
   "file_extension": ".py",
   "mimetype": "text/x-python",
   "name": "python",
   "nbconvert_exporter": "python",
   "pygments_lexer": "ipython3",
   "version": "3.10.9"
  }
 },
 "nbformat": 4,
 "nbformat_minor": 5
}
