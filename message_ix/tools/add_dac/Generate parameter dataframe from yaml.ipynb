{
 "cells": [
  {
   "cell_type": "markdown",
   "id": "9ce2dbbc",
   "metadata": {},
   "source": [
    "Import all required tools"
   ]
  },
  {
   "cell_type": "code",
   "execution_count": 1,
   "id": "db473272",
   "metadata": {},
   "outputs": [
    {
     "data": {
      "application/javascript": [
       "if (typeof IPython !== 'undefined') { IPython.OutputArea.prototype._should_scroll = function(lines){ return false; }}"
      ],
      "text/plain": [
       "<IPython.core.display.Javascript object>"
      ]
     },
     "metadata": {},
     "output_type": "display_data"
    }
   ],
   "source": [
    "import ixmp\n",
    "import message_ix\n",
    "import numpy as np\n",
    "import pandas as pd\n",
    "import yaml\n",
    "\n",
    "from collections.abc import Mapping\n",
    "from itertools import repeat\n",
    "from message_ix.models import MESSAGE_ITEMS\n",
    "from message_ix.utils import make_df\n",
    "\n",
    "%matplotlib inline\n",
    "\n",
    "mp = ixmp.Platform()"
   ]
  },
  {
   "cell_type": "markdown",
   "id": "7d4cf7f5",
   "metadata": {},
   "source": [
    "This part is just to generate a dummy scenario as basis for adding technology parameters. Need to be removed once integrated"
   ]
  },
  {
   "cell_type": "code",
   "execution_count": 2,
   "id": "34cf0deb",
   "metadata": {},
   "outputs": [],
   "source": [
    "model = \"Westeros Electrified\"\n",
    "\n",
    "base = message_ix.Scenario(mp, model=model, scenario=\"baseline\")\n",
    "scen = base.clone(\n",
    "    model,\n",
    "    \"add_tech\",\n",
    "    \"introducing the add_tech feature on MESSAGEix\",\n",
    "    keep_solution=False,\n",
    ")\n",
    "scen.check_out()\n",
    "\n",
    "year_df = scen.vintage_and_active_years()\n",
    "vintage_years, act_years = year_df[\"year_vtg\"], year_df[\"year_act\"]\n",
    "model_horizon = scen.set(\"year\")\n",
    "country = \"Westeros\"\n",
    "\n",
    "#scen.commit(comment=\"Introducing emissions and setting an upper bound\")\n",
    "#scen.set_as_default()\n",
    "#scen.solve()\n",
    "#scen.var(\"OBJ\")[\"lvl\"]"
   ]
  },
  {
   "cell_type": "markdown",
   "id": "581520cb",
   "metadata": {},
   "source": [
    "Call all data required by add_tech module"
   ]
  },
  {
   "cell_type": "code",
   "execution_count": 3,
   "id": "fbbd29db",
   "metadata": {},
   "outputs": [],
   "source": [
    "with open('tech_data.yaml','r') as stream:\n",
    "    tech_data = yaml.safe_load(stream)\n",
    "\n",
    "# As if these parameters provided in the arguments\n",
    "#regions = ['Westeros', 'Westerlands']\n",
    "#modes = ['standard']\n",
    "#emissions = ['CO2','CH4']\n",
    "#time = ['year']\n",
    "\n",
    "regions = []\n",
    "modes = []\n",
    "emissions = []\n",
    "time = []\n",
    "commodities = []\n",
    "levels = []\n",
    "\n",
    "first_active_year = tech_data['model_data'].get('first_active_year')\n",
    "# If those are not provided, then this block of code is needed to retrieve them from the data input\n",
    "if not regions:\n",
    "    regions = list(tech_data.get('model_data',{}).get('DACCS',{}).get('fix_cost',{}).get('node_loc').keys())\n",
    "if not modes:\n",
    "    modes = list(tech_data.get('model_data',{}).get('DACCS',{}).get('var_cost',{}).get('mode').keys())\n",
    "if not emissions:\n",
    "    emissions = list(tech_data.get('model_data',{}).get('DACCS',{}).get('emission_factor',{}).get('emission').keys())\n",
    "if not time:\n",
    "    time = list(tech_data.get('model_data',{}).get('DACCS',{}).get('var_cost',{}).get('time').keys())\n",
    "if not commodities:\n",
    "    commodities = list(tech_data.get('model_data',{}).get('DACCS',{}).get('input',{}).get('commodity').keys())\n",
    "if not levels:\n",
    "    levels = list(tech_data.get('model_data',{}).get('DACCS',{}).get('input',{}).get('level').keys())\n",
    "    \n",
    "#list(scen.set('node'))"
   ]
  },
  {
   "cell_type": "markdown",
   "id": "c41ba1ba",
   "metadata": {},
   "source": [
    "Define years vintage and active according to `first_active_year` and scenarios year"
   ]
  },
  {
   "cell_type": "code",
   "execution_count": 4,
   "id": "0369ccab",
   "metadata": {},
   "outputs": [],
   "source": [
    "years_vtg_act = scen.vintage_and_active_years()\n",
    "years_vtg_act = years_vtg_act[years_vtg_act['year_vtg'] >= first_active_year]\n",
    "\n",
    "#years_vtg_act"
   ]
  },
  {
   "cell_type": "code",
   "execution_count": 5,
   "id": "c137bf39",
   "metadata": {
    "scrolled": true
   },
   "outputs": [],
   "source": [
    "parameters = {}\n",
    "for tech in set(tech_data) - set(['model_data']):\n",
    "    parameters.update({par: list(MESSAGE_ITEMS[par]['idx_names']) for par in set(tech_data[tech])})\n",
    "data = {par: [] for par in list(parameters.keys())}\n",
    "\n",
    "#list(scen.set('node'))"
   ]
  },
  {
   "cell_type": "code",
   "execution_count": 6,
   "id": "eb819914",
   "metadata": {},
   "outputs": [
    {
     "data": {
      "text/plain": [
       "{'var_cost': ['node_loc',\n",
       "  'technology',\n",
       "  'year_vtg',\n",
       "  'year_act',\n",
       "  'mode',\n",
       "  'time'],\n",
       " 'input': ['node_loc',\n",
       "  'technology',\n",
       "  'year_vtg',\n",
       "  'year_act',\n",
       "  'mode',\n",
       "  'node_origin',\n",
       "  'commodity',\n",
       "  'level',\n",
       "  'time',\n",
       "  'time_origin'],\n",
       " 'growth_activity_lo': ['node_loc', 'technology', 'year_act', 'time'],\n",
       " 'fix_cost': ['node_loc', 'technology', 'year_vtg', 'year_act'],\n",
       " 'initial_new_capacity_up': ['node_loc', 'technology', 'year_vtg'],\n",
       " 'emission_factor': ['node_loc',\n",
       "  'technology',\n",
       "  'year_vtg',\n",
       "  'year_act',\n",
       "  'mode',\n",
       "  'emission'],\n",
       " 'level_cost_activity_soft_up': ['node_loc', 'technology', 'year_act', 'time'],\n",
       " 'construction_time': ['node_loc', 'technology', 'year_vtg'],\n",
       " 'output': ['node_loc',\n",
       "  'technology',\n",
       "  'year_vtg',\n",
       "  'year_act',\n",
       "  'mode',\n",
       "  'node_dest',\n",
       "  'commodity',\n",
       "  'level',\n",
       "  'time',\n",
       "  'time_dest'],\n",
       " 'capacity_factor': ['node_loc', 'technology', 'year_vtg', 'year_act', 'time'],\n",
       " 'level_cost_activity_soft_lo': ['node_loc', 'technology', 'year_act', 'time'],\n",
       " 'growth_activity_up': ['node_loc', 'technology', 'year_act', 'time'],\n",
       " 'technical_lifetime': ['node_loc', 'technology', 'year_vtg'],\n",
       " 'growth_new_capacity_up': ['node_loc', 'technology', 'year_vtg'],\n",
       " 'inv_cost': ['node_loc', 'technology', 'year_vtg'],\n",
       " 'abs_cost_activity_soft_up': ['node_loc', 'technology', 'year_act', 'time']}"
      ]
     },
     "execution_count": 6,
     "metadata": {},
     "output_type": "execute_result"
    }
   ],
   "source": [
    "parameters"
   ]
  },
  {
   "cell_type": "markdown",
   "id": "103d6759",
   "metadata": {},
   "source": [
    "Creating basic dataframe to be filled in later"
   ]
  },
  {
   "cell_type": "code",
   "execution_count": 7,
   "id": "b6f681b6",
   "metadata": {
    "scrolled": true
   },
   "outputs": [],
   "source": [
    "# Basic DataFrame\n",
    "for tech, par_dict in tech_data.items():\n",
    "    if tech != 'model_data':\n",
    "        for par, par_data in par_dict.items():\n",
    "            if not isinstance(par_data, Mapping):\n",
    "                par_data = {'value': par_data, 'unit': '-'}\n",
    "            # identify parameters by `year` dimensions\n",
    "            # then add the year data as kwargs when creating basic dataframe\n",
    "            if parameters[par] == ['node_loc', 'technology', 'year_vtg']:\n",
    "                kwargs = {'year_vtg': sorted(list(set(years_vtg_act['year_vtg'])))}\n",
    "            if parameters[par] == ['node_loc', 'technology', 'year_act']:\n",
    "                kwargs = {'year_vtg': sorted(list(set(years_vtg_act['year_act'])))}\n",
    "            elif all(e in ['node_loc', 'technology', 'year_vtg', 'year_act'] for e in parameters[par]):\n",
    "                kwargs = {'year_vtg': years_vtg_act['year_vtg'],\n",
    "                          'year_act': years_vtg_act['year_act']}\n",
    "            data[par].append(\n",
    "                make_df(\n",
    "                    par,\n",
    "                    technology=tech,\n",
    "                    value=par_data['value'],\n",
    "                    unit=par_data['unit'],\n",
    "                    **kwargs,\n",
    "                ))\n",
    "            # adding additional \n",
    "            if 'emission' in parameters[par]:\n",
    "                data[par] = data[par]*len(emissions)\n",
    "                for e in range(len(emissions)):\n",
    "                    data[par][e] = data[par][e].assign(emission=emissions[e])\n",
    "            if 'mode' in parameters[par]:\n",
    "                data[par] = data[par]*len(modes)\n",
    "                for m in range(len(modes)):\n",
    "                    for e in range(len(data[par])):\n",
    "                        data[par][e] = data[par][e].assign(mode=modes[m])\n",
    "            if 'time' in parameters[par]:\n",
    "                data[par] = data[par]*len(time)\n",
    "                for t in range(len(time)):\n",
    "                    for e in range(len(data[par])):\n",
    "                        data[par][e] = data[par][e].assign(time=time[t])\n",
    "                        if 'time_origin' in parameters[par]:\n",
    "                            data[par][e] = data[par][e].assign(time_origin=time[t])\n",
    "                        if 'time_dest' in parameters[par]:\n",
    "                            data[par][e] = data[par][e].assign(time_dest=time[t])\n",
    "            if 'commodity' in parameters[par]:\n",
    "                data[par] = data[par]*len(commodities)\n",
    "                for c in range(len(commodities)):\n",
    "                    for e in range(len(data[par])):\n",
    "                        data[par][e] = data[par][e].assign(commodity=commodities[c])\n",
    "            if 'level' in parameters[par]:\n",
    "                data[par] = data[par]*len(levels)\n",
    "                for l in range(len(levels)):\n",
    "                    for e in range(len(data[par])):\n",
    "                        data[par][e] = data[par][e].assign(level=levels[l])\n",
    "            \n",
    "\n",
    "data = {k: pd.concat(v).reset_index(drop=True) for k, v in data.items()}"
   ]
  },
  {
   "cell_type": "code",
   "execution_count": 8,
   "id": "d1ed38bf",
   "metadata": {
    "scrolled": true
   },
   "outputs": [
    {
     "data": {
      "text/html": [
       "<div>\n",
       "<style scoped>\n",
       "    .dataframe tbody tr th:only-of-type {\n",
       "        vertical-align: middle;\n",
       "    }\n",
       "\n",
       "    .dataframe tbody tr th {\n",
       "        vertical-align: top;\n",
       "    }\n",
       "\n",
       "    .dataframe thead th {\n",
       "        text-align: right;\n",
       "    }\n",
       "</style>\n",
       "<table border=\"1\" class=\"dataframe\">\n",
       "  <thead>\n",
       "    <tr style=\"text-align: right;\">\n",
       "      <th></th>\n",
       "      <th>node_loc</th>\n",
       "      <th>technology</th>\n",
       "      <th>year_act</th>\n",
       "      <th>time</th>\n",
       "      <th>value</th>\n",
       "      <th>unit</th>\n",
       "    </tr>\n",
       "  </thead>\n",
       "  <tbody>\n",
       "    <tr>\n",
       "      <th>0</th>\n",
       "      <td>None</td>\n",
       "      <td>DACCS</td>\n",
       "      <td>700</td>\n",
       "      <td>year</td>\n",
       "      <td>0.5</td>\n",
       "      <td>-</td>\n",
       "    </tr>\n",
       "    <tr>\n",
       "      <th>1</th>\n",
       "      <td>None</td>\n",
       "      <td>DACCS</td>\n",
       "      <td>710</td>\n",
       "      <td>year</td>\n",
       "      <td>0.5</td>\n",
       "      <td>-</td>\n",
       "    </tr>\n",
       "    <tr>\n",
       "      <th>2</th>\n",
       "      <td>None</td>\n",
       "      <td>DACCS</td>\n",
       "      <td>720</td>\n",
       "      <td>year</td>\n",
       "      <td>0.5</td>\n",
       "      <td>-</td>\n",
       "    </tr>\n",
       "    <tr>\n",
       "      <th>3</th>\n",
       "      <td>None</td>\n",
       "      <td>DACCS</td>\n",
       "      <td>710</td>\n",
       "      <td>year</td>\n",
       "      <td>0.5</td>\n",
       "      <td>-</td>\n",
       "    </tr>\n",
       "    <tr>\n",
       "      <th>4</th>\n",
       "      <td>None</td>\n",
       "      <td>DACCS</td>\n",
       "      <td>720</td>\n",
       "      <td>year</td>\n",
       "      <td>0.5</td>\n",
       "      <td>-</td>\n",
       "    </tr>\n",
       "    <tr>\n",
       "      <th>5</th>\n",
       "      <td>None</td>\n",
       "      <td>DACCS</td>\n",
       "      <td>720</td>\n",
       "      <td>year</td>\n",
       "      <td>0.5</td>\n",
       "      <td>-</td>\n",
       "    </tr>\n",
       "  </tbody>\n",
       "</table>\n",
       "</div>"
      ],
      "text/plain": [
       "  node_loc technology  year_act  time  value unit\n",
       "0     None      DACCS       700  year    0.5    -\n",
       "1     None      DACCS       710  year    0.5    -\n",
       "2     None      DACCS       720  year    0.5    -\n",
       "3     None      DACCS       710  year    0.5    -\n",
       "4     None      DACCS       720  year    0.5    -\n",
       "5     None      DACCS       720  year    0.5    -"
      ]
     },
     "execution_count": 8,
     "metadata": {},
     "output_type": "execute_result"
    }
   ],
   "source": [
    "data['level_cost_activity_soft_up']"
   ]
  },
  {
   "cell_type": "code",
   "execution_count": 9,
   "id": "6d55acdb",
   "metadata": {
    "scrolled": true
   },
   "outputs": [
    {
     "name": "stdout",
     "output_type": "stream",
     "text": [
      "var_cost\n",
      "input\n",
      "growth_activity_lo\n",
      "fix_cost\n",
      "initial_new_capacity_up\n",
      "emission_factor\n",
      "level_cost_activity_soft_up\n",
      "construction_time\n",
      "output\n",
      "capacity_factor\n",
      "level_cost_activity_soft_lo\n",
      "growth_activity_up\n",
      "technical_lifetime\n",
      "growth_new_capacity_up\n",
      "inv_cost\n",
      "abs_cost_activity_soft_up\n"
     ]
    }
   ],
   "source": [
    "# Expanded DataFrame\n",
    "data_expand ={par: [] for par in list(parameters.keys())} \n",
    "for par in list(parameters.keys()):\n",
    "    print(par)\n",
    "    for tech, diffs in tech_data['model_data'].items():\n",
    "        if tech != 'first_active_year':\n",
    "            for reg in regions:\n",
    "                multiplier = []\n",
    "                for i in range(len(data[par])):\n",
    "                    if 'year_vtg' in parameters[par]:\n",
    "                        multiplier.append(\n",
    "                            np.prod([diffs.get(par,{}).get('node_loc',{}).get(reg,1), # by region\n",
    "                                     ((1+diffs.get(par,{}).get('year_vtg',{}).get('rate',0))\n",
    "                                         **(data[par]['year_vtg'][i]-first_active_year)), # by year_vtg\n",
    "                                     ((1+diffs.get(par,{}).get('year_act',{}).get('rate',0))\n",
    "                                             **(data.get(par,{}).get('year_act',{}) # by year_act\n",
    "                                                .get(i,data[par]['year_vtg'][i])-data[par]['year_vtg'][i])),\n",
    "                                     diffs.get(par,{}).get('mode',{}).get(data.get(par,{}).get('mode',{}).get(i),1), # by mode\n",
    "                                     diffs.get(par,{}).get('emission',{}).get(data.get(par,{}).get('emission',{}).get(i),1), # by emission\n",
    "                            ])\n",
    "                        )\n",
    "                    else:\n",
    "                        multiplier.append(\n",
    "                            np.prod([diffs.get(par,{}).get('node_loc',{}).get(reg,1), # by region\n",
    "                                     diffs.get(par,{}).get('mode',{}).get(data.get(par,{}).get('mode',{}).get(i),1), # by mode\n",
    "                                     diffs.get(par,{}).get('emission',{}).get(data.get(par,{}).get('emission',{}).get(i),1), # by emission\n",
    "                            ])\n",
    "                        )\n",
    "\n",
    "\n",
    "                value = data[par]['value']*multiplier\n",
    "                # node origin is assumed to be always the same of the node\n",
    "                if 'node_origin' in parameters[par]:\n",
    "                    kwargs = {'node_origin': reg}\n",
    "                else:\n",
    "                    kwargs = {}\n",
    "                # node destination is assumed to be always the same of the node\n",
    "                if 'node_dest' in parameters[par]:\n",
    "                    kwargs = {'node_dest': reg}\n",
    "                else:\n",
    "                    kwargs = {}\n",
    "                # assigning data expansion\n",
    "                data_expand[par].append(\n",
    "                    data[par].assign(node_loc=reg,value=value, **kwargs)\n",
    "                   )"
   ]
  },
  {
   "cell_type": "code",
   "execution_count": 10,
   "id": "d0862b28",
   "metadata": {},
   "outputs": [
    {
     "data": {
      "text/html": [
       "<div>\n",
       "<style scoped>\n",
       "    .dataframe tbody tr th:only-of-type {\n",
       "        vertical-align: middle;\n",
       "    }\n",
       "\n",
       "    .dataframe tbody tr th {\n",
       "        vertical-align: top;\n",
       "    }\n",
       "\n",
       "    .dataframe thead th {\n",
       "        text-align: right;\n",
       "    }\n",
       "</style>\n",
       "<table border=\"1\" class=\"dataframe\">\n",
       "  <thead>\n",
       "    <tr style=\"text-align: right;\">\n",
       "      <th></th>\n",
       "      <th>node_loc</th>\n",
       "      <th>technology</th>\n",
       "      <th>year_vtg</th>\n",
       "      <th>value</th>\n",
       "      <th>unit</th>\n",
       "    </tr>\n",
       "  </thead>\n",
       "  <tbody>\n",
       "    <tr>\n",
       "      <th>0</th>\n",
       "      <td>Westeros</td>\n",
       "      <td>DACCS</td>\n",
       "      <td>700</td>\n",
       "      <td>2500.000000</td>\n",
       "      <td>$/kW</td>\n",
       "    </tr>\n",
       "    <tr>\n",
       "      <th>1</th>\n",
       "      <td>Westeros</td>\n",
       "      <td>DACCS</td>\n",
       "      <td>700</td>\n",
       "      <td>2500.000000</td>\n",
       "      <td>$/kW</td>\n",
       "    </tr>\n",
       "    <tr>\n",
       "      <th>2</th>\n",
       "      <td>Westeros</td>\n",
       "      <td>DACCS</td>\n",
       "      <td>700</td>\n",
       "      <td>2500.000000</td>\n",
       "      <td>$/kW</td>\n",
       "    </tr>\n",
       "    <tr>\n",
       "      <th>3</th>\n",
       "      <td>Westeros</td>\n",
       "      <td>DACCS</td>\n",
       "      <td>710</td>\n",
       "      <td>1496.842348</td>\n",
       "      <td>$/kW</td>\n",
       "    </tr>\n",
       "    <tr>\n",
       "      <th>4</th>\n",
       "      <td>Westeros</td>\n",
       "      <td>DACCS</td>\n",
       "      <td>710</td>\n",
       "      <td>1496.842348</td>\n",
       "      <td>$/kW</td>\n",
       "    </tr>\n",
       "    <tr>\n",
       "      <th>5</th>\n",
       "      <td>Westeros</td>\n",
       "      <td>DACCS</td>\n",
       "      <td>720</td>\n",
       "      <td>896.214806</td>\n",
       "      <td>$/kW</td>\n",
       "    </tr>\n",
       "  </tbody>\n",
       "</table>\n",
       "</div>"
      ],
      "text/plain": [
       "   node_loc technology  year_vtg        value  unit\n",
       "0  Westeros      DACCS       700  2500.000000  $/kW\n",
       "1  Westeros      DACCS       700  2500.000000  $/kW\n",
       "2  Westeros      DACCS       700  2500.000000  $/kW\n",
       "3  Westeros      DACCS       710  1496.842348  $/kW\n",
       "4  Westeros      DACCS       710  1496.842348  $/kW\n",
       "5  Westeros      DACCS       720   896.214806  $/kW"
      ]
     },
     "execution_count": 10,
     "metadata": {},
     "output_type": "execute_result"
    }
   ],
   "source": [
    "pd.concat(data_expand['inv_cost'])\n"
   ]
  },
  {
   "cell_type": "code",
   "execution_count": 11,
   "id": "03aab2a3",
   "metadata": {},
   "outputs": [],
   "source": [
    "data_expand = {k: pd.concat(v) for k, v in data_expand.items() \n",
    "               if k in parameters.keys()}"
   ]
  },
  {
   "cell_type": "code",
   "execution_count": 12,
   "id": "8ba2b797",
   "metadata": {},
   "outputs": [],
   "source": [
    "with pd.ExcelWriter('printed_data.xlsx', engine='xlsxwriter', mode='w') as writer:\n",
    "    for sheet_name, sheet_data in data_expand.items():\n",
    "        sheet_data.to_excel(writer, sheet_name=sheet_name, index=False)"
   ]
  },
  {
   "cell_type": "code",
   "execution_count": null,
   "id": "abf4ce20",
   "metadata": {},
   "outputs": [],
   "source": []
  }
 ],
 "metadata": {
  "kernelspec": {
   "display_name": "Python 3 (ipykernel)",
   "language": "python",
   "name": "python3"
  },
  "language_info": {
   "codemirror_mode": {
    "name": "ipython",
    "version": 3
   },
   "file_extension": ".py",
   "mimetype": "text/x-python",
   "name": "python",
   "nbconvert_exporter": "python",
   "pygments_lexer": "ipython3",
   "version": "3.10.9"
  }
 },
 "nbformat": 4,
 "nbformat_minor": 5
}
