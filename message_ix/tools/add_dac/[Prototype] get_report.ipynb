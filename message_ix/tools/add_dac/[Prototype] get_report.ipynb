{
 "cells": [
  {
   "cell_type": "markdown",
   "id": "9ce2dbbc",
   "metadata": {},
   "source": [
    "This script is to add data general. \n",
    "Import all required tools"
   ]
  },
  {
   "cell_type": "code",
   "execution_count": null,
   "id": "db473272",
   "metadata": {},
   "outputs": [],
   "source": [
    "import ixmp\n",
    "import message_ix\n",
    "import numpy as np\n",
    "import pandas as pd\n",
    "import yaml\n",
    "\n",
    "from collections.abc import Mapping\n",
    "from itertools import repeat\n",
    "from message_ix.models import MESSAGE_ITEMS\n",
    "from message_ix.utils import make_df\n",
    "\n",
    "%matplotlib inline\n",
    "\n",
    "mp = ixmp.Platform()"
   ]
  },
  {
   "cell_type": "markdown",
   "id": "7d4cf7f5",
   "metadata": {},
   "source": [
    "This part is just to generate a dummy scenario as basis for adding technology parameters. Need to be removed once integrated"
   ]
  },
  {
   "cell_type": "code",
   "execution_count": null,
   "id": "34cf0deb",
   "metadata": {},
   "outputs": [],
   "source": [
    "scen = message_ix.Scenario(mp, model='GENIE_sandbox', scenario=\"daccs1000\")"
   ]
  },
  {
   "cell_type": "markdown",
   "id": "103d6759",
   "metadata": {},
   "source": [
    "Creating basic dataframe to be filled in later"
   ]
  },
  {
   "cell_type": "code",
   "execution_count": null,
   "id": "abb86a67",
   "metadata": {},
   "outputs": [],
   "source": [
    "def get_values(scenario,\n",
    "               variable = '', valuetype = 'lvl',\n",
    "               #filters = {}\n",
    "              ): \n",
    "    # filters must use 'cat_tec' to aggregate technology\n",
    "    # don't forget to include check unit\n",
    "    \"\"\"\n",
    "    Parameters\n",
    "    ----------\n",
    "    scenario    : message_ix.Scenario()\n",
    "        MESSAGEix Scenario where the data will be included\n",
    "    variable    : string\n",
    "        name of variable to report\n",
    "    valuetype   : string, 'lvl' or 'mrg'\n",
    "        type of values reported to report,\n",
    "        either level or marginal.\n",
    "        default is 'lvl'\n",
    "    \"\"\"\n",
    "    \n",
    "    if isinstance(scenario.var(variable), pd.DataFrame):\n",
    "        df = scenario.var(variable)\n",
    "        dimensions = [col for col in df.columns if col not in ['lvl','mrg']]\n",
    "        return df.set_index(dimensions)[[valuetype]]\n",
    "    else:\n",
    "        return scenario.var(variable)[valuetype]\n",
    "\n"
   ]
  },
  {
   "cell_type": "code",
   "execution_count": null,
   "id": "2b8decd1",
   "metadata": {},
   "outputs": [],
   "source": [
    "groups = {'DACs': ['LT_DAC','HT_DAC']}\n",
    "\n",
    "def get_report(scenario,\n",
    "               technologies = '',\n",
    "              ): \n",
    "    \"\"\"\n",
    "    Parameters\n",
    "    ----------\n",
    "    scenario    : message_ix.Scenario()\n",
    "        MESSAGEix Scenario where the data will be included\n",
    "    technologies    : string or list \n",
    "        name of technology to be reported\n",
    "    variable    : string or list\n",
    "        name of variable to report\n",
    "    \"\"\"\n",
    "    var_dict  = {var: [] for var in ['CAP','CAP_NEW','INVESTMENT','REMOVAL']}\n",
    "    \n",
    "    # listing model years to be reported\n",
    "    years_rep = (sorted(scenario.set('cat_year')\n",
    "                        .set_index('type_year')\n",
    "                        .loc['cumulative','year'].to_list()))\n",
    "    \n",
    "    # Create dataframe\n",
    "    for var in var_dict.keys():\n",
    "        # primary variables\n",
    "        if var in ['CAP','CAP_NEW']:\n",
    "            df = (get_values(scenario,var)['lvl'].unstack()\n",
    "                  .loc[:,groups.get(technologies),:]\n",
    "                  .groupby(['node_loc']).sum()\n",
    "                 )[years_rep]\n",
    "            \n",
    "        # investment\n",
    "        elif var == 'INVESTMENT':\n",
    "            depl = (get_values(scenario,'CAP_NEW')['lvl'].unstack()\n",
    "                   .loc[:,groups.get(technologies),:]\n",
    "                   )[years_rep]\n",
    "            \n",
    "            dfic = scen.par('inv_cost')\n",
    "            \n",
    "            inv  = (dfic.loc[dfic['technology'].isin(groups.get(technologies))]\n",
    "                    .set_index(['node_loc','technology','year_vtg'])['value'].unstack())\n",
    "            \n",
    "            df = depl.mul(inv).groupby(['node_loc']).sum()\n",
    "        \n",
    "        # removal\n",
    "        elif var == 'REMOVAL':\n",
    "            acts = get_values(scen,'ACT').droplevel(['mode','time'])\n",
    "            df   = acts.loc[:,groups.get(technologies),:,:]['lvl'].unstack().groupby(['node_loc']).sum()\n",
    "            \n",
    "        df.loc['World'] = df.sum(axis=0)\n",
    "        \n",
    "        var_dict[var] = df\n",
    "\n",
    "    # Create dictionary for variable dataframes and write variables to excel\n",
    "    with pd.ExcelWriter('get_report_output.xlsx', engine='openpyxl') as writer:\n",
    "        for var in var_dict.keys():\n",
    "            var_dict[var].to_excel(writer, sheet_name=var)\n",
    "    \n",
    "    return var_dict\n",
    "\n",
    "        \n",
    "\n",
    "\n"
   ]
  },
  {
   "cell_type": "code",
   "execution_count": null,
   "id": "10de7f23",
   "metadata": {},
   "outputs": [],
   "source": [
    "dac_report = get_report(scen,'DACs')"
   ]
  },
  {
   "cell_type": "code",
   "execution_count": null,
   "id": "1e3bd48b",
   "metadata": {},
   "outputs": [],
   "source": []
  },
  {
   "cell_type": "code",
   "execution_count": null,
   "id": "ac654ca9",
   "metadata": {},
   "outputs": [],
   "source": []
  },
  {
   "cell_type": "code",
   "execution_count": null,
   "id": "f8e3cad8",
   "metadata": {},
   "outputs": [],
   "source": [
    "mp.close_db()"
   ]
  },
  {
   "cell_type": "code",
   "execution_count": null,
   "id": "f751a119",
   "metadata": {},
   "outputs": [],
   "source": []
  }
 ],
 "metadata": {
  "kernelspec": {
   "display_name": "Python 3 (ipykernel)",
   "language": "python",
   "name": "python3"
  },
  "language_info": {
   "codemirror_mode": {
    "name": "ipython",
    "version": 3
   },
   "file_extension": ".py",
   "mimetype": "text/x-python",
   "name": "python",
   "nbconvert_exporter": "python",
   "pygments_lexer": "ipython3",
   "version": "3.10.9"
  }
 },
 "nbformat": 4,
 "nbformat_minor": 5
}
