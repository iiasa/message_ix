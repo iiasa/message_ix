{
 "cells": [
  {
   "cell_type": "markdown",
   "id": "9ce2dbbc",
   "metadata": {},
   "source": [
    "This script is to add data general. \n",
    "Import all required tools"
   ]
  },
  {
   "cell_type": "code",
   "execution_count": 2,
   "id": "db473272",
   "metadata": {},
   "outputs": [],
   "source": [
    "import ixmp\n",
    "import message_ix\n",
    "import numpy as np\n",
    "import pandas as pd\n",
    "import yaml\n",
    "\n",
    "from collections.abc import Mapping\n",
    "from itertools import repeat\n",
    "from message_ix.models import MESSAGE_ITEMS\n",
    "from message_ix.utils import make_df\n",
    "from message_ix.tools.add_dac import add_dac\n",
    "\n",
    "%matplotlib inline\n",
    "\n",
    "mp = ixmp.Platform('local')\n",
    "#mp.scenario_list()"
   ]
  },
  {
   "cell_type": "code",
   "execution_count": null,
   "id": "8664097c",
   "metadata": {},
   "outputs": [],
   "source": []
  },
  {
   "cell_type": "markdown",
   "id": "7d4cf7f5",
   "metadata": {},
   "source": [
    "This part is just to generate a dummy scenario as basis for adding technology parameters. Need to be removed once integrated"
   ]
  },
  {
   "cell_type": "code",
   "execution_count": 3,
   "id": "34cf0deb",
   "metadata": {},
   "outputs": [],
   "source": [
    "# this is to import scenario from data base and clone to local\n",
    "'''\n",
    "model = \"ENGAGE_SSP2_v4.1.7\"\n",
    "\n",
    "base = message_ix.Scenario(mp, model=model, scenario=\"NPi2020_Baseline\")\n",
    "base_local = base.clone(\n",
    "    \"GENIE_sandbox\",\n",
    "    \"baseline\",\n",
    "    \"importing scenario from database to local platform\",\n",
    "    platform=mp_local, # keep_solution=False, \n",
    ")\n",
    "'''\n",
    "base = message_ix.Scenario(mp, model='GENIE_sandbox', scenario=\"baseline\")\n",
    "\n",
    "scen = base.clone(\n",
    "    \"GENIE_sandbox\",\n",
    "    \"add_tech_baseline\",\n",
    "    \"introducing the add_tech feature on MESSAGEix\", \n",
    "    keep_solution=False, \n",
    ")\n",
    "scen.check_out()\n",
    "\n",
    "year_df = scen.vintage_and_active_years()\n",
    "vintage_years, act_years = year_df[\"year_vtg\"], year_df[\"year_act\"]\n",
    "model_horizon = scen.set(\"year\")"
   ]
  },
  {
   "cell_type": "markdown",
   "id": "8ec4d656",
   "metadata": {},
   "source": [
    "## Add `Tech Data`"
   ]
  },
  {
   "cell_type": "code",
   "execution_count": 4,
   "id": "ce0556e8",
   "metadata": {},
   "outputs": [],
   "source": [
    "add_dac(scen)\n"
   ]
  },
  {
   "cell_type": "markdown",
   "id": "abcbfbe2",
   "metadata": {},
   "source": [
    "## Run the model"
   ]
  },
  {
   "cell_type": "code",
   "execution_count": 5,
   "id": "32bf3996",
   "metadata": {},
   "outputs": [
    {
     "data": {
      "text/plain": [
       "3136094.25"
      ]
     },
     "execution_count": 5,
     "metadata": {},
     "output_type": "execute_result"
    }
   ],
   "source": [
    "scen.commit(comment=\"Add DACs to baseline scenario\")\n",
    "scen.set_as_default()\n",
    "scen.solve(solve_options={'barcrossalg': '2','scaind':'1'})\n",
    "scen.var(\"OBJ\")[\"lvl\"]"
   ]
  },
  {
   "cell_type": "code",
   "execution_count": null,
   "id": "8838b4b5",
   "metadata": {},
   "outputs": [],
   "source": []
  },
  {
   "cell_type": "code",
   "execution_count": null,
   "id": "7bc20751",
   "metadata": {},
   "outputs": [],
   "source": []
  },
  {
   "cell_type": "code",
   "execution_count": null,
   "id": "0d026830",
   "metadata": {},
   "outputs": [],
   "source": []
  },
  {
   "cell_type": "code",
   "execution_count": null,
   "id": "895f688d",
   "metadata": {},
   "outputs": [],
   "source": []
  },
  {
   "cell_type": "markdown",
   "id": "92dd9c90",
   "metadata": {},
   "source": [
    "## Close connection"
   ]
  },
  {
   "cell_type": "code",
   "execution_count": 6,
   "id": "f8e3cad8",
   "metadata": {},
   "outputs": [],
   "source": [
    "mp.close_db()"
   ]
  },
  {
   "cell_type": "code",
   "execution_count": null,
   "id": "0742df19",
   "metadata": {},
   "outputs": [],
   "source": []
  }
 ],
 "metadata": {
  "kernelspec": {
   "display_name": "Python 3 (ipykernel)",
   "language": "python",
   "name": "python3"
  },
  "language_info": {
   "codemirror_mode": {
    "name": "ipython",
    "version": 3
   },
   "file_extension": ".py",
   "mimetype": "text/x-python",
   "name": "python",
   "nbconvert_exporter": "python",
   "pygments_lexer": "ipython3",
   "version": "3.10.9"
  }
 },
 "nbformat": 4,
 "nbformat_minor": 5
}
