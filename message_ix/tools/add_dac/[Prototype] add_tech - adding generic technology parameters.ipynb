{
 "cells": [
  {
   "cell_type": "markdown",
   "id": "9ce2dbbc",
   "metadata": {},
   "source": [
    "Import all required tools"
   ]
  },
  {
   "cell_type": "code",
   "execution_count": 17,
   "id": "db473272",
   "metadata": {},
   "outputs": [],
   "source": [
    "import ixmp\n",
    "import message_ix\n",
    "import numpy as np\n",
    "import pandas as pd\n",
    "import yaml\n",
    "\n",
    "from collections.abc import Mapping\n",
    "from itertools import repeat\n",
    "from message_ix.models import MESSAGE_ITEMS\n",
    "from message_ix.utils import make_df\n",
    "\n",
    "%matplotlib inline\n",
    "\n",
    "mp = ixmp.Platform(\"local\")"
   ]
  },
  {
   "cell_type": "markdown",
   "id": "7d4cf7f5",
   "metadata": {},
   "source": [
    "This part is just to generate a dummy scenario as basis for adding technology parameters. Need to be removed once integrated"
   ]
  },
  {
   "cell_type": "code",
   "execution_count": 18,
   "id": "34cf0deb",
   "metadata": {},
   "outputs": [],
   "source": [
    "model = \"Westeros Electrified\"\n",
    "\n",
    "base = message_ix.Scenario(mp, model=model, scenario=\"baseline\")\n",
    "scen = base.clone(\n",
    "    model,\n",
    "    \"add_tech\",\n",
    "    \"introducing the add_tech feature on MESSAGEix\",\n",
    "    keep_solution=False,\n",
    ")\n",
    "scen.check_out()\n",
    "\n",
    "year_df = scen.vintage_and_active_years()\n",
    "vintage_years, act_years = year_df[\"year_vtg\"], year_df[\"year_act\"]\n",
    "model_horizon = scen.set(\"year\")\n",
    "country = \"Westeros\"\n",
    "\n",
    "#scen.commit(comment=\"Introducing emissions and setting an upper bound\")\n",
    "#scen.set_as_default()\n",
    "#scen.solve()\n",
    "#scen.var(\"OBJ\")[\"lvl\"]"
   ]
  },
  {
   "cell_type": "markdown",
   "id": "581520cb",
   "metadata": {},
   "source": [
    "Call all data required by add_tech module"
   ]
  },
  {
   "cell_type": "code",
   "execution_count": 19,
   "id": "fbbd29db",
   "metadata": {},
   "outputs": [],
   "source": [
    "with open('tech_data.yaml','r') as stream:\n",
    "    tech_data = yaml.safe_load(stream)\n",
    "\n",
    "# As if these parameters provided in the arguments\n",
    "#regions = ['Westeros', 'Westerlands']\n",
    "#modes = ['standard']\n",
    "#emissions = ['CO2','CH4']\n",
    "#time = ['year']\n",
    "\n",
    "regions = []\n",
    "modes = []\n",
    "emissions = []\n",
    "times = []\n",
    "commodities = []\n",
    "levels = []\n",
    "\n",
    "first_active_year = tech_data['model_data'].get('first_active_year')\n",
    "# If those are not provided, then this block of code is needed to retrieve them from the data input\n",
    "if not regions:\n",
    "    regions = list(tech_data.get('model_data',{}).get('DACCS',{}).get('fix_cost',{}).get('node_loc').keys())\n",
    "if not emissions:\n",
    "    emissions = list(tech_data.get('model_data',{}).get('DACCS',{}).get('emission_factor',{}).get('emission').keys())\n",
    "if not modes:\n",
    "    modes = list(tech_data.get('model_data',{}).get('DACCS',{}).get('var_cost',{}).get('mode').keys())\n",
    "if not times:\n",
    "    times = list(tech_data.get('model_data',{}).get('DACCS',{}).get('var_cost',{}).get('time').keys())\n",
    "if not commodities:\n",
    "    commodities = list(tech_data.get('model_data',{}).get('DACCS',{}).get('input',{}).get('commodity').keys())\n",
    "if not levels:\n",
    "    levels = list(tech_data.get('model_data',{}).get('DACCS',{}).get('input',{}).get('level').keys())\n",
    "\n",
    "set_elements_dict = {\n",
    "    'emission':emissions,\n",
    "    'mode':modes,\n",
    "    'time':times,\n",
    "    'commodity':commodities,\n",
    "    'level':levels,\n",
    "    'time_origin':times,\n",
    "    'time_dest':times,\n",
    "}    \n",
    "\n",
    "#list(scen.set('node'))"
   ]
  },
  {
   "cell_type": "markdown",
   "id": "c41ba1ba",
   "metadata": {},
   "source": [
    "Define years vintage and active according to `first_active_year` and scenarios year"
   ]
  },
  {
   "cell_type": "code",
   "execution_count": 20,
   "id": "0369ccab",
   "metadata": {},
   "outputs": [],
   "source": [
    "years_vtg_act = scen.vintage_and_active_years()\n",
    "years_vtg_act = years_vtg_act[years_vtg_act['year_vtg'] >= first_active_year]\n",
    "\n",
    "#years_vtg_act"
   ]
  },
  {
   "cell_type": "markdown",
   "id": "103d6759",
   "metadata": {},
   "source": [
    "Creating basic dataframe to be filled in later"
   ]
  },
  {
   "cell_type": "code",
   "execution_count": 21,
   "id": "b6f681b6",
   "metadata": {
    "scrolled": true
   },
   "outputs": [],
   "source": [
    "parameters = {}\n",
    "for tech in set(tech_data) - set(['model_data']):\n",
    "    parameters.update({par: list(MESSAGE_ITEMS[par]['idx_names']) for par in set(tech_data[tech])})\n",
    "data = {par: [] for par in list(parameters.keys())}\n",
    "\n",
    "\n",
    "# Basic DataFrame\n",
    "count = 0\n",
    "for tech, par_dict in tech_data.items():\n",
    "    if tech != 'model_data':\n",
    "        for par, par_data in par_dict.items():\n",
    "            if not isinstance(par_data, Mapping):\n",
    "                par_data = {'value': par_data, 'unit': '-'}\n",
    "            # identify parameters by year dimension\n",
    "            # then add the year data as kwargs as input for basic dataframe\n",
    "            if all(e in parameters[par] for e in ['year_vtg','year_act']):\n",
    "                kwargs = {'year_vtg': years_vtg_act['year_vtg'],\n",
    "                          'year_act': years_vtg_act['year_act']}\n",
    "            elif 'year_vtg' in parameters[par]:\n",
    "                kwargs = {'year_vtg': sorted(set(years_vtg_act['year_vtg']))}\n",
    "            else:\n",
    "                kwargs = {'year_act': sorted(set(years_vtg_act['year_act']))}\n",
    "            \n",
    "            # create parameter's basic dataframe and \n",
    "            # add it to the data parameter list\n",
    "            data[par].append(\n",
    "                make_df(\n",
    "                    par,\n",
    "                    technology=tech,\n",
    "                    value=par_data['value'],\n",
    "                    unit=par_data['unit'],\n",
    "                    **kwargs,\n",
    "                ))\n",
    "\n",
    "            # duplicate the basic data using the length of each set\n",
    "            # as the duplication factor\n",
    "            for s, elist in set_elements_dict.items():\n",
    "                if s in parameters[par]:\n",
    "                    data[par] = data[par]*len(elist)\n",
    "                    for e in range(len(elist)):\n",
    "                        kwarg = {s:elist[e]}\n",
    "                        data[par][e] = data[par][e].assign(**kwarg)\n",
    "                data[par] = [pd.concat(data[par]).reset_index(drop=True)]\n",
    "\n",
    "data = {k: pd.concat(v).reset_index(drop=True) for k, v in data.items()}"
   ]
  },
  {
   "cell_type": "code",
   "execution_count": 22,
   "id": "6d55acdb",
   "metadata": {
    "scrolled": true
   },
   "outputs": [],
   "source": [
    "# Expanded DataFrame\n",
    "data_expand ={par: [] for par in list(parameters.keys())} \n",
    "for par in list(parameters.keys()):\n",
    "    for tech, diffs in tech_data['model_data'].items():\n",
    "        if tech != 'first_active_year':\n",
    "            for reg in regions:\n",
    "                multiplier = []\n",
    "                for i in range(len(data[par])):\n",
    "                    # Calculate multipliers for each element in a dimensional array.\n",
    "                    # For each element, this function searches for corresponding factors\n",
    "                    # in the model-specific data (model_data).\n",
    "                    # If no factors are found, the multiplier is set to 1.\n",
    "                    # If factors are found, the function uses the factor that matches\n",
    "                    # the corresponding element in the data[par] row.\n",
    "                    \n",
    "                    # get regional multiplier from model_data\n",
    "                    m_reg = diffs.get(par,{}).get('node_loc',{}).get(reg,1)\n",
    "                    \n",
    "                    # get year_vtg escalation rate from model_data\n",
    "                    # then calculate year_vtg multiplier\n",
    "                    # m_year_vtg = (1+rate)**delta_years\n",
    "                    m_year_vtg = (((1+diffs.get(par,{}).get('year_vtg',{}).get('rate',0)) \n",
    "                                  **(data[par]['year_vtg'][i]-first_active_year)) \n",
    "                                  if 'year_vtg' in parameters[par] else 1)\n",
    "                    \n",
    "                    # same as m_year_vtg\n",
    "                    # m_year_act = (1+rate)**(year_act-year_vtg) if both years present\n",
    "                    # m_year_act = (1+rate)**(year_act-first_active_year) if no year_vtg\n",
    "                    m_year_act = (((1+diffs.get(par,{}).get('year_act',{}).get('rate',0))\n",
    "                                  **(data.get(par,{}).get('year_act',{})\n",
    "                                     .get(i,0)\n",
    "                                     -data[par]['year_vtg'][i] if 'year_vtg' in parameters[par] else first_active_year))\n",
    "                                 if 'year_act' in parameters[par] else 1)\n",
    "                    \n",
    "                    # get mode multiplier from model_data\n",
    "                    m_mode = (diffs.get(par,{}).get('mode',{})\n",
    "                              .get(data.get(par,{}).get('mode',{}).get(i),1))\n",
    "                    \n",
    "                    # get emission multiplier from model_data\n",
    "                    m_emission = (diffs.get(par,{}).get('emission',{})\n",
    "                                  .get(data.get(par,{}).get('emission',{}).get(i),1))\n",
    "                    \n",
    "                    multiplier.append(\n",
    "                            np.prod([m_reg, m_year_vtg, m_year_act, m_mode, m_emission,])\n",
    "                        )\n",
    "                    \n",
    "                value = data[par]['value']*multiplier\n",
    "                \n",
    "                # node_origin and node_dest are assumed to be always the same of the node\n",
    "                kwargs = {}\n",
    "                if 'node_origin' in parameters[par]:\n",
    "                    kwargs.update({'node_origin': reg})\n",
    "                if 'node_dest' in parameters[par]:\n",
    "                    kwargs.update({'node_dest': reg})\n",
    "                \n",
    "                # assigning data expansion\n",
    "                data_expand[par].append(\n",
    "                    data[par].assign(node_loc=reg,value=value, **kwargs)\n",
    "                   )"
   ]
  },
  {
   "cell_type": "code",
   "execution_count": 23,
   "id": "03aab2a3",
   "metadata": {},
   "outputs": [],
   "source": [
    "data_expand = {k: pd.concat(v) for k, v in data_expand.items() \n",
    "               if k in parameters.keys()}"
   ]
  },
  {
   "cell_type": "code",
   "execution_count": 24,
   "id": "8ba2b797",
   "metadata": {},
   "outputs": [],
   "source": [
    "with pd.ExcelWriter('printed_data.xlsx', engine='xlsxwriter', mode='w') as writer:\n",
    "    for sheet_name, sheet_data in data_expand.items():\n",
    "        sheet_data.to_excel(writer, sheet_name=sheet_name, index=False)"
   ]
  },
  {
   "cell_type": "code",
   "execution_count": 25,
   "id": "f5fb4f5b",
   "metadata": {},
   "outputs": [],
   "source": [
    "mp.close_db()"
   ]
  },
  {
   "cell_type": "code",
   "execution_count": null,
   "id": "1bef3fc1",
   "metadata": {},
   "outputs": [],
   "source": []
  }
 ],
 "metadata": {
  "kernelspec": {
   "display_name": "Python 3 (ipykernel)",
   "language": "python",
   "name": "python3"
  },
  "language_info": {
   "codemirror_mode": {
    "name": "ipython",
    "version": 3
   },
   "file_extension": ".py",
   "mimetype": "text/x-python",
   "name": "python",
   "nbconvert_exporter": "python",
   "pygments_lexer": "ipython3",
   "version": "3.10.9"
  }
 },
 "nbformat": 4,
 "nbformat_minor": 5
}
