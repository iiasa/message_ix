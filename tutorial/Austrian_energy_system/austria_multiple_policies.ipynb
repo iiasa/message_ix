{
 "cells": [
  {
   "attachments": {},
   "cell_type": "markdown",
   "metadata": {},
   "source": [
    "# Austrian energy system Tutorial Part 4: Investigating Many Policy Scenarios\n",
    "\n",
    "**Pre-requisites**\n",
    "- You have the *MESSAGEix* framework installed and working\n",
    "- You have run Austrian energy system baseline scenario (`austria.ipynb`) and solved it successfully\n",
    "- You have completed the tutorial on introducing one policy scenario (`austria_single_policy.ipynb`) \n",
    "\n",
    "**Answers**\n",
    "- Answers to the exercises below can be found in another Jupyter Notebook in this folder called ``austria_multiple_policies-answers.ipynb``\n",
    "\n",
    "**Introduction**\n",
    "\n",
    "In this notebook, we investigate a number of different scenarios.\n",
    "This process is streamlined with the utility function `solve_modified()`, used in a Python `with:` statement:\n",
    "\n",
    "```python\n",
    "with solve_modified(base_scenario, new_name) as scen:\n",
    "   # (`scen` is automatically cloned from `base_scenario` with name `new_name`)\n",
    "   \n",
    "   # Your code to modify `scen` <---\n",
    "\n",
    "   # (`scen` is automatically committed with modifications, then solved)\n",
    "\n",
    "# Your code to investigate the solution of `scen` <---\n",
    "```\n",
    "\n",
    "All of the cloning, committing, and solving actions are handled for you.\n",
    "Your job is to concentrate on identifying and updating the scenario variables and then investigating the results.\n",
    "\n",
    "You can, of course, get the `Scenario` as you have worked on previously as well."
   ]
  },
  {
   "cell_type": "markdown",
   "metadata": {},
   "source": [
    "## Setup and Helper Variables"
   ]
  },
  {
   "cell_type": "code",
   "execution_count": null,
   "metadata": {
    "collapsed": true
   },
   "outputs": [],
   "source": [
    "# Load required packages \n",
    "import numpy as np\n",
    "import pandas as pd\n",
    "\n",
    "from matplotlib.pyplot import style\n",
    "import matplotlib_inline\n",
    "\n",
    "import ixmp as ix\n",
    "import message_ix\n",
    "from message_ix.reporting import Reporter\n",
    "from message_ix.util.tutorial import prepare_plots, solve_modified\n",
    "from message_ix.testing import make_austria\n",
    "\n",
    "# Appearance of plots\n",
    "%matplotlib inline\n",
    "matplotlib_inline.backend_inline.set_matplotlib_formats(\"svg\")\n",
    "style.use(\"ggplot\")"
   ]
  },
  {
   "cell_type": "code",
   "execution_count": null,
   "metadata": {},
   "outputs": [],
   "source": [
    "# launch the IX modeling platform using the local default database                                                                                                                       \n",
    "mp = ix.Platform()"
   ]
  },
  {
   "cell_type": "code",
   "execution_count": null,
   "metadata": {
    "collapsed": true
   },
   "outputs": [],
   "source": [
    "country = \"Austria\"\n",
    "horizon = range(2010, 2041, 10)\n",
    "\n",
    "plants = [\n",
    "    \"bio_ppl\", \n",
    "    \"coal_ppl\", \n",
    "    \"gas_ppl\", \n",
    "    \"oil_ppl\", \n",
    "    \"hydro_ppl\",\n",
    "    \"solar_pv_ppl\",\n",
    "    \"wind_ppl\", \n",
    "]\n",
    "\n",
    "lights = [\"bulb\", \"cfl\"]"
   ]
  },
  {
   "cell_type": "code",
   "execution_count": null,
   "metadata": {},
   "outputs": [],
   "source": [
    "# Create the baseline scenario and solve it\n",
    "base_scen = make_austria(mp, solve=True)\n",
    "\n",
    "# Create a reporter with tutorial plots\n",
    "base_rep = Reporter.from_scenario(base_scen)\n",
    "prepare_plots(base_rep)"
   ]
  },
  {
   "cell_type": "markdown",
   "metadata": {
    "collapsed": true
   },
   "source": [
    "# Wind Subsidies\n",
    "\n",
    "Rerun the wind subsidy scenario using this framework."
   ]
  },
  {
   "cell_type": "code",
   "execution_count": null,
   "metadata": {
    "collapsed": true
   },
   "outputs": [],
   "source": [
    "# Percent subsidy by year\n",
    "subsidies = np.array([0.5, 0.5, 0.25, 0.0])\n",
    "\n",
    "with solve_modified(base_scen, new_name=\"wind_subsidies\") as wind_scen:\n",
    "    # Load the investment cost data (cloned from `base_scen`) for wind_ppl\n",
    "    data = wind_scen.par(\"inv_cost\", filters=dict(technology=\"wind_ppl\"))\n",
    "    \n",
    "    # Reduce the values according to the subsidy\n",
    "    data[\"value\"] = data[\"value\"] * (1 - subsidies)\n",
    "    \n",
    "    # Overwrite the values in `wind_scen` at the same indices\n",
    "    wind_scen.add_par(\"inv_cost\", data)\n",
    "    \n",
    "# Display the new costs\n",
    "data"
   ]
  },
  {
   "cell_type": "code",
   "execution_count": null,
   "metadata": {},
   "outputs": [],
   "source": [
    "# Prepare a Reporter based on the solved scenario\n",
    "wind_rep = Reporter.from_scenario(wind_scen)\n",
    "prepare_plots(wind_rep)\n",
    "\n",
    "# Run the same reporting on both the base and modified scenarios\n",
    "for r in base_rep, wind_rep:\n",
    "    r.set_filters(t=plants)\n",
    "    r.get(\"plot new capacity\")"
   ]
  },
  {
   "attachments": {},
   "cell_type": "markdown",
   "metadata": {},
   "source": [
    "# Demand-Side Learning\n",
    "\n",
    "This model does not use `cfl`s in the baseline because they are too expensive. What happens if their cost reduces with time?"
   ]
  },
  {
   "cell_type": "code",
   "execution_count": null,
   "metadata": {
    "collapsed": true
   },
   "outputs": [],
   "source": [
    "# Cost as a fraction of the baseline cost, due to learning\n",
    "learning = np.array([1.0, 0.6, 0.3, 0.1])\n",
    "\n",
    "with solve_modified(base_scen, new_name=\"cheap_cfls\") as cfl_scen:\n",
    "    # Load the investment cost data (cloned from `base_scen`) for cfl\n",
    "    data = cfl_scen.par(\"inv_cost\", filters=dict(technology=\"cfl\"))\n",
    "    \n",
    "    # Reduce the values according to the learning curve\n",
    "    data[\"value\"] = data[\"value\"] * learning\n",
    "    \n",
    "    # Overwrite the values in `cfl_scen` at the same indices\n",
    "    cfl_scen.add_par(\"inv_cost\", data)\n",
    "\n",
    "# Display the new costs\n",
    "data"
   ]
  },
  {
   "cell_type": "code",
   "execution_count": null,
   "metadata": {},
   "outputs": [],
   "source": [
    "# Prepare a Reporter based on the solved scenario\n",
    "cfl_rep = Reporter.from_scenario(cfl_scen)\n",
    "prepare_plots(cfl_rep)\n",
    "\n",
    "# Run the same reporting on both the base and modified scenarios\n",
    "for r in base_rep, cfl_rep:\n",
    "    r.set_filters(t=lights)\n",
    "    r.get(\"plot new capacity\")"
   ]
  },
  {
   "cell_type": "markdown",
   "metadata": {},
   "source": [
    "# Exercise: Economic Assumptions\n",
    "\n",
    "What is the effect of assuming a different interest rate? What if it is higher than the baseline? Lower? How does this affect prices?"
   ]
  },
  {
   "cell_type": "code",
   "execution_count": null,
   "metadata": {},
   "outputs": [],
   "source": [
    "# Show the baseline interest rate\n",
    "base_scen.par('interestrate')"
   ]
  },
  {
   "cell_type": "code",
   "execution_count": null,
   "metadata": {},
   "outputs": [],
   "source": [
    "# Uncomment and complete the following code where \"TODO\" appears\n",
    "# with solve_modified(base_scen, new_name=\"TODO\") as econ_scen:\n",
    "#    # TODO modify the interest rate to a different value"
   ]
  },
  {
   "cell_type": "code",
   "execution_count": null,
   "metadata": {},
   "outputs": [],
   "source": [
    "# TODO based on the examples above, plot (a) new capacity and (b) prices"
   ]
  },
  {
   "attachments": {},
   "cell_type": "markdown",
   "metadata": {},
   "source": [
    "# Exercise: Carbon Tax\n",
    "\n",
    "What effect does a carbon tax have on the system? What if it is phased in over time? What is the effect on energy prices?\n",
    "\n",
    "Hints:\n",
    "\n",
    "- Which emissions parameters are available from `scenario.par_list()`?\n",
    "- Find out which fields are required using `scenario.idx_names(par_name)`\n",
    "- Carbon taxes are normally provided in units of USD/tCO2\n",
    "- A normal proposed carbon tax is ~30 USD/tCO2"
   ]
  }
 ],
 "metadata": {
  "kernelspec": {
   "display_name": "message_ix",
   "language": "python",
   "name": "python3"
  },
  "language_info": {
   "codemirror_mode": {
    "name": "ipython",
    "version": 3
   },
   "file_extension": ".py",
   "mimetype": "text/x-python",
   "name": "python",
   "nbconvert_exporter": "python",
   "pygments_lexer": "ipython3",
   "version": "3.10.6"
  },
  "vscode": {
   "interpreter": {
    "hash": "29605b568787f5559ca1ba05da75d155c3dcfa15a1a63b1885b057c5465ade2e"
   }
  }
 },
 "nbformat": 4,
 "nbformat_minor": 1
}
