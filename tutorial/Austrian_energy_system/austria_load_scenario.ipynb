{
 "cells": [
  {
   "cell_type": "markdown",
   "metadata": {},
   "source": [
    "# Austrian energy system Tutorial Part 2: Further analysing an Energy Model\n",
    "\n",
    "\n",
    "**Pre-requisites**\n",
    "- You have the *MESSAGEix* framework installed and working\n",
    "- You have run Austrian energy system baseline scenario (``austria.ipynb``) and solved it successfully\n",
    "\n",
    "**Introduction**\n",
    "\n",
    "In this notebook, we load the previously built model of the Austrian energy system to do some further analysis. The aim of this tutorial is to illustrate the workflow for subsequent analysis after the initial model development."
   ]
  },
  {
   "cell_type": "markdown",
   "metadata": {},
   "source": [
    "## Setup"
   ]
  },
  {
   "cell_type": "code",
   "execution_count": null,
   "metadata": {},
   "outputs": [],
   "source": [
    "# load required packages \n",
    "import pandas as pd\n",
    "\n",
    "from matplotlib.pyplot import style\n",
    "import matplotlib_inline\n",
    "\n",
    "import ixmp as ix\n",
    "import message_ix\n",
    "from message_ix.reporting import Reporter\n",
    "from message_ix.util.tutorial import prepare_plots\n",
    "\n",
    "%matplotlib inline\n",
    "matplotlib_inline.backend_inline.set_matplotlib_formats(\"svg\")\n",
    "style.use(\"ggplot\")"
   ]
  },
  {
   "cell_type": "code",
   "execution_count": null,
   "metadata": {},
   "outputs": [],
   "source": [
    "model = \"Austrian energy model\"\n",
    "scen = \"baseline\""
   ]
  },
  {
   "cell_type": "code",
   "execution_count": null,
   "metadata": {},
   "outputs": [],
   "source": [
    "# launch the IX modeling platform using the local default databases\n",
    "mp = ix.Platform()"
   ]
  },
  {
   "cell_type": "code",
   "execution_count": null,
   "metadata": {},
   "outputs": [],
   "source": [
    "try:\n",
    "    # Load the Austrian energy model\n",
    "    scenario = message_ix.Scenario(mp, model, scen)\n",
    "except ValueError:\n",
    "    # Create the model from scratch\n",
    "    from message_ix.testing import make_austria\n",
    "    scenario = make_austria(mp)"
   ]
  },
  {
   "cell_type": "code",
   "execution_count": null,
   "metadata": {},
   "outputs": [],
   "source": [
    "# Remove any existing solution\n",
    "try:\n",
    "    scenario.remove_solution()\n",
    "except ValueError:\n",
    "    pass\n",
    "\n",
    "# Solve\n",
    "scenario.solve()"
   ]
  },
  {
   "cell_type": "markdown",
   "metadata": {},
   "source": [
    "# Plotting Results"
   ]
  },
  {
   "cell_type": "code",
   "execution_count": null,
   "metadata": {},
   "outputs": [],
   "source": [
    "rep = Reporter.from_scenario(scenario)\n",
    "prepare_plots(rep)"
   ]
  },
  {
   "cell_type": "code",
   "execution_count": null,
   "metadata": {},
   "outputs": [],
   "source": [
    "technologies = scenario.set(\"technology\")\n",
    "print(technologies)\n",
    "plants = [\n",
    "    \"bio_ppl\",\n",
    "    \"coal_ppl\",\n",
    "    \"gas_ppl\",\n",
    "    \"oil_ppl\",\n",
    "    \"hydro_ppl\",\n",
    "    \"solar_pv_ppl\",\n",
    "    \"wind_ppl\",\n",
    "]\n",
    "\n",
    "rep.set_filters(t=plants)\n",
    "rep.get(\"plot new capacity\")"
   ]
  },
  {
   "cell_type": "code",
   "execution_count": null,
   "metadata": {
    "scrolled": true
   },
   "outputs": [],
   "source": [
    "lights = [\"bulb\", \"cfl\"]\n",
    "\n",
    "rep.set_filters(t=lights)\n",
    "rep.get(\"plot new capacity\")"
   ]
  },
  {
   "cell_type": "code",
   "execution_count": null,
   "metadata": {},
   "outputs": [],
   "source": [
    "rep.set_filters(t=plants)\n",
    "rep.get(\"plot capacity\")"
   ]
  },
  {
   "cell_type": "code",
   "execution_count": null,
   "metadata": {},
   "outputs": [],
   "source": [
    "rep.set_filters(t=lights)\n",
    "rep.get(\"plot capacity\")"
   ]
  },
  {
   "cell_type": "code",
   "execution_count": null,
   "metadata": {},
   "outputs": [],
   "source": [
    "# Display the demands for some commodities\n",
    "commodities = [\"light\", \"other_electricity\"]\n",
    "scenario.par(\"demand\", dict(commodity=commodities))"
   ]
  },
  {
   "cell_type": "code",
   "execution_count": null,
   "metadata": {},
   "outputs": [],
   "source": [
    "# Plot the values\n",
    "rep.set_filters(t=None, c=commodities)\n",
    "rep.get(\"plot demand\")"
   ]
  },
  {
   "cell_type": "code",
   "execution_count": null,
   "metadata": {},
   "outputs": [],
   "source": [
    "rep.set_filters(c=None, t=plants)\n",
    "rep.get(\"plot activity\")"
   ]
  },
  {
   "cell_type": "code",
   "execution_count": null,
   "metadata": {},
   "outputs": [],
   "source": [
    "rep.set_filters(t=lights)\n",
    "rep.get(\"plot activity\")"
   ]
  },
  {
   "cell_type": "code",
   "execution_count": null,
   "metadata": {},
   "outputs": [],
   "source": [
    "rep.set_filters(t=None, c=commodities)\n",
    "rep.get(\"plot prices\")"
   ]
  },
  {
   "cell_type": "code",
   "execution_count": null,
   "metadata": {},
   "outputs": [],
   "source": [
    "mp.close_db()"
   ]
  }
 ],
 "metadata": {
  "anaconda-cloud": {},
  "kernelspec": {
   "display_name": "message_ix",
   "language": "python",
   "name": "python3"
  },
  "language_info": {
   "codemirror_mode": {
    "name": "ipython",
    "version": 3
   },
   "file_extension": ".py",
   "mimetype": "text/x-python",
   "name": "python",
   "nbconvert_exporter": "python",
   "pygments_lexer": "ipython3",
   "version": "3.10.6"
  },
  "vscode": {
   "interpreter": {
    "hash": "29605b568787f5559ca1ba05da75d155c3dcfa15a1a63b1885b057c5465ade2e"
   }
  }
 },
 "nbformat": 4,
 "nbformat_minor": 1
}
