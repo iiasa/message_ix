{
 "cells": [
  {
   "cell_type": "markdown",
   "metadata": {},
   "source": [
    "# Further analysing an Energy Model\n",
    "\n",
    "In this notebook, we load the previously built model of the Austrian energy system to do some further analysis. The aim of this tutorial is to illustrate the workflow for subsequent analysis after the initial model development."
   ]
  },
  {
   "cell_type": "markdown",
   "metadata": {},
   "source": [
    "## Setup"
   ]
  },
  {
   "cell_type": "code",
   "execution_count": null,
   "metadata": {},
   "outputs": [],
   "source": [
    "# load required packages \n",
    "import pandas as pd\n",
    "\n",
    "import matplotlib.pyplot as plt\n",
    "%matplotlib inline\n",
    "plt.style.use('ggplot')\n",
    "\n",
    "import ixmp as ix\n",
    "import message_ix\n",
    "\n",
    "import tools"
   ]
  },
  {
   "cell_type": "code",
   "execution_count": null,
   "metadata": {},
   "outputs": [],
   "source": [
    "model = \"Austrian energy model\"\n",
    "scen = \"baseline\""
   ]
  },
  {
   "cell_type": "code",
   "execution_count": null,
   "metadata": {},
   "outputs": [],
   "source": [
    "tools.check_local_model(model, 'austria.ipynb')"
   ]
  },
  {
   "cell_type": "code",
   "execution_count": null,
   "metadata": {},
   "outputs": [],
   "source": [
    "# launch the IX modeling platform using the local default databases\n",
    "mp = ix.Platform(dbtype='HSQLDB')"
   ]
  },
  {
   "cell_type": "code",
   "execution_count": null,
   "metadata": {},
   "outputs": [],
   "source": [
    "scenario = message_ix.Scenario(mp, model, scen)"
   ]
  },
  {
   "cell_type": "code",
   "execution_count": null,
   "metadata": {},
   "outputs": [],
   "source": [
    "scenario.remove_solution()\n",
    "scenario.solve()"
   ]
  },
  {
   "cell_type": "markdown",
   "metadata": {},
   "source": [
    "# Plotting Results"
   ]
  },
  {
   "cell_type": "code",
   "execution_count": null,
   "metadata": {},
   "outputs": [],
   "source": [
    "from tools import Plots\n",
    "countries = scenario.set(\"node\")\n",
    "print(countries)\n",
    "country = 'Austria'\n",
    "p = Plots(scenario, country)"
   ]
  },
  {
   "cell_type": "code",
   "execution_count": null,
   "metadata": {},
   "outputs": [],
   "source": [
    "technologies = scenario.set(\"technology\")\n",
    "print(technologies)\n",
    "plants = [\n",
    "    \"coal_ppl\", \n",
    "    \"gas_ppl\", \n",
    "    \"oil_ppl\", \n",
    "    \"bio_ppl\", \n",
    "    \"hydro_ppl\",\n",
    "    \"wind_ppl\", \n",
    "    \"solar_pv_ppl\",]\n",
    "p.plot_new_capacity(baseyear=True, subset=plants)"
   ]
  },
  {
   "cell_type": "code",
   "execution_count": null,
   "metadata": {
    "scrolled": true
   },
   "outputs": [],
   "source": [
    "lights = [\n",
    "    \"bulb\", \n",
    "    \"cfl\", \n",
    "]\n",
    "p.plot_new_capacity(baseyear=True, subset=lights)"
   ]
  },
  {
   "cell_type": "code",
   "execution_count": null,
   "metadata": {},
   "outputs": [],
   "source": [
    "p.plot_capacity(baseyear=True, subset=plants)"
   ]
  },
  {
   "cell_type": "code",
   "execution_count": null,
   "metadata": {},
   "outputs": [],
   "source": [
    "p.plot_capacity(baseyear=True, subset=lights)"
   ]
  },
  {
   "cell_type": "code",
   "execution_count": null,
   "metadata": {},
   "outputs": [],
   "source": [
    "demands = scenario.par(\"demand\") \n",
    "elec_demand = scenario.par(\"demand\", {'commodity': ['other_electricity']})\n",
    "print(elec_demand)\n",
    "light_demand = scenario.par(\"demand\", {'commodity': ['light']})\n",
    "print(light_demand)\n",
    "p.plot_demand(light_demand, elec_demand)"
   ]
  },
  {
   "cell_type": "code",
   "execution_count": null,
   "metadata": {},
   "outputs": [],
   "source": [
    "p.plot_activity(baseyear=True, subset=plants)"
   ]
  },
  {
   "cell_type": "code",
   "execution_count": null,
   "metadata": {},
   "outputs": [],
   "source": [
    "p.plot_activity(baseyear=True, subset=lights)"
   ]
  },
  {
   "cell_type": "code",
   "execution_count": null,
   "metadata": {},
   "outputs": [],
   "source": [
    "p.plot_prices(baseyear=False, subset=['light', 'other_electricity'])"
   ]
  },
  {
   "cell_type": "code",
   "execution_count": null,
   "metadata": {},
   "outputs": [],
   "source": [
    "mp.close_db()"
   ]
  },
  {
   "cell_type": "code",
   "execution_count": null,
   "metadata": {},
   "outputs": [],
   "source": []
  }
 ],
 "metadata": {
  "anaconda-cloud": {},
  "kernelspec": {
   "display_name": "Python 3",
   "language": "python",
   "name": "python3"
  },
  "language_info": {
   "codemirror_mode": {
    "name": "ipython",
    "version": 3
   },
   "file_extension": ".py",
   "mimetype": "text/x-python",
   "name": "python",
   "nbconvert_exporter": "python",
   "pygments_lexer": "ipython3",
   "version": "3.5.2"
  }
 },
 "nbformat": 4,
 "nbformat_minor": 1
}
