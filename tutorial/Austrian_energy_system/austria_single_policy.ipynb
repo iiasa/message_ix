{
 "cells": [
  {
   "cell_type": "markdown",
   "metadata": {},
   "source": [
    "# Austrian energy system Tutorial Part 3: A Policy Scenario\n",
    "\n",
    "**Pre-requisites**\n",
    "- You have the *MESSAGEix* framework installed and working\n",
    "- You have run Austrian energy system baseline scenario (``austria.ipynb``) and solved it successfully\n",
    "\n",
    "**Introduction**\n",
    "\n",
    "In this notebook, we will step through creating and investigating a policy scenario.\n",
    "\n",
    "We will look into the effect of wind generation subsidies on the electricity sector. These subsidies will take the form of capital investment subsidies, effectively reducing the costs of capital investment."
   ]
  },
  {
   "cell_type": "markdown",
   "metadata": {},
   "source": [
    "# Setup and Helper Variables"
   ]
  },
  {
   "cell_type": "code",
   "execution_count": null,
   "metadata": {},
   "outputs": [],
   "source": [
    "# load required packages \n",
    "import numpy as np\n",
    "import pandas as pd\n",
    "\n",
    "import matplotlib.pyplot as plt\n",
    "%matplotlib inline\n",
    "plt.style.use('ggplot')\n",
    "\n",
    "import ixmp as ix\n",
    "import message_ix"
   ]
  },
  {
   "cell_type": "code",
   "execution_count": null,
   "metadata": {},
   "outputs": [],
   "source": [
    "# launch the IX modeling platform using the local default database\n",
    "mp = ix.Platform()"
   ]
  },
  {
   "cell_type": "code",
   "execution_count": null,
   "metadata": {},
   "outputs": [],
   "source": [
    "country = 'Austria'\n",
    "\n",
    "plants = [\n",
    "    \"coal_ppl\", \n",
    "    \"gas_ppl\", \n",
    "    \"oil_ppl\", \n",
    "    \"bio_ppl\", \n",
    "    \"hydro_ppl\",\n",
    "    \"wind_ppl\", \n",
    "    \"solar_pv_ppl\", # actually primary -> final\n",
    "]\n",
    "\n",
    "lights = [\n",
    "    \"bulb\", \n",
    "    \"cfl\", \n",
    "]"
   ]
  },
  {
   "cell_type": "markdown",
   "metadata": {},
   "source": [
    "# Create the New Policy Scenario Datastructure\n",
    "\n",
    "This operation is done by cloning the baseline scenario, which will then be edited."
   ]
  },
  {
   "cell_type": "code",
   "execution_count": null,
   "metadata": {},
   "outputs": [],
   "source": [
    "scen_df = mp.scenario_list() # to find the name of the wanted scenario, simply print scen_df\n",
    "scen_df.loc[scen_df[\"scenario\"] == \"baseline\"] # to show just the scenario we are interested in"
   ]
  },
  {
   "cell_type": "code",
   "execution_count": null,
   "metadata": {},
   "outputs": [],
   "source": [
    "model = \"Austrian energy model\"\n",
    "scen = \"baseline\"\n",
    "mp.open_db() # only open if you're on a local database!\n",
    "base = message_ix.Scenario(mp, model, scen)\n",
    "scenario = base.clone(model, 'wind subsidies', 'testing wind subsidies', keep_solution=False)\n",
    "scenario.check_out()"
   ]
  },
  {
   "cell_type": "code",
   "execution_count": null,
   "metadata": {},
   "outputs": [],
   "source": [
    "horizon = scenario.set('year')"
   ]
  },
  {
   "cell_type": "markdown",
   "metadata": {},
   "source": [
    "# Edit the Datastructure with the Scenario Parameters\n",
    "\n",
    "Introduce subsidies that decay with time. Initially they are 50% of the total investment costs and decay to 0."
   ]
  },
  {
   "cell_type": "code",
   "execution_count": null,
   "metadata": {},
   "outputs": [],
   "source": [
    "inv_cost_df = scenario.par('inv_cost')\n",
    "inv_cost_df.loc[inv_cost_df[\"technology\"] == \"wind_ppl\"]"
   ]
  },
  {
   "cell_type": "code",
   "execution_count": null,
   "metadata": {},
   "outputs": [],
   "source": [
    "subsidies = np.array([0.5, 0.5, 0.75, 1])\n",
    "inv_cost = pd.DataFrame({\n",
    "        'node_loc': country,\n",
    "        'year_vtg': horizon,\n",
    "        'technology': 'wind_ppl',\n",
    "        'value': 1100 * subsidies,\n",
    "        'unit': 'USD/kW',\n",
    "})\n",
    "scenario.add_par('inv_cost', inv_cost)"
   ]
  },
  {
   "cell_type": "code",
   "execution_count": null,
   "metadata": {},
   "outputs": [],
   "source": [
    "scenario.par('inv_cost').tail()"
   ]
  },
  {
   "cell_type": "markdown",
   "metadata": {},
   "source": [
    "# Solve the Model"
   ]
  },
  {
   "cell_type": "code",
   "execution_count": null,
   "metadata": {},
   "outputs": [],
   "source": [
    "scenario.commit('wind subsidies added')\n",
    "scenario.set_as_default()"
   ]
  },
  {
   "cell_type": "code",
   "execution_count": null,
   "metadata": {},
   "outputs": [],
   "source": [
    "scenario.solve()"
   ]
  },
  {
   "cell_type": "code",
   "execution_count": null,
   "metadata": {
    "jupyter": {
     "name": "solve-objective-value"
    }
   },
   "outputs": [],
   "source": [
    "scenario.var('OBJ')['lvl']"
   ]
  },
  {
   "cell_type": "markdown",
   "metadata": {},
   "source": [
    "# Investigate the Results"
   ]
  },
  {
   "cell_type": "code",
   "execution_count": null,
   "metadata": {},
   "outputs": [],
   "source": [
    "from message_ix.reporting import Reporter\n",
    "from message_ix.util.tutorial import prepare_plots\n",
    "\n",
    "config = dict(filters=dict(t=plants))\n",
    "base_rep = Reporter.from_scenario(base, **config)\n",
    "prepare_plots(base_rep)\n",
    "scen_rep = Reporter.from_scenario(scenario, **config)\n",
    "prepare_plots(scen_rep)"
   ]
  },
  {
   "cell_type": "code",
   "execution_count": null,
   "metadata": {},
   "outputs": [],
   "source": [
    "base_rep.get(\"plot new capacity\")\n",
    "scen_rep.get(\"plot new capacity\")"
   ]
  },
  {
   "cell_type": "code",
   "execution_count": null,
   "metadata": {},
   "outputs": [],
   "source": [
    "base_rep.get(\"plot capacity\")\n",
    "scen_rep.get(\"plot capacity\")"
   ]
  },
  {
   "cell_type": "code",
   "execution_count": null,
   "metadata": {},
   "outputs": [],
   "source": [
    "base_rep.get(\"plot activity\")\n",
    "scen_rep.get(\"plot activity\")"
   ]
  },
  {
   "cell_type": "code",
   "execution_count": null,
   "metadata": {},
   "outputs": [],
   "source": [
    "mp.close_db()"
   ]
  }
 ],
 "metadata": {
  "kernelspec": {
   "display_name": "message_ix",
   "language": "python",
   "name": "python3"
  },
  "language_info": {
   "codemirror_mode": {
    "name": "ipython",
    "version": 3
   },
   "file_extension": ".py",
   "mimetype": "text/x-python",
   "name": "python",
   "nbconvert_exporter": "python",
   "pygments_lexer": "ipython3",
   "version": "3.10.6"
  },
  "vscode": {
   "interpreter": {
    "hash": "29605b568787f5559ca1ba05da75d155c3dcfa15a1a63b1885b057c5465ade2e"
   }
  }
 },
 "nbformat": 4,
 "nbformat_minor": 1
}
