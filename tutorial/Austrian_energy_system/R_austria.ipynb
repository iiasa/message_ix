{
 "cells": [
  {
   "attachments": {},
   "cell_type": "markdown",
   "metadata": {},
   "source": [
    "# Austrian energy system Tutorial Part 1: Building an Energy Model (in R)\n",
    "\n",
    "For information on how to install *MESSAGEix*, please refer to the [Installation page](https://docs.messageix.org/en/stable/#getting-started), and for getting the *MESSAGEix* tutorials, please follow the steps mentioned in [Tutorials](https://docs.messageix.org/en/stable/tutorials.html).\n",
    "\n",
    "Please refer to the [user guidelines](https://docs.messageix.org/en/stable/notice.html) for additional information on using *MESSAGEix*, including the recommended citation and how to name new models.\n",
    "\n",
    "**Pre-requisites**\n",
    "- You have the *MESSAGEix* framework installed and working\n",
    "\n",
    "**Structure of these tutorials.** After having run this baseline tutorial, you are able to start with any of the other tutorials, but we recommend to follow the order below for going through the information step-wise:\n",
    "\n",
    "1. Prepare the base model version (Python: ``austria.ipynb``, R: ``R_austria.ipynb``)\n",
    "2. Plot the results of the baseline runs (Python: ``austria_load_scenario.ipynb``, R: ``R_austria_load_scenario.ipynb``)\n",
    "\n",
    "Currently only available in Python:\n",
    "3. Run a single policy scenario (``austria_single_policy.ipynb``)\n",
    "4. Run multiple policy scenarios. This tutorial has two notebooks: an introduction with some exercises and completed code for the exercises (exercises: ``austria_multiple_policies.ipynb``, answers: ``austria_multiple_policies-answers.ipynb``)\n",
    "\n",
    "**Introduction**\n",
    "\n",
    "In this notebook, we will build a model of the Austrian energy system from scratch. The process will involve defining our model's time horizon and spatial extent, and then populating the model with data associated with model parameters. Once we have a baseline model, we will then move on to investigating policy scenarios.\n",
    "\n",
    "We will be populating different kinds of parameters including:\n",
    "\n",
    "### Economic Parameters\n",
    "\n",
    "- `interestrate`\n",
    "- `demand`\n",
    "\n",
    "### Technology Parameters\n",
    "\n",
    "#### Engineering Parameters\n",
    "\n",
    "- `input`\n",
    "- `output`\n",
    "- `technical_lifetime`\n",
    "- `capacity_factor`\n",
    "\n",
    "\n",
    "#### Technoeconomic Parameters\n",
    "\n",
    "- `inv_cost`\n",
    "- `fix_cost`\n",
    "- `var_cost`\n",
    "\n",
    "### Dynamic Behavior Parameters\n",
    "\n",
    "- `bound_activity_up`\n",
    "- `bound_activity_lo`\n",
    "- `bound_new_capacity_up`\n",
    "- `initial_activity_up`\n",
    "- `growth_activity_up`\n",
    "\n",
    "### Emissions\n",
    "\n",
    "- `emission_factor`\n",
    "\n",
    "A full list of parameters can be found on the (internal) [MESSAGEix documentation website](http://ienecat.iiasa.ac.at:8787/message_ix_doc). This website can be built in the future from the repository that you are using. \n",
    "\n",
    "## The Final Product\n",
    "\n",
    "At the completion of this exercise, we will have developed an energy model that is comprised of the below Reference Energy System (RES):\n",
    "\n",
    "![title](austria.png)\n",
    "\n"
   ]
  },
  {
   "cell_type": "markdown",
   "metadata": {},
   "source": [
    "## Setup\n",
    "\n",
    "We begin by loading the ``rmessageix`` package.\n",
    "We also load the common R package ``dplyr``, which will be used for some data manipulation."
   ]
  },
  {
   "cell_type": "code",
   "execution_count": null,
   "metadata": {
    "vscode": {
     "languageId": "r"
    }
   },
   "outputs": [],
   "source": [
    "# Load dplyr, used for data manipulation in R\n",
    "library(dplyr)\n",
    "\n",
    "# Load reticulate, used to access the Python API from R\n",
    "library(reticulate)\n",
    "\n",
    "# Import ixmp and message_ix, just as in Python\n",
    "ixmp <- import(\"ixmp\")\n",
    "message_ix <- import(\"message_ix\")"
   ]
  },
  {
   "cell_type": "markdown",
   "metadata": {},
   "source": [
    "These two objects named ``ixmp`` and ``message_ix`` can now be used to access all the features of the API (application programming interface) provided by the Python packages."
   ]
  },
  {
   "cell_type": "code",
   "execution_count": null,
   "metadata": {
    "collapsed": true,
    "vscode": {
     "languageId": "r"
    }
   },
   "outputs": [],
   "source": [
    "# launch the IX modeling platform using the local default database\n",
    "mp <- ixmp$Platform()"
   ]
  },
  {
   "cell_type": "code",
   "execution_count": null,
   "metadata": {
    "vscode": {
     "languageId": "r"
    }
   },
   "outputs": [],
   "source": [
    "model <- \"Austrian energy model\"\n",
    "scen <- \"baseline\"\n",
    "annot <- \"developing a stylized energy system model for illustration and testing\" \n",
    "\n",
    "scenario <- message_ix$Scenario(mp, model, scen, version='new', annotation=annot)"
   ]
  },
  {
   "cell_type": "markdown",
   "metadata": {},
   "source": [
    "## Time and Spatial Detail\n",
    "\n",
    "The model includes the time periods 2010, 2020, 2030 and 2040."
   ]
  },
  {
   "cell_type": "code",
   "execution_count": null,
   "metadata": {
    "collapsed": true,
    "vscode": {
     "languageId": "r"
    }
   },
   "outputs": [],
   "source": [
    "horizon = as.integer(seq(2010, 2040, 10))\n",
    "firstyear = as.integer(horizon[1])"
   ]
  },
  {
   "cell_type": "code",
   "execution_count": null,
   "metadata": {
    "collapsed": true,
    "vscode": {
     "languageId": "r"
    }
   },
   "outputs": [],
   "source": [
    "scenario$add_set(\"year\", horizon)\n",
    "scenario$add_set(\"cat_year\", c(\"firstmodelyear\", firstyear) )"
   ]
  },
  {
   "cell_type": "code",
   "execution_count": null,
   "metadata": {
    "collapsed": true,
    "vscode": {
     "languageId": "r"
    }
   },
   "outputs": [],
   "source": [
    "country = \"Austria\"\n",
    "scenario$add_set(\"node\", country)\n",
    "scenario$add_set(\"lvl_spatial\", \"country\")\n",
    "scenario$add_set(\"map_spatial_hierarchy\", c(\"country\", country, \"World\"))\n",
    "scenario$add_set(\"mode\", \"standard\")"
   ]
  },
  {
   "cell_type": "code",
   "execution_count": null,
   "metadata": {
    "collapsed": true,
    "vscode": {
     "languageId": "r"
    }
   },
   "outputs": [],
   "source": [
    "scenario$add_set(\"commodity\", c(\"electricity\", \"light\", \"other_electricity\") )\n",
    "scenario$add_set(\"level\", c(\"secondary\", \"final\", \"useful\") )"
   ]
  },
  {
   "cell_type": "markdown",
   "metadata": {},
   "source": [
    "## Economic Parameters"
   ]
  },
  {
   "cell_type": "code",
   "execution_count": null,
   "metadata": {
    "collapsed": true,
    "vscode": {
     "languageId": "r"
    }
   },
   "outputs": [],
   "source": [
    "scenario$add_par(\"interestrate\", horizon, value=0.05, unit='-')"
   ]
  },
  {
   "cell_type": "code",
   "execution_count": null,
   "metadata": {
    "collapsed": true,
    "vscode": {
     "languageId": "r"
    }
   },
   "outputs": [],
   "source": [
    "beta = 0.7 \n",
    "gdp = c(1., 1.21631, 1.4108, 1.63746)\n",
    "demand = gdp ** beta"
   ]
  },
  {
   "cell_type": "markdown",
   "metadata": {},
   "source": [
    "## Technologies"
   ]
  },
  {
   "cell_type": "code",
   "execution_count": null,
   "metadata": {
    "collapsed": true,
    "vscode": {
     "languageId": "r"
    }
   },
   "outputs": [],
   "source": [
    "plants = c(    \"coal_ppl\", \n",
    "    \"gas_ppl\", \n",
    "    \"oil_ppl\", \n",
    "    \"bio_ppl\", \n",
    "    \"hydro_ppl\",\n",
    "    \"wind_ppl\", \n",
    "    \"solar_pv_ppl\" # actually primary -> final\n",
    ")\n",
    "secondary_energy_techs = c(plants,'import')\n",
    "\n",
    "final_energy_techs = c('electricity_grid')\n",
    "\n",
    "lights = c(\n",
    "    \"bulb\", \n",
    "    \"cfl\" \n",
    ")\n",
    "useful_energy_techs = c(lights ,'appliances')"
   ]
  },
  {
   "cell_type": "code",
   "execution_count": null,
   "metadata": {
    "collapsed": true,
    "vscode": {
     "languageId": "r"
    }
   },
   "outputs": [],
   "source": [
    "technologies = c(secondary_energy_techs, final_energy_techs,  useful_energy_techs)\n",
    "scenario$add_set(\"technology\", technologies)"
   ]
  },
  {
   "cell_type": "code",
   "execution_count": null,
   "metadata": {
    "collapsed": true,
    "vscode": {
     "languageId": "r"
    }
   },
   "outputs": [],
   "source": [
    "demand_per_year = 55209. / 8760 # from IEA statistics\n",
    "elec_demand = data.frame(\n",
    "    node = rep(country,4),\n",
    "    commodity = rep('other_electricity',4),\n",
    "    level = rep('useful',4),\n",
    "    year = horizon,\n",
    "    time = rep('year',4),\n",
    "    value = demand_per_year * demand,\n",
    "    unit = rep('GWa',4),\n",
    "    row.names = horizon\n",
    ")\n",
    "scenario$add_par(\"demand\", elec_demand)\n",
    "\n",
    "demand_per_year = 6134. / 8760 # from IEA statistics\n",
    "light_demand = data.frame(\n",
    "    node = country,\n",
    "    commodity = 'light',\n",
    "    level = 'useful',\n",
    "    year = horizon,\n",
    "    time = 'year',\n",
    "    value = demand_per_year * demand,\n",
    "    unit = 'GWa'\n",
    ")\n",
    "scenario$add_par(\"demand\", light_demand)"
   ]
  },
  {
   "cell_type": "markdown",
   "metadata": {
    "collapsed": true
   },
   "source": [
    "### Engineering Parameters"
   ]
  },
  {
   "cell_type": "code",
   "execution_count": null,
   "metadata": {
    "collapsed": true,
    "vscode": {
     "languageId": "r"
    }
   },
   "outputs": [],
   "source": [
    "year_pairs = as.matrix(expand.grid(horizon,horizon) %>%\n",
    "                         rowwise() %>%\n",
    "                         filter(Var2 >= Var1) %>%\n",
    "                         arrange(Var1))\n",
    "vintage_years <- year_pairs[,1]\n",
    "act_years <- year_pairs[,1]"
   ]
  },
  {
   "cell_type": "code",
   "execution_count": null,
   "metadata": {
    "collapsed": true,
    "vscode": {
     "languageId": "r"
    }
   },
   "outputs": [],
   "source": [
    "base_input = data.frame(\n",
    "    node_loc = country,\n",
    "    year_vtg = vintage_years,\n",
    "    year_act = act_years,\n",
    "    mode = 'standard',\n",
    "    node_origin = country,\n",
    "    commodity = 'electricity',\n",
    "    time = 'year',\n",
    "    time_origin = 'year'\n",
    ")\n",
    "\n",
    "grid = data.frame(base_input,data.frame(\n",
    "        technology = 'electricity_grid',\n",
    "        level = 'secondary',\n",
    "        value = 1.0,\n",
    "        unit = '%'\n",
    "        ))\n",
    "scenario$add_par(\"input\", grid)\n",
    "\n",
    "bulb = data.frame(base_input,data.frame(\n",
    "        technology = 'bulb',\n",
    "        level = 'final',\n",
    "        value = 1.0,\n",
    "        unit = '%'\n",
    "        ))\n",
    "scenario$add_par(\"input\", bulb)\n",
    "\n",
    "cfl = data.frame(base_input,data.frame(\n",
    "        technology = 'cfl',\n",
    "        level = 'final',\n",
    "        value = 0.3, \n",
    "        unit = '%'\n",
    "        ))\n",
    "scenario$add_par(\"input\", cfl)\n",
    "\n",
    "app = data.frame(base_input,data.frame(\n",
    "        technology = 'appliances',\n",
    "        level = 'final',\n",
    "        value = 1.0,\n",
    "        unit = '%'\n",
    "        ))\n",
    "scenario$add_par(\"input\", app)"
   ]
  },
  {
   "cell_type": "code",
   "execution_count": null,
   "metadata": {
    "collapsed": true,
    "vscode": {
     "languageId": "r"
    }
   },
   "outputs": [],
   "source": [
    "base_output = data.frame(\n",
    "    node_loc = country,\n",
    "    year_vtg = vintage_years,\n",
    "    year_act = act_years,\n",
    "    mode = 'standard',\n",
    "    node_dest = country,\n",
    "    time = 'year',\n",
    "    time_dest = 'year', \n",
    "    unit = '%'\n",
    ")\n",
    "\n",
    "imports = data.frame(base_output,data.frame( technology='import', commodity='electricity', \n",
    "                  level='secondary', value=1.))\n",
    "scenario$add_par('output', imports)\n",
    "\n",
    "grid = data.frame(base_output,data.frame( technology='electricity_grid', commodity='electricity', \n",
    "               level='final', value=0.873))\n",
    "scenario$add_par('output', grid)\n",
    "\n",
    "bulb = data.frame(base_output,data.frame( technology='bulb', commodity='light', \n",
    "               level='useful', value=1.))\n",
    "scenario$add_par('output', bulb)\n",
    "\n",
    "cfl = data.frame(base_output,data.frame( technology='cfl', commodity='light', \n",
    "              level='useful', value=1.))\n",
    "scenario$add_par('output', cfl)\n",
    "\n",
    "app = data.frame(base_output,data.frame( technology='appliances', commodity='other_electricity', \n",
    "              level='useful', value=1.))\n",
    "scenario$add_par('output', app)\n",
    "\n",
    "coal = data.frame(base_output,data.frame( technology='coal_ppl', commodity='electricity', \n",
    "               level='secondary', value=1.))\n",
    "scenario$add_par('output', coal)\n",
    "\n",
    "gas = data.frame(base_output,data.frame( technology='gas_ppl', commodity='electricity', \n",
    "              level='secondary', value=1.))\n",
    "scenario$add_par('output', gas)\n",
    "\n",
    "oil = data.frame(base_output,data.frame( technology='oil_ppl', commodity='electricity', \n",
    "              level='secondary', value=1.))\n",
    "scenario$add_par('output', oil)\n",
    "\n",
    "bio = data.frame(base_output,data.frame( technology='bio_ppl', commodity='electricity', \n",
    "              level='secondary', value=1.))\n",
    "scenario$add_par('output', bio)\n",
    "\n",
    "hydro = data.frame(base_output,data.frame( technology='hydro_ppl', commodity='electricity', \n",
    "                level='secondary', value=1.))\n",
    "scenario$add_par('output', hydro)\n",
    "\n",
    "wind = data.frame(base_output,data.frame( technology='wind_ppl', commodity='electricity', \n",
    "               level='secondary', value=1.))\n",
    "scenario$add_par('output', wind)\n",
    "\n",
    "solar_pv = data.frame(base_output,data.frame( technology='solar_pv_ppl', commodity='electricity', \n",
    "                   level='final', value=1.))\n",
    "scenario$add_par('output', solar_pv)"
   ]
  },
  {
   "cell_type": "code",
   "execution_count": null,
   "metadata": {
    "vscode": {
     "languageId": "r"
    }
   },
   "outputs": [],
   "source": [
    "# NB this and the following cell can be modified to a syntax like the above\n",
    "\n",
    "base_technical_lifetime = data.frame(\n",
    "    node_loc = country,\n",
    "    year_vtg = horizon,\n",
    "    unit = 'y'\n",
    ")\n",
    "\n",
    "lifetimes = list(\n",
    "    coal_ppl = 40,\n",
    "    gas_ppl =  30,\n",
    "    oil_ppl = 30,\n",
    "    bio_ppl =  30,\n",
    "    hydro_ppl = 60,\n",
    "    wind_ppl = 20,\n",
    "    solar_pv_ppl = 20,\n",
    "    bulb = 1,\n",
    "    cfl = 10\n",
    ")\n",
    "base_technical_lifetime\n",
    "\n",
    "for (i in seq_along(lifetimes)){\n",
    "    df = data.frame(base_technical_lifetime, technology=names(lifetimes[i]), value=lifetimes[[i]])\n",
    "    scenario$add_par('technical_lifetime', df)\n",
    "}"
   ]
  },
  {
   "cell_type": "code",
   "execution_count": null,
   "metadata": {
    "collapsed": true,
    "vscode": {
     "languageId": "r"
    }
   },
   "outputs": [],
   "source": [
    "base_capacity_factor = data.frame(\n",
    "    node_loc = country,\n",
    "    year_vtg = vintage_years,\n",
    "    year_act = act_years,\n",
    "    time = 'year',\n",
    "    unit = '%'\n",
    ")\n",
    "\n",
    "capacity_factor = list(\n",
    "    coal_ppl = 0.85,\n",
    "    gas_ppl =  0.75,\n",
    "    oil_ppl = 0.75,\n",
    "    bio_ppl = 0.75,\n",
    "    hydro_ppl = 0.5,\n",
    "    wind_ppl = 0.2,\n",
    "    solar_pv_ppl = 0.15,\n",
    "    bulb = 0.1, \n",
    "    cfl =  0.1\n",
    ")\n",
    "    \n",
    "for (i in seq_along(capacity_factor)){\n",
    "    df = data.frame(base_capacity_factor, technology=names(capacity_factor[i]), value=capacity_factor[[i]])\n",
    "    scenario$add_par('capacity_factor', df)\n",
    "}"
   ]
  },
  {
   "cell_type": "markdown",
   "metadata": {},
   "source": [
    "### Technoeconomic Parameters"
   ]
  },
  {
   "cell_type": "code",
   "execution_count": null,
   "metadata": {
    "collapsed": true,
    "vscode": {
     "languageId": "r"
    }
   },
   "outputs": [],
   "source": [
    "base_inv_cost = data.frame(\n",
    "    node_loc = country,\n",
    "    year_vtg = horizon,\n",
    "    unit = 'USD/GWa'\n",
    ")\n",
    "\n",
    "# in $ / kW\n",
    "costs = list(\n",
    "    coal_ppl = 1500,\n",
    "    gas_ppl =   870,\n",
    "    oil_ppl =  950,\n",
    "    hydro_ppl = 3000,\n",
    "    bio_ppl =  1600,\n",
    "    wind_ppl = 1100,\n",
    "    solar_pv_ppl = 4000,\n",
    "    bulb = 5,\n",
    "    cfl =  900\n",
    ")\n",
    "\n",
    "for (i in seq_along(costs)){\n",
    "    df = data.frame(base_inv_cost, technology=names(costs[i]), value=costs[[i]] * 1e6)\n",
    "    scenario$add_par('inv_cost', df)\n",
    "}"
   ]
  },
  {
   "cell_type": "code",
   "execution_count": null,
   "metadata": {
    "collapsed": true,
    "vscode": {
     "languageId": "r"
    }
   },
   "outputs": [],
   "source": [
    "base_fix_cost = data.frame(\n",
    "    node_loc = country,\n",
    "    year_vtg = vintage_years,\n",
    "    year_act = act_years,\n",
    "    unit = 'USD/GWa'\n",
    ")\n",
    "\n",
    "# in $ / kW\n",
    "costs = list(\n",
    "    coal_ppl = 40,\n",
    "    gas_ppl =   25,\n",
    "    oil_ppl =  25,\n",
    "    hydro_ppl = 60,\n",
    "    bio_ppl =  30,\n",
    "    wind_ppl = 40,\n",
    "    solar_pv_ppl = 25\n",
    ")\n",
    "\n",
    "for (i in seq_along(costs)){\n",
    "    df = data.frame(base_fix_cost, technology=names(costs[i]), value=costs[[i]] * 1e6)\n",
    "    scenario$add_par('fix_cost', df)\n",
    "}"
   ]
  },
  {
   "cell_type": "code",
   "execution_count": null,
   "metadata": {
    "collapsed": true,
    "vscode": {
     "languageId": "r"
    }
   },
   "outputs": [],
   "source": [
    "base_var_cost = data.frame(\n",
    "    node_loc = country,\n",
    "    year_vtg = vintage_years,\n",
    "    year_act = act_years,\n",
    "    mode = 'standard',\n",
    "    time = 'year',\n",
    "    unit = 'USD/GWa'\n",
    ")\n",
    "\n",
    "# in $ / MWh\n",
    "costs = list(\n",
    "    coal_ppl = 24.4,\n",
    "    gas_ppl =   42.4,\n",
    "    oil_ppl =   77.8,\n",
    "    bio_ppl =  48.2,\n",
    "    electricity_grid = 47.8\n",
    ")\n",
    "    \n",
    "for (i in seq_along(costs)){\n",
    "    df = data.frame(base_var_cost, technology=names(costs[i]), value=costs[[i]] * 8760 * 1e3)\n",
    "    scenario$add_par('var_cost', df)\n",
    "}"
   ]
  },
  {
   "cell_type": "markdown",
   "metadata": {},
   "source": [
    "## Dynamic Behavior Parameters"
   ]
  },
  {
   "cell_type": "code",
   "execution_count": null,
   "metadata": {
    "collapsed": true,
    "vscode": {
     "languageId": "r"
    }
   },
   "outputs": [],
   "source": [
    "base_growth = data.frame(\n",
    "    node_loc = country,\n",
    "    year_act = horizon[-1],\n",
    "    value = 0.05,\n",
    "    time = 'year',\n",
    "    unit = '%'\n",
    ")\n",
    "\n",
    "growth_technologies = c(\n",
    "    \"coal_ppl\", \n",
    "    \"gas_ppl\", \n",
    "    \"oil_ppl\", \n",
    "    \"bio_ppl\", \n",
    "    \"hydro_ppl\",\n",
    "    \"wind_ppl\", \n",
    "    \"solar_pv_ppl\", \n",
    "    \"cfl\",\n",
    "    \"bulb\"\n",
    ")\n",
    "\n",
    "for (tec in (growth_technologies)){\n",
    "    df = data.frame(base_growth, technology= tec)\n",
    "    scenario$add_par('growth_activity_up', df)\n",
    "}"
   ]
  },
  {
   "cell_type": "code",
   "execution_count": null,
   "metadata": {
    "collapsed": true,
    "vscode": {
     "languageId": "r"
    }
   },
   "outputs": [],
   "source": [
    "base_initial = data.frame(\n",
    "    node_loc = country,\n",
    "    year_act = horizon[-1],\n",
    "    time = 'year',\n",
    "    unit = '%'\n",
    ")\n",
    "\n",
    "for (tec in (lights)){\n",
    "    df = data.frame(base_initial, technology= tec, value = 0.01 *light_demand$value[light_demand$year %in% c(2020,2030,2040)])\n",
    "    scenario$add_par('initial_activity_up', df)\n",
    "}"
   ]
  },
  {
   "cell_type": "code",
   "execution_count": null,
   "metadata": {
    "collapsed": true,
    "vscode": {
     "languageId": "r"
    }
   },
   "outputs": [],
   "source": [
    "base_activity = data.frame(\n",
    "    node_loc = country,\n",
    "    year_act = as.integer(2010),\n",
    "    mode = 'standard',\n",
    "    time = 'year',\n",
    "    unit = 'GWa'\n",
    ")\n",
    "\n",
    "# in GWh - from IEA Electricity Output\n",
    "activity = list(\n",
    "    coal_ppl = 7184,\n",
    "    gas_ppl =  14346,\n",
    "    oil_ppl =  1275,\n",
    "    hydro_ppl = 38406,\n",
    "    bio_ppl =  4554,\n",
    "    wind_ppl = 2064,\n",
    "    solar_pv_ppl = 89,\n",
    "    import = 2340,\n",
    "    cfl = 0\n",
    ")\n",
    "\n",
    "for (i in seq_along(activity)){\n",
    "    df = data.frame(base_activity, technology=names(activity[i]), value=activity[[i]]/8760)\n",
    "    scenario$add_par('bound_activity_up', df)\n",
    "    scenario$add_par('bound_activity_lo', df)\n",
    "}"
   ]
  },
  {
   "cell_type": "code",
   "execution_count": null,
   "metadata": {
    "vscode": {
     "languageId": "r"
    }
   },
   "outputs": [],
   "source": [
    "base_capacity = data.frame(\n",
    "    node_loc = country,\n",
    "    year_vtg = as.integer(2010),\n",
    "    unit = 'GWa'\n",
    ")\n",
    "\n",
    "a = as.data.frame(t(as.data.frame(activity))) %>% rename(act = V1)\n",
    "b = as.data.frame(t(as.data.frame(capacity_factor)))%>% rename(cf = V1) \n",
    "capacity = left_join(\n",
    "    a%>% mutate(technology = row.names(a)),\n",
    "    b%>% mutate(technology = row.names(b))) %>% \n",
    "  mutate(value = (act / 8760 / cf)) %>% \n",
    "  filter(!is.na(value))\n",
    "\n",
    "df = data.frame(base_capacity,capacity)\n",
    "scenario$add_par('bound_new_capacity_up', df)"
   ]
  },
  {
   "cell_type": "code",
   "execution_count": null,
   "metadata": {
    "collapsed": true,
    "vscode": {
     "languageId": "r"
    }
   },
   "outputs": [],
   "source": [
    "base_activity = data.frame(\n",
    "    node_loc = country,\n",
    "    year_act = horizon[-1],\n",
    "    mode = 'standard',\n",
    "    time = 'year',\n",
    "    unit = 'GWa'\n",
    ")\n",
    "\n",
    "# in GWh - base value from IEA Electricity Output\n",
    "keep_activity = list(\n",
    "    hydro_ppl = 38406,\n",
    "    bio_ppl =  4554,\n",
    "    import = 2340\n",
    ")\n",
    "    \n",
    "for (i in seq_along(keep_activity)){\n",
    "    df = data.frame(base_activity, technology=names(keep_activity[i]), value=keep_activity[[i]])\n",
    "    scenario$add_par('bound_activity_up', df)\n",
    "}"
   ]
  },
  {
   "cell_type": "markdown",
   "metadata": {},
   "source": [
    "## Emissions"
   ]
  },
  {
   "cell_type": "code",
   "execution_count": null,
   "metadata": {
    "collapsed": true,
    "vscode": {
     "languageId": "r"
    }
   },
   "outputs": [],
   "source": [
    "scenario$add_set(\"emission\", \"CO2\")\n",
    "scenario$add_cat('emission', 'GHGs', 'CO2')"
   ]
  },
  {
   "cell_type": "code",
   "execution_count": null,
   "metadata": {
    "collapsed": true,
    "vscode": {
     "languageId": "r"
    }
   },
   "outputs": [],
   "source": [
    "base_emissions = data.frame(\n",
    "    node_loc = country,\n",
    "    year_vtg = vintage_years,\n",
    "    year_act = act_years,\n",
    "    mode = 'standard',\n",
    "    unit = 'kg/kWa' # actually is tCO2/GWa\n",
    ")\n",
    "\n",
    "# units: tCO2/MWh\n",
    "emissions = list(\n",
    "    coal_ppl =  c('CO2', 0.854),\n",
    "    gas_ppl =   c('CO2', 0.339),\n",
    "    oil_ppl =   c('CO2', 0.57)\n",
    ")\n",
    "    \n",
    "for (i in seq_along(emissions)){\n",
    "    df = data.frame(base_emissions, technology=names(emissions[i]),emission = emissions[[i]][1], value = (as.numeric(emissions[[i]][2])* 8760. * 1000) )\n",
    "    scenario$add_par('emission_factor', df)\n",
    "}"
   ]
  },
  {
   "cell_type": "markdown",
   "metadata": {},
   "source": [
    "## Commit the datastructure and solve the model"
   ]
  },
  {
   "cell_type": "code",
   "execution_count": null,
   "metadata": {
    "collapsed": true,
    "vscode": {
     "languageId": "r"
    }
   },
   "outputs": [],
   "source": [
    "comment = 'initial commit for Austria model'\n",
    "scenario$commit(comment)\n",
    "scenario$set_as_default()"
   ]
  },
  {
   "cell_type": "code",
   "execution_count": null,
   "metadata": {
    "collapsed": true,
    "vscode": {
     "languageId": "r"
    }
   },
   "outputs": [],
   "source": [
    "scenario$solve('MESSAGE')"
   ]
  },
  {
   "cell_type": "code",
   "execution_count": null,
   "metadata": {
    "collapsed": true,
    "vscode": {
     "languageId": "r"
    }
   },
   "outputs": [],
   "source": [
    "scenario$var('OBJ')['lvl']"
   ]
  },
  {
   "cell_type": "code",
   "execution_count": null,
   "metadata": {
    "collapsed": true,
    "vscode": {
     "languageId": "r"
    }
   },
   "outputs": [],
   "source": [
    "mp$close_db()"
   ]
  }
 ],
 "metadata": {
  "anaconda-cloud": {},
  "kernelspec": {
   "display_name": "R",
   "language": "R",
   "name": "ir"
  },
  "language_info": {
   "codemirror_mode": "r",
   "file_extension": ".r",
   "mimetype": "text/x-r-source",
   "name": "R",
   "pygments_lexer": "r",
   "version": "3.4.3"
  }
 },
 "nbformat": 4,
 "nbformat_minor": 1
}
