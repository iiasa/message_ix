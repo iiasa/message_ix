{
 "cells": [
  {
   "cell_type": "markdown",
   "id": "9ce2dbbc",
   "metadata": {},
   "source": [
    "## Import all required tools"
   ]
  },
  {
   "cell_type": "code",
   "execution_count": 1,
   "id": "db473272",
   "metadata": {},
   "outputs": [
    {
     "data": {
      "application/javascript": [
       "if (typeof IPython !== 'undefined') { IPython.OutputArea.prototype._should_scroll = function(lines){ return false; }}"
      ],
      "text/plain": [
       "<IPython.core.display.Javascript object>"
      ]
     },
     "metadata": {},
     "output_type": "display_data"
    },
    {
     "name": "stderr",
     "output_type": "stream",
     "text": [
      "C:\\Users\\pratama\\Documents\\GitHub\\MESSAGEix\\message_ix\\message_ix\\reporting\\__init__.py:98: FutureWarning: Importing from genno.computations will be deprecated in a future version; use genno.operator instead.\n",
      "  (\"tom:nl-t-yv-ya\", (genno.computations.add, \"fom:nl-t-yv-ya\", \"vom:nl-t-yv-ya\")),\n"
     ]
    }
   ],
   "source": [
    "import ixmp\n",
    "import message_ix\n",
    "import numpy as np\n",
    "import pandas as pd\n",
    "import yaml\n",
    "\n",
    "from collections.abc import Mapping\n",
    "from itertools import repeat\n",
    "from message_ix.models import MESSAGE_ITEMS\n",
    "from message_ix.utils import make_df\n",
    "from message_ix.tools.add_dac import *\n",
    "\n",
    "%matplotlib inline\n",
    "\n",
    "\n",
    "mp = ixmp.Platform()\n"
   ]
  },
  {
   "cell_type": "code",
   "execution_count": 3,
   "id": "51e1bb98",
   "metadata": {},
   "outputs": [],
   "source": [
    "SLIST = mp.scenario_list()"
   ]
  },
  {
   "cell_type": "code",
   "execution_count": 10,
   "id": "e8e8a215",
   "metadata": {},
   "outputs": [],
   "source": [
    "SLIST.to_excel('scenarios.xlsx')\n"
   ]
  },
  {
   "cell_type": "markdown",
   "id": "7d4cf7f5",
   "metadata": {},
   "source": [
    "## Clone baseline and create emission bound scenario"
   ]
  },
  {
   "cell_type": "code",
   "execution_count": 11,
   "id": "34cf0deb",
   "metadata": {},
   "outputs": [],
   "source": [
    "# this is to import scenario from data base and clone to local\n",
    "#base = message_ix.Scenario(mp, model='GENIE_sandbox', scenario=\"baselineYWP\")\n",
    "base = message_ix.Scenario(mp, model='ENGAGE_SSP2_v4.1.7', scenario=\"NPi2020_Prime\")\n",
    "scen = base.clone(\n",
    "    \"GENIE_sandbox\",\n",
    "    \"daccs1000_paper_repro\",\n",
    "    \"adding daccs and mission bound to baseline scenario\",\n",
    "    keep_solution=False, \n",
    ")\n",
    "scen.check_out()\n",
    "\n",
    "year_df = scen.vintage_and_active_years()\n",
    "vintage_years, act_years = year_df[\"year_vtg\"], year_df[\"year_act\"]\n",
    "model_horizon = scen.set(\"year\")\n"
   ]
  },
  {
   "cell_type": "code",
   "execution_count": 12,
   "id": "bcdc0c50",
   "metadata": {},
   "outputs": [],
   "source": [
    "# add daccs\n",
    "filepath = 'C:/Users/pratama/Documents/GitHub/MESSAGEix/message_ix/tutorial/dac_scenarios/data/tech_data.yaml'\n",
    "add_dac(scen,filepath=filepath)"
   ]
  },
  {
   "cell_type": "markdown",
   "id": "b191f632",
   "metadata": {},
   "source": [
    "#### Add emission bound"
   ]
  },
  {
   "cell_type": "code",
   "execution_count": 13,
   "id": "93527f1a",
   "metadata": {},
   "outputs": [],
   "source": [
    "# add emission bound\n",
    "scen.add_par('bound_emission', ['World', 'TCE_CO2', 'all', 'cumulative'], value=2421.17, unit=\"tC\")"
   ]
  },
  {
   "cell_type": "markdown",
   "id": "abcbfbe2",
   "metadata": {},
   "source": [
    "## Run the model"
   ]
  },
  {
   "cell_type": "code",
   "execution_count": 14,
   "id": "32bf3996",
   "metadata": {
    "scrolled": false
   },
   "outputs": [
    {
     "data": {
      "text/plain": [
       "3254907.5"
      ]
     },
     "execution_count": 14,
     "metadata": {},
     "output_type": "execute_result"
    }
   ],
   "source": [
    "scen.commit(comment=\"DACs scenario with emission bound\")\n",
    "scen.set_as_default()\n",
    "scen.solve(solve_options={'barcrossalg': '2','scaind':'1'})\n",
    "scen.var(\"OBJ\")[\"lvl\"]"
   ]
  },
  {
   "cell_type": "code",
   "execution_count": null,
   "id": "9bd5550c",
   "metadata": {},
   "outputs": [],
   "source": []
  },
  {
   "cell_type": "code",
   "execution_count": 38,
   "id": "ebef3945",
   "metadata": {},
   "outputs": [],
   "source": [
    "#groups = {'DACs': ['dac_1','dac_2','dac_3','dac_4','dac_5']}\n",
    "groups = {'DACs': ['dac_1_exports','dac_2_exports','dac_3_exports','dac_4_exports','dac_5_exports']}\n",
    "\n",
    "def get_values(scenario,\n",
    "               variable = '', valuetype = 'lvl',\n",
    "               #filters = {}\n",
    "              ): \n",
    "    # filters must use 'cat_tec' to aggregate technology\n",
    "    # don't forget to include check unit\n",
    "    \"\"\"\n",
    "    Parameters\n",
    "    ----------\n",
    "    scenario    : message_ix.Scenario()\n",
    "        MESSAGEix Scenario where the data will be included\n",
    "    variable    : string\n",
    "        name of variable to report\n",
    "    valuetype   : string, 'lvl' or 'mrg'\n",
    "        type of values reported to report,\n",
    "        either level or marginal.\n",
    "        default is 'lvl'\n",
    "    \"\"\"\n",
    "    \n",
    "    if isinstance(scenario.var(variable), pd.DataFrame):\n",
    "        df = scenario.var(variable)\n",
    "        dimensions = [col for col in df.columns if col not in ['lvl','mrg']]\n",
    "        return df.set_index(dimensions)[[valuetype]]\n",
    "    else:\n",
    "        return scenario.var(variable)[valuetype]\n",
    "\n",
    "def get_report(scenario,\n",
    "               technologies = '',\n",
    "              ): \n",
    "    \"\"\"\n",
    "    Parameters\n",
    "    ----------\n",
    "    scenario    : message_ix.Scenario()\n",
    "        MESSAGEix Scenario where the data will be included\n",
    "    technologies    : string or list \n",
    "        name of technology to be reported\n",
    "    variable    : string or list\n",
    "        name of variable to report\n",
    "    \"\"\"\n",
    "    var_dict  = {var: [] for var in ['CAP','CAP_NEW','INVESTMENT','REMOVAL']}\n",
    "    \n",
    "    # listing model years to be reported\n",
    "    years_rep = (sorted(scenario.set('cat_year')\n",
    "                        .set_index('type_year')\n",
    "                        .loc['cumulative','year'].to_list()))\n",
    "    \n",
    "    # Create dataframe\n",
    "    for var in var_dict.keys():\n",
    "        # primary variables\n",
    "        if var in ['CAP','CAP_NEW']:\n",
    "            df = (get_values(scenario,var)['lvl'].unstack()\n",
    "                  .loc[:,groups.get(technologies),:]\n",
    "                  .groupby(['node_loc']).sum()\n",
    "                 )[years_rep]\n",
    "            \n",
    "        # investment\n",
    "        elif var == 'INVESTMENT':\n",
    "            depl = (get_values(scenario,'CAP_NEW')['lvl'].unstack()\n",
    "                   .loc[:,groups.get(technologies),:]\n",
    "                   )[years_rep]\n",
    "            \n",
    "            dfic = scen.par('inv_cost')\n",
    "            \n",
    "            inv  = (dfic.loc[dfic['technology'].isin(groups.get(technologies))]\n",
    "                    .set_index(['node_loc','technology','year_vtg'])['value'].unstack())\n",
    "            \n",
    "            df = depl.mul(inv).groupby(['node_loc']).sum()\n",
    "        \n",
    "        # removal\n",
    "        elif var == 'REMOVAL':\n",
    "            acts = get_values(scenario,'ACT').droplevel(['mode','time'])\n",
    "            df   = acts.loc[:,groups.get(technologies),:,:]['lvl'].unstack().groupby(['node_loc']).sum()\n",
    "            \n",
    "        df.loc['World'] = df.sum(axis=0)\n",
    "        \n",
    "        var_dict[var] = df\n",
    "\n",
    "    # Create dictionary for variable dataframes and write variables to excel\n",
    "    with pd.ExcelWriter('get_report_output.xlsx', engine='openpyxl') as writer:\n",
    "        for var in var_dict.keys():\n",
    "            var_dict[var].to_excel(writer, sheet_name=var)\n",
    "    \n",
    "    return var_dict\n",
    "\n",
    "        \n",
    "\n",
    "\n"
   ]
  },
  {
   "cell_type": "code",
   "execution_count": 16,
   "id": "3961be11",
   "metadata": {},
   "outputs": [],
   "source": [
    "dac_report = get_report(scen,'DACs')"
   ]
  },
  {
   "cell_type": "code",
   "execution_count": 18,
   "id": "8b5671e1",
   "metadata": {},
   "outputs": [
    {
     "data": {
      "text/html": [
       "<div>\n",
       "<style scoped>\n",
       "    .dataframe tbody tr th:only-of-type {\n",
       "        vertical-align: middle;\n",
       "    }\n",
       "\n",
       "    .dataframe tbody tr th {\n",
       "        vertical-align: top;\n",
       "    }\n",
       "\n",
       "    .dataframe thead th {\n",
       "        text-align: right;\n",
       "    }\n",
       "</style>\n",
       "<table border=\"1\" class=\"dataframe\">\n",
       "  <thead>\n",
       "    <tr style=\"text-align: right;\">\n",
       "      <th>year_act</th>\n",
       "      <th>2015</th>\n",
       "      <th>2020</th>\n",
       "      <th>2025</th>\n",
       "      <th>2030</th>\n",
       "      <th>2035</th>\n",
       "      <th>2040</th>\n",
       "      <th>2045</th>\n",
       "      <th>2050</th>\n",
       "      <th>2055</th>\n",
       "      <th>2060</th>\n",
       "      <th>2070</th>\n",
       "      <th>2080</th>\n",
       "      <th>2090</th>\n",
       "      <th>2100</th>\n",
       "      <th>2110</th>\n",
       "    </tr>\n",
       "    <tr>\n",
       "      <th>node_loc</th>\n",
       "      <th></th>\n",
       "      <th></th>\n",
       "      <th></th>\n",
       "      <th></th>\n",
       "      <th></th>\n",
       "      <th></th>\n",
       "      <th></th>\n",
       "      <th></th>\n",
       "      <th></th>\n",
       "      <th></th>\n",
       "      <th></th>\n",
       "      <th></th>\n",
       "      <th></th>\n",
       "      <th></th>\n",
       "      <th></th>\n",
       "    </tr>\n",
       "  </thead>\n",
       "  <tbody>\n",
       "    <tr>\n",
       "      <th>R11_AFR</th>\n",
       "      <td>0.0</td>\n",
       "      <td>0.0</td>\n",
       "      <td>0.0</td>\n",
       "      <td>0.0</td>\n",
       "      <td>0.0</td>\n",
       "      <td>0.0</td>\n",
       "      <td>0.0</td>\n",
       "      <td>0.000000</td>\n",
       "      <td>0.00000</td>\n",
       "      <td>0.000000</td>\n",
       "      <td>0.000000</td>\n",
       "      <td>0.000000</td>\n",
       "      <td>0.000000</td>\n",
       "      <td>0.000000</td>\n",
       "      <td>0.000000</td>\n",
       "    </tr>\n",
       "    <tr>\n",
       "      <th>R11_CPA</th>\n",
       "      <td>0.0</td>\n",
       "      <td>0.0</td>\n",
       "      <td>0.0</td>\n",
       "      <td>0.0</td>\n",
       "      <td>0.0</td>\n",
       "      <td>0.0</td>\n",
       "      <td>0.0</td>\n",
       "      <td>0.000000</td>\n",
       "      <td>0.00000</td>\n",
       "      <td>0.000000</td>\n",
       "      <td>85.438642</td>\n",
       "      <td>1080.843768</td>\n",
       "      <td>1767.089480</td>\n",
       "      <td>2208.752176</td>\n",
       "      <td>1346.567097</td>\n",
       "    </tr>\n",
       "    <tr>\n",
       "      <th>R11_EEU</th>\n",
       "      <td>0.0</td>\n",
       "      <td>0.0</td>\n",
       "      <td>0.0</td>\n",
       "      <td>0.0</td>\n",
       "      <td>0.0</td>\n",
       "      <td>0.0</td>\n",
       "      <td>0.0</td>\n",
       "      <td>0.000000</td>\n",
       "      <td>0.00000</td>\n",
       "      <td>0.000000</td>\n",
       "      <td>0.000000</td>\n",
       "      <td>0.000000</td>\n",
       "      <td>0.000000</td>\n",
       "      <td>0.000000</td>\n",
       "      <td>0.000000</td>\n",
       "    </tr>\n",
       "    <tr>\n",
       "      <th>R11_FSU</th>\n",
       "      <td>0.0</td>\n",
       "      <td>0.0</td>\n",
       "      <td>0.0</td>\n",
       "      <td>0.0</td>\n",
       "      <td>0.0</td>\n",
       "      <td>0.0</td>\n",
       "      <td>0.0</td>\n",
       "      <td>0.000000</td>\n",
       "      <td>0.00000</td>\n",
       "      <td>0.000000</td>\n",
       "      <td>0.000000</td>\n",
       "      <td>0.000000</td>\n",
       "      <td>0.000000</td>\n",
       "      <td>0.000000</td>\n",
       "      <td>0.000000</td>\n",
       "    </tr>\n",
       "    <tr>\n",
       "      <th>R11_LAM</th>\n",
       "      <td>0.0</td>\n",
       "      <td>0.0</td>\n",
       "      <td>0.0</td>\n",
       "      <td>0.0</td>\n",
       "      <td>0.0</td>\n",
       "      <td>0.0</td>\n",
       "      <td>0.0</td>\n",
       "      <td>10.384402</td>\n",
       "      <td>36.64629</td>\n",
       "      <td>66.351946</td>\n",
       "      <td>433.618944</td>\n",
       "      <td>947.402347</td>\n",
       "      <td>720.932247</td>\n",
       "      <td>572.122703</td>\n",
       "      <td>342.550996</td>\n",
       "    </tr>\n",
       "    <tr>\n",
       "      <th>R11_MEA</th>\n",
       "      <td>0.0</td>\n",
       "      <td>0.0</td>\n",
       "      <td>0.0</td>\n",
       "      <td>0.0</td>\n",
       "      <td>0.0</td>\n",
       "      <td>0.0</td>\n",
       "      <td>0.0</td>\n",
       "      <td>0.000000</td>\n",
       "      <td>0.00000</td>\n",
       "      <td>0.000000</td>\n",
       "      <td>447.361086</td>\n",
       "      <td>447.361086</td>\n",
       "      <td>267.851607</td>\n",
       "      <td>160.372651</td>\n",
       "      <td>138.287119</td>\n",
       "    </tr>\n",
       "    <tr>\n",
       "      <th>R11_NAM</th>\n",
       "      <td>0.0</td>\n",
       "      <td>0.0</td>\n",
       "      <td>0.0</td>\n",
       "      <td>0.0</td>\n",
       "      <td>0.0</td>\n",
       "      <td>0.0</td>\n",
       "      <td>0.0</td>\n",
       "      <td>0.000000</td>\n",
       "      <td>0.00000</td>\n",
       "      <td>0.000000</td>\n",
       "      <td>0.000000</td>\n",
       "      <td>0.000000</td>\n",
       "      <td>0.000000</td>\n",
       "      <td>0.000000</td>\n",
       "      <td>1042.753026</td>\n",
       "    </tr>\n",
       "    <tr>\n",
       "      <th>R11_PAO</th>\n",
       "      <td>0.0</td>\n",
       "      <td>0.0</td>\n",
       "      <td>0.0</td>\n",
       "      <td>0.0</td>\n",
       "      <td>0.0</td>\n",
       "      <td>0.0</td>\n",
       "      <td>0.0</td>\n",
       "      <td>0.000000</td>\n",
       "      <td>0.00000</td>\n",
       "      <td>0.000000</td>\n",
       "      <td>0.000000</td>\n",
       "      <td>0.000000</td>\n",
       "      <td>0.000000</td>\n",
       "      <td>0.000000</td>\n",
       "      <td>304.115032</td>\n",
       "    </tr>\n",
       "    <tr>\n",
       "      <th>R11_PAS</th>\n",
       "      <td>0.0</td>\n",
       "      <td>0.0</td>\n",
       "      <td>0.0</td>\n",
       "      <td>0.0</td>\n",
       "      <td>0.0</td>\n",
       "      <td>0.0</td>\n",
       "      <td>0.0</td>\n",
       "      <td>0.000000</td>\n",
       "      <td>0.00000</td>\n",
       "      <td>0.000000</td>\n",
       "      <td>0.000000</td>\n",
       "      <td>0.000000</td>\n",
       "      <td>0.000000</td>\n",
       "      <td>0.000000</td>\n",
       "      <td>0.000000</td>\n",
       "    </tr>\n",
       "    <tr>\n",
       "      <th>R11_SAS</th>\n",
       "      <td>0.0</td>\n",
       "      <td>0.0</td>\n",
       "      <td>0.0</td>\n",
       "      <td>0.0</td>\n",
       "      <td>0.0</td>\n",
       "      <td>0.0</td>\n",
       "      <td>0.0</td>\n",
       "      <td>0.000000</td>\n",
       "      <td>0.00000</td>\n",
       "      <td>0.000000</td>\n",
       "      <td>0.000000</td>\n",
       "      <td>0.000000</td>\n",
       "      <td>0.000000</td>\n",
       "      <td>0.000000</td>\n",
       "      <td>0.000000</td>\n",
       "    </tr>\n",
       "    <tr>\n",
       "      <th>R11_WEU</th>\n",
       "      <td>0.0</td>\n",
       "      <td>0.0</td>\n",
       "      <td>0.0</td>\n",
       "      <td>0.0</td>\n",
       "      <td>0.0</td>\n",
       "      <td>0.0</td>\n",
       "      <td>0.0</td>\n",
       "      <td>0.000000</td>\n",
       "      <td>0.00000</td>\n",
       "      <td>0.000000</td>\n",
       "      <td>0.000000</td>\n",
       "      <td>0.000000</td>\n",
       "      <td>0.000000</td>\n",
       "      <td>0.000000</td>\n",
       "      <td>0.000000</td>\n",
       "    </tr>\n",
       "    <tr>\n",
       "      <th>World</th>\n",
       "      <td>0.0</td>\n",
       "      <td>0.0</td>\n",
       "      <td>0.0</td>\n",
       "      <td>0.0</td>\n",
       "      <td>0.0</td>\n",
       "      <td>0.0</td>\n",
       "      <td>0.0</td>\n",
       "      <td>10.384402</td>\n",
       "      <td>36.64629</td>\n",
       "      <td>66.351946</td>\n",
       "      <td>966.418672</td>\n",
       "      <td>2475.607200</td>\n",
       "      <td>2755.873335</td>\n",
       "      <td>2941.247531</td>\n",
       "      <td>3174.273270</td>\n",
       "    </tr>\n",
       "  </tbody>\n",
       "</table>\n",
       "</div>"
      ],
      "text/plain": [
       "year_act  2015  2020  2025  2030  2035  2040  2045       2050      2055  \\\n",
       "node_loc                                                                  \n",
       "R11_AFR    0.0   0.0   0.0   0.0   0.0   0.0   0.0   0.000000   0.00000   \n",
       "R11_CPA    0.0   0.0   0.0   0.0   0.0   0.0   0.0   0.000000   0.00000   \n",
       "R11_EEU    0.0   0.0   0.0   0.0   0.0   0.0   0.0   0.000000   0.00000   \n",
       "R11_FSU    0.0   0.0   0.0   0.0   0.0   0.0   0.0   0.000000   0.00000   \n",
       "R11_LAM    0.0   0.0   0.0   0.0   0.0   0.0   0.0  10.384402  36.64629   \n",
       "R11_MEA    0.0   0.0   0.0   0.0   0.0   0.0   0.0   0.000000   0.00000   \n",
       "R11_NAM    0.0   0.0   0.0   0.0   0.0   0.0   0.0   0.000000   0.00000   \n",
       "R11_PAO    0.0   0.0   0.0   0.0   0.0   0.0   0.0   0.000000   0.00000   \n",
       "R11_PAS    0.0   0.0   0.0   0.0   0.0   0.0   0.0   0.000000   0.00000   \n",
       "R11_SAS    0.0   0.0   0.0   0.0   0.0   0.0   0.0   0.000000   0.00000   \n",
       "R11_WEU    0.0   0.0   0.0   0.0   0.0   0.0   0.0   0.000000   0.00000   \n",
       "World      0.0   0.0   0.0   0.0   0.0   0.0   0.0  10.384402  36.64629   \n",
       "\n",
       "year_act       2060        2070         2080         2090         2100  \\\n",
       "node_loc                                                                 \n",
       "R11_AFR    0.000000    0.000000     0.000000     0.000000     0.000000   \n",
       "R11_CPA    0.000000   85.438642  1080.843768  1767.089480  2208.752176   \n",
       "R11_EEU    0.000000    0.000000     0.000000     0.000000     0.000000   \n",
       "R11_FSU    0.000000    0.000000     0.000000     0.000000     0.000000   \n",
       "R11_LAM   66.351946  433.618944   947.402347   720.932247   572.122703   \n",
       "R11_MEA    0.000000  447.361086   447.361086   267.851607   160.372651   \n",
       "R11_NAM    0.000000    0.000000     0.000000     0.000000     0.000000   \n",
       "R11_PAO    0.000000    0.000000     0.000000     0.000000     0.000000   \n",
       "R11_PAS    0.000000    0.000000     0.000000     0.000000     0.000000   \n",
       "R11_SAS    0.000000    0.000000     0.000000     0.000000     0.000000   \n",
       "R11_WEU    0.000000    0.000000     0.000000     0.000000     0.000000   \n",
       "World     66.351946  966.418672  2475.607200  2755.873335  2941.247531   \n",
       "\n",
       "year_act         2110  \n",
       "node_loc               \n",
       "R11_AFR      0.000000  \n",
       "R11_CPA   1346.567097  \n",
       "R11_EEU      0.000000  \n",
       "R11_FSU      0.000000  \n",
       "R11_LAM    342.550996  \n",
       "R11_MEA    138.287119  \n",
       "R11_NAM   1042.753026  \n",
       "R11_PAO    304.115032  \n",
       "R11_PAS      0.000000  \n",
       "R11_SAS      0.000000  \n",
       "R11_WEU      0.000000  \n",
       "World     3174.273270  "
      ]
     },
     "execution_count": 18,
     "metadata": {},
     "output_type": "execute_result"
    }
   ],
   "source": [
    "dac_report['CAP']"
   ]
  },
  {
   "cell_type": "code",
   "execution_count": 30,
   "id": "730f8712",
   "metadata": {},
   "outputs": [
    {
     "data": {
      "image/png": "[encoded data removed]",
      "text/plain": [
       "<Figure size 640x480 with 1 Axes>"
      ]
     },
     "metadata": {},
     "output_type": "display_data"
    }
   ],
   "source": [
    "import matplotlib.pyplot as plt\n",
    "\n",
    "var = 'REMOVAL'\n",
    "for reg in range(len(dac_report[var])):\n",
    "    kwargs = {'marker':'o'} if reg == 11 else {}\n",
    "    plt.plot(dac_report[var].columns,dac_report[var].iloc[reg],label=dac_report[var].index[reg], **kwargs)\n",
    "plt.legend()\n",
    "plt.show()"
   ]
  },
  {
   "cell_type": "code",
   "execution_count": 31,
   "id": "34eb0ad7",
   "metadata": {},
   "outputs": [
    {
     "name": "stderr",
     "output_type": "stream",
     "text": [
      "This Scenario has a solution, use `Scenario.remove_solution()` or `Scenario.clone(..., keep_solution=False)`\n"
     ]
    }
   ],
   "source": [
    "benchmark_scen = message_ix.Scenario(mp, model='GENIE_SSP2_v4.1.7', scenario=\"EN_NPi2020-DACm-MP-median-stor3-final_1000\")"
   ]
  },
  {
   "cell_type": "code",
   "execution_count": 39,
   "id": "86a06608",
   "metadata": {},
   "outputs": [],
   "source": [
    "groups = {'DACs': ['dac_1_exports','dac_2_exports','dac_3_exports','dac_4_exports','dac_5_exports']}\n",
    "benchmark_report = get_report(benchmark_scen,'DACs')"
   ]
  },
  {
   "cell_type": "code",
   "execution_count": 40,
   "id": "af6b829e",
   "metadata": {},
   "outputs": [
    {
     "data": {
      "image/png": "[encoded data removed]",
      "text/plain": [
       "<Figure size 640x480 with 1 Axes>"
      ]
     },
     "metadata": {},
     "output_type": "display_data"
    }
   ],
   "source": [
    "import matplotlib.pyplot as plt\n",
    "\n",
    "var = 'REMOVAL'\n",
    "for reg in range(len(dac_report[var])):\n",
    "    kwargs = {'marker':'o'} if reg == 11 else {}\n",
    "    plt.plot(dac_report[var].columns,dac_report[var].iloc[reg],label=dac_report[var].index[reg], **kwargs)\n",
    "plt.legend()\n",
    "plt.show()"
   ]
  },
  {
   "cell_type": "markdown",
   "id": "92dd9c90",
   "metadata": {},
   "source": [
    "## Close connection"
   ]
  },
  {
   "cell_type": "code",
   "execution_count": 41,
   "id": "f8e3cad8",
   "metadata": {},
   "outputs": [],
   "source": [
    "mp.close_db()"
   ]
  },
  {
   "cell_type": "code",
   "execution_count": null,
   "id": "5d5ac259",
   "metadata": {},
   "outputs": [],
   "source": []
  }
 ],
 "metadata": {
  "kernelspec": {
   "display_name": "Python 3 (ipykernel)",
   "language": "python",
   "name": "python3"
  },
  "language_info": {
   "codemirror_mode": {
    "name": "ipython",
    "version": 3
   },
   "file_extension": ".py",
   "mimetype": "text/x-python",
   "name": "python",
   "nbconvert_exporter": "python",
   "pygments_lexer": "ipython3",
   "version": "3.10.9"
  }
 },
 "nbformat": 4,
 "nbformat_minor": 5
}
