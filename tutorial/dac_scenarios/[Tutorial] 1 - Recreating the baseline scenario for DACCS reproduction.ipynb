{
 "cells": [
  {
   "cell_type": "markdown",
   "id": "9ce2dbbc",
   "metadata": {},
   "source": [
    "# Recreating the baseline scenario for DACCS"
   ]
  },
  {
   "cell_type": "code",
   "execution_count": null,
   "id": "db473272",
   "metadata": {},
   "outputs": [],
   "source": [
    "import ixmp\n",
    "import message_ix\n",
    "import numpy as np\n",
    "import pandas as pd\n",
    "import yaml\n",
    "\n",
    "from collections.abc import Mapping\n",
    "from itertools import repeat\n",
    "from message_ix.models import MESSAGE_ITEMS\n",
    "from message_ix.utils import make_df\n",
    "from message_ix.tools.add_dac import *\n",
    "\n",
    "%matplotlib inline\n",
    "\n",
    "\n",
    "mp = ixmp.Platform()\n"
   ]
  },
  {
   "cell_type": "markdown",
   "id": "7d4cf7f5",
   "metadata": {},
   "source": [
    "## Clone baseline and create emission bound scenario"
   ]
  },
  {
   "cell_type": "code",
   "execution_count": null,
   "id": "34cf0deb",
   "metadata": {},
   "outputs": [],
   "source": [
    "# this is to import scenario from data base and clone to local\n",
    "base = message_ix.Scenario(mp, model='GENIE_SSP2_v4.1.7', scenario=\"EN_NPi2020-DACm-MP-median-stor3-phs_1000f\")\n",
    "scen = base.clone(\n",
    "    \"GENIE_sandbox\",\n",
    "    \"baselineYWP\",\n",
    "    \"baseline scenario to reproduce feasibility paper\",\n",
    "    keep_solution=False, \n",
    ")\n",
    "scen.check_out()\n",
    "\n",
    "year_df = scen.vintage_and_active_years()\n",
    "vintage_years, act_years = year_df[\"year_vtg\"], year_df[\"year_act\"]\n",
    "model_horizon = scen.set(\"year\")\n"
   ]
  },
  {
   "cell_type": "code",
   "execution_count": null,
   "id": "30c07651",
   "metadata": {},
   "outputs": [],
   "source": [
    "# list of parameters to remove\n",
    "params = ['inv_cost','fix_cost','input','capacity_factor','technical_lifetime',\n",
    "          'construction_time','abs_cost_activity_soft_up','growth_activity_lo',\n",
    "          'level_cost_activity_soft_lo','level_cost_activity_soft_up','relation_activity',\n",
    "          'var_cost','output','emission_factor','soft_activity_lo','soft_activity_up',\n",
    "          'growth_activity_up','initial_activity_up']\n",
    "# list of technologies to remove\n",
    "techs = ['dac_2_exports', 'dac_1_exports', 'dac_3_exports', \n",
    "         'dac_4_exports', 'dac_5_exports', 'dacco2_tr_dis', 'DAC_mpen']\n",
    "# removing parameters\n",
    "for par in params:\n",
    "    scen.remove_par(par, scen.par(par,{'technology':techs}))\n",
    "\n",
    "# removing daccs from technology set\n",
    "scen.remove_set('technology',techs)\n"
   ]
  },
  {
   "cell_type": "code",
   "execution_count": null,
   "id": "6de20833",
   "metadata": {},
   "outputs": [],
   "source": [
    "# Removing emissions bound\n",
    "scen.remove_par('bound_emission', scen.par('bound_emission',{'node':'World'}))\n"
   ]
  },
  {
   "cell_type": "markdown",
   "id": "abcbfbe2",
   "metadata": {},
   "source": [
    "## Run the model"
   ]
  },
  {
   "cell_type": "code",
   "execution_count": null,
   "id": "32bf3996",
   "metadata": {
    "scrolled": false
   },
   "outputs": [],
   "source": [
    "scen.commit(comment=\"Feasibility paper baseline copy with daccs removed\")\n",
    "scen.set_as_default()\n",
    "scen.solve(solve_options={'barcrossalg': '2','scaind':'1'}) # solve_options={'barcrossalg': '2','scaind':'1'}\n",
    "scen.var(\"OBJ\")[\"lvl\"]"
   ]
  },
  {
   "cell_type": "markdown",
   "id": "92dd9c90",
   "metadata": {},
   "source": [
    "## Close connection"
   ]
  },
  {
   "cell_type": "code",
   "execution_count": null,
   "id": "f8e3cad8",
   "metadata": {},
   "outputs": [],
   "source": [
    "mp.close_db()"
   ]
  },
  {
   "cell_type": "code",
   "execution_count": null,
   "id": "9ce221d4",
   "metadata": {},
   "outputs": [],
   "source": []
  }
 ],
 "metadata": {
  "kernelspec": {
   "display_name": "Python 3 (ipykernel)",
   "language": "python",
   "name": "python3"
  },
  "language_info": {
   "codemirror_mode": {
    "name": "ipython",
    "version": 3
   },
   "file_extension": ".py",
   "mimetype": "text/x-python",
   "name": "python",
   "nbconvert_exporter": "python",
   "pygments_lexer": "ipython3",
   "version": "3.10.9"
  }
 },
 "nbformat": 4,
 "nbformat_minor": 5
}
