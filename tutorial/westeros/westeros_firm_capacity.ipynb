{
 "cells": [
  {
   "cell_type": "markdown",
   "metadata": {},
   "source": [
    "## Westeros Tutorial Part IVa. - Introducing firm capacity\n",
    "\n",
    "The next tutorial is comprised of three parts. In the first part we will show you how to ensure that in a model setup which doesnt use sub-annual timesteps and therefore does not depict peak load, we still account for sufficient backup capacity from electricity generation plants to maintain reliability through reasonable load and contingency events.\n",
    "\n",
    "Further information can be found in https://doi.org/10.1016/j.esr.2013.01.001"
   ]
  },
  {
   "cell_type": "code",
   "execution_count": null,
   "metadata": {},
   "outputs": [],
   "source": [
    "import pandas as pd\n",
    "import ixmp as ix\n",
    "import message_ix\n",
    "\n",
    "from message_ix.utils import make_df\n",
    "\n",
    "%matplotlib inline"
   ]
  },
  {
   "cell_type": "code",
   "execution_count": null,
   "metadata": {},
   "outputs": [],
   "source": [
    "mp = ix.Platform(dbtype='HSQLDB')"
   ]
  },
  {
   "cell_type": "markdown",
   "metadata": {},
   "source": [
    "## Load the scenario with an emission bound and clone to a new scenario 'firm_capacity'"
   ]
  },
  {
   "cell_type": "code",
   "execution_count": null,
   "metadata": {},
   "outputs": [],
   "source": [
    "model = 'Westeros Electrified'\n",
    "base = message_ix.Scenario(mp, model=model, scenario='emission_bound')\n",
    "scen = base.clone(model, 'firm_capacity','illustration of firm-capacity formulation', keep_solution=False)\n",
    "scen.check_out()"
   ]
  },
  {
   "cell_type": "markdown",
   "metadata": {},
   "source": [
    "## Retrieve parameters to perform subsequent addition of parameters"
   ]
  },
  {
   "cell_type": "code",
   "execution_count": null,
   "metadata": {},
   "outputs": [],
   "source": [
    "year_df = scen.vintage_and_active_years()\n",
    "vintage_years, act_years = year_df['year_vtg'], year_df['year_act']\n",
    "model_horizon = scen.set('year')\n",
    "country = 'Westeros'"
   ]
  },
  {
   "cell_type": "markdown",
   "metadata": {},
   "source": [
    "## Load Factors - Describing the Electricity Sector\n",
    "### Peak load \n",
    "For systems across the U.S., load duration curves are similar from one location to another. Based on load data it was calculated calculated that the peak load is, on average, 1.7 times the average load (a load factor of 59%).8 Coupled with a standard reserve margin of 15–20% of peak load, that means firm capacity requirements for the U.S. should be roughly twice average load.\n",
    "Therefore, a peak load factor of 2 is introduced for the level:secondary and commodity:electricity, which is level/commodity onto which all power generation technologies deliver."
   ]
  },
  {
   "cell_type": "code",
   "execution_count": null,
   "metadata": {},
   "outputs": [],
   "source": [
    "# peak_load_factor(node,commodity,level,year,time)\n",
    "peak_load_factor = pd.DataFrame({\n",
    "        'node': country,\n",
    "        'commodity': 'electricity',\n",
    "        'level' : 'secondary',       \n",
    "        'year': model_horizon,\n",
    "        'time' : 'year',\n",
    "        'value' : 2,\n",
    "        'unit' : '???'})\n",
    "scen.add_par('peak_load_factor', peak_load_factor)"
   ]
  },
  {
   "cell_type": "markdown",
   "metadata": {},
   "source": [
    "## Rating bins and reliability factors - Describing the powerplant reliability\n",
    "### Ensuring enough firm capacity\n",
    "Toward meeting the firm capacity requirement, conventional generating technologies contribute their nameplate generation capacity. \n",
    "\n",
    "This therefore implies that for conventional powerplants, a reliability factor of 1 is assumed.\n",
    "\n",
    "In order to account for the integration challenge at higher shares of variable renewables, their contribution to the capacity requirements, capacity value, declines as the market share of the technology increases.  We therefore assume, that up to a share of 20% of total electricity supply, the capacity of wind_ppl adds by 80% to the firm capacity of the power system (r1). The remaining 80% installed capacity, however  only  5% contribute to the firm capcity (r2). "
   ]
  },
  {
   "cell_type": "code",
   "execution_count": null,
   "metadata": {},
   "outputs": [],
   "source": [
    "base_reliability = pd.DataFrame({\n",
    "        'node': country,\n",
    "        'commodity': 'electricity',\n",
    "        'level' : 'secondary', \n",
    "        'unit': '???',\n",
    "        'time': 'year',\n",
    "        'year_act': model_horizon})"
   ]
  },
  {
   "cell_type": "code",
   "execution_count": null,
   "metadata": {},
   "outputs": [],
   "source": [
    "# add the ratings as a set \n",
    "scen.add_set('rating', ['r1', 'r2'])\n",
    "\n",
    "# for Wind PPL\n",
    "rating_bin = make_df(base_reliability, technology= 'wind_ppl', value = 0.2, rating= 'r1')\n",
    "scen.add_par('rating_bin', rating_bin)\n",
    "\n",
    "reliability_factor = make_df(base_reliability, technology= 'wind_ppl', value = 0.8, rating= 'r1')\n",
    "scen.add_par('reliability_factor', reliability_factor)\n",
    "\n",
    "rating_bin = make_df(base_reliability, technology= 'wind_ppl', value = 0.8, rating= 'r2')\n",
    "scen.add_par('rating_bin', rating_bin)\n",
    "\n",
    "reliability_factor = make_df(base_reliability, technology= 'wind_ppl', value = 0.05, rating= 'r2')\n",
    "scen.add_par('reliability_factor', reliability_factor)\n",
    "\n",
    "# for Coal PPL\n",
    "reliability_factor = make_df(base_reliability, technology= 'coal_ppl', value = 1, rating= 'firm')\n",
    "scen.add_par('reliability_factor', reliability_factor)"
   ]
  },
  {
   "cell_type": "markdown",
   "metadata": {},
   "source": [
    "### Commit and solve"
   ]
  },
  {
   "cell_type": "code",
   "execution_count": null,
   "metadata": {},
   "outputs": [],
   "source": [
    "scen.commit(comment='define parameters for renewable implementation')\n",
    "scen.set_as_default()"
   ]
  },
  {
   "cell_type": "code",
   "execution_count": null,
   "metadata": {},
   "outputs": [],
   "source": [
    "scen.solve()"
   ]
  },
  {
   "cell_type": "code",
   "execution_count": null,
   "metadata": {},
   "outputs": [],
   "source": [
    "scen.var('OBJ')['lvl']"
   ]
  },
  {
   "cell_type": "markdown",
   "metadata": {},
   "source": [
    "# Plotting Results"
   ]
  },
  {
   "cell_type": "code",
   "execution_count": null,
   "metadata": {},
   "outputs": [],
   "source": [
    "from tools import Plots\n",
    "p = Plots(scen, country, firstyear=700) # scenario: 'firm_capacity' (emission_bound scenario with firm capacity)\n",
    "b = Plots(base, country, firstyear=700) # scenario: 'emission_bound' (without firm capacity)"
   ]
  },
  {
   "cell_type": "markdown",
   "metadata": {},
   "source": [
    "When comparing the results of the original scenario without the reliability factor ('emission_bound') and the results of our newly modified scenario ('firm_capacity'), for the same carbon price we can observe that the activity of the wind and the coal powerplant is identical, which is what we hoped to achieve."
   ]
  },
  {
   "cell_type": "markdown",
   "metadata": {},
   "source": [
    "## Acitivity for scenario: 'emission_bound' (without firm capacity)"
   ]
  },
  {
   "cell_type": "code",
   "execution_count": null,
   "metadata": {},
   "outputs": [],
   "source": [
    "b.plot_activity(baseyear=True, subset=['coal_ppl', 'wind_ppl'])"
   ]
  },
  {
   "cell_type": "markdown",
   "metadata": {},
   "source": [
    "## Acitivity for scenario: 'firm_capacity' (emission_bound scenario with firm capacity)"
   ]
  },
  {
   "cell_type": "code",
   "execution_count": null,
   "metadata": {},
   "outputs": [],
   "source": [
    "p.plot_activity(baseyear=True, subset=['coal_ppl', 'wind_ppl'])"
   ]
  },
  {
   "cell_type": "markdown",
   "metadata": {},
   "source": [
    "The difference between the two scenarios can be seen when comparing the capacity.  Whereas in the 'emission_bound' scenario, coal capacity is quickly phased out, the 'firm_capacity' scenario shows, that there is a substantial amount of capacity required from the coal_ppl in order for the wind_ppl to achieve such high market share levels."
   ]
  },
  {
   "cell_type": "markdown",
   "metadata": {},
   "source": [
    "## Capacity for scenario: 'emission_bound' (without firm capacity)"
   ]
  },
  {
   "cell_type": "code",
   "execution_count": null,
   "metadata": {},
   "outputs": [],
   "source": [
    "b.plot_capacity(baseyear=True, subset=['coal_ppl', 'wind_ppl'])"
   ]
  },
  {
   "cell_type": "markdown",
   "metadata": {},
   "source": [
    "## Capacity for scenario: 'firm_capacity' (emission_bound scenario with firm capacity)"
   ]
  },
  {
   "cell_type": "code",
   "execution_count": null,
   "metadata": {},
   "outputs": [],
   "source": [
    "p.plot_capacity(baseyear=True, subset=['coal_ppl', 'wind_ppl'])"
   ]
  },
  {
   "cell_type": "markdown",
   "metadata": {},
   "source": [
    "This has a substantial impact on the electricity price, which is reflected in the prices for lighting."
   ]
  },
  {
   "cell_type": "markdown",
   "metadata": {},
   "source": [
    "## Light prices for scenario: 'emission_bound' (without firm capacity)"
   ]
  },
  {
   "cell_type": "code",
   "execution_count": null,
   "metadata": {},
   "outputs": [],
   "source": [
    "b.plot_prices(subset=['light'], baseyear=True)"
   ]
  },
  {
   "cell_type": "markdown",
   "metadata": {},
   "source": [
    "## Light prices for scenario: 'firm_capacity' (emission_bound scenario with firm capacity)"
   ]
  },
  {
   "cell_type": "code",
   "execution_count": null,
   "metadata": {},
   "outputs": [],
   "source": [
    "p.plot_prices(subset=['light'], baseyear=True)"
   ]
  },
  {
   "cell_type": "code",
   "execution_count": null,
   "metadata": {},
   "outputs": [],
   "source": [
    "mp.close_db()"
   ]
  }
 ],
 "metadata": {
  "kernelspec": {
   "display_name": "Python [default]",
   "language": "python",
   "name": "python3"
  },
  "language_info": {
   "codemirror_mode": {
    "name": "ipython",
    "version": 3
   },
   "file_extension": ".py",
   "mimetype": "text/x-python",
   "name": "python",
   "nbconvert_exporter": "python",
   "pygments_lexer": "ipython3",
   "version": "3.6.5"
  }
 },
 "nbformat": 4,
 "nbformat_minor": 2
}
