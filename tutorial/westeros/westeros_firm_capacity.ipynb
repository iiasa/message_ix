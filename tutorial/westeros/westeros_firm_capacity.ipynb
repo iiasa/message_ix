{
 "cells": [
  {
   "attachments": {},
   "cell_type": "markdown",
   "metadata": {},
   "source": [
    "# Westeros Tutorial - Adding representation of renewables (part1/3): Introducing `\"firm capacity\"`\n",
    "\n",
    "This tutorial demonstrates how to apply various features of the MESSAGEix formulation to provide a more realistic representation of renewable energy integration in the energy system.\n",
    "\n",
    "In the first part of this series of tutorials, we show how to ensure that in a model setup which does not use sub-annual timesteps, and therefore does not depict peak load, we can still account for [`\"firm capacity\"`](https://docs.messageix.org/en/stable/model/MESSAGE/model_core.html?highlight=FIRM_CAPACITY_PROVISION#equation-firm-capacity-provision). In power systems, firm or reliable capacity means sufficient power capacity from different electricity generation plants is available to maintain system reliability through reasonable load and contingency events.\n",
    "\n",
    "Further information can be found in [Sullivan et al., 2013](https://doi.org/10.1016/j.esr.2013.01.001).\n",
    "\n",
    "**Pre-requisites**\n",
    "- You have the *MESSAGEix* framework installed and working\n",
    "- You have run Westeros scenario which adds emission bounds (``westeros_emissions_bounds.ipynb``) and solved it successfully"
   ]
  },
  {
   "cell_type": "code",
   "execution_count": null,
   "metadata": {},
   "outputs": [],
   "source": [
    "import pandas as pd\n",
    "import ixmp\n",
    "import message_ix\n",
    "\n",
    "from message_ix.util import make_df\n",
    "\n",
    "%matplotlib inline"
   ]
  },
  {
   "cell_type": "code",
   "execution_count": null,
   "metadata": {},
   "outputs": [],
   "source": [
    "mp = ixmp.Platform()"
   ]
  },
  {
   "cell_type": "markdown",
   "metadata": {},
   "source": [
    "## Load an existing scenario\n",
    "\n",
    "We load the existing scenario '*emission_bound*' and clone it to a new scenario called '*firm_capacity*'. We apply the `\"firm_capacity\"` constraints in this new scenario."
   ]
  },
  {
   "cell_type": "code",
   "execution_count": null,
   "metadata": {},
   "outputs": [],
   "source": [
    "model = \"Westeros Electrified\"\n",
    "base = message_ix.Scenario(mp, model=model, scenario=\"emission_bound\")\n",
    "scen = base.clone(\n",
    "    model=model,\n",
    "    scenario=\"firm_capacity\",\n",
    "    annotation=\"illustration of firm-capacity formulation\",\n",
    "    keep_solution=False,\n",
    ")\n",
    "scen.check_out()"
   ]
  },
  {
   "cell_type": "markdown",
   "metadata": {},
   "source": [
    "## Retrieve required parameters for modification"
   ]
  },
  {
   "cell_type": "code",
   "execution_count": null,
   "metadata": {},
   "outputs": [],
   "source": [
    "year_df = scen.vintage_and_active_years()\n",
    "vintage_years, act_years = year_df[\"year_vtg\"], year_df[\"year_act\"]\n",
    "model_horizon = scen.set(\"year\")\n",
    "country = \"Westeros\""
   ]
  },
  {
   "attachments": {},
   "cell_type": "markdown",
   "metadata": {},
   "source": [
    "## `\"peak_load_factor\"` - Describing the Electricity Sector\n",
    "For systems across the U.S., load duration curves are similar from one location to another. Based on load data it was calculated that the peak load is, on average, 1.7 times the average load (a load factor of 59%). As illustrated in the figure below, when coupled with a standard reserve margin of 15–20% of peak load, firm capacity requirements for the U.S. should be roughly twice average load. ([Sullivan et al., 2013](https://doi.org/10.1016/j.esr.2013.01.001))\n",
    "\n",
    "<img src='_static/firm-capacity.png' width='400'>\n",
    "\n",
    "In this example, a [`\"peak_load_factor\"`](https://docs.messageix.org/en/stable/model/MESSAGE/parameter_def.html?highlight=peak_load_factor#parameters-of-the-demand-section) of 2 is introduced for the `\"level\": \"secondary\"` and `\"commodity\": \"electricity\"`, which is the level/commodity where power plant generation is accounted for."
   ]
  },
  {
   "cell_type": "code",
   "execution_count": null,
   "metadata": {},
   "outputs": [],
   "source": [
    "peak_load_factor = pd.DataFrame(\n",
    "    {\n",
    "        \"node\": country,\n",
    "        \"commodity\": \"electricity\",\n",
    "        \"level\": \"secondary\",\n",
    "        \"year\": model_horizon,\n",
    "        \"time\": \"year\",\n",
    "        \"value\": 2,\n",
    "        \"unit\": \"-\",\n",
    "    }\n",
    ")\n",
    "scen.add_par(\"peak_load_factor\", peak_load_factor)"
   ]
  },
  {
   "cell_type": "markdown",
   "metadata": {},
   "source": [
    "## `rating_bin` and `reliability_factor` - Describing the power plant reliability\n",
    "### Ensuring enough firm capacity\n",
    "Toward meeting the firm capacity requirement, conventional generating technologies contribute their nameplate generation capacity (see figure above). \n",
    "\n",
    "This therefore implies that for conventional power plants i.e., for `\"coal_ppl\"`, a `\"reliability_factor\"` of 1 defines the `\"rating_bin\"` (the maximum share of technology in commodity use per rating) with [`rating=\"firm\"`](https://docs.messageix.org/en/stable/model/MESSAGE/parameter_def.html?highlight=rating_bin#input-output-mapping-costs-and-engineering-specifications). This is predefined as part of the model formulation.\n",
    "\n",
    "In order to account for the integration challenge at higher shares of variable renewables, their contribution to the capacity requirements i.e., their capacity value, declines as the market share of the technology increases. \n",
    "We therefore assume, that up to a share of 20% of the total electricity supply, the capacity of `\"wind_ppl\"` adds by 80% to the firm capacity of the power system. This means `value=0.2` of the `\"rating_bin\"` and `value=0.8` of the `\"reliability_factor\"`, defined as `rating=\"r1\"`. The remaining 80% of the installed capacity contribute to 5% to the firm capacity, and is defined as `rating=\"r2\"`. "
   ]
  },
  {
   "cell_type": "code",
   "execution_count": null,
   "metadata": {},
   "outputs": [],
   "source": [
    "# Create the base dictionary for \"rating_bin\" and \"reliability_factor\" parameter\n",
    "base_dict = dict(\n",
    "    node=country,\n",
    "    commodity=\"electricity\",\n",
    "    level=\"secondary\",\n",
    "    unit=\"-\",\n",
    "    time=\"year\",\n",
    "    year_act=model_horizon,\n",
    ")"
   ]
  },
  {
   "cell_type": "code",
   "execution_count": null,
   "metadata": {},
   "outputs": [],
   "source": [
    "# Add the ratings as a set\n",
    "scen.add_set(\"rating\", [\"r1\", \"r2\"])\n",
    "\n",
    "# For the wind power plant\n",
    "name = \"rating_bin\"\n",
    "\n",
    "rating_bin = make_df(name, **base_dict, technology=\"wind_ppl\", value=0.2, rating=\"r1\")\n",
    "scen.add_par(name, rating_bin)\n",
    "\n",
    "rating_bin = make_df(name, **base_dict, technology=\"wind_ppl\", value=0.8, rating=\"r2\")\n",
    "scen.add_par(name, rating_bin)\n",
    "\n",
    "name = \"reliability_factor\"\n",
    "\n",
    "reliability_factor = make_df(\n",
    "    name, **base_dict, technology=\"wind_ppl\", value=0.8, rating=\"r1\"\n",
    ")\n",
    "scen.add_par(name, reliability_factor)\n",
    "\n",
    "reliability_factor = make_df(\n",
    "    name, **base_dict, technology=\"wind_ppl\", value=0.05, rating=\"r2\"\n",
    ")\n",
    "scen.add_par(name, reliability_factor)\n",
    "\n",
    "# For the coal power plant\n",
    "reliability_factor = make_df(\n",
    "    name, **base_dict, technology=\"coal_ppl\", value=1, rating=\"firm\"\n",
    ")\n",
    "scen.add_par(name, reliability_factor)"
   ]
  },
  {
   "cell_type": "markdown",
   "metadata": {},
   "source": [
    "### Commit and solve"
   ]
  },
  {
   "cell_type": "code",
   "execution_count": null,
   "metadata": {},
   "outputs": [],
   "source": [
    "scen.commit(comment=\"define parameters for renewable implementation\")\n",
    "scen.set_as_default()"
   ]
  },
  {
   "cell_type": "code",
   "execution_count": null,
   "metadata": {},
   "outputs": [],
   "source": [
    "scen.solve()"
   ]
  },
  {
   "cell_type": "code",
   "execution_count": null,
   "metadata": {},
   "outputs": [],
   "source": [
    "scen.var(\"OBJ\")[\"lvl\"]"
   ]
  },
  {
   "cell_type": "markdown",
   "metadata": {},
   "source": [
    "# Plotting Results"
   ]
  },
  {
   "cell_type": "code",
   "execution_count": null,
   "metadata": {},
   "outputs": [],
   "source": [
    "from message_ix.reporting import Reporter\n",
    "from message_ix.util.tutorial import prepare_plots\n",
    "\n",
    "rep_base = Reporter.from_scenario(base)\n",
    "prepare_plots(rep_base)\n",
    "\n",
    "\n",
    "rep_scen = Reporter.from_scenario(scen)\n",
    "prepare_plots(rep_scen)"
   ]
  },
  {
   "cell_type": "markdown",
   "metadata": {},
   "source": [
    "## Activity\n",
    "***\n",
    "When comparing the results of the original scenario without the reliability factor ('*emission_bound*') and the results of our newly modified scenario ('*firm_capacity*'), for the same carbon price we can observe that the activity of the `\"wind_ppl\"` and the `\"coal_ppl\"` is identical, which is what we hoped to achieve."
   ]
  },
  {
   "cell_type": "markdown",
   "metadata": {},
   "source": [
    "### Scenario: '*emission_bound*'"
   ]
  },
  {
   "cell_type": "code",
   "execution_count": null,
   "metadata": {},
   "outputs": [],
   "source": [
    "rep_base.set_filters(t=[\"coal_ppl\", \"wind_ppl\"])\n",
    "rep_base.get(\"plot activity\")"
   ]
  },
  {
   "cell_type": "markdown",
   "metadata": {},
   "source": [
    "### Scenario: '*firm_capacity*'"
   ]
  },
  {
   "cell_type": "code",
   "execution_count": null,
   "metadata": {},
   "outputs": [],
   "source": [
    "rep_scen.set_filters(t=[\"coal_ppl\", \"wind_ppl\"])\n",
    "rep_scen.get(\"plot activity\")"
   ]
  },
  {
   "attachments": {},
   "cell_type": "markdown",
   "metadata": {},
   "source": [
    "## Capacity\n",
    "***\n",
    "The difference between the two scenarios can be seen when comparing the capacity. Whereas in the '*emission_bound*' scenario, coal capacity is quickly phased out, the `\"firm_capacity\"` scenario shows that there is a substantial amount of capacity required from the `\"coal_ppl\"` in order for the `\"wind_ppl\"` to achieve such high market share levels.\n",
    "\n",
    "Please note the different maximum values of the y-axis of both plots."
   ]
  },
  {
   "cell_type": "markdown",
   "metadata": {},
   "source": [
    "### Scenario: '*emission_bound*'"
   ]
  },
  {
   "cell_type": "code",
   "execution_count": null,
   "metadata": {},
   "outputs": [],
   "source": [
    "rep_base.get(\"plot capacity\")"
   ]
  },
  {
   "cell_type": "markdown",
   "metadata": {},
   "source": [
    "### Scenario: '*firm_capacity*'"
   ]
  },
  {
   "cell_type": "code",
   "execution_count": null,
   "metadata": {},
   "outputs": [],
   "source": [
    "rep_scen.get(\"plot capacity\")"
   ]
  },
  {
   "attachments": {},
   "cell_type": "markdown",
   "metadata": {},
   "source": [
    "## Prices\n",
    "***\n",
    "This has a substantial impact on the electricity price, which is reflected in the prices for lighting.\n",
    "\n",
    "Please note the different maximum values of the y-axis of both plots."
   ]
  },
  {
   "cell_type": "markdown",
   "metadata": {},
   "source": [
    "### Scenario: '*emission_bound*'"
   ]
  },
  {
   "cell_type": "code",
   "execution_count": null,
   "metadata": {},
   "outputs": [],
   "source": [
    "rep_base.set_filters(t=None, c=[\"light\"])\n",
    "rep_base.get(\"plot prices\")"
   ]
  },
  {
   "cell_type": "markdown",
   "metadata": {},
   "source": [
    "### Scenario: '*firm_capacity*'"
   ]
  },
  {
   "cell_type": "code",
   "execution_count": null,
   "metadata": {},
   "outputs": [],
   "source": [
    "rep_scen.set_filters(t=None, c=[\"light\"])\n",
    "rep_scen.get(\"plot prices\")"
   ]
  },
  {
   "cell_type": "code",
   "execution_count": null,
   "metadata": {},
   "outputs": [],
   "source": [
    "mp.close_db()"
   ]
  }
 ],
 "metadata": {
  "kernelspec": {
   "display_name": "message_ix",
   "language": "python",
   "name": "python3"
  },
  "language_info": {
   "codemirror_mode": {
    "name": "ipython",
    "version": 3
   },
   "file_extension": ".py",
   "mimetype": "text/x-python",
   "name": "python",
   "nbconvert_exporter": "python",
   "pygments_lexer": "ipython3",
   "version": "3.10.6"
  },
  "vscode": {
   "interpreter": {
    "hash": "29605b568787f5559ca1ba05da75d155c3dcfa15a1a63b1885b057c5465ade2e"
   }
  }
 },
 "nbformat": 4,
 "nbformat_minor": 2
}
