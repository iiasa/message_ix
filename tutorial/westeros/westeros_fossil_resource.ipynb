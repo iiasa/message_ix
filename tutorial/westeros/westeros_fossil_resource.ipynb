{
 "cells": [
  {
   "cell_type": "markdown",
   "metadata": {},
   "source": [
    "# Westeros Tutorial\n",
    "## Adding fossil resources\n",
    "\n",
    "In this tutorial we will cover the addition of fossil resources, i.e. resource supply curves, to the model.  This will include defining a `resource_volume` and respective costs, as well as the specifying what share of these resources must be preserved over time.  Multiple resource categories can be added for a single commodity, allowing, for example, a differentiation to be made between '*reserves*' and '*resources*' and/or the location of the resources, i.e. above or below ground; on- or off-shore.\n",
    "\n",
    "‘*Reserves*’ are generally defined as being those quantities for which geological and engineering information indicate with reasonable certainty that they can be recovered in the future from known reservoirs under existing economic and operating conditions. ‘*Resources*’ are detected quantities that cannot be profitably recovered with current technology, but might be recoverable in the future, as well as those quantities that are geologically possible, but yet to be found. Definitions are based on Rogner et al. (2012). \n",
    "\n",
    "In this tutorial, we will be adding two categories of coal resources.  The assumed potential is based on the coal requirements by the `coal_ppl` in the baseline, and will be split so that we can also observe the use of multiple resource categories. Further, we will also add a coal extraction technology, linking the coal resources to the primary energy level."
   ]
  },
  {
   "cell_type": "code",
   "execution_count": null,
   "metadata": {},
   "outputs": [],
   "source": [
    "import pandas as pd\n",
    "import ixmp as ix\n",
    "import message_ix\n",
    "\n",
    "from message_ix.utils import make_df\n",
    "\n",
    "%matplotlib inline"
   ]
  },
  {
   "cell_type": "code",
   "execution_count": null,
   "metadata": {},
   "outputs": [],
   "source": [
    "mp = ix.Platform(dbtype='HSQLDB')"
   ]
  },
  {
   "cell_type": "markdown",
   "metadata": {},
   "source": [
    "## Load the existing scenario '*carbon_tax*' and clone to a new scenario '*renewable_potential*' to which we will apply the `renewable_resource_constraints` constraint"
   ]
  },
  {
   "cell_type": "code",
   "execution_count": null,
   "metadata": {},
   "outputs": [],
   "source": [
    "model = 'Westeros Electrified'\n",
    "base = message_ix.Scenario(mp, model=model, scenario='baseline')\n",
    "scen = base.clone(model, 'fossil_resources', 'illustration of adding fossil resources', keep_solution=False)\n",
    "scen.check_out()"
   ]
  },
  {
   "cell_type": "markdown",
   "metadata": {},
   "source": [
    "## Retrieve parameters to perform subsequent addition of parameters and define 'base' dataframes for adding parameters"
   ]
  },
  {
   "cell_type": "code",
   "execution_count": null,
   "metadata": {},
   "outputs": [],
   "source": [
    "year_df = scen.vintage_and_active_years()\n",
    "vintage_years, act_years = year_df['year_vtg'], year_df['year_act']\n",
    "model_horizon = scen.set('year')\n",
    "country = 'Westeros'\n",
    "\n",
    "base_input = {\n",
    "    'node_loc': country,\n",
    "    'year_vtg': vintage_years\n",
    "    ,\n",
    "    'year_act': act_years,\n",
    "    'mode': 'standard',\n",
    "    'node_origin': country,\n",
    "    'commodity': 'electricity',\n",
    "    'time': 'year',\n",
    "    'time_origin': 'year',\n",
    "}\n",
    "\n",
    "base_output = {\n",
    "    'node_loc': country,\n",
    "    'year_vtg': vintage_years,\n",
    "    'year_act': act_years,\n",
    "    'mode': 'standard',\n",
    "    'node_dest': country,\n",
    "    'time': 'year',\n",
    "    'time_dest': 'year', \n",
    "    'unit': '%',\n",
    "}\n",
    "\n",
    "base_capacity_factor = {\n",
    "    'node_loc': country,\n",
    "    'year_vtg': vintage_years,\n",
    "    'year_act': act_years,\n",
    "    'time': 'year',\n",
    "    'unit': '%',\n",
    "}\n",
    "\n",
    "base_technical_lifetime = {\n",
    "    'node_loc': country,\n",
    "    'year_vtg': model_horizon,\n",
    "    'unit': 'y',\n",
    "}\n",
    "\n",
    "base_inv_cost = {\n",
    "    'node_loc': country,\n",
    "    'year_vtg': model_horizon,\n",
    "    'unit': 'USD/GWa',\n",
    "}\n",
    "\n",
    "base_fix_cost = {\n",
    "    'node_loc': country,\n",
    "    'year_vtg': vintage_years,\n",
    "    'year_act': act_years,\n",
    "    'unit': 'USD/GWa',\n",
    "}\n",
    "\n",
    "base_var_cost = {\n",
    "    'node_loc': country,\n",
    "    'year_vtg': vintage_years,\n",
    "    'year_act': act_years,\n",
    "    'mode': 'standard',\n",
    "    'time': 'year',\n",
    "    'unit': 'USD/GWa',\n",
    "}"
   ]
  },
  {
   "cell_type": "markdown",
   "metadata": {},
   "source": [
    "## `resource_potential` and `grade`- Describing the fossil resource potentials\n",
    "\n",
    "Introducing fossil resources requires the following steps to be carried out:\n",
    "1. Add level and commodity required for resources:\n",
    "   - Specify the new level and commodity which accounts for the coal resources.\n",
    "   - Specify which level is a `resource`\n",
    "2. Add potentials and corresponding parameters\n",
    "   - Add `grade`\n",
    "   - Add `resource_volume`\n",
    "   - Add `resource_remaining`\n",
    "   - Add `resource_cost`\n",
    "   - Add `historical_extraction`\n",
    "3. Add an extraction technology for coal\n",
    "4. Modify existing `coal_ppl` technology by adding a new `input` parameter."
   ]
  },
  {
   "cell_type": "markdown",
   "metadata": {},
   "source": [
    "For the purpose of determining the required amount of coal for our fictional example, we will retrieve the activity level of the `coal_ppl` in the '*baseline*' scenario. As the activity is an annual value, we will need to multiply the annual values by the respective period length using the parameter `duration_period`. By summing up the resulting values over the model time horizon, we can determine the cumulative the required amount of coal by the `coal_ppl`."
   ]
  },
  {
   "cell_type": "code",
   "execution_count": null,
   "metadata": {},
   "outputs": [],
   "source": [
    "# Retrieve activity from the baseline scenario for the `coal_ppl`\n",
    "# and modify dataframe so it can be multiplies by the period length\n",
    "coal_ppl_act = base.var('ACT', filters={'technology': ['coal_ppl']})\\\n",
    "                   .drop(['time', 'mrg', 'year_vtg'], axis=1)\\\n",
    "                   .groupby(['node_loc', 'technology', 'mode', 'year_act']).sum()\\\n",
    "                   .reset_index()\\\n",
    "                   .set_index('year_act')\n",
    "coal_ppl_act"
   ]
  },
  {
   "cell_type": "code",
   "execution_count": null,
   "metadata": {},
   "outputs": [],
   "source": [
    "# Retrieve the parameter `duration_period` to determine the period length\n",
    "year_length = base.par('duration_period')\\\n",
    "                  .drop(['unit'], axis=1)\\\n",
    "                  .rename(columns={'year': 'year_act',\n",
    "                                   'value': 'lvl'})\\\n",
    "                  .set_index('year_act')\n",
    "year_length"
   ]
  },
  {
   "cell_type": "code",
   "execution_count": null,
   "metadata": {},
   "outputs": [],
   "source": [
    "# multiply the activity of the coal_ppl by the period length and sum over all years\n",
    "coal_ppl_act['lvl'] *= year_length['lvl']\n",
    "coal_ppl_act['lvl'].sum()"
   ]
  },
  {
   "cell_type": "markdown",
   "metadata": {},
   "source": [
    "We now know that in the '*baseline*' scenario the `coal_ppl` required 3942 GWa of coal.  We will set the potentials to a slightly lower amount so that we can clearly see the impact on the model results. In addition, we will also define the parameter `resource_remaining`.  This parameter defines the share of resources that can be extracted in relation to the total potential specified for a certain grade, i.e. restricting the model so that it cannot use 100% resources in a single timestep.  This is similar to the aim of a market diffusion constraint for technologies; also when the market price is 10\\$, and two resources cost 2\\$ and 4\\$ respectively, then the model would only choose the cheepest, whereas in reality both would be extracted."
   ]
  },
  {
   "cell_type": "code",
   "execution_count": null,
   "metadata": {},
   "outputs": [],
   "source": [
    "coal_ppl_hact = base.par('historical_activity', filters={'technology': ['coal_ppl']})\n",
    "coal_ppl_hact"
   ]
  },
  {
   "cell_type": "code",
   "execution_count": null,
   "metadata": {},
   "outputs": [],
   "source": [
    "# {grade: [volume, cost, share remaining, historical_extraction]}\n",
    "#potentials = {'a': [1000, 1.0, .3, 280],\n",
    "#              'b': [2942, 6.0, .3, 0]}\n",
    "\n",
    "potentials = {'a': [1000, 1.0, .6, 280],\n",
    "              'b': [2942, 6.0, .6, 0]}"
   ]
  },
  {
   "cell_type": "code",
   "execution_count": null,
   "metadata": {},
   "outputs": [],
   "source": [
    "commodity= 'coal'\n",
    "level = 'resource'\n",
    "scen.add_set('commodity', commodity)\n",
    "scen.add_set('level', level)\n",
    "scen.add_set('level_resource', level)\n",
    "for grade in potentials:\n",
    "    scen.add_set('grade', grade)\n",
    "    # index for resource_volume is ['node', 'commodity', 'grade', 'value', 'unit']\n",
    "    df = pd.DataFrame({'node': [country],\n",
    "                       'commodity': commodity,\n",
    "                       'grade': grade,\n",
    "                       'value': potentials[grade][0],\n",
    "                       'unit': 'GWa'})\n",
    "    scen.add_par('resource_volume', df)\n",
    "    \n",
    "    # index for resource_remaining is ['node', 'commodity', 'grade', 'year', 'value', 'unit']\n",
    "    df = pd.DataFrame({'node': country,\n",
    "                       'commodity': commodity,\n",
    "                       'grade': grade,\n",
    "                       'year': model_horizon.values.tolist(),\n",
    "                       'value': potentials[grade][2],\n",
    "                       'unit': 'GWa'})\n",
    "    scen.add_par('resource_remaining', df)\n",
    "    \n",
    "    # index for resouce_cost is ['node', 'commodity', 'grade', 'year', 'value', 'unit']\n",
    "    df = pd.DataFrame({'node': country,\n",
    "                       'commodity': commodity,\n",
    "                       'grade': grade,\n",
    "                       'year': model_horizon.values.tolist(),\n",
    "                       'value': potentials[grade][1],\n",
    "                       'unit': 'GWa'})\n",
    "    scen.add_par('resource_cost', df)\n",
    "    \n",
    "    # index for historical_extraction is ['node', 'commodity', 'grade', 'year', 'value', 'unit']\n",
    "    df = pd.DataFrame({'node': country,\n",
    "                       'commodity': commodity,\n",
    "                       'grade': grade,\n",
    "                       'year': [690],\n",
    "                       'value':  potentials[grade][3],\n",
    "                       'unit': 'GWa'})\n",
    "    scen.add_par('historical_extraction', df)"
   ]
  },
  {
   "cell_type": "code",
   "execution_count": null,
   "metadata": {},
   "outputs": [],
   "source": [
    "level = 'primary'\n",
    "scen.add_set('level', level)\n",
    "\n",
    "tec = 'coal_extr'\n",
    "scen.add_set('technology', tec)\n",
    "\n",
    "df = make_df(base_output, technology=tec, commodity=commodity, \n",
    "                   level=level, value=1)\n",
    "scen.add_par('output', df)\n",
    "\n",
    "df = make_df(base_input, technology=tec, commodity=commodity, \n",
    "                   level='resource', value=1, unit='%')\n",
    "scen.add_par('input', df)\n",
    "\n",
    "df = make_df(base_capacity_factor, technology=tec, value=1)\n",
    "scen.add_par('capacity_factor', df)\n",
    "\n",
    "df = make_df(base_technical_lifetime, technology=tec, value=10)\n",
    "scen.add_par('technical_lifetime', df)\n",
    "\n",
    "df = make_df(base_inv_cost, technology=tec, value=10)\n",
    "scen.add_par('inv_cost', df)\n",
    "\n",
    "df = make_df(base_fix_cost, technology=tec, value=2)\n",
    "scen.add_par('fix_cost', df)\n",
    "\n",
    "df = make_df(base_var_cost, technology=tec, value=2)\n",
    "scen.add_par('var_cost', df)"
   ]
  },
  {
   "cell_type": "code",
   "execution_count": null,
   "metadata": {},
   "outputs": [],
   "source": [
    "df = make_df(base_input, technology='coal_ppl', commodity=commodity, \n",
    "                   level=level, value=1, unit='%')\n",
    "scen.add_par('input', df)"
   ]
  },
  {
   "cell_type": "markdown",
   "metadata": {},
   "source": [
    "### Commit and solve"
   ]
  },
  {
   "cell_type": "code",
   "execution_count": null,
   "metadata": {},
   "outputs": [],
   "source": [
    "scen.commit(comment='added coal resources')\n",
    "scen.set_as_default()"
   ]
  },
  {
   "cell_type": "code",
   "execution_count": null,
   "metadata": {},
   "outputs": [],
   "source": [
    "scen.solve()"
   ]
  },
  {
   "cell_type": "code",
   "execution_count": null,
   "metadata": {},
   "outputs": [],
   "source": [
    "scen.var('OBJ')['lvl']"
   ]
  },
  {
   "cell_type": "code",
   "execution_count": null,
   "metadata": {},
   "outputs": [],
   "source": [
    "base.var('ACT', filters={'technology': ['coal_ppl']})"
   ]
  },
  {
   "cell_type": "code",
   "execution_count": null,
   "metadata": {},
   "outputs": [],
   "source": [
    "scen.var('ACT', filters={'technology': ['coal_ppl']})"
   ]
  },
  {
   "cell_type": "markdown",
   "metadata": {},
   "source": [
    "# Plotting Results"
   ]
  },
  {
   "cell_type": "code",
   "execution_count": null,
   "metadata": {},
   "outputs": [],
   "source": [
    "from tools import Plots\n",
    "p = Plots(scen, country, firstyear=700) # scenario: 'renewable_potential' (emission_bound scenario with firm capacity)\n",
    "b = Plots(base, country, firstyear=700) # scenario: 'carbon_tax' (without renewable potentials)"
   ]
  },
  {
   "cell_type": "markdown",
   "metadata": {},
   "source": [
    "## Activity\n",
    "***\n",
    "When comparing the results of the original scenario without the renewable potentials ('*carbon_tax*') with the results of our newly modified scenario ('*renewable_potential*'), for the same carbon price we can observe that the activity of the `wind_ppl` has substantially decreased.  This is because through adding potentials with corresponding plant factors, the `wind_ppl` has become increasingly economicaly unattractive and despite the carbon tax is not used. \n",
    "Note, that the `coal_ppl` still has a plant factor of 1 and has no resource constraints, thus in order to further improve the model, the parameters for the `coal_ppl` would need to be adjusted."
   ]
  },
  {
   "cell_type": "markdown",
   "metadata": {},
   "source": [
    "### Scenario: '*carbon_tax*'"
   ]
  },
  {
   "cell_type": "code",
   "execution_count": null,
   "metadata": {},
   "outputs": [],
   "source": [
    "b.plot_activity(baseyear=True, subset=['coal_ppl', 'wind_ppl'])"
   ]
  },
  {
   "cell_type": "markdown",
   "metadata": {},
   "source": [
    "### Scenario: '*renewable_potential*'"
   ]
  },
  {
   "cell_type": "code",
   "execution_count": null,
   "metadata": {},
   "outputs": [],
   "source": [
    "p.plot_activity(baseyear=True, subset=['coal_ppl', 'wind_ppl'])"
   ]
  },
  {
   "cell_type": "markdown",
   "metadata": {},
   "source": [
    "## Capacity\n",
    "***\n",
    "The behavior observed for the activity of the two electricity generation technologies is reflected in the capacity. No further capacity is built for the `wind_ppl` and thus is phased out by 720."
   ]
  },
  {
   "cell_type": "markdown",
   "metadata": {},
   "source": [
    "### Scenario: '*carbon_tax*'"
   ]
  },
  {
   "cell_type": "code",
   "execution_count": null,
   "metadata": {},
   "outputs": [],
   "source": [
    "b.plot_capacity(baseyear=True, subset=['coal_ppl', 'wind_ppl'])"
   ]
  },
  {
   "cell_type": "markdown",
   "metadata": {},
   "source": [
    "### Scenario: '*renewable_potential*'"
   ]
  },
  {
   "cell_type": "code",
   "execution_count": null,
   "metadata": {},
   "outputs": [],
   "source": [
    "p.plot_capacity(baseyear=True, subset=['coal_ppl', 'wind_ppl'])"
   ]
  },
  {
   "cell_type": "markdown",
   "metadata": {},
   "source": [
    "## Prices\n",
    "***\n",
    "Especially in the earlier model time periods, electricity and therefore the price for light increase dramatically.  The increase in 720 is due to the emission taxes associated with the operation of the `coal_ppl`."
   ]
  },
  {
   "cell_type": "markdown",
   "metadata": {},
   "source": [
    "### Scenario: '*carbon_tax*'"
   ]
  },
  {
   "cell_type": "code",
   "execution_count": null,
   "metadata": {},
   "outputs": [],
   "source": [
    "b.plot_prices(subset=['light'], baseyear=True)"
   ]
  },
  {
   "cell_type": "markdown",
   "metadata": {},
   "source": [
    "### Scenario: '*renewable_potential*'"
   ]
  },
  {
   "cell_type": "code",
   "execution_count": null,
   "metadata": {},
   "outputs": [],
   "source": [
    "p.plot_prices(subset=['light'], baseyear=True)"
   ]
  },
  {
   "cell_type": "code",
   "execution_count": null,
   "metadata": {},
   "outputs": [],
   "source": [
    "mp.close_db()"
   ]
  },
  {
   "cell_type": "code",
   "execution_count": null,
   "metadata": {},
   "outputs": [],
   "source": []
  }
 ],
 "metadata": {
  "kernelspec": {
   "display_name": "Python [default]",
   "language": "python",
   "name": "python3"
  },
  "language_info": {
   "codemirror_mode": {
    "name": "ipython",
    "version": 3
   },
   "file_extension": ".py",
   "mimetype": "text/x-python",
   "name": "python",
   "nbconvert_exporter": "python",
   "pygments_lexer": "ipython3",
   "version": "3.6.5"
  }
 },
 "nbformat": 4,
 "nbformat_minor": 2
}
