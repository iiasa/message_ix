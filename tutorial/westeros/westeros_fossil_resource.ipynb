{
 "cells": [
  {
   "cell_type": "markdown",
   "metadata": {},
   "source": [
    "# Westeros Tutorial Part 3a- Adding fossil resources (i)\n",
    "\n",
    "This tutorial shows how to add fossil fuel resources in the form of resource supply curves to a MESSAGEix scenario. This includes defining `resource_volume` and `resource_cost`. Multiple resource categories can be added for a single commodity like coal, allowing, for example, a differentiation between '*reserves*' and '*resources*', the quality, or location of the resources, i.e., above or below ground, or on- or off-shore.\n",
    "\n",
    "## Difference between reserves and resources\n",
    "‘*Reserves*’ are generally defined as being those quantities for which geological and engineering information indicate with reasonable certainty that they can be recovered in the future from known reservoirs under existing economic and operating conditions. ‘*Resources*’ are detected quantities that cannot be profitably recovered with current technology, but might be recoverable in the future, as well as those quantities that are geologically possible, but yet to be found. Definitions are based on Rogner et al. (2012). \n",
    "\n",
    "In this tutorial, we add two categories of coal resources. We assume a resource potential based on the coal requirements by the `coal_ppl` in the baseline scenario. We also show the use of multiple resource categories. \n",
    "\n",
    "Two further tutorials on adding fossil resources are available, which will elaborate on the modelling of fossil resources. Part (ii) will introduce the constraint `resource_remaining`, for specifying what share of these resources must be preserved over time.  In Part (iii), we will further add a coal extraction technology, linking the coal resources to the primary energy level, which can be used to model energy requirements of the extraction process."
   ]
  },
  {
   "cell_type": "code",
   "execution_count": null,
   "metadata": {},
   "outputs": [],
   "source": [
    "# Importing required software packages\n",
    "import pandas as pd\n",
    "import ixmp\n",
    "import message_ix\n",
    "\n",
    "from message_ix.utils import make_df\n",
    "\n",
    "%matplotlib inline"
   ]
  },
  {
   "cell_type": "code",
   "execution_count": null,
   "metadata": {},
   "outputs": [],
   "source": [
    "# Loading modeling platform\n",
    "mp = ixmp.Platform()"
   ]
  },
  {
   "cell_type": "markdown",
   "metadata": {},
   "source": [
    "## Making a clone of the existing scenario '*baseline*'"
   ]
  },
  {
   "cell_type": "code",
   "execution_count": null,
   "metadata": {},
   "outputs": [],
   "source": [
    "model = 'Westeros Electrified'\n",
    "base = message_ix.Scenario(mp, model=model, scenario='baseline')\n",
    "# Cloning with a new scenario name 'fossil_resources'\n",
    "scen = base.clone(model, 'fossil_resources', 'illustration of adding fossil resources', keep_solution=False)\n",
    "scen.check_out()"
   ]
  },
  {
   "cell_type": "markdown",
   "metadata": {},
   "source": [
    "## Resource potentials in MESSAGEix\n",
    "\n",
    "Introducing fossil resources requires the following steps to be carried out:\n",
    "1. Add level and commodity required for resources:\n",
    "   - Defining a new level and commodity which accounts for the coal resources.\n",
    "   - Specifying this level as `resource`\n",
    "\n",
    "\n",
    "2. Add resource potentials and corresponding parameters, including:\n",
    "   - `grade`\n",
    "   - `resource_volume`\n",
    "   - `resource_cost`\n",
    "   - `historical_extraction`\n",
    "\n",
    "\n",
    "3. Linking the existing `coal_ppl` technology to the relevant resource, by updating the `input` parameter."
   ]
  },
  {
   "cell_type": "markdown",
   "metadata": {},
   "source": [
    "### 1. Defining level, grade, and commodity\n",
    "We define two grades *a and b* for coal resources. Later, we define different costs for these grades."
   ]
  },
  {
   "cell_type": "code",
   "execution_count": null,
   "metadata": {},
   "outputs": [],
   "source": [
    "# Adding required information via MESSAGEix sets\n",
    "commodity= 'coal'\n",
    "level = 'resource'\n",
    "scen.add_set('commodity', commodity)\n",
    "scen.add_set('level', level)\n",
    "scen.add_set('level_resource', level)\n",
    "scen.add_set('grade', ['a', 'b'])"
   ]
  },
  {
   "cell_type": "markdown",
   "metadata": {},
   "source": [
    "### 2. Setting up parameters\n",
    "Based on the coal use in the *baseline* scenario, we set a sufficient potential for coal resources to be used by `coal_ppl`. In real examples, the amount of resources can be limited, which will be one of the criteria for employing different technologies. We update parameter `historical_extraction`, though it is not used in this tutorial. We show this as it can be useful when there is a history of resource extraction."
   ]
  },
  {
   "cell_type": "code",
   "execution_count": null,
   "metadata": {},
   "outputs": [],
   "source": [
    "# Retrieving model period information\n",
    "year_df = scen.vintage_and_active_years()\n",
    "vintage_years, act_years = year_df['year_vtg'], year_df['year_act']\n",
    "model_horizon = scen.set('year')\n",
    "country = 'Westeros'"
   ]
  },
  {
   "cell_type": "code",
   "execution_count": null,
   "metadata": {},
   "outputs": [],
   "source": [
    "# Information for each \"grade\" including, potential, remaining share, historical extraction:\n",
    "potentials = {'a': [1000, 1.0, 280],\n",
    "              'b': [2942, 6.0, 0]}"
   ]
  },
  {
   "cell_type": "code",
   "execution_count": null,
   "metadata": {},
   "outputs": [],
   "source": [
    "# Adding required information via MESSAGEix sets\n",
    "for grade in potentials.keys():\n",
    "\n",
    "    # Adding resource potentials\n",
    "    # The index sets for resource_volume are ['node', 'commodity', 'grade', 'value', 'unit']\n",
    "    df = pd.DataFrame({'node': [country],\n",
    "                       'commodity': commodity,\n",
    "                       'grade': grade,\n",
    "                       'value': potentials[grade][0],\n",
    "                       'unit': 'GWa'})\n",
    "    scen.add_par('resource_volume', df)\n",
    "    \n",
    "    # Adding resource costs\n",
    "    # The index sets for resource_cost are ['node', 'commodity', 'grade', 'year', 'value', 'unit']\n",
    "    df = pd.DataFrame({'node': country,\n",
    "                       'commodity': commodity,\n",
    "                       'grade': grade,\n",
    "                       'year': model_horizon.values.tolist(),\n",
    "                       'value': potentials[grade][1],\n",
    "                       'unit': 'GWa'})\n",
    "    scen.add_par('resource_cost', df)\n",
    "    \n",
    "    # Adding historical extraction\n",
    "    # The index sets for historical_extraction are ['node', 'commodity', 'grade', 'year', 'value', 'unit']\n",
    "    df = pd.DataFrame({'node': country,\n",
    "                       'commodity': commodity,\n",
    "                       'grade': grade,\n",
    "                       'year': [690],\n",
    "                       'value':  potentials[grade][2],\n",
    "                       'unit': 'GWa'})\n",
    "    scen.add_par('historical_extraction', df)"
   ]
  },
  {
   "cell_type": "markdown",
   "metadata": {},
   "source": [
    "### 3. Linking `coal_ppl` to resources through `input` parameter"
   ]
  },
  {
   "cell_type": "code",
   "execution_count": null,
   "metadata": {},
   "outputs": [],
   "source": [
    "# A base dataframe for \"input\" parameter\n",
    "base_input = {\n",
    "    'node_loc': country,\n",
    "    'year_vtg': vintage_years\n",
    "    ,\n",
    "    'year_act': act_years,\n",
    "    'mode': 'standard',\n",
    "    'node_origin': country,\n",
    "    'commodity': 'electricity',\n",
    "    'time': 'year',\n",
    "    'time_origin': 'year',\n",
    "}\n",
    "\n",
    "df = make_df(base_input, technology='coal_ppl', commodity='coal', \n",
    "                   level='resource', value=1, unit='%')\n",
    "\n",
    "scen.add_par('input', df)"
   ]
  },
  {
   "cell_type": "markdown",
   "metadata": {},
   "source": [
    "### Commit and solve"
   ]
  },
  {
   "cell_type": "code",
   "execution_count": null,
   "metadata": {},
   "outputs": [],
   "source": [
    "scen.commit(comment='added coal resources')\n",
    "scen.set_as_default()"
   ]
  },
  {
   "cell_type": "code",
   "execution_count": null,
   "metadata": {},
   "outputs": [],
   "source": [
    "scen.solve()"
   ]
  },
  {
   "cell_type": "code",
   "execution_count": null,
   "metadata": {},
   "outputs": [],
   "source": [
    "scen.var('OBJ')['lvl']"
   ]
  },
  {
   "cell_type": "markdown",
   "metadata": {},
   "source": [
    "# Plotting Results"
   ]
  },
  {
   "cell_type": "code",
   "execution_count": null,
   "metadata": {},
   "outputs": [],
   "source": [
    "from tools import Plots\n",
    "b = Plots(base, country, firstyear=700) # scenario: 'baseline' (without coal resource potential)\n",
    "p = Plots(scen, country, firstyear=700) # scenario: 'fossil_resources' (baseline scenario with coal resource potentials)"
   ]
  },
  {
   "cell_type": "markdown",
   "metadata": {},
   "source": [
    "## Activity\n",
    "***\n",
    "When comparing the results of the original scenario without coal resource potentials ('*baseline*') to the results of our newly modified scenario ('*fossil_resources*'), the activity of the both electricity generation technologies is the same."
   ]
  },
  {
   "cell_type": "markdown",
   "metadata": {},
   "source": [
    "### Scenario: '*baseline*'"
   ]
  },
  {
   "cell_type": "code",
   "execution_count": null,
   "metadata": {},
   "outputs": [],
   "source": [
    "b.plot_activity(baseyear=True, subset=['coal_ppl', 'wind_ppl'])"
   ]
  },
  {
   "cell_type": "markdown",
   "metadata": {},
   "source": [
    "### Scenario: '*fossil_resource*'"
   ]
  },
  {
   "cell_type": "code",
   "execution_count": null,
   "metadata": {},
   "outputs": [],
   "source": [
    "p.plot_activity(baseyear=True, subset=['coal_ppl', 'wind_ppl'])"
   ]
  },
  {
   "cell_type": "markdown",
   "metadata": {},
   "source": [
    "## Capacity\n",
    "***\n",
    "As is the case for activity, capacity also remains the same in both scenarios."
   ]
  },
  {
   "cell_type": "markdown",
   "metadata": {},
   "source": [
    "### Scenario: '*baseline*'"
   ]
  },
  {
   "cell_type": "code",
   "execution_count": null,
   "metadata": {},
   "outputs": [],
   "source": [
    "b.plot_capacity(baseyear=True, subset=['coal_ppl', 'wind_ppl'])"
   ]
  },
  {
   "cell_type": "markdown",
   "metadata": {},
   "source": [
    "### Scenario: '*fossil_resource*'"
   ]
  },
  {
   "cell_type": "code",
   "execution_count": null,
   "metadata": {},
   "outputs": [],
   "source": [
    "p.plot_capacity(baseyear=True, subset=['coal_ppl', 'wind_ppl'])"
   ]
  },
  {
   "cell_type": "markdown",
   "metadata": {},
   "source": [
    "## Prices\n",
    "***\n",
    "The impact of introducing coal resources and therewith associated costs, only becomes noticeable when looking at prices for `light`.  Especially in the latter two timeperiods the impact is noticable, where prices increase compared to the '*baseline*' scenario."
   ]
  },
  {
   "cell_type": "markdown",
   "metadata": {},
   "source": [
    "### Scenario: '*baseline*'"
   ]
  },
  {
   "cell_type": "code",
   "execution_count": null,
   "metadata": {},
   "outputs": [],
   "source": [
    "b.plot_prices(subset=['light'], baseyear=True)"
   ]
  },
  {
   "cell_type": "markdown",
   "metadata": {},
   "source": [
    "### Scenario: '*fossil_resource*'"
   ]
  },
  {
   "cell_type": "code",
   "execution_count": null,
   "metadata": {},
   "outputs": [],
   "source": [
    "p.plot_prices(subset=['light'], baseyear=True)"
   ]
  },
  {
   "cell_type": "markdown",
   "metadata": {},
   "source": [
    "## Extraction\n",
    "***\n",
    "Looking at the extraction over time, we can see that the model uses up the available potential of the cheaper `grade` *a* early on. The switch to the more expensive `grade` *b* as of 710 is the reason for the increase in the price of `light`."
   ]
  },
  {
   "cell_type": "markdown",
   "metadata": {},
   "source": [
    "### Scenario: '*fossil_resource*'"
   ]
  },
  {
   "cell_type": "code",
   "execution_count": null,
   "metadata": {},
   "outputs": [],
   "source": [
    "p.plot_extraction(subset=['coal'], baseyear=True, bygrade=True)"
   ]
  },
  {
   "cell_type": "code",
   "execution_count": null,
   "metadata": {},
   "outputs": [],
   "source": [
    "mp.close_db()"
   ]
  }
 ],
 "metadata": {
  "kernelspec": {
   "display_name": "Python 3",
   "language": "python",
   "name": "python3"
  },
  "language_info": {
   "codemirror_mode": {
    "name": "ipython",
    "version": 3
   },
   "file_extension": ".py",
   "mimetype": "text/x-python",
   "name": "python",
   "nbconvert_exporter": "python",
   "pygments_lexer": "ipython3",
   "version": "3.7.1"
  }
 },
 "nbformat": 4,
 "nbformat_minor": 2
}
