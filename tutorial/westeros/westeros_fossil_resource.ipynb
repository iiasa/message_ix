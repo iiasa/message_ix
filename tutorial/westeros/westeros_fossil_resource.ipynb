{
 "cells": [
  {
   "attachments": {},
   "cell_type": "markdown",
   "metadata": {},
   "source": [
    "# Westeros Tutorial - Introducing resource: Adding fossil resources\n",
    "\n",
    "This tutorial shows how to add fossil fuel resources in the form of resource supply curves to a MESSAGEix scenario. This includes defining `\"resource_volume\"` and `\"resource_cost\"`. Multiple resource categories can be added for a single commodity like coal, allowing, for example, a differentiation between '*reserves*' and '*resources*', the quality, or location of the resources, i.e., above or below ground, or on- or off-shore.\n",
    "\n",
    "## Difference between reserves and resources\n",
    "\"Reserves\" are generally defined as being those quantities for which geological and engineering information indicate with reasonable certainty that they can be recovered in the future from known reservoirs under existing economic and operating conditions. \"Resources\" are detected quantities that cannot be profitably recovered with current technology, but might be recoverable in the future, as well as those quantities that are geologically possible, but yet to be found. Definitions are based on [Rogner et al. (2012)](https://doi.org/10.1017/CBO9780511793677.013). \n",
    "\n",
    "In this tutorial, we add two categories of coal resources. We assume a resource potential based on the coal requirements by the `\"coal_ppl\"` in the baseline scenario. We also show the use of multiple resource categories. \n",
    "\n",
    "Two further tutorials on adding fossil resources are available, which will elaborate on the modelling of fossil resources. Part (ii) will introduce the constraint `\"resource_remaining\"`, for specifying what share of these resources must be preserved over time.  In Part (iii), we will further add a coal extraction technology, linking the coal resources to the primary energy level, which can be used to model energy requirements of the extraction process.\n",
    "\n",
    "**Pre-requisites**\n",
    "- You have the *MESSAGEix* framework installed and working\n",
    "- You have run Westeros baseline scenario (`westeros_baseline.ipynb`) and solved it successfully"
   ]
  },
  {
   "cell_type": "markdown",
   "metadata": {},
   "source": [
    "<img src='_static/fossil_resource_res.png' width='900'>"
   ]
  },
  {
   "cell_type": "code",
   "execution_count": null,
   "metadata": {},
   "outputs": [],
   "source": [
    "# Importing required software packages\n",
    "import pandas as pd\n",
    "import ixmp\n",
    "import message_ix\n",
    "\n",
    "from message_ix.util import make_df\n",
    "\n",
    "%matplotlib inline"
   ]
  },
  {
   "cell_type": "code",
   "execution_count": null,
   "metadata": {},
   "outputs": [],
   "source": [
    "# Loading modeling platform\n",
    "mp = ixmp.Platform()"
   ]
  },
  {
   "cell_type": "markdown",
   "metadata": {},
   "source": [
    "## Making a clone of the existing scenario '*baseline*'"
   ]
  },
  {
   "cell_type": "code",
   "execution_count": null,
   "metadata": {},
   "outputs": [],
   "source": [
    "model = \"Westeros Electrified\"\n",
    "base = message_ix.Scenario(mp, model=model, scenario=\"baseline\")\n",
    "# Cloning with a new scenario name 'fossil_resources'\n",
    "scen = base.clone(\n",
    "    model,\n",
    "    \"fossil_resources\",\n",
    "    \"illustration of adding fossil resources\",\n",
    "    keep_solution=False,\n",
    ")\n",
    "scen.check_out()"
   ]
  },
  {
   "cell_type": "markdown",
   "metadata": {},
   "source": [
    "## Resource potentials in MESSAGEix\n",
    "\n",
    "Introducing fossil resources requires the following steps to be carried out:\n",
    "1. Add level and commodity required for resources:\n",
    "   - Defining a new level and commodity which accounts for the coal resources.\n",
    "   - Specifying this level as `\"resource\"`\n",
    "\n",
    "\n",
    "2. Add resource potentials and corresponding parameters, including:\n",
    "   - `\"grade\"`\n",
    "   - `\"resource_volume\"`\n",
    "   - `\"resource_cost\"`\n",
    "   - `\"historical_extraction\"`\n",
    "\n",
    "\n",
    "3. Linking the existing `\"coal_ppl\"` technology to the relevant resource, by updating the `\"input\"` parameter."
   ]
  },
  {
   "attachments": {},
   "cell_type": "markdown",
   "metadata": {},
   "source": [
    "### 1. Defining level, grade, and commodity\n",
    "We define two grades *a* and *b* for coal resources. Later, we define different costs for these grades."
   ]
  },
  {
   "cell_type": "code",
   "execution_count": null,
   "metadata": {},
   "outputs": [],
   "source": [
    "# Adding required information via MESSAGEix sets\n",
    "commodity = \"coal\"\n",
    "level = \"resource\"\n",
    "scen.add_set(\"commodity\", commodity)\n",
    "scen.add_set(\"level\", level)\n",
    "scen.add_set(\"level_resource\", level)\n",
    "scen.add_set(\"grade\", [\"a\", \"b\"])"
   ]
  },
  {
   "attachments": {},
   "cell_type": "markdown",
   "metadata": {},
   "source": [
    "### 2. Setting up parameters\n",
    "Based on the coal use in the *baseline* scenario, we set a sufficient potential for coal resources to be used by `\"coal_ppl\"`. In real examples, the amount of resources can be limited, which will be one of the criteria for employing different technologies. We update the parameter `\"historical_extraction\"`, though it is not used in this tutorial. We show this as it can be useful when there is a history of resource extraction."
   ]
  },
  {
   "cell_type": "code",
   "execution_count": null,
   "metadata": {},
   "outputs": [],
   "source": [
    "# Retrieving model period information\n",
    "year_df = scen.vintage_and_active_years()\n",
    "vintage_years, act_years = year_df[\"year_vtg\"], year_df[\"year_act\"]\n",
    "model_horizon = scen.set(\"year\")\n",
    "country = \"Westeros\""
   ]
  },
  {
   "cell_type": "code",
   "execution_count": null,
   "metadata": {},
   "outputs": [],
   "source": [
    "# Information for each \"grade\" including potential, costs, historical extraction:\n",
    "potentials = {\"a\": [1500, 10, 280], \"b\": [3500, 52, 0]}"
   ]
  },
  {
   "cell_type": "code",
   "execution_count": null,
   "metadata": {},
   "outputs": [],
   "source": [
    "# Adding required information via MESSAGEix sets\n",
    "for grade in potentials.keys():\n",
    "\n",
    "    # Adding resource potentials\n",
    "    # The index sets for resource_volume are\n",
    "    # [\"node\", \"commodity\", \"grade\", \"value\", \"unit\"]\n",
    "    df = pd.DataFrame(\n",
    "        {\n",
    "            \"node\": [country],\n",
    "            \"commodity\": commodity,\n",
    "            \"grade\": grade,\n",
    "            \"value\": potentials[grade][0],\n",
    "            \"unit\": \"GWa\",\n",
    "        }\n",
    "    )\n",
    "    scen.add_par(\"resource_volume\", df)\n",
    "\n",
    "    # Adding resource costs\n",
    "    # The index sets for resource_cost are\n",
    "    # [\"node\", \"commodity\", \"grade\", \"year\", \"value\", \"unit\"]\n",
    "    df = pd.DataFrame(\n",
    "        {\n",
    "            \"node\": country,\n",
    "            \"commodity\": commodity,\n",
    "            \"grade\": grade,\n",
    "            \"year\": model_horizon.values.tolist(),\n",
    "            \"value\": potentials[grade][1],\n",
    "            \"unit\": \"USD/kWa\",\n",
    "        }\n",
    "    )\n",
    "    scen.add_par(\"resource_cost\", df)\n",
    "\n",
    "    # Adding historical extraction\n",
    "    # The index sets for historical_extraction are\n",
    "    # [\"node\", \"commodity\", \"grade\", \"year\", \"value\", \"unit\"]\n",
    "    df = pd.DataFrame(\n",
    "        {\n",
    "            \"node\": country,\n",
    "            \"commodity\": commodity,\n",
    "            \"grade\": grade,\n",
    "            \"year\": [690],\n",
    "            \"value\": potentials[grade][2],\n",
    "            \"unit\": \"GWa\",\n",
    "        }\n",
    "    )\n",
    "    scen.add_par(\"historical_extraction\", df)"
   ]
  },
  {
   "cell_type": "markdown",
   "metadata": {},
   "source": [
    "### 3. Linking `\"coal_ppl\"` to resources through `\"input\"` parameter"
   ]
  },
  {
   "cell_type": "code",
   "execution_count": null,
   "metadata": {},
   "outputs": [],
   "source": [
    "# The dataframe for \"input\" parameter\n",
    "\n",
    "df = make_df(\n",
    "    \"input\",\n",
    "    node_loc=country,\n",
    "    year_vtg=vintage_years,\n",
    "    year_act=act_years,\n",
    "    mode=\"standard\",\n",
    "    node_origin=country,\n",
    "    time=\"year\",\n",
    "    time_origin=\"year\",\n",
    "    technology=\"coal_ppl\",\n",
    "    commodity=\"coal\",\n",
    "    level=\"resource\",\n",
    "    value=1,\n",
    "    unit=\"%\",\n",
    ")\n",
    "scen.add_par(\"input\", df)"
   ]
  },
  {
   "cell_type": "markdown",
   "metadata": {},
   "source": [
    "### Commit and solve"
   ]
  },
  {
   "cell_type": "code",
   "execution_count": null,
   "metadata": {},
   "outputs": [],
   "source": [
    "scen.commit(comment=\"added coal resources\")\n",
    "scen.set_as_default()"
   ]
  },
  {
   "cell_type": "code",
   "execution_count": null,
   "metadata": {},
   "outputs": [],
   "source": [
    "scen.solve()"
   ]
  },
  {
   "cell_type": "code",
   "execution_count": null,
   "metadata": {},
   "outputs": [],
   "source": [
    "scen.var(\"OBJ\")[\"lvl\"]"
   ]
  },
  {
   "cell_type": "markdown",
   "metadata": {},
   "source": [
    "# Plotting Results"
   ]
  },
  {
   "cell_type": "code",
   "execution_count": null,
   "metadata": {},
   "outputs": [],
   "source": [
    "from message_ix.reporting import Reporter\n",
    "from message_ix.util.tutorial import prepare_plots\n",
    "\n",
    "# Scenario without coal resource potential\n",
    "base_rep = Reporter.from_scenario(base)\n",
    "prepare_plots(base_rep)\n",
    "\n",
    "# Scenario with coal resource potentials added\n",
    "rep = Reporter.from_scenario(scen)\n",
    "prepare_plots(rep)"
   ]
  },
  {
   "attachments": {},
   "cell_type": "markdown",
   "metadata": {},
   "source": [
    "## Activity\n",
    "***\n",
    "When comparing the results of the original scenario without coal resource potentials ('*baseline*') to the results of our newly modified scenario ('*fossil_resources*'), the activity of the electricity generating technologies is the same."
   ]
  },
  {
   "cell_type": "markdown",
   "metadata": {},
   "source": [
    "### Scenario: '*baseline*'"
   ]
  },
  {
   "cell_type": "code",
   "execution_count": null,
   "metadata": {},
   "outputs": [],
   "source": [
    "plants = [\"coal_ppl\", \"wind_ppl\"]\n",
    "base_rep.set_filters(t=plants)\n",
    "base_rep.get(\"plot activity\")"
   ]
  },
  {
   "cell_type": "markdown",
   "metadata": {},
   "source": [
    "### Scenario: '*fossil_resource*'"
   ]
  },
  {
   "cell_type": "code",
   "execution_count": null,
   "metadata": {},
   "outputs": [],
   "source": [
    "rep.set_filters(t=plants)\n",
    "rep.get(\"plot activity\")"
   ]
  },
  {
   "cell_type": "markdown",
   "metadata": {},
   "source": [
    "## Capacity\n",
    "***\n",
    "As is the case for activity, capacity also remains the same in both scenarios."
   ]
  },
  {
   "cell_type": "markdown",
   "metadata": {},
   "source": [
    "### Scenario: '*baseline*'"
   ]
  },
  {
   "cell_type": "code",
   "execution_count": null,
   "metadata": {},
   "outputs": [],
   "source": [
    "base_rep.get(\"plot capacity\")"
   ]
  },
  {
   "cell_type": "markdown",
   "metadata": {},
   "source": [
    "### Scenario: '*fossil_resource*'"
   ]
  },
  {
   "cell_type": "code",
   "execution_count": null,
   "metadata": {},
   "outputs": [],
   "source": [
    "rep.get(\"plot capacity\")"
   ]
  },
  {
   "attachments": {},
   "cell_type": "markdown",
   "metadata": {},
   "source": [
    "## Prices\n",
    "***\n",
    "The impact of introducing coal resources and therewith associated costs only becomes noticeable when looking at prices for `\"light\"`.  Especially in the latter two timeperiods the impact is noticable, where prices increase from below 2cents/kWhr in the '*baseline*' scenario to ~2.5cents/kWhr."
   ]
  },
  {
   "cell_type": "markdown",
   "metadata": {},
   "source": [
    "### Scenario: '*baseline*'"
   ]
  },
  {
   "cell_type": "code",
   "execution_count": null,
   "metadata": {},
   "outputs": [],
   "source": [
    "filters = dict(t=None, c=[\"light\"])\n",
    "base_rep.set_filters(**filters)\n",
    "base_rep.get(\"plot prices\")"
   ]
  },
  {
   "cell_type": "markdown",
   "metadata": {},
   "source": [
    "### Scenario: '*fossil_resource*'"
   ]
  },
  {
   "cell_type": "code",
   "execution_count": null,
   "metadata": {},
   "outputs": [],
   "source": [
    "rep.set_filters(**filters)\n",
    "rep.get(\"plot prices\")"
   ]
  },
  {
   "attachments": {},
   "cell_type": "markdown",
   "metadata": {},
   "source": [
    "## Extraction\n",
    "***\n",
    "In the first plot below, we can see the coal supply curve. In the figure below, depicting extraction over time, we can see that the model uses up the available potential of the cheaper `\"grade\"` *a* early on. The switch to the more expensive `\"grade\"` *b* happens as of 710, which is the reason for the increase in the price of `\"light\"`."
   ]
  },
  {
   "cell_type": "markdown",
   "metadata": {},
   "source": [
    "### Scenario: '*fossil_resource*'"
   ]
  },
  {
   "cell_type": "markdown",
   "metadata": {},
   "source": [
    "### Coal supply curve"
   ]
  },
  {
   "cell_type": "code",
   "execution_count": null,
   "metadata": {},
   "outputs": [],
   "source": [
    "rep.set_filters()\n",
    "rep.get(\"plot fossil supply curve\")"
   ]
  },
  {
   "cell_type": "markdown",
   "metadata": {},
   "source": [
    "### Coal extraction"
   ]
  },
  {
   "cell_type": "code",
   "execution_count": null,
   "metadata": {},
   "outputs": [],
   "source": [
    "rep.set_filters()\n",
    "rep.get(\"plot extraction\")"
   ]
  },
  {
   "cell_type": "code",
   "execution_count": null,
   "metadata": {},
   "outputs": [],
   "source": [
    "mp.close_db()"
   ]
  }
 ],
 "metadata": {
  "kernelspec": {
   "display_name": "message_ix",
   "language": "python",
   "name": "python3"
  },
  "language_info": {
   "codemirror_mode": {
    "name": "ipython",
    "version": 3
   },
   "file_extension": ".py",
   "mimetype": "text/x-python",
   "name": "python",
   "nbconvert_exporter": "python",
   "pygments_lexer": "ipython3",
   "version": "3.10.6"
  },
  "vscode": {
   "interpreter": {
    "hash": "29605b568787f5559ca1ba05da75d155c3dcfa15a1a63b1885b057c5465ade2e"
   }
  }
 },
 "nbformat": 4,
 "nbformat_minor": 2
}
