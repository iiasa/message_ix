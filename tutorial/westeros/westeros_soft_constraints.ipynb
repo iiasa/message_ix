{
 "cells": [
  {
   "attachments": {},
   "cell_type": "markdown",
   "metadata": {},
   "source": [
    "# Westeros Tutorial - Introducing soft constraints\n",
    "\n",
    "In the baseline tutorial, we added dynamic constraints on activity via the parameter `\"growth_activity_up\"` for the electricity generation technologies. As a result, when we added an emission tax, `\"wind_ppl\"` was scaled up at the maximum rate of 10% annually in the last period.\n",
    "\n",
    "In this tutorial, we are going to explore how to provide additional flexibility to the dynamic growth constraints. We will explore so-called [`soft constraints`](https://docs.messageix.org/en/stable/model/MESSAGE/parameter_def.html?highlight=soft%20constraint#dynamic-constraints-on-new-capacity-and-activity). Soft constraints can be configured to provide a relaxation for both activity and capacity related dynamic constraints. At a certain cost, additional annual growth rate can be realized. The cost can be absolute or defined as a share of the levelized cost (see details [here](https://docs.messageix.org/en/stable/model/MESSAGE/parameter_def.html?highlight=soft%20constraint#cost-parameters-for-soft-relaxations-of-dynamic-constraints)).\n",
    "\n",
    "Providing this additional flexibility to dynamic constraints can be useful for assessing mitigation pathways. While without these e.g. certain emission targets may not be achievable, the additional flexibility provided reflects the fact that investments i.e. technology diffusion, can be realized faster taking into account higher costs. This can provide interesting insights as to where additional subsidies or policies can help pursue more ambitious targets.\n",
    "\n",
    "Further information can be found in [Kepp and Strubegger, 2010](https://doi.org/10.1016/j.energy.2010.01.019). \n",
    "\n",
    "**Pre-requisites**\n",
    "- You have the *MESSAGEix* framework installed and working\n",
    "- You have run Westeros tutorial on emission taxes (`westeros_emissions_taxes.ipynb`) and solved it successfully"
   ]
  },
  {
   "cell_type": "code",
   "execution_count": null,
   "metadata": {},
   "outputs": [],
   "source": [
    "import pandas as pd\n",
    "import ixmp\n",
    "import message_ix\n",
    "\n",
    "%matplotlib inline"
   ]
  },
  {
   "cell_type": "code",
   "execution_count": null,
   "metadata": {},
   "outputs": [],
   "source": [
    "mp = ixmp.Platform()"
   ]
  },
  {
   "cell_type": "markdown",
   "metadata": {},
   "source": [
    "## Load existing and clone to new scenario\n",
    "We load the existing scenario '*carbon_tax*' and clone it to a new scenario '*carbon_tax_soft_constraints*' to which we will add soft constraints for the upper dynamic growth constraint."
   ]
  },
  {
   "cell_type": "code",
   "execution_count": null,
   "metadata": {},
   "outputs": [],
   "source": [
    "model = \"Westeros Electrified\"\n",
    "base = message_ix.Scenario(mp, model=model, scenario=\"carbon_tax\")\n",
    "scen = base.clone(\n",
    "    model, \"carbon_tax_soft_constraints\", \"adding_soft_constraints\", keep_solution=False\n",
    ")\n",
    "scen.check_out()"
   ]
  },
  {
   "attachments": {},
   "cell_type": "markdown",
   "metadata": {},
   "source": [
    "## Retrieve parameters\n",
    "We will retrieve those parameters necessary to perform subsequent additions of parameters."
   ]
  },
  {
   "cell_type": "code",
   "execution_count": null,
   "metadata": {},
   "outputs": [],
   "source": [
    "model_horizon = base.set(\"year\")\n",
    "country = \"Westeros\""
   ]
  },
  {
   "attachments": {},
   "cell_type": "markdown",
   "metadata": {},
   "source": [
    "## Add soft activity up for `\"wind_ppl\"`\n",
    "\n",
    "Recall that when setting up the Westeros baseline scenario, we added the parameter `\"growth_activity_up\"` for `\"wind_ppl\"`, with a value of 10%. As the growth rate is an annual value and the duration of the periods in this example are 10 years, activity within a single period can increase by a maximum of 259% ((1 + .10)^10).\n",
    "\n",
    "We will now add a soft constraint for the year 720, allowing additional growth of up to 1% per year. This means that activity can increase by a maximum of 259% + 10% (((1 + .01)^10) - 1). The costs will be defined in relative terms i.e. relative to the [levelized cost](https://docs.messageix.org/en/stable/model/MESSAGE/scaling_investment_costs.html?highlight=levelized%20cost#levelized-capital-costs). By specifying the `\"level_cost_activity_soft_up\"` as 1%, we are defining that per unit of activity from the previous period, used to determine the allowable additional activity, 1% of the `levelized_cost` are applied (see [link](https://docs.messageix.org/en/stable/model/MESSAGE/model_core.html#objective-function) for more information)."
   ]
  },
  {
   "cell_type": "markdown",
   "metadata": {},
   "source": [
    "### Define additional annual growth.\n",
    "We will allow `\"wind_ppl\"` to grow an additional 1% annually in the year 720."
   ]
  },
  {
   "cell_type": "code",
   "execution_count": null,
   "metadata": {},
   "outputs": [],
   "source": [
    "df = pd.DataFrame(\n",
    "    {\n",
    "        \"node_loc\": country,\n",
    "        \"technology\": \"wind_ppl\",\n",
    "        \"year_act\": model_horizon,\n",
    "        \"time\": \"year\",\n",
    "        \"value\": [0.0, 0.0, 0.0, 0.01],\n",
    "        \"unit\": \"-\",\n",
    "    }\n",
    ")\n",
    "scen.add_par(\"soft_activity_up\", df)"
   ]
  },
  {
   "cell_type": "markdown",
   "metadata": {},
   "source": [
    "### Define costs for additional growth.\n",
    "As previously explained the relative costs to increase the activity of `\"wind_ppl\"` will be set to 1% of the `levelized_cost` of `\"wind_ppl\"`."
   ]
  },
  {
   "cell_type": "code",
   "execution_count": null,
   "metadata": {},
   "outputs": [],
   "source": [
    "df = pd.DataFrame(\n",
    "    {\n",
    "        \"node_loc\": country,\n",
    "        \"technology\": \"wind_ppl\",\n",
    "        \"year_act\": model_horizon,\n",
    "        \"time\": \"year\",\n",
    "        \"value\": \".01\",\n",
    "        \"unit\": \"-\",\n",
    "    }\n",
    ")\n",
    "scen.add_par(\"level_cost_activity_soft_up\", df)"
   ]
  },
  {
   "cell_type": "markdown",
   "metadata": {},
   "source": [
    "## Commit and solve"
   ]
  },
  {
   "cell_type": "code",
   "execution_count": null,
   "metadata": {},
   "outputs": [],
   "source": [
    "scen.commit(\"soft constraints added for wind_ppl\")\n",
    "scen.set_as_default()\n",
    "scen.solve()"
   ]
  },
  {
   "cell_type": "markdown",
   "metadata": {},
   "source": [
    "## Plotting Results"
   ]
  },
  {
   "cell_type": "code",
   "execution_count": null,
   "metadata": {},
   "outputs": [],
   "source": [
    "from message_ix.reporting import Reporter\n",
    "from message_ix.util.tutorial import prepare_plots\n",
    "\n",
    "rep_base = Reporter.from_scenario(base)\n",
    "prepare_plots(rep_base)\n",
    "\n",
    "rep_scen = Reporter.from_scenario(scen)\n",
    "prepare_plots(rep_scen)"
   ]
  },
  {
   "attachments": {},
   "cell_type": "markdown",
   "metadata": {},
   "source": [
    "### Activity\n",
    "***\n",
    "When comparing the results of the scenario '*carbon_tax*', `\"coal_ppl\"` still contributed to the eletricity generation mix in 710."
   ]
  },
  {
   "cell_type": "code",
   "execution_count": null,
   "metadata": {},
   "outputs": [],
   "source": [
    "rep_base.set_filters(t=[\"coal_ppl\", \"wind_ppl\"])\n",
    "rep_base.get(\"plot activity\")"
   ]
  },
  {
   "cell_type": "markdown",
   "metadata": {},
   "source": [
    "With the additional growth permitted in 720, `\"coal_ppl\"` is now completely phased out."
   ]
  },
  {
   "cell_type": "code",
   "execution_count": null,
   "metadata": {},
   "outputs": [],
   "source": [
    "rep_scen.set_filters(t=[\"coal_ppl\", \"wind_ppl\"])\n",
    "rep_scen.get(\"plot activity\")"
   ]
  },
  {
   "attachments": {},
   "cell_type": "markdown",
   "metadata": {},
   "source": [
    "In the figure below the dark-blue bars represent the maximum activity for each period. This is calculated based on the activity of the preceding period and accounting for the annual growth of 10% (`\"growth_activity_up\"`). The orange bar shows that additional activity based on the soft constraint added for `\"wind_ppl\"` in 720.\n",
    "The lines compare the results (`var(\"ACT\")`) for `\"wind_ppl\"` of the carbon tax scenario without (gold  line) and with soft constraints (grey line). In the scenario with soft constraints, you can see that already in 710 `\"wind_ppl\"` has increased activity, so that full use can be made of the relaxation provided by the soft constraints in 720.\n",
    "\n",
    "<img src='_static/soft-constraint.PNG' width='600'>"
   ]
  },
  {
   "cell_type": "code",
   "execution_count": null,
   "metadata": {},
   "outputs": [],
   "source": [
    "mp.close_db()"
   ]
  }
 ],
 "metadata": {
  "kernelspec": {
   "display_name": "Python 3 (ipykernel)",
   "language": "python",
   "name": "python3"
  },
  "language_info": {
   "codemirror_mode": {
    "name": "ipython",
    "version": 3
   },
   "file_extension": ".py",
   "mimetype": "text/x-python",
   "name": "python",
   "nbconvert_exporter": "python",
   "pygments_lexer": "ipython3",
   "version": "3.9.2"
  }
 },
 "nbformat": 4,
 "nbformat_minor": 2
}
