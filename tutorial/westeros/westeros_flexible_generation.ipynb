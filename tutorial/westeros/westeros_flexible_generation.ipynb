{
 "cells": [
  {
   "cell_type": "markdown",
   "metadata": {},
   "source": [
    "# Westeros Tutorial Part 2c - Flexible generation\n",
    "\n",
    "In the other tutorials (``westeros_emissions_bounds.ipynb`` and ``westeros_emissions_taxes.ipynb``), we showed how to introduce emissions into a stylized energy system model, and what happens if you put a constraint on total CO2 emissions. We also showed how to introduce the requirement to have sufficient dispatchable (firm) capacity in tutorial ``westeros_firm_capacity.ipynb``.\n",
    "\n",
    "In this tutorial notebook, we will illustrate how to add other considerations, in particular the requirement to have sufficient flexible generation capacity to mitigate short-term demand fluctuations.\n",
    "\n",
    "**Pre-requisites**\n",
    "- You have the *MESSAGEix* framework installed and working\n",
    "- You have run Westeros baseline scenario (``westeros_baseline.ipynb``) and solved it successfully"
   ]
  },
  {
   "cell_type": "code",
   "execution_count": null,
   "metadata": {},
   "outputs": [],
   "source": [
    "import pandas as pd\n",
    "import ixmp\n",
    "import message_ix\n",
    "\n",
    "from message_ix.utils import make_df\n",
    "\n",
    "%matplotlib inline"
   ]
  },
  {
   "cell_type": "code",
   "execution_count": null,
   "metadata": {},
   "outputs": [],
   "source": [
    "mp = ixmp.Platform()"
   ]
  },
  {
   "cell_type": "code",
   "execution_count": null,
   "metadata": {},
   "outputs": [],
   "source": [
    "base = message_ix.Scenario(mp, model='Westeros Electrified', scenario='baseline')"
   ]
  },
  {
   "cell_type": "code",
   "execution_count": null,
   "metadata": {},
   "outputs": [],
   "source": [
    "# We clone a scenario from the baseline scenario\n",
    "model = 'Westeros Electrified'\n",
    "scen = base.clone(model, 'flexibile_generation',\n",
    "                  'illustration of flexible-generation formulation',\n",
    "                  keep_solution=False)\n",
    "scen.check_out()\n",
    "\n",
    "# we get the years of installing capacities (vintage) and years of those capacities being active\n",
    "year_df = scen.vintage_and_active_years()\n",
    "vintage_years, act_years = year_df['year_vtg'], year_df['year_act']\n",
    "model_horizon = scen.set('year')\n",
    "country = 'Westeros'"
   ]
  },
  {
   "cell_type": "markdown",
   "metadata": {},
   "source": [
    "## Add a carbon tax\n",
    "\n",
    "Then, we add a carbon tax to motivate the use of low-carbon technologies in the system. We do this similar to the process explained in the tutorial for adding emissions taxes (`westeros_emission_taxes.ipynb`)."
   ]
  },
  {
   "cell_type": "code",
   "execution_count": null,
   "metadata": {},
   "outputs": [],
   "source": [
    "# first we introduce the emission specis CO2 and the emission category GHG\n",
    "scen.add_set('emission', 'CO2')\n",
    "scen.add_cat('emission', 'GHG', 'CO2')\n",
    "\n",
    "# we now add CO2 emissions to the coal powerplant\n",
    "base_emission_factor = {\n",
    "    'node_loc': country,\n",
    "    'year_vtg': vintage_years,\n",
    "    'year_act': act_years,\n",
    "    'mode': 'standard',\n",
    "    'unit': 'tCO2/kWa',\n",
    "}\n",
    "\n",
    "# adding the new unit to the model library\n",
    "mp.add_unit('tCO2/kWa')\n",
    "\n",
    "emission_factor = make_df(base_emission_factor, technology= 'coal_ppl', emission= 'CO2', value = 7.4)\n",
    "scen.add_par('emission_factor', emission_factor)"
   ]
  },
  {
   "cell_type": "code",
   "execution_count": null,
   "metadata": {
    "collapsed": true
   },
   "outputs": [],
   "source": [
    "base_tax_emission = {\n",
    "    'node': country,\n",
    "    'type_year': [700,710,720],\n",
    "    'type_tec': 'all',\n",
    "    'unit': 'USD/tCO2',\n",
    "    'type_emission': 'GHG',\n",
    "    'value': [10., 20., 30.]\n",
    "}\n",
    "\n",
    "tax_emission = make_df(base_tax_emission)\n",
    "scen.add_par('tax_emission', tax_emission)"
   ]
  },
  {
   "cell_type": "markdown",
   "metadata": {},
   "source": [
    "## Describing flexibility requirements\n",
    "\n",
    "Demand and supply of electricity varies over time. \n",
    "To meet the demand reliably, supply technologies must not only maintain firm capacity at any time, but also be flexible enough to ramp up and down their generation when required by the demand.\n",
    "Some renewable energy technologies like wind power are \"variable\", meaning that their generation changes based on wind availability and not based on the electricity demand. \n",
    "As such, to balance the variability of wind power, the system requires flexibility from other units."
   ]
  },
  {
   "cell_type": "code",
   "execution_count": null,
   "metadata": {},
   "outputs": [],
   "source": [
    "base_flexibility_factor = pd.DataFrame({\n",
    "        'node_loc': country,\n",
    "        'commodity': 'electricity',\n",
    "        'level' : 'secondary',\n",
    "        'mode': 'standard',\n",
    "        'unit': '-',\n",
    "        'time': 'year',\n",
    "        'year_vtg': vintage_years,\n",
    "        'year_act': act_years,\n",
    "})\n",
    "\n",
    "base_rating = pd.DataFrame({\n",
    "        'node': country,\n",
    "        'commodity': 'electricity',\n",
    "        'level' : 'secondary', \n",
    "        'unit': '-',\n",
    "        'time': 'year',\n",
    "        'year_act': model_horizon})"
   ]
  },
  {
   "cell_type": "code",
   "execution_count": null,
   "metadata": {},
   "outputs": [],
   "source": [
    "# adding two different ratings for flexibility \n",
    "scen.add_set('rating', ['r1', 'r2'])\n",
    "\n",
    "# assuming a flexibility requirment of 10% for load \n",
    "flexibility_factor = make_df(base_flexibility_factor, technology='grid', rating='unrated', value=-0.1)\n",
    "scen.add_par('flexibility_factor', flexibility_factor)\n",
    "\n",
    "# dividing wind generation into two parts (bins) for each rating (r1=20% and r2=80%) \n",
    "rating_bin = make_df(base_rating, technology='wind_ppl', value=0.2, rating='r1')\n",
    "scen.add_par('rating_bin', rating_bin)\n",
    "rating_bin = make_df(base_rating, technology='wind_ppl', value=0.8, rating='r2')\n",
    "scen.add_par('rating_bin', rating_bin)\n",
    "\n",
    "# assuming a flexibility requirment of 25% for wind in rating r1\n",
    "flexibility_factor = make_df(base_flexibility_factor, technology='wind_ppl', rating='r1', value=-0.25)\n",
    "scen.add_par('flexibility_factor', flexibility_factor)\n",
    "\n",
    "# assuming a flexibility requirment of 45% for wind in rating r2\n",
    "flexibility_factor = make_df(base_flexibility_factor, technology='wind_ppl', rating='r2', value=-0.45)\n",
    "scen.add_par('flexibility_factor', flexibility_factor)\n",
    "\n",
    "# assuming a flexibility provision of 80% for coal power plant\n",
    "flexibility_factor = make_df(base_flexibility_factor, technology='coal_ppl', rating='unrated', value=0.8)\n",
    "scen.add_par('flexibility_factor', flexibility_factor)"
   ]
  },
  {
   "cell_type": "markdown",
   "metadata": {},
   "source": [
    "As we could see, the need for flexibility is added by negative values to the parameter `flexibility_factor`, while the provision of flexibility is specified by positive values. For more information please refer to the [mathematical specification of flexibility](https://message.iiasa.ac.at/en/stable/model/MESSAGE/model_core.html#system-reliability-and-flexibility-requirements) in the model."
   ]
  },
  {
   "cell_type": "markdown",
   "metadata": {},
   "source": [
    "## Commit and Solve"
   ]
  },
  {
   "cell_type": "code",
   "execution_count": null,
   "metadata": {},
   "outputs": [],
   "source": [
    "scen.commit(comment='define parameters for flexibile-generation implementation')\n",
    "scen.set_as_default()"
   ]
  },
  {
   "cell_type": "code",
   "execution_count": null,
   "metadata": {},
   "outputs": [],
   "source": [
    "scen.solve()"
   ]
  },
  {
   "cell_type": "code",
   "execution_count": null,
   "metadata": {},
   "outputs": [],
   "source": [
    "scen.var('OBJ')['lvl']"
   ]
  },
  {
   "cell_type": "markdown",
   "metadata": {},
   "source": [
    "## Plotting"
   ]
  },
  {
   "cell_type": "code",
   "execution_count": null,
   "metadata": {},
   "outputs": [],
   "source": [
    "from tools import Plots\n",
    "p = Plots(scen, country, firstyear=700)"
   ]
  },
  {
   "cell_type": "code",
   "execution_count": null,
   "metadata": {},
   "outputs": [],
   "source": [
    "p.plot_activity(baseyear=True, subset=['coal_ppl', 'wind_ppl'])"
   ]
  },
  {
   "cell_type": "code",
   "execution_count": null,
   "metadata": {},
   "outputs": [],
   "source": [
    "p.plot_capacity(baseyear=True, subset=['coal_ppl', 'wind_ppl'])"
   ]
  },
  {
   "cell_type": "code",
   "execution_count": null,
   "metadata": {},
   "outputs": [],
   "source": [
    "p.plot_prices(subset=['light'], baseyear=True)"
   ]
  },
  {
   "cell_type": "markdown",
   "metadata": {},
   "source": [
    "## Close the connection to the database"
   ]
  },
  {
   "cell_type": "code",
   "execution_count": null,
   "metadata": {
    "collapsed": true
   },
   "outputs": [],
   "source": [
    "mp.close_db()"
   ]
  },
  {
   "cell_type": "markdown",
   "metadata": {},
   "source": [
    "## Questions and discussion\n",
    "- Run the same scenario with and without adding `flexibility_factor`. what is the difference in the results when we consider the flexibility requirements?"
   ]
  }
 ],
 "metadata": {
  "kernelspec": {
   "display_name": "Python 3",
   "language": "python",
   "name": "python3"
  },
  "language_info": {
   "codemirror_mode": {
    "name": "ipython",
    "version": 3
   },
   "file_extension": ".py",
   "mimetype": "text/x-python",
   "name": "python",
   "nbconvert_exporter": "python",
   "pygments_lexer": "ipython3",
   "version": "3.7.4"
  }
 },
 "nbformat": 4,
 "nbformat_minor": 2
}
