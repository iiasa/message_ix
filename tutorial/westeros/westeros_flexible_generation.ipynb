{
 "cells": [
  {
   "attachments": {},
   "cell_type": "markdown",
   "metadata": {},
   "source": [
    "# Westeros Tutorial - Adding representation of renewables (part2/3): Introducing `\"flexible generation\"`\n",
    "\n",
    "This tutorial, which demonstrates how to apply various model features to provide a more realistic representation of renewable energy integration in the energy system, is comprised of three parts. \n",
    "\n",
    "In the first part, we introduced [`\"firm capacity\"`](https://docs.messageix.org/en/stable/model/MESSAGE/model_core.html?highlight=FIRM_CAPACITY_PROVISION#equation-firm-capacity-provision) constraints to ensure that conventional electricity generation plants supplied sufficient backup capacity to allow for a high share of renewable electricity generation. In this tutorial, we will address [`\"flexible generation\"`](https://docs.messageix.org/en/stable/model/MESSAGE/model_core.html?highlight=flexibility#equation-system-flexibility-constraint) i.e., the ability of a power plant to ramp up and down its generation in response to the system needs. The power system needs to be flexible to respond to fluctuations in both electricity load and supply.\n",
    "\n",
    "Further information can be found in [Sullivan et al., 2013](https://doi.org/10.1016/j.esr.2013.01.001).\n",
    "\n",
    "**Pre-requisites**\n",
    "- You have the *MESSAGEix* framework installed and working\n",
    "- You have run Westeros scenario which adds emission taxes (``westeros_emissions_taxes.ipynb``) and solved it successfully\n",
    "\n",
    "## Online documentation\n",
    "\n",
    "The full framework documentation is available at [https://docs.messageix.org](https://docs.messageix.org)."
   ]
  },
  {
   "cell_type": "code",
   "execution_count": null,
   "metadata": {},
   "outputs": [],
   "source": [
    "import pandas as pd\n",
    "import ixmp\n",
    "import message_ix\n",
    "\n",
    "from message_ix.util import make_df\n",
    "\n",
    "%matplotlib inline"
   ]
  },
  {
   "cell_type": "code",
   "execution_count": null,
   "metadata": {},
   "outputs": [],
   "source": [
    "mp = ixmp.Platform()"
   ]
  },
  {
   "cell_type": "markdown",
   "metadata": {},
   "source": [
    "## Load an existing scenario and clone it to a new scenario\n",
    "We load the existing scenario '*carbon_tax*' and clone to a new scenario called '*flexible_generation*', to which we will apply the `\"flexible generation\"` constraint."
   ]
  },
  {
   "cell_type": "code",
   "execution_count": null,
   "metadata": {},
   "outputs": [],
   "source": [
    "model = \"Westeros Electrified\"\n",
    "base = message_ix.Scenario(mp, model=model, scenario=\"carbon_tax\")\n",
    "scen = base.clone(\n",
    "    model,\n",
    "    \"flexible_generation\",\n",
    "    \"illustration of flexible-generation formulation\",\n",
    "    keep_solution=False,\n",
    ")\n",
    "scen.check_out()"
   ]
  },
  {
   "cell_type": "markdown",
   "metadata": {},
   "source": [
    "## Retrieve parameters\n",
    "We will retrieve those parameters necessary to perform subsequent additions of parameters."
   ]
  },
  {
   "cell_type": "code",
   "execution_count": null,
   "metadata": {},
   "outputs": [],
   "source": [
    "year_df = scen.vintage_and_active_years()\n",
    "vintage_years, act_years = year_df[\"year_vtg\"], year_df[\"year_act\"]\n",
    "model_horizon = scen.set(\"year\")\n",
    "country = \"Westeros\""
   ]
  },
  {
   "attachments": {},
   "cell_type": "markdown",
   "metadata": {},
   "source": [
    "## Describing Flexibility Requirements\n",
    "\n",
    "Electric-sector flexibility is the ability of a power system to match supply and demand at any time scale. This characteristic can be represented in a stylized way as follows: \n",
    "\n",
    "Each generating technology is assigned a coefficient between −1 and 1 representing (if positive) the fraction of generation from that technology that is considered to be flexible or (if negative) the additional flexible generation required for each unit of generation from that technology. A negative coefficient on load reveals a parameterization of the amount of flexible energy the system requires solely to meet changes and uncertainty in load. ([Sullivan et al., 2013](https://doi.org/10.1016/j.esr.2013.01.001))\n",
    "\n",
    "The coefficients used in this tutorial are derived in [Sullivan et al., 2013](https://doi.org/10.1016/j.esr.2013.01.001).\n",
    "\n",
    "| Technology | Flexibility parameter |\n",
    "| :--------- | :-------------------- |\n",
    "| Load | −0.1 |\n",
    "| Wind | −0.08 |\n",
    "| Solar PV | −0.05 |\n",
    "| Geothermal | 0 |\n",
    "| Nuclear | 0 |\n",
    "| Coal | 0.15 |\n",
    "| Biopower | 0.3 |\n",
    "| Gas-CC | 0.5 |\n",
    "| Hydropower | 0.5 |\n",
    "| H2 Electrolysis | 0.5 |\n",
    "| Oil/gas steam | 1 |\n",
    "| Gas-CT | 1 |\n",
    "| Electricity storage | 1 |\n",
    "\n",
    "Based on the above listed coefficients, our `\"wind_ppl\"` will need flexibility equal to 8% of its activity. Likewise, the electricity grid has a flexibility need of 10%. `\"coal_ppl\"` can provide 15% of its activity as flexibility for meeting the system needs.  \n",
    "\n",
    "Recall that in the previous tutorial two `\"rating_bin\"`s were introduced for `\"wind_ppl\"`, depicting the different firm capacity requirements as market share increases.  We will again use the two rating bins previously defined. Here we make the assumption that the above flexibility parameter (8%) applies to the larger of the two rating bins (`\"r2\"`), and assume that the smaller rating bin (`\"r1\"`) has a lower flexibility demand of 6%, correlating to the fact that the first 20% of installed capacity required contributes more to firm capacity.  "
   ]
  },
  {
   "cell_type": "markdown",
   "metadata": {},
   "source": [
    "### Add and parametrize rating bins\n",
    "We will add the two rating bins and configure these for the `\"wind_ppl\"` as described above."
   ]
  },
  {
   "cell_type": "code",
   "execution_count": null,
   "metadata": {},
   "outputs": [],
   "source": [
    "scen.add_set(\"rating\", [\"r1\", \"r2\"])\n",
    "\n",
    "# Create the base dictionary for \"rating_bin\" parameter\n",
    "base_rating = dict(\n",
    "    node=country,\n",
    "    commodity=\"electricity\",\n",
    "    level=\"secondary\",\n",
    "    unit=\"-\",\n",
    "    time=\"year\",\n",
    "    year_act=model_horizon,\n",
    ")\n",
    "\n",
    "name = \"rating_bin\"\n",
    "\n",
    "rating_bin = make_df(name, **base_rating, technology=\"wind_ppl\", value=0.2, rating=\"r1\")\n",
    "scen.add_par(name, rating_bin)\n",
    "\n",
    "rating_bin = make_df(name, **base_rating, technology=\"wind_ppl\", value=0.8, rating=\"r2\")\n",
    "scen.add_par(name, rating_bin)"
   ]
  },
  {
   "cell_type": "markdown",
   "metadata": {},
   "source": [
    "### Add flexibility\n",
    "We will configure the flexibility for the three technologies mentiond above: `\"grid\"`, `\"wind_ppl\"` and the `\"coal_ppl\"`."
   ]
  },
  {
   "cell_type": "code",
   "execution_count": null,
   "metadata": {},
   "outputs": [],
   "source": [
    "# Create the base dictionary for \"flexibility_factor\" parameter\n",
    "base_flexibility_factor = dict(\n",
    "    node_loc=country,\n",
    "    commodity=\"electricity\",\n",
    "    level=\"secondary\",\n",
    "    mode=\"standard\",\n",
    "    unit=\"-\",\n",
    "    time=\"year\",\n",
    "    year_vtg=vintage_years,\n",
    "    year_act=act_years,\n",
    ")\n",
    "\n",
    "name = \"flexibility_factor\"\n",
    "\n",
    "# For the load (`grid`)\n",
    "flexibility_factor = make_df(\n",
    "    name, **base_flexibility_factor, technology=\"grid\", rating=\"unrated\", value=-0.1\n",
    ")\n",
    "scen.add_par(name, flexibility_factor)\n",
    "\n",
    "# For the respective rating bins of `wind_ppl`\n",
    "flexibility_factor = make_df(\n",
    "    name, **base_flexibility_factor, technology=\"wind_ppl\", rating=\"r1\", value=-0.06\n",
    ")\n",
    "scen.add_par(name, flexibility_factor)\n",
    "\n",
    "flexibility_factor = make_df(\n",
    "    name, **base_flexibility_factor, technology=\"wind_ppl\", rating=\"r2\", value=-0.08\n",
    ")\n",
    "scen.add_par(name, flexibility_factor)\n",
    "\n",
    "# For `coal_ppl`\n",
    "flexibility_factor = make_df(\n",
    "    name, **base_flexibility_factor, technology=\"coal_ppl\", rating=\"unrated\", value=0.15\n",
    ")\n",
    "scen.add_par(name, flexibility_factor)"
   ]
  },
  {
   "attachments": {},
   "cell_type": "markdown",
   "metadata": {},
   "source": [
    "Note that `\"coal_ppl\"` has a dynamic growth constraint on activity. This constraint will render the problem infeasible due to the flexibility requirements, hence we will remove this constraint."
   ]
  },
  {
   "cell_type": "code",
   "execution_count": null,
   "metadata": {},
   "outputs": [],
   "source": [
    "df = scen.par(\"growth_activity_up\", filters={\"technology\": \"coal_ppl\", \"year_act\": 700})\n",
    "scen.remove_par(\"growth_activity_up\", df)"
   ]
  },
  {
   "cell_type": "markdown",
   "metadata": {},
   "source": [
    "## Commit and solve"
   ]
  },
  {
   "cell_type": "code",
   "execution_count": null,
   "metadata": {},
   "outputs": [],
   "source": [
    "scen.commit(comment=\"define parameters for flexibile-generation implementation\")\n",
    "scen.set_as_default()"
   ]
  },
  {
   "cell_type": "code",
   "execution_count": null,
   "metadata": {},
   "outputs": [],
   "source": [
    "scen.solve()"
   ]
  },
  {
   "cell_type": "code",
   "execution_count": null,
   "metadata": {},
   "outputs": [],
   "source": [
    "scen.var(\"OBJ\")[\"lvl\"]"
   ]
  },
  {
   "cell_type": "markdown",
   "metadata": {},
   "source": [
    "## Plotting Results"
   ]
  },
  {
   "cell_type": "code",
   "execution_count": null,
   "metadata": {},
   "outputs": [],
   "source": [
    "from message_ix.reporting import Reporter\n",
    "from message_ix.util.tutorial import prepare_plots\n",
    "\n",
    "rep_base = Reporter.from_scenario(base)\n",
    "prepare_plots(rep_base)\n",
    "\n",
    "rep_scen = Reporter.from_scenario(scen)\n",
    "prepare_plots(rep_scen)"
   ]
  },
  {
   "attachments": {},
   "cell_type": "markdown",
   "metadata": {},
   "source": [
    "### Activity\n",
    "***\n",
    "The impact of adding the flexibility constraint to electricity generation technologies on the model behavior can be observed by comparing the activity levels between the two scenarios. In the '*carbon_tax*' scenario, from which we started, electricity generation from `\"wind_ppl\"` is significantly scaled up over the years. By 720, almost all the electricity is generated by the `\"wind_ppl\"`.\n",
    "\n",
    "When adding the flexibility constraint, the `\"coal_ppl\"` is required to generate a larger portion of electricity in order to provide activity to meet the flexibility demanded by the \"load\" and the `\"wind_ppl\"`."
   ]
  },
  {
   "cell_type": "markdown",
   "metadata": {},
   "source": [
    "#### Scenario: '*carbon_tax*'"
   ]
  },
  {
   "cell_type": "code",
   "execution_count": null,
   "metadata": {},
   "outputs": [],
   "source": [
    "rep_base.set_filters(t=[\"coal_ppl\", \"wind_ppl\"])\n",
    "rep_base.get(\"plot activity\")"
   ]
  },
  {
   "cell_type": "markdown",
   "metadata": {},
   "source": [
    "#### Scenario: '*flexible_generation*'"
   ]
  },
  {
   "cell_type": "code",
   "execution_count": null,
   "metadata": {},
   "outputs": [],
   "source": [
    "rep_scen.set_filters(t=[\"coal_ppl\", \"wind_ppl\"])\n",
    "rep_scen.get(\"plot activity\")"
   ]
  },
  {
   "attachments": {},
   "cell_type": "markdown",
   "metadata": {},
   "source": [
    "### Impact on emissions\n",
    "***\n",
    "As a further consequence, the `\"carbon_tax\"`, which remains unchanged, does not result in the same emission reductions as achieved in the '*carbon_tax*' scenario (shown below). We can see that the emissions in 720 increase almost fivefold. Hence, adding the flexibility requirements to the scenario will require the `\"carbon_tax\"` to be increased  significantly to achieve the same emission reductions. Alternatively, a technology which contributes more of its activity to the flexibility constraint, like a gas combustion turbine, could be added to the model."
   ]
  },
  {
   "cell_type": "markdown",
   "metadata": {},
   "source": [
    "#### Scenario: '*carbon_tax*'"
   ]
  },
  {
   "cell_type": "code",
   "execution_count": null,
   "metadata": {},
   "outputs": [],
   "source": [
    "base.var(\"EMISS\", filters={\"node\": \"Westeros\"})"
   ]
  },
  {
   "cell_type": "markdown",
   "metadata": {},
   "source": [
    "#### Scenario: '*flexible_generation*'"
   ]
  },
  {
   "cell_type": "code",
   "execution_count": null,
   "metadata": {},
   "outputs": [],
   "source": [
    "scen.var(\"EMISS\", filters={\"node\": \"Westeros\"})"
   ]
  },
  {
   "cell_type": "markdown",
   "metadata": {},
   "source": [
    "## Price\n",
    "***\n",
    "Prices of electricity increase most notably in 720, as can be seen from the two plots below comparing the prices of `\"light\"`. Note that in 700, the price of `\"light\"` in the *'flexible_generation'* scenario is lower than the price in the *'carbon_tax'* scenario. This is because we have removed the dynamic growth constraint for `\"coal_ppl\"` in that year, allowing more electricity to be produced by the `\"coal_ppl\"` as opposed to the more expensive `\"wind_ppl\"`."
   ]
  },
  {
   "cell_type": "markdown",
   "metadata": {},
   "source": [
    "### Scenario: '*carbon_tax*'"
   ]
  },
  {
   "cell_type": "code",
   "execution_count": null,
   "metadata": {},
   "outputs": [],
   "source": [
    "rep_base.set_filters(t=None, c=[\"light\"])\n",
    "rep_base.get(\"plot prices\")"
   ]
  },
  {
   "cell_type": "markdown",
   "metadata": {},
   "source": [
    "### Scenario: '*flexible_generation*'"
   ]
  },
  {
   "cell_type": "code",
   "execution_count": null,
   "metadata": {},
   "outputs": [],
   "source": [
    "rep_scen.set_filters(t=None, c=[\"light\"])\n",
    "rep_scen.get(\"plot prices\")"
   ]
  },
  {
   "cell_type": "code",
   "execution_count": null,
   "metadata": {},
   "outputs": [],
   "source": [
    "mp.close_db()"
   ]
  }
 ],
 "metadata": {
  "kernelspec": {
   "display_name": "message_ix",
   "language": "python",
   "name": "python3"
  },
  "language_info": {
   "codemirror_mode": {
    "name": "ipython",
    "version": 3
   },
   "file_extension": ".py",
   "mimetype": "text/x-python",
   "name": "python",
   "nbconvert_exporter": "python",
   "pygments_lexer": "ipython3",
   "version": "3.10.6"
  },
  "vscode": {
   "interpreter": {
    "hash": "29605b568787f5559ca1ba05da75d155c3dcfa15a1a63b1885b057c5465ade2e"
   }
  }
 },
 "nbformat": 4,
 "nbformat_minor": 2
}
