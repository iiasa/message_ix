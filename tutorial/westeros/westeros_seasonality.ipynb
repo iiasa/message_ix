{
 "cells": [
  {
   "cell_type": "markdown",
   "metadata": {},
   "source": [
    "# Westeros Tutorial - Introducing sub-annual time-steps: Modeling of variability in energy supply and demand\n",
    "## \"*Winter is coming!*\" \n",
    "Time-dependent variations in demand and supply are common characteristics of an electricity system, and Westeros is not an\n",
    "exception. This tutorial helps to learn how to add sub-annual time steps to a MESSAGEix model and investigate the impact of the\n",
    "variability in supply and demand. It is structured as follows:\n",
    "1. A short note on seasonality\n",
    "2. Adding sub-annual time steps\n",
    "3. Analyzing the results\n",
    "\n",
    "**Pre-requisites**\n",
    "- You have the *MESSAGEix* framework installed and working\n",
    "- You have run Westeros baseline scenario (``westeros_baseline.ipynb``) and solved it successfully\n",
    "\n",
    "\n",
    "_This tutorial was developed by Behnam Zakeri ([@behnam-zakeri](https://github.com/behnam-zakeri)) for the course Energy\n",
    "Economics and Modeling held at the International Summer School in Energy Technology, St. Petersburg Polytechnique University in August 2018._"
   ]
  },
  {
   "attachments": {},
   "cell_type": "markdown",
   "metadata": {},
   "source": [
    "## 1. Seasonal variations in demand and supply\n",
    "The electricity demand can vary on different time scales, e.g., seasonally, monthly, daily, and hourly. In Westeros, the winter time is typically cold and long, which increases the demand for electricity and lighting. We investigate this seasonality in this tutorial, but the procedure discussed here can be adopted for studying different lengths of temporal resolution.\n",
    "\n",
    "<img src='_static/load_seasons.png'>"
   ]
  },
  {
   "attachments": {},
   "cell_type": "markdown",
   "metadata": {},
   "source": [
    "Seasonality can be relevant to some supply technologies as well. For example, Westeros has more windy days in winter months compared to summer. This means the capacity factor of a wind power plant is higher in winter compared to summer. The figure below, rendered from renewables.ninja*, shows the monthly capacity factor of a wind power plant somewhere near Westeros.                                                       \n",
    "\n",
    "<img src=\"_static/cf_wind.png\" style=\"width: 600px;\"/>\n",
    "\n",
    "*You can also find the capacity factor of wind and solar PV for your location at https://www.renewables.ninja/, as we found for a place near Westeros."
   ]
  },
  {
   "cell_type": "markdown",
   "metadata": {},
   "source": [
    "## 2. Implementation of seasonality\n",
    "In this tutorial we add two sub-annual time steps, winter and summer. First, we load the baseline scenario, then we add the required sets related to seasonality, next we modify the parameters, and finally we analyze the results.\n",
    "\n",
    "### Loading Westeros baseline scenario "
   ]
  },
  {
   "cell_type": "code",
   "execution_count": null,
   "metadata": {},
   "outputs": [],
   "source": [
    "# Importing required packages\n",
    "import pandas as pd\n",
    "import ixmp as ix\n",
    "import message_ix\n",
    "\n",
    "%matplotlib inline"
   ]
  },
  {
   "cell_type": "code",
   "execution_count": null,
   "metadata": {},
   "outputs": [],
   "source": [
    "# Loading modelling platform\n",
    "mp = ix.Platform()"
   ]
  },
  {
   "cell_type": "code",
   "execution_count": null,
   "metadata": {},
   "outputs": [],
   "source": [
    "# Specifying model/scenario to be loaded from the database\n",
    "model = \"Westeros Electrified\"\n",
    "scenario = \"baseline\"\n",
    "base = message_ix.Scenario(mp, model, scenario)\n",
    "\n",
    "# Cloning a scenario for adding time steps\n",
    "scen = base.clone(\n",
    "    model, \"westeros_seasonal\", \"introducing seasonality\", keep_solution=False\n",
    ")\n",
    "scen.check_out()"
   ]
  },
  {
   "attachments": {},
   "cell_type": "markdown",
   "metadata": {},
   "source": [
    "### Modifying sets\n",
    "First, we specify subannual time steps and add them to relevant MESSAGE sets. In the MESSAGEix framework, the set `\"time\"` is devoted for sub-annual time steps, denoted by index *h* in the mathematical formulation:\n",
    "\n",
    "| Set name | Math notation | Explanation |\n",
    "|:---------|:--------------|:------------|\n",
    "| time     | $h \\in H$     | subannual time periods |"
   ]
  },
  {
   "cell_type": "code",
   "execution_count": null,
   "metadata": {},
   "outputs": [],
   "source": [
    "# Adding sub-annual time steps\n",
    "time_steps = [\"winter\", \"summer\"]\n",
    "scen.add_set(\"time\", time_steps)"
   ]
  },
  {
   "cell_type": "code",
   "execution_count": null,
   "metadata": {},
   "outputs": [],
   "source": [
    "# We can see the elements of the set\n",
    "scen.set(\"time\")"
   ]
  },
  {
   "cell_type": "code",
   "execution_count": null,
   "metadata": {},
   "outputs": [],
   "source": [
    "# Defining a new temporal level\n",
    "time_level = \"season\"\n",
    "scen.add_set(\"lvl_temporal\", time_level)"
   ]
  },
  {
   "cell_type": "markdown",
   "metadata": {},
   "source": [
    "Next, the temporal hierarchy will be defined to map different levels of time with respect to `\"year\"`, which is the parent temporal level for any `\"time\"`. "
   ]
  },
  {
   "cell_type": "code",
   "execution_count": null,
   "metadata": {},
   "outputs": [],
   "source": [
    "# Adding temporal hierarchy\n",
    "for t in time_steps:\n",
    "    scen.add_set(\"map_temporal_hierarchy\", [time_level, t, \"year\"])\n",
    "\n",
    "# We can see the content of the set\n",
    "scen.set(\"map_temporal_hierarchy\")"
   ]
  },
  {
   "attachments": {},
   "cell_type": "markdown",
   "metadata": {},
   "source": [
    "### Modifying parameters\n",
    "In this section, we modify some parameters based on the new time steps. In principle, we need to examine all parameters that have an index of `\"time\"` to see if we need to modify them or not."
   ]
  },
  {
   "cell_type": "code",
   "execution_count": null,
   "metadata": {},
   "outputs": [],
   "source": [
    "# All parameters with at least one sub-annual time index\n",
    "parameters = [p for p in scen.par_list() if \"time\" in scen.idx_sets(p)]\n",
    "\n",
    "# Those parameters with time index that are not empty in our model\n",
    "[p for p in parameters if not scen.par(p).empty]"
   ]
  },
  {
   "attachments": {},
   "cell_type": "markdown",
   "metadata": {},
   "source": [
    "### Parameter `duration_time`\n",
    "We start by modifying the parameter `\"duration_time\"`, which shows the length of each subannual time step relative to the whole year:\n",
    "\n",
    "| Parameter | Index set| Explanation|\n",
    "|:----------|:---------| :----------|\n",
    "| duration_time\t| time\t|duration of sub-annual time slices (relative to 1)| \n",
    "\n",
    "In our example, winter and summer are each defined as half of the year. However, the duration of time steps can be\n",
    "different in a MESSAGEix model, e.g., winter 0.4 and summer 0.6. Only the sum of the duration times must be equal to 1."
   ]
  },
  {
   "cell_type": "code",
   "execution_count": null,
   "metadata": {},
   "outputs": [],
   "source": [
    "# Adding the duration time\n",
    "for t in time_steps:\n",
    "    scen.add_par(\"duration_time\", [t], 0.5, \"-\")"
   ]
  },
  {
   "attachments": {},
   "cell_type": "markdown",
   "metadata": {},
   "source": [
    "### A function for modifying parameters\n",
    "At this stage, we introduce a function that helps us modify the parameters after adding new time steps. This function called `yearly_to_season` does the following:\n",
    "- remove old values, where the `\"time\"` index was `\"year\"`\n",
    "- populate data for new `\"time\"` indexes\n",
    "- use the ratios defined by the user to convert yearly values to seasonal ones\n",
    "\n",
    "This is a common code pattern when modelling using MESSAGEix:\n",
    "writing re-usable code that helps modify existing parameter data to reflect some desired change in the reference energy system."
   ]
  },
  {
   "cell_type": "code",
   "execution_count": null,
   "metadata": {},
   "outputs": [],
   "source": [
    "# A function for adding sub-annual data to a parameter\n",
    "def yearly_to_season(scen, parameter, data, filters=None):\n",
    "    if filters:\n",
    "        old = scen.par(parameter, filters)\n",
    "    else:\n",
    "        old = scen.par(parameter)\n",
    "    scen.remove_par(parameter, old)\n",
    "\n",
    "    # Finding time related indexes\n",
    "    time_idx = [x for x in scen.idx_names(parameter) if \"time\" in x]\n",
    "    for h in data.keys():\n",
    "        new = old.copy()\n",
    "        for time in time_idx:\n",
    "            new[time] = h\n",
    "        new[\"value\"] = data[h] * old[\"value\"]\n",
    "        scen.add_par(parameter, new)"
   ]
  },
  {
   "attachments": {},
   "cell_type": "markdown",
   "metadata": {},
   "source": [
    "### Modifying electricity demand in sub-annual time steps\n",
    "The seasonality in demand for electricity and lighting can be taken into account by estimating different values for each time step. For example, the share of electricity demand in winter and summer in Westeros is approximately 0.6 and 0.4 of the yearly demand. We can get the yearly demand from the baseline scenario and divide it to the two seasons according to their shares."
   ]
  },
  {
   "cell_type": "code",
   "execution_count": null,
   "metadata": {},
   "outputs": [],
   "source": [
    "# Before modifying, let's look at the demand in the baseline\n",
    "scen.par(\"demand\")"
   ]
  },
  {
   "cell_type": "code",
   "execution_count": null,
   "metadata": {},
   "outputs": [],
   "source": [
    "# Modifying the demand for each season\n",
    "demand_data = {\"winter\": 0.60, \"summer\": 0.40}\n",
    "yearly_to_season(scen, \"demand\", demand_data)\n",
    "\n",
    "# Let's look at demand now\n",
    "scen.par(\"demand\")"
   ]
  },
  {
   "attachments": {},
   "cell_type": "markdown",
   "metadata": {},
   "source": [
    "### Modifying `\"input\"` and `\"output\"`\n",
    "However, not all parameters that have subannual time steps need to divide their annual values for each time step. For example, the `\"output\"` parameter shows the output efficiency, commodities and the level of a technology. Hence, as far as the efficiency of a technology remains unchanged in different seasons, the value of `\"output\"` will be the same. As such, we only need to add the sub-annual time steps but with the same value as for the yearly one."
   ]
  },
  {
   "cell_type": "code",
   "execution_count": null,
   "metadata": {},
   "outputs": [],
   "source": [
    "# Modifying input and output parameters for each season\n",
    "fixed_data = {\"winter\": 1, \"summer\": 1}\n",
    "# Output\n",
    "yearly_to_season(scen, \"output\", fixed_data)\n",
    "# Input\n",
    "yearly_to_season(scen, \"input\", fixed_data)"
   ]
  },
  {
   "attachments": {},
   "cell_type": "markdown",
   "metadata": {},
   "source": [
    "### Modifying dynamic constraints\n",
    "Next, we modify dynamic constraints with a `\"time\"` index, i.e. growth and decline rates of activities. In the Westeros baseline scenario, there is only `\"growth_activity_up\"`, so this parameter will be modified for seasonality but with the same values. "
   ]
  },
  {
   "cell_type": "code",
   "execution_count": null,
   "metadata": {},
   "outputs": [],
   "source": [
    "# Modifying growth rates for each season\n",
    "yearly_to_season(scen, \"growth_activity_up\", fixed_data)"
   ]
  },
  {
   "attachments": {},
   "cell_type": "markdown",
   "metadata": {},
   "source": [
    "### Modifying capacity factor\n",
    "We discussed the variation in the capacity factor of wind power in each month. By averaging the values for the respective months, we reach a capacity factor of 0.46 for winter and 0.25 for summer in Westeros.\n"
   ]
  },
  {
   "cell_type": "code",
   "execution_count": null,
   "metadata": {},
   "outputs": [],
   "source": [
    "# Modifying capacity factor\n",
    "# Let's get the yearly capacity factor of wind in the baseline scenario\n",
    "cf_wind = scen.par(\"capacity_factor\", {\"technology\": \"wind_ppl\"})[\"value\"].mean()\n",
    "\n",
    "# Converting yearly capacity factor to seasonal\n",
    "cf_data = {\"winter\": 0.46 / cf_wind, \"summer\": 0.25 / cf_wind}\n",
    "cf_filters = {\"technology\": \"wind_ppl\"}\n",
    "yearly_to_season(scen, \"capacity_factor\", cf_data, cf_filters)\n",
    "\n",
    "# Capacity factor of other technologies remains unchanged in each season\n",
    "cf_filters = {\"technology\": [\"coal_ppl\", \"bulb\", \"grid\"]}\n",
    "yearly_to_season(scen, \"capacity_factor\", fixed_data, cf_filters)\n",
    "\n",
    "# Let's look at capacity factor in year 710\n",
    "scen.par(\"capacity_factor\", {\"year_act\": 710, \"year_vtg\": 710})"
   ]
  },
  {
   "attachments": {},
   "cell_type": "markdown",
   "metadata": {},
   "source": [
    "### Modifying historical activity\n",
    "`\"historical_activity\"` is one of the parameters for which the data should be divided between the seasons. In the absence of recorded data in Westeros before 690, we assume historical values can be divided by half for each season:"
   ]
  },
  {
   "cell_type": "code",
   "execution_count": null,
   "metadata": {},
   "outputs": [],
   "source": [
    "# Modifying historical activity\n",
    "hist_data = {\"winter\": 0.5, \"summer\": 0.5}\n",
    "yearly_to_season(scen, \"historical_activity\", hist_data)"
   ]
  },
  {
   "attachments": {},
   "cell_type": "markdown",
   "metadata": {},
   "source": [
    "### Economic parameters\n",
    "Investment cost is defined per installed capacity per year and is not related to subannual time steps, so it remains unchanged. Variable cost is time-dependent so the `\"time\"` index should be updated. However, as variable cost is defined per unit of activity, the `value` can remain unchanged for different time steps."
   ]
  },
  {
   "cell_type": "code",
   "execution_count": null,
   "metadata": {},
   "outputs": [],
   "source": [
    "# Modifying variable cost\n",
    "yearly_to_season(scen, \"var_cost\", fixed_data)"
   ]
  },
  {
   "cell_type": "markdown",
   "metadata": {},
   "source": [
    "### Solving the model"
   ]
  },
  {
   "cell_type": "code",
   "execution_count": null,
   "metadata": {},
   "outputs": [],
   "source": [
    "scen.commit(comment=\"introducing seasonality\")\n",
    "scen.set_as_default()"
   ]
  },
  {
   "cell_type": "code",
   "execution_count": null,
   "metadata": {},
   "outputs": [],
   "source": [
    "scen.solve()"
   ]
  },
  {
   "cell_type": "code",
   "execution_count": null,
   "metadata": {},
   "outputs": [],
   "source": [
    "scen.var(\"OBJ\")[\"lvl\"]"
   ]
  },
  {
   "cell_type": "markdown",
   "metadata": {},
   "source": [
    "## 3. Postprocessing and analyzing results\n",
    "### Plotting results"
   ]
  },
  {
   "cell_type": "code",
   "execution_count": null,
   "metadata": {},
   "outputs": [],
   "source": [
    "from message_ix.reporting import Reporter\n",
    "from message_ix.util.tutorial import prepare_plots\n",
    "\n",
    "rep = Reporter.from_scenario(scen)\n",
    "prepare_plots(rep)"
   ]
  },
  {
   "cell_type": "markdown",
   "metadata": {},
   "source": [
    "### Activity\n",
    "\n",
    "How much energy is generated in each time period from the different potential sources?"
   ]
  },
  {
   "cell_type": "code",
   "execution_count": null,
   "metadata": {},
   "outputs": [],
   "source": [
    "rep.set_filters(t=[\"coal_ppl\", \"wind_ppl\"])\n",
    "rep.get(\"plot activity\")"
   ]
  },
  {
   "cell_type": "markdown",
   "metadata": {},
   "source": [
    "### Installed capacity\n",
    "\n",
    "Given how many new plants are built, how many are actually used?"
   ]
  },
  {
   "cell_type": "code",
   "execution_count": null,
   "metadata": {},
   "outputs": [],
   "source": [
    "rep.get(\"plot capacity\")"
   ]
  },
  {
   "cell_type": "markdown",
   "metadata": {},
   "source": [
    "### Electricity Price\n",
    "\n",
    "Electricity prices are **dual variables** of the optimization solution called **shadow prices** as well. They reflect the marginal cost of producing one more unit of electricity, hence, representing the marginal cost of the most expensive generator in the system.  "
   ]
  },
  {
   "cell_type": "code",
   "execution_count": null,
   "metadata": {},
   "outputs": [],
   "source": [
    "rep.set_filters(t=None, c=[\"light\"])\n",
    "rep.get(\"plot prices\")"
   ]
  },
  {
   "attachments": {},
   "cell_type": "markdown",
   "metadata": {},
   "source": [
    "## Questions and discussion\n",
    "1. Compare the objective value of this scenario with the baseline; which power system is more costly? Given the fact that electricity demand and the cost of technologies are equal between these two scenarios, how do you justify the change in the total costs?\n",
    "\n",
    "2. Compare the figure for \"Activity\" between this scenario and the baseline; do you observe any changes in the energy mix? The results show more wind integration in this scenario. What is the reason?\n",
    " \n",
    "3. If you check out the figure for \"Capacity\" in both scenarios, you'll notice that the increase in the installed capacity of wind is much higher than the growth in wind generation. Can you explain the reason?\n",
    "\n",
    "4. Rerun this tutorial for a scenario with 4 sub-annual time steps: winter, spring, summer and autumn (each one quarter of the whole year).\n",
    "\n"
   ]
  },
  {
   "attachments": {},
   "cell_type": "markdown",
   "metadata": {},
   "source": [
    "### *Discussion*: \n",
    "The greater availability of wind in wintertime coincides with the higher demand for electricity in winter compared to summer. Hence, when coal power plants are not able to cover the increased electricity demand in winter, the system needs more wind generation compared to the baseline (for example, see the results for \"Activity\" in 700):"
   ]
  },
  {
   "cell_type": "code",
   "execution_count": null,
   "metadata": {},
   "outputs": [],
   "source": [
    "scen.var(\"ACT\", {\"year_act\": 700})"
   ]
  },
  {
   "attachments": {},
   "cell_type": "markdown",
   "metadata": {},
   "source": [
    "Adding seasonality to the model shows the impact of any coincidence or mismatch between wind generation and electricity demand. This seasonality can be averaged out if the yearly values are taken into account. The capacity factor of wind is different in winter and summer, while it was an average yearly value in the baseline scenario. Without any bound or tax on emissions, coal is the cheapest option. Wind will be installed only when coal cannot ramp up quickly to meet the whole demand, mainly in winter. Therefore, we observe relatively much higher installed capacity for wind compared in this scenario to the baseline, even though wind is more expensive. Thus, we see a more expensive system when considering seasonality (compare the objective values). "
   ]
  },
  {
   "cell_type": "markdown",
   "metadata": {},
   "source": [
    "### Final note\n",
    "\n",
    "Thank you for trying this tutorial!\n",
    "\n",
    "Check us out on Github: https://github.com/iiasa/message_ix  \n",
    "\n",
    "Get in touch with us online: https://groups.google.com/forum/message-ix  \n",
    "\n",
    "And feel free to contact us with any further questions or feedback for improving this tutorial: zakeri@iiasa.ac.at"
   ]
  },
  {
   "cell_type": "code",
   "execution_count": null,
   "metadata": {},
   "outputs": [],
   "source": [
    "mp.close_db()"
   ]
  }
 ],
 "metadata": {
  "kernelspec": {
   "display_name": "Python 3 (ipykernel)",
   "language": "python",
   "name": "python3"
  },
  "language_info": {
   "codemirror_mode": {
    "name": "ipython",
    "version": 3
   },
   "file_extension": ".py",
   "mimetype": "text/x-python",
   "name": "python",
   "nbconvert_exporter": "python",
   "pygments_lexer": "ipython3",
   "version": "3.9.2"
  }
 },
 "nbformat": 4,
 "nbformat_minor": 2
}
