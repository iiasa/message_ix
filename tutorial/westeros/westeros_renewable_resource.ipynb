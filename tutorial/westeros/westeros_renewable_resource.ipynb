{
 "cells": [
  {
   "attachments": {},
   "cell_type": "markdown",
   "metadata": {},
   "source": [
    "# Westeros Tutorial - Adding representation of renewables (part 3/3): Introducing `renewable_resource_constraints`\n",
    "\n",
    "This tutorial, which demonstrates how to apply various model features to provide a more realistic representation of renewable energy integration in the energy system, is comprised of three parts. Previously, we introduced constraints on [`\"firm capacity\"`](https://docs.messageix.org/en/stable/model/MESSAGE/model_core.html?highlight=FIRM_CAPACITY_PROVISION#equation-firm-capacity-provision) and [`\"flexible generation\"`](https://docs.messageix.org/en/stable/model/MESSAGE/model_core.html?highlight=flexibility#equation-system-flexibility-constraint).\n",
    "\n",
    "In the third part we will show you how to introduce renewable resource potentials.  Up until now, `\"wind_ppl\"` activity was unrestricted.  In order to reflect the fact that there are limited wind potentials within a given region and the fact that these differ in quality, we will add [`renewable_potentials`][1] and [`renewable_capacity_factors`][1] for wind.\n",
    "\n",
    "[1]: https://docs.messageix.org/en/stable/model/MESSAGE/model_core.html?highlight=renewable#constraints-representing-renewable-integration\n",
    "\n",
    "<img src='_static/renewable_resource_res.png' width='900'>\n",
    "\n",
    "Further information can be found in [Sullivan et al., 2013](https://doi.org/10.1016/j.esr.2013.01.001).\n",
    "\n",
    "**Pre-requisites**\n",
    "- You have the *MESSAGEix* framework installed and working\n",
    "- You have run Westeros scenario which adds emission taxes (`westeros_emissions_taxes.ipynb`) and solved it successfully"
   ]
  },
  {
   "cell_type": "code",
   "execution_count": null,
   "metadata": {},
   "outputs": [],
   "source": [
    "import pandas as pd\n",
    "import ixmp\n",
    "import message_ix\n",
    "\n",
    "%matplotlib inline"
   ]
  },
  {
   "cell_type": "code",
   "execution_count": null,
   "metadata": {},
   "outputs": [],
   "source": [
    "mp = ixmp.Platform()"
   ]
  },
  {
   "attachments": {},
   "cell_type": "markdown",
   "metadata": {},
   "source": [
    "## Load existing and clone to new scenario\n",
    "We load the existing scenario '*carbon_tax*' and clone it to a new scenario '*renewable_potential*' to which we will apply the `renewable_resource_constraints` constraint."
   ]
  },
  {
   "cell_type": "code",
   "execution_count": null,
   "metadata": {},
   "outputs": [],
   "source": [
    "model = \"Westeros Electrified\"\n",
    "base = message_ix.Scenario(mp, model=model, scenario=\"carbon_tax\")\n",
    "scen = base.clone(\n",
    "    model,\n",
    "    \"renewable_potential\",\n",
    "    \"illustration of renewable_resource_constraint formulation\",\n",
    "    keep_solution=False,\n",
    ")\n",
    "scen.check_out()"
   ]
  },
  {
   "attachments": {},
   "cell_type": "markdown",
   "metadata": {},
   "source": [
    "## Retrieve parameters\n",
    "We will retrieve those parameters necessary to perform subsequent additions of parameters."
   ]
  },
  {
   "cell_type": "code",
   "execution_count": null,
   "metadata": {},
   "outputs": [],
   "source": [
    "year_df = scen.vintage_and_active_years()\n",
    "vintage_years, act_years = year_df[\"year_vtg\"], year_df[\"year_act\"]\n",
    "model_horizon = scen.set(\"year\")\n",
    "country = \"Westeros\""
   ]
  },
  {
   "attachments": {},
   "cell_type": "markdown",
   "metadata": {},
   "source": [
    "## `renewable_resource_constraints` - Describing the renewable resource potentials\n",
    "From the previous tutorials we know that in 720 wind capacity reaches over 150 GWa. We will therefore define 4 wind potential categories which in total will provide 200 GWa, yet the quality of these potentials will vary substantially from the current assumptions, where the capacity factor for `\"wind_ppl\"` has been assumed to be 1, meaning that the installed `\"wind_ppl\"` capacity can operate 8760 hours per year i.e., 100% of the year. Depending on the region, high quality on-shore wind potentials result in capacity factors around 35%, yet the majority of the potentials will lie below this value.  Therefore, 4 resource categories will be introduced:\n",
    "\n",
    "| Resource Category | Potential \\[GWa\\] | Capacity Factor \\[%\\] |\n",
    "| :---------------- | :---------------- | :-------------------- |\n",
    "| c1 | 100 | 15 |\n",
    "| c2 | 50 | 20 |\n",
    "| c3 | 25 | 25 |\n",
    "| c4 | 25 | 30 |\n",
    "\n",
    "The figure below illustrates the potential categories as listed in the above table.\n",
    "\n",
    "<img src='_static/westeros_renewable_resource_potentials.png' width='500'>\n",
    "\n",
    "The capacity factor of the `\"wind_ppl\"` will remain unchanged and will be reflected in the parametrization of the renewable resources.  \n",
    "\n",
    "The following steps are required:\n",
    "1. Add level and commodity:\n",
    "   - Specify a new level and commodity which account for the wind potentials and which serve as inputs to the `\"wind_ppl\"`\n",
    "   - Specify which level is a `\"level_renewable\"`\n",
    "2. Modify existing renewable technology:\n",
    "   - Specify which technology is classified as a `\"type_tec\"` `\"renewable\"` (optional) \n",
    "   - Modify the input of the `\"wind_ppl\"`\n",
    "3. Add potentials and corresponding capacity factors:\n",
    "   - Add grades\n",
    "   - Add `\"renewable_potential\"`s\n",
    "   - Add `\"renewable_capacity_factor\"`s"
   ]
  },
  {
   "attachments": {},
   "cell_type": "markdown",
   "metadata": {},
   "source": [
    "### 1. Add level and commodity\n",
    "The level and commodity which we add will allow us to account for potentials for wind."
   ]
  },
  {
   "cell_type": "code",
   "execution_count": null,
   "metadata": {},
   "outputs": [],
   "source": [
    "scen.add_set(\"level\", [\"renewable\"])\n",
    "scen.add_set(\"commodity\", [\"wind_onshore\"])\n",
    "scen.add_set(\"level_renewable\", [\"renewable\"])"
   ]
  },
  {
   "cell_type": "markdown",
   "metadata": {},
   "source": [
    "### 2. Modify existing renewable technology"
   ]
  },
  {
   "attachments": {},
   "cell_type": "markdown",
   "metadata": {},
   "source": [
    "#### Define a new technology category `\"renewable\"`\n",
    "We will define `\"type_tec\"` and add `\"wind_ppl\"` to this new category. This can be used e.g. to simplify the reporting code, where results can be retrieved for technologies within given sets as opposed to specifying individual technologies."
   ]
  },
  {
   "cell_type": "code",
   "execution_count": null,
   "metadata": {},
   "outputs": [],
   "source": [
    "scen.add_set(\"type_tec\", [\"renewable\"])\n",
    "df = pd.DataFrame({\"type_tec\": [\"renewable\"], \"technology\": [\"wind_ppl\"]})\n",
    "scen.add_set(\"cat_tec\", df)"
   ]
  },
  {
   "cell_type": "markdown",
   "metadata": {},
   "source": [
    "#### Add `\"input\"` parameter for `\"wind_ppl\"`\n",
    "We will add the parameter `\"input\"` for `\"wind_ppl\"`."
   ]
  },
  {
   "cell_type": "code",
   "execution_count": null,
   "metadata": {},
   "outputs": [],
   "source": [
    "df = pd.DataFrame(\n",
    "    {\n",
    "        \"node_loc\": country,\n",
    "        \"technology\": \"wind_ppl\",\n",
    "        \"year_vtg\": vintage_years,\n",
    "        \"year_act\": act_years,\n",
    "        \"mode\": \"standard\",\n",
    "        \"node_origin\": country,\n",
    "        \"commodity\": \"wind_onshore\",\n",
    "        \"level\": \"renewable\",\n",
    "        \"time\": \"year\",\n",
    "        \"time_origin\": \"year\",\n",
    "        \"value\": 1,\n",
    "        \"unit\": \"%\",\n",
    "    }\n",
    ")\n",
    "scen.add_par(\"input\", df)"
   ]
  },
  {
   "cell_type": "markdown",
   "metadata": {},
   "source": [
    "### 3. Add potentials and corresponding capacity factors"
   ]
  },
  {
   "cell_type": "markdown",
   "metadata": {},
   "source": [
    "#### Add new resource potential categories\n",
    "Each renewable potential category is defined as a separate `\"grade\"`."
   ]
  },
  {
   "cell_type": "code",
   "execution_count": null,
   "metadata": {},
   "outputs": [],
   "source": [
    "grades = [\"c1\", \"c2\", \"c3\", \"c4\"]\n",
    "scen.add_set(\"grade\", grades)"
   ]
  },
  {
   "attachments": {},
   "cell_type": "markdown",
   "metadata": {},
   "source": [
    "#### Add `\"renewable_potential\"`s\n",
    "Note that unlike fossil resources which are finite, renewable resources must be defined for each year."
   ]
  },
  {
   "cell_type": "code",
   "execution_count": null,
   "metadata": {},
   "outputs": [],
   "source": [
    "# `\"renewable_potential\"` has the following index structure\n",
    "scen.idx_names(\"renewable_potential\")"
   ]
  },
  {
   "cell_type": "code",
   "execution_count": null,
   "metadata": {},
   "outputs": [],
   "source": [
    "idx = pd.MultiIndex.from_product(\n",
    "    [[country], [\"wind_onshore\"], grades, [\"renewable\"], model_horizon, [\"GWa\"]],\n",
    "    names=[\"node\", \"commodity\", \"grade\", \"level\", \"year\", \"unit\"],\n",
    ")\n",
    "df = pd.DataFrame(\n",
    "    {\"value\": sorted([100, 50, 25, 25] * len(model_horizon), reverse=True)}, idx\n",
    ").reset_index()\n",
    "scen.add_par(\"renewable_potential\", df)"
   ]
  },
  {
   "attachments": {},
   "cell_type": "markdown",
   "metadata": {},
   "source": [
    "#### Add `\"renewable_capacity_factor\"`s"
   ]
  },
  {
   "cell_type": "code",
   "execution_count": null,
   "metadata": {},
   "outputs": [],
   "source": [
    "# `\"renewable_capacity_factor\"` has the following index structure\n",
    "scen.idx_names(\"renewable_capacity_factor\")"
   ]
  },
  {
   "cell_type": "code",
   "execution_count": null,
   "metadata": {},
   "outputs": [],
   "source": [
    "idx = pd.MultiIndex.from_product(\n",
    "    [[country], [\"wind_onshore\"], grades, [\"renewable\"], model_horizon, [\"-\"]],\n",
    "    names=[\"node\", \"commodity\", \"grade\", \"level\", \"year\", \"unit\"],\n",
    ")\n",
    "df = pd.DataFrame(\n",
    "    {\"value\": sorted([0.15, 0.20, 0.25, 0.30] * len(model_horizon))}, idx\n",
    ").reset_index()\n",
    "scen.add_par(\"renewable_capacity_factor\", df)"
   ]
  },
  {
   "cell_type": "markdown",
   "metadata": {},
   "source": [
    "## Commit and solve"
   ]
  },
  {
   "cell_type": "code",
   "execution_count": null,
   "metadata": {},
   "outputs": [],
   "source": [
    "scen.commit(comment=\"Define parameters for renewable implementation\")\n",
    "scen.set_as_default()"
   ]
  },
  {
   "cell_type": "code",
   "execution_count": null,
   "metadata": {},
   "outputs": [],
   "source": [
    "scen.solve()"
   ]
  },
  {
   "cell_type": "code",
   "execution_count": null,
   "metadata": {},
   "outputs": [],
   "source": [
    "scen.var(\"OBJ\")[\"lvl\"]"
   ]
  },
  {
   "cell_type": "markdown",
   "metadata": {},
   "source": [
    "## Plotting Results"
   ]
  },
  {
   "cell_type": "code",
   "execution_count": null,
   "metadata": {},
   "outputs": [],
   "source": [
    "from message_ix.reporting import Reporter\n",
    "from message_ix.util.tutorial import prepare_plots\n",
    "\n",
    "rep_base = Reporter.from_scenario(base)\n",
    "prepare_plots(rep_base)\n",
    "\n",
    "rep_scen = Reporter.from_scenario(scen)\n",
    "prepare_plots(rep_scen)"
   ]
  },
  {
   "attachments": {},
   "cell_type": "markdown",
   "metadata": {},
   "source": [
    "### Activity\n",
    "***\n",
    "When comparing the results of the original scenario without the renewable potentials ('*carbon_tax*') with the results of our newly modified scenario ('*renewable_potential*'), for the same carbon price we can observe that the activity of the `\"wind_ppl\"` has substantially decreased.  This is because through adding potentials with corresponding plant factors, the `\"wind_ppl\"` has become increasingly economically unattractive and despite the carbon tax is not used. \n",
    "Note that the `\"coal_ppl\"` still has a plant factor of 1 and has no resource constraints, thus in order to further improve the model, the parameters for the `\"coal_ppl\"` would need to be adjusted."
   ]
  },
  {
   "cell_type": "markdown",
   "metadata": {},
   "source": [
    "#### Scenario: '*carbon_tax*'"
   ]
  },
  {
   "cell_type": "code",
   "execution_count": null,
   "metadata": {},
   "outputs": [],
   "source": [
    "rep_base.set_filters(t=[\"coal_ppl\", \"wind_ppl\"])\n",
    "rep_base.get(\"plot activity\")"
   ]
  },
  {
   "cell_type": "markdown",
   "metadata": {},
   "source": [
    "#### Scenario: '*renewable_potential*'"
   ]
  },
  {
   "cell_type": "code",
   "execution_count": null,
   "metadata": {},
   "outputs": [],
   "source": [
    "rep_scen.set_filters(t=[\"coal_ppl\", \"wind_ppl\"])\n",
    "rep_scen.get(\"plot activity\")"
   ]
  },
  {
   "attachments": {},
   "cell_type": "markdown",
   "metadata": {},
   "source": [
    "### Capacity\n",
    "***\n",
    "The behavior observed for the activity of the two electricity generating technologies is reflected in the capacity. No further capacity is built for the `\"wind_ppl\"` and thus it is phased out by 720."
   ]
  },
  {
   "cell_type": "markdown",
   "metadata": {},
   "source": [
    "#### Scenario: '*carbon_tax*'"
   ]
  },
  {
   "cell_type": "code",
   "execution_count": null,
   "metadata": {},
   "outputs": [],
   "source": [
    "rep_base.get(\"plot capacity\")"
   ]
  },
  {
   "cell_type": "markdown",
   "metadata": {},
   "source": [
    "#### Scenario: '*renewable_potential*'"
   ]
  },
  {
   "cell_type": "code",
   "execution_count": null,
   "metadata": {},
   "outputs": [],
   "source": [
    "rep_scen.get(\"plot capacity\")"
   ]
  },
  {
   "cell_type": "markdown",
   "metadata": {},
   "source": [
    "### Prices\n",
    "***\n",
    "Especially in the earlier model time periods, electricity and therefore the price for light increase dramatically.  The increase in 720 is due to the emission taxes associated with the operation of the `\"coal_ppl\"`."
   ]
  },
  {
   "cell_type": "markdown",
   "metadata": {},
   "source": [
    "#### Scenario: '*carbon_tax*'"
   ]
  },
  {
   "cell_type": "code",
   "execution_count": null,
   "metadata": {},
   "outputs": [],
   "source": [
    "rep_base.set_filters(t=None, c=[\"light\"])\n",
    "rep_base.get(\"plot prices\")"
   ]
  },
  {
   "cell_type": "markdown",
   "metadata": {},
   "source": [
    "#### Scenario: '*renewable_potential*'"
   ]
  },
  {
   "cell_type": "code",
   "execution_count": null,
   "metadata": {},
   "outputs": [],
   "source": [
    "rep_scen.set_filters(t=None, c=[\"light\"])\n",
    "rep_scen.get(\"plot prices\")"
   ]
  },
  {
   "cell_type": "code",
   "execution_count": null,
   "metadata": {},
   "outputs": [],
   "source": [
    "mp.close_db()"
   ]
  },
  {
   "attachments": {},
   "cell_type": "markdown",
   "metadata": {},
   "source": [
    "<div class=\"alert alert-block alert-success\">\n",
    "    \n",
    "***Additional exercise***\n",
    "    \n",
    "The renewable potential categories have been defined such that `\"capacity_factor\"` decreases with increasing potentials. The model will thus first make of use the renewable potential with the highest capacity factor, and when saturated, the model proceeds with the next highest capacity factor. Typically, the potentials of better quality are not necessarily located close to the demand centers. As an exercise in a separate tutorial, add a cost to these potentials, by adding one technology for each grade, called something like \"connection_to_grid_\\<potential grade name\\>\", with variable costs as shown in the table below.\n",
    "    \n",
    "| Resource Category | Potential \\[GWa\\] | Capacity Factor \\[%\\] | Variable OM Cost in \\[USD/kWa\\] |\n",
    "| :---------------- | :---------------- | :-------------------- | :------------------------------|\n",
    "| c1 | 100 | 15 | 1 |\n",
    "| c2 | 50 | 20 | 15 |\n",
    "| c3 | 25 | 25 | 10 |\n",
    "| c4 | 25 | 30 | 30 |\n",
    "    \n",
    "Remember that each of the renewable potential categories will require an individual `\"commodity\"` as input to the `\"wind_ppl\"`.\n",
    "    \n",
    "<img src='_static/renewable_resource_res_exercise.png' width='900'>"
   ]
  }
 ],
 "metadata": {
  "kernelspec": {
   "display_name": "message_ix",
   "language": "python",
   "name": "python3"
  },
  "language_info": {
   "codemirror_mode": {
    "name": "ipython",
    "version": 3
   },
   "file_extension": ".py",
   "mimetype": "text/x-python",
   "name": "python",
   "nbconvert_exporter": "python",
   "pygments_lexer": "ipython3",
   "version": "3.10.6"
  },
  "vscode": {
   "interpreter": {
    "hash": "29605b568787f5559ca1ba05da75d155c3dcfa15a1a63b1885b057c5465ade2e"
   }
  }
 },
 "nbformat": 4,
 "nbformat_minor": 2
}
