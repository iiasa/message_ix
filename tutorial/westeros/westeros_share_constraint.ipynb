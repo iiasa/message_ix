{
 "cells": [
  {
   "attachments": {},
   "cell_type": "markdown",
   "metadata": {},
   "source": [
    "# Westeros Tutorial - Introducing share constraints\n",
    "\n",
    "In this tutorial, we show how to add *share constraints* to a MESSAGEix scenario. The share constraints are aimed at limiting the activity of a single or set of technologies to a certain share of the activity of another single or set of technologies.\n",
    "\n",
    "This is a very useful feature for policy analysis. For example, in many of the nationally determined contributions (NDCs) as part of the Paris Agreement, numerous countries formulated part of their targets in terms of *shares*. The European Union, for example, has comitted to a target where renewables will make up 30% of the energy mix by 2030. How to implement such a policy in an energy model will be the focus of this tutorial.\n",
    "\n",
    "**Pre-requisites**\n",
    "- You have the *MESSAGEix* framework installed and working\n",
    "- You have run Westeros baseline scenario (``westeros_baseline.ipynb``) and solved it successfully"
   ]
  },
  {
   "cell_type": "markdown",
   "metadata": {},
   "source": [
    "## Adding a minimum share constraint\n",
    "Building on the '*baseline*' scenario, we add a share constraint assuming that Westeros has set itself a target to generate 50% of its electricity from renewable energy by 720."
   ]
  },
  {
   "cell_type": "code",
   "execution_count": null,
   "metadata": {},
   "outputs": [],
   "source": [
    "import pandas as pd\n",
    "import ixmp\n",
    "import message_ix\n",
    "\n",
    "%matplotlib inline"
   ]
  },
  {
   "cell_type": "code",
   "execution_count": null,
   "metadata": {},
   "outputs": [],
   "source": [
    "mp = ixmp.Platform()"
   ]
  },
  {
   "cell_type": "markdown",
   "metadata": {},
   "source": [
    "## Making a clone of the existing scenario 'baseline'"
   ]
  },
  {
   "cell_type": "markdown",
   "metadata": {},
   "source": [
    "Loading the existing scenario '*baseline*' and cloning to a new scenario '*share_constraint*' to add share constraints."
   ]
  },
  {
   "cell_type": "code",
   "execution_count": null,
   "metadata": {},
   "outputs": [],
   "source": [
    "model = \"Westeros Electrified\"\n",
    "base = message_ix.Scenario(mp, model=model, scenario=\"baseline\")\n",
    "scen = base.clone(\n",
    "    model,\n",
    "    \"share_constraint\",\n",
    "    \"illustration of share-constraint formulation\",\n",
    "    keep_solution=False,\n",
    ")\n",
    "scen.check_out()"
   ]
  },
  {
   "cell_type": "markdown",
   "metadata": {},
   "source": [
    "Retrieving required information for constructing input data of share parameters."
   ]
  },
  {
   "cell_type": "code",
   "execution_count": null,
   "metadata": {},
   "outputs": [],
   "source": [
    "year_df = scen.vintage_and_active_years()\n",
    "vintage_years, act_years = year_df[\"year_vtg\"], year_df[\"year_act\"]\n",
    "model_horizon = scen.set(\"year\")\n",
    "country = \"Westeros\""
   ]
  },
  {
   "attachments": {},
   "cell_type": "markdown",
   "metadata": {},
   "source": [
    "## Steps required to add share constraints\n",
    "The following steps are required in order to introduce a share constraint:\n",
    "1. Define a new 'share' and add this to the *set* `\"shares\"`\n",
    "2. Define which technologies contribute towards the total\n",
    "3. Define which technologies contribute towards fulfilling the share\n",
    "4. Define the share for relevant periods\n",
    "\n",
    "The implementation of shares in MESSAGEix is generic and flexible, so that any combination of commodities, levels, technologies and nodes can be put in relation to any other combination."
   ]
  },
  {
   "cell_type": "markdown",
   "metadata": {},
   "source": [
    "### 1. Defining a new \"share\" \n",
    "We define a new share called `\"share_renewable_electricity\"`, and add this to the *set* `\"shares\"`."
   ]
  },
  {
   "cell_type": "code",
   "execution_count": null,
   "metadata": {},
   "outputs": [],
   "source": [
    "shares = \"share_renewable_electricity\"\n",
    "scen.add_set(\"shares\", shares)"
   ]
  },
  {
   "attachments": {},
   "cell_type": "markdown",
   "metadata": {},
   "source": [
    "### 2. Defining technologies that make up the total\n",
    "We need to define which technologies make up the group accounting for the total, to which the share applies. To do this, we need to map the share to the relevant *commodity* and *level*.\n",
    "\n",
    "The aim is to increase the share of electricity generated from renewables to 50% in 720. Therefore, we need to define which technologies contribute to total electricity generation at the secondary energy level. In our example, these are `\"wind_ppl\"` and `\"coal_ppl\"` technologies, which will be grouped as a new `type_tec`, called `\"electricity_total\"` in the scenario. For this `type_tec`, we need to define the relevant node, mode, level and commodity through the *set* `\"map_shares_commodity_total\"`."
   ]
  },
  {
   "cell_type": "code",
   "execution_count": null,
   "metadata": {},
   "outputs": [],
   "source": [
    "type_tec = \"electricity_total\"\n",
    "scen.add_cat(\"technology\", type_tec, \"wind_ppl\")\n",
    "scen.add_cat(\"technology\", type_tec, \"coal_ppl\")"
   ]
  },
  {
   "cell_type": "markdown",
   "metadata": {},
   "source": [
    "For adding data to a MESSAGEix set or parameter, the index names must be correctly specified. To see the index names of a set or parameter, we can use the method: `scenario.idx_names()`."
   ]
  },
  {
   "cell_type": "code",
   "execution_count": null,
   "metadata": {},
   "outputs": [],
   "source": [
    "# Example of index names of a set\n",
    "scen.idx_names(\"map_shares_commodity_total\")"
   ]
  },
  {
   "cell_type": "code",
   "execution_count": null,
   "metadata": {},
   "outputs": [],
   "source": [
    "# Adding data to a set using index names\n",
    "df = pd.DataFrame(\n",
    "    {\n",
    "        \"shares\": [shares],\n",
    "        \"node_share\": country,\n",
    "        \"node\": country,\n",
    "        \"type_tec\": type_tec,\n",
    "        \"mode\": \"standard\",\n",
    "        \"commodity\": \"electricity\",\n",
    "        \"level\": \"secondary\",\n",
    "    }\n",
    ")\n",
    "scen.add_set(\"map_shares_commodity_total\", df)"
   ]
  },
  {
   "attachments": {},
   "cell_type": "markdown",
   "metadata": {},
   "source": [
    "### 3. Defining technologies of share\n",
    "Next, we define technologies that contribute towards fulfilling the share. We also need to set the corresponding commodity and level for which the share constraint applies. In our example, the technology that provides 50% electricity from renewable energy is `\"wind_ppl\"`."
   ]
  },
  {
   "cell_type": "code",
   "execution_count": null,
   "metadata": {},
   "outputs": [],
   "source": [
    "type_tec = \"electricity_renewable\"\n",
    "scen.add_cat(\"technology\", type_tec, \"wind_ppl\")\n",
    "\n",
    "# Reminder: use <scen.idx_names('map_shares_commodity_share')> to see the index names\n",
    "df = pd.DataFrame(\n",
    "    {\n",
    "        \"shares\": [shares],\n",
    "        \"node_share\": country,\n",
    "        \"node\": country,\n",
    "        \"type_tec\": type_tec,\n",
    "        \"mode\": \"standard\",\n",
    "        \"commodity\": \"electricity\",\n",
    "        \"level\": \"secondary\",\n",
    "    }\n",
    ")\n",
    "scen.add_set(\"map_shares_commodity_share\", df)"
   ]
  },
  {
   "attachments": {},
   "cell_type": "markdown",
   "metadata": {},
   "source": [
    "### 4. Defining the share\n",
    "Lastly, the actual share value needs to be added to the model. To represent a minimum share of 50% of total electricity generation from renewables, we use the parameter `\"share_commodity_lo\"`. If this constraint should act as an upper bound, then the parameter `\"share_commodity_up\"` can be used."
   ]
  },
  {
   "cell_type": "code",
   "execution_count": null,
   "metadata": {},
   "outputs": [],
   "source": [
    "# Fetching the index names of a parameter\n",
    "scen.idx_names(\"share_commodity_lo\")"
   ]
  },
  {
   "cell_type": "code",
   "execution_count": null,
   "metadata": {},
   "outputs": [],
   "source": [
    "# Adding data to the parameter\n",
    "df = pd.DataFrame(\n",
    "    {\n",
    "        \"shares\": shares,\n",
    "        \"node_share\": country,\n",
    "        \"year_act\": [720],\n",
    "        \"time\": \"year\",\n",
    "        \"value\": [0.5],\n",
    "        \"unit\": \"-\",\n",
    "    }\n",
    ")\n",
    "scen.add_par(\"share_commodity_lo\", df)"
   ]
  },
  {
   "cell_type": "markdown",
   "metadata": {},
   "source": [
    "### Commit and solve"
   ]
  },
  {
   "cell_type": "code",
   "execution_count": null,
   "metadata": {},
   "outputs": [],
   "source": [
    "scen.commit(comment=\"Define parameters for minimum renewable share constraint\")\n",
    "scen.set_as_default()"
   ]
  },
  {
   "cell_type": "code",
   "execution_count": null,
   "metadata": {},
   "outputs": [],
   "source": [
    "scen.solve()"
   ]
  },
  {
   "cell_type": "code",
   "execution_count": null,
   "metadata": {},
   "outputs": [],
   "source": [
    "scen.var(\"OBJ\")[\"lvl\"]"
   ]
  },
  {
   "cell_type": "markdown",
   "metadata": {},
   "source": [
    "# Plotting Results"
   ]
  },
  {
   "cell_type": "code",
   "execution_count": null,
   "metadata": {},
   "outputs": [],
   "source": [
    "from message_ix.reporting import Reporter\n",
    "from message_ix.util.tutorial import prepare_plots\n",
    "\n",
    "# Scenaio without share constraint\n",
    "base_rep = Reporter.from_scenario(base)\n",
    "prepare_plots(base_rep)\n",
    "\n",
    "# Scenario with share constraint\n",
    "rep = Reporter.from_scenario(scen)\n",
    "prepare_plots(rep)"
   ]
  },
  {
   "attachments": {},
   "cell_type": "markdown",
   "metadata": {},
   "source": [
    "## Activity\n",
    "***\n",
    "In the new scenario ('*share_constraint*'), the activity of `\"wind_ppl\"` accounts for 50% of total electricity generation in 720. This was the share constraint we added to the scenario.\n",
    "\n",
    "### Question:\n",
    "The results show that the activity of `\"wind_ppl\"` in 710 is higher than in the '*baseline*' scenario. Do you know why this happens?"
   ]
  },
  {
   "cell_type": "markdown",
   "metadata": {},
   "source": [
    "### Scenario: '*baseline*'"
   ]
  },
  {
   "cell_type": "code",
   "execution_count": null,
   "metadata": {},
   "outputs": [],
   "source": [
    "plants = [\"coal_ppl\", \"wind_ppl\"]\n",
    "base_rep.set_filters(t=plants)\n",
    "base_rep.get(\"plot activity\")"
   ]
  },
  {
   "cell_type": "markdown",
   "metadata": {},
   "source": [
    "### Scenario: '*share_constraint*'"
   ]
  },
  {
   "cell_type": "code",
   "execution_count": null,
   "metadata": {},
   "outputs": [],
   "source": [
    "rep.set_filters(t=plants)\n",
    "rep.get(\"plot activity\")"
   ]
  },
  {
   "attachments": {},
   "cell_type": "markdown",
   "metadata": {},
   "source": [
    "### Response to the question: \n",
    "This is because `\"wind_ppl\"` has a diffusion constraint in this scenario, limiting the activity growth rate to 10% per year. Thus, to achieve the 50% target in 720 specified by the share constraint, additional activity is required in the previous periods to ramp up the wind generation."
   ]
  },
  {
   "attachments": {},
   "cell_type": "markdown",
   "metadata": {},
   "source": [
    "## Capacity\n",
    "***\n",
    "There is a big increase in 720 regarding activity which is reflected in the capacity for the two technologies."
   ]
  },
  {
   "cell_type": "markdown",
   "metadata": {},
   "source": [
    "### Scenario: '*baseline*'"
   ]
  },
  {
   "cell_type": "code",
   "execution_count": null,
   "metadata": {},
   "outputs": [],
   "source": [
    "base_rep.get(\"plot capacity\")"
   ]
  },
  {
   "cell_type": "markdown",
   "metadata": {},
   "source": [
    "### Scenario: '*share_constraint*'"
   ]
  },
  {
   "cell_type": "code",
   "execution_count": null,
   "metadata": {},
   "outputs": [],
   "source": [
    "rep.get(\"plot capacity\")"
   ]
  },
  {
   "attachments": {},
   "cell_type": "markdown",
   "metadata": {},
   "source": [
    "## Prices\n",
    "***\n",
    "As expected, electricity prices in 720 have also increased vis-a-vis the '*baseline*'."
   ]
  },
  {
   "cell_type": "markdown",
   "metadata": {},
   "source": [
    "### Scenario: '*baseline*'"
   ]
  },
  {
   "cell_type": "code",
   "execution_count": null,
   "metadata": {},
   "outputs": [],
   "source": [
    "filters = dict(t=None, c=[\"light\"])\n",
    "base_rep.set_filters(**filters)\n",
    "base_rep.get(\"plot prices\")"
   ]
  },
  {
   "cell_type": "markdown",
   "metadata": {},
   "source": [
    "### Scenario: '*share_constraint*'"
   ]
  },
  {
   "cell_type": "code",
   "execution_count": null,
   "metadata": {},
   "outputs": [],
   "source": [
    "rep.set_filters(**filters)\n",
    "rep.get(\"plot prices\")"
   ]
  },
  {
   "cell_type": "code",
   "execution_count": null,
   "metadata": {},
   "outputs": [],
   "source": [
    "mp.close_db()"
   ]
  }
 ],
 "metadata": {
  "kernelspec": {
   "display_name": "Python 3 (ipykernel)",
   "language": "python",
   "name": "python3"
  },
  "language_info": {
   "codemirror_mode": {
    "name": "ipython",
    "version": 3
   },
   "file_extension": ".py",
   "mimetype": "text/x-python",
   "name": "python",
   "nbconvert_exporter": "python",
   "pygments_lexer": "ipython3",
   "version": "3.9.2"
  }
 },
 "nbformat": 4,
 "nbformat_minor": 2
}
