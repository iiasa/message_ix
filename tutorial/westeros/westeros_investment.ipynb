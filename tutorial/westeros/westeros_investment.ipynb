{
 "cells": [
  {
   "cell_type": "markdown",
   "metadata": {},
   "source": [
    "# Westeros Tutorial - Extension of GAMS Formulation\n",
    "\n",
    "This tutorial demonstrates the procedure for changing the GAMS formulation in MESSAGEix. This will be useful for adding new sets, parameters, variables, and equations, to generate a different output or to represent new phenomena, sectors, etc.\n",
    "\n",
    "**Pre-requisites**\n",
    "- You have the *MESSAGEix* framework installed and working\n",
    "- You have run Westeros baseline scenario (``westeros_baseline.ipynb``) and solved it successfully\n",
    "\n",
    "_This tutorial was presented by [Behnam Zakeri](https://iiasa.ac.at/staff/behnam-zakeri) at the **MESSAGEix Community Meeting** May 2022. Please feel free to suggest improvements through issues and pull-requests_."
   ]
  },
  {
   "cell_type": "code",
   "execution_count": 1,
   "metadata": {
    "scrolled": true
   },
   "outputs": [
    {
     "data": {
      "application/javascript": [
       "if (typeof IPython !== 'undefined') { IPython.OutputArea.prototype._should_scroll = function(lines){ return false; }}"
      ],
      "text/plain": [
       "<IPython.core.display.Javascript object>"
      ]
     },
     "metadata": {},
     "output_type": "display_data"
    }
   ],
   "source": [
    "import pandas as pd\n",
    "import ixmp\n",
    "import message_ix\n",
    "\n",
    "from message_ix.util import make_df\n",
    "\n",
    "%matplotlib inline"
   ]
  },
  {
   "cell_type": "code",
   "execution_count": 2,
   "metadata": {
    "scrolled": true
   },
   "outputs": [],
   "source": [
    "mp = ixmp.Platform()"
   ]
  },
  {
   "cell_type": "markdown",
   "metadata": {},
   "source": [
    "## Part 1: Adding a new variable `INVEST`\n",
    "In the first part, we change the GAMS code by adding a new equation called `INVESTMENT_EQUIVALENCE`, which calculates the investment per region in each model period as a new variable called `INVEST`.\n",
    "\n",
    "### 1.1. Modifying GAMS files\n",
    "For representing the new equation, we do the following modifications in the GAMS file `model_core.gms`:\n",
    "1. Introduce a new positive variable for \"investment per node and year\" as: `INVEST(node, year_all)`\n",
    "2. Introduce a new equation for \"investment per node and year\" as: `INVESTMENT_EQUIVALENCE`\n",
    "3. Specify the new equation as:\n",
    "\n",
    "$$\\text{INVEST}_{n,y}\n",
    "    = \\sum_{t} (\\text{inv_cost}_{n,t,y} \\cdot \\text{construction_time_factor}_{n,t,y} \\cdot \\text{CAP_NEW}_{n,t,y})$$\n",
    "\n",
    "You can check these changes in `model_core.gms` [here](https://github.com/iiasa/message_ix/pull/602/files)."
   ]
  },
  {
   "cell_type": "markdown",
   "metadata": {},
   "source": [
    "### 1.2. Solving the scenario after modifications in GAMS:\n",
    "We clone a scenario from Westeros \"baseline\" and solve it again with the new changes in the GAMS side and check the outcome."
   ]
  },
  {
   "cell_type": "code",
   "execution_count": 3,
   "metadata": {
    "scrolled": true
   },
   "outputs": [],
   "source": [
    "# Loading the baseline scenario and cloning to a new scenario called \"investment\"\n",
    "model = \"Westeros Electrified\"\n",
    "base = message_ix.Scenario(mp, model=model, scenario=\"baseline\")\n",
    "scen = base.clone(model, \"investment\", keep_solution=False)"
   ]
  },
  {
   "cell_type": "code",
   "execution_count": 4,
   "metadata": {
    "scrolled": true
   },
   "outputs": [],
   "source": [
    "# Solving the new scenario again (for testing if the changes in the GAMS code have done anything)\n",
    "scen.solve()"
   ]
  },
  {
   "cell_type": "markdown",
   "metadata": {},
   "source": [
    "### 1.3. Checking the outcome\n",
    "Let's compare the objective value of the \"baseline\" and \"investment\" scenarios. We use the python method `assert` for doing this assertion. If this equality does not hold true, the assertion method will throw an error. "
   ]
  },
  {
   "cell_type": "code",
   "execution_count": 5,
   "metadata": {
    "scrolled": true
   },
   "outputs": [],
   "source": [
    "# We assert that the objective values of the two scenarios are the same\n",
    "assert base.var(\"OBJ\")[\"lvl\"] == scen.var(\"OBJ\")[\"lvl\"]"
   ]
  },
  {
   "cell_type": "code",
   "execution_count": 6,
   "metadata": {
    "scrolled": true
   },
   "outputs": [],
   "source": [
    "# We can also assert that the activity of one technology is equal in both scenarios\n",
    "assert base.var(\"ACT\", {\"technology\": \"coal_ppl\"})[\"lvl\"].sum() == scen.var(\"ACT\", {\"technology\": \"coal_ppl\"})[\"lvl\"].sum()"
   ]
  },
  {
   "cell_type": "markdown",
   "metadata": {},
   "source": [
    "#### Observation 1: The results are the same\n",
    "As asserted above, the objective value, i.e., the total cost of the system, as well as the level of activity of \"coal_ppl\" is the same in both scenarios. This means the modifications we introduced in the GAMS side have not changed the output of the scenario."
   ]
  },
  {
   "cell_type": "markdown",
   "metadata": {},
   "source": [
    "#### Observation 2: variable `INVEST` in the output GDX file\n",
    "If we check the output GDX file of the new scenario, we should be able to see the new variable `INVEST`. This means that the new variable has been calculated as part of the GAMS mathematical model."
   ]
  },
  {
   "cell_type": "markdown",
   "metadata": {},
   "source": [
    "Now, let's check if we can fetch the information about the new variable `INVEST`:"
   ]
  },
  {
   "cell_type": "code",
   "execution_count": 7,
   "metadata": {
    "scrolled": true
   },
   "outputs": [
    {
     "data": {
      "text/html": [
       "<div>\n",
       "<style scoped>\n",
       "    .dataframe tbody tr th:only-of-type {\n",
       "        vertical-align: middle;\n",
       "    }\n",
       "\n",
       "    .dataframe tbody tr th {\n",
       "        vertical-align: top;\n",
       "    }\n",
       "\n",
       "    .dataframe thead th {\n",
       "        text-align: right;\n",
       "    }\n",
       "</style>\n",
       "<table border=\"1\" class=\"dataframe\">\n",
       "  <thead>\n",
       "    <tr style=\"text-align: right;\">\n",
       "      <th></th>\n",
       "      <th>node</th>\n",
       "      <th>year</th>\n",
       "      <th>lvl</th>\n",
       "      <th>mrg</th>\n",
       "    </tr>\n",
       "  </thead>\n",
       "  <tbody>\n",
       "  </tbody>\n",
       "</table>\n",
       "</div>"
      ],
      "text/plain": [
       "Empty DataFrame\n",
       "Columns: [node, year, lvl, mrg]\n",
       "Index: []"
      ]
     },
     "execution_count": 7,
     "metadata": {},
     "output_type": "execute_result"
    }
   ],
   "source": [
    "# Reading the content variable \"INVEST\"\n",
    "scen.var(\"INVEST\")"
   ]
  },
  {
   "cell_type": "markdown",
   "metadata": {},
   "source": [
    "#### Observation (3): Python side does not know about the changes in GAMS\n",
    "As the empty dataframe above shows, the python side, i.e., `message_ix` code is not aware of the changes we have done in the GAMS side. Therefore, we cannot retrieve the content of variable `INVEST` from the GDX file, even though this variable exists there."
   ]
  },
  {
   "cell_type": "markdown",
   "metadata": {},
   "source": [
    "### 1.4. Updating the python code based on the changes in GAMS\n",
    "In the `message_ix` python package, there is a configuration file for specifying and initializing the model items, i.e., sets, parameters, and variables. This file is called [`models.py`](https://github.com/iiasa/message_ix/blob/main/message_ix/models.py).\n",
    "\n",
    "1. For updating the file for our changes, we introduce the new variable `INVEST` consistent with the format shown in the file, i.e., adding the line below under \"MESSAGE_ITEMS\"/\"Variables\":\n",
    "\n",
    "`\"INVEST\": item(\"var\", \"n y\"),`\n",
    "\n",
    "This notation informs the `message_ix` package that there exists a variable called `INVEST` with the index sets of \"n\" for \"node\" and \"y\" for \"year\". After adding this information, the python side will initialize this variable for any new or cloned scenario.\n",
    "\n",
    "2. For being able to retrieve the content of this new variable, we need to explicitly pass it through the `var_list` option when calling `solve()`. This has to be done because this variable is not among the default variables of `message_ix`. So, the notation for solving will be:\n",
    "\n",
    "`solve(var_list=[\"INVEST\"])`"
   ]
  },
  {
   "cell_type": "code",
   "execution_count": 8,
   "metadata": {
    "scrolled": true
   },
   "outputs": [],
   "source": [
    "# Now, let's solve the scenario again\n",
    "scen = scen.clone(keep_solution=False)\n",
    "scen.solve(var_list=[\"INVEST\"])"
   ]
  },
  {
   "cell_type": "markdown",
   "metadata": {},
   "source": [
    "Now, let's check the content of `INVEST`:"
   ]
  },
  {
   "cell_type": "code",
   "execution_count": 9,
   "metadata": {
    "scrolled": true
   },
   "outputs": [
    {
     "data": {
      "text/html": [
       "<div>\n",
       "<style scoped>\n",
       "    .dataframe tbody tr th:only-of-type {\n",
       "        vertical-align: middle;\n",
       "    }\n",
       "\n",
       "    .dataframe tbody tr th {\n",
       "        vertical-align: top;\n",
       "    }\n",
       "\n",
       "    .dataframe thead th {\n",
       "        text-align: right;\n",
       "    }\n",
       "</style>\n",
       "<table border=\"1\" class=\"dataframe\">\n",
       "  <thead>\n",
       "    <tr style=\"text-align: right;\">\n",
       "      <th></th>\n",
       "      <th>node</th>\n",
       "      <th>year</th>\n",
       "      <th>lvl</th>\n",
       "      <th>mrg</th>\n",
       "    </tr>\n",
       "  </thead>\n",
       "  <tbody>\n",
       "    <tr>\n",
       "      <th>0</th>\n",
       "      <td>World</td>\n",
       "      <td>700</td>\n",
       "      <td>0.000000</td>\n",
       "      <td>7.721735</td>\n",
       "    </tr>\n",
       "    <tr>\n",
       "      <th>1</th>\n",
       "      <td>World</td>\n",
       "      <td>710</td>\n",
       "      <td>0.000000</td>\n",
       "      <td>4.740475</td>\n",
       "    </tr>\n",
       "    <tr>\n",
       "      <th>2</th>\n",
       "      <td>World</td>\n",
       "      <td>720</td>\n",
       "      <td>0.000000</td>\n",
       "      <td>2.910241</td>\n",
       "    </tr>\n",
       "    <tr>\n",
       "      <th>3</th>\n",
       "      <td>Westeros</td>\n",
       "      <td>700</td>\n",
       "      <td>2380.580683</td>\n",
       "      <td>0.000000</td>\n",
       "    </tr>\n",
       "    <tr>\n",
       "      <th>4</th>\n",
       "      <td>Westeros</td>\n",
       "      <td>710</td>\n",
       "      <td>3432.070015</td>\n",
       "      <td>0.000000</td>\n",
       "    </tr>\n",
       "    <tr>\n",
       "      <th>5</th>\n",
       "      <td>Westeros</td>\n",
       "      <td>720</td>\n",
       "      <td>2195.600646</td>\n",
       "      <td>0.000000</td>\n",
       "    </tr>\n",
       "  </tbody>\n",
       "</table>\n",
       "</div>"
      ],
      "text/plain": [
       "       node  year          lvl       mrg\n",
       "0     World   700     0.000000  7.721735\n",
       "1     World   710     0.000000  4.740475\n",
       "2     World   720     0.000000  2.910241\n",
       "3  Westeros   700  2380.580683  0.000000\n",
       "4  Westeros   710  3432.070015  0.000000\n",
       "5  Westeros   720  2195.600646  0.000000"
      ]
     },
     "execution_count": 9,
     "metadata": {},
     "output_type": "execute_result"
    }
   ],
   "source": [
    "scen.var(\"INVEST\")"
   ]
  },
  {
   "cell_type": "markdown",
   "metadata": {},
   "source": [
    "### Congratulations!\n",
    "You were able to modify the GAMS code, add a new variable and equation, update the python code accordingly, and keep your modeling workflow working seamlessly."
   ]
  },
  {
   "cell_type": "markdown",
   "metadata": {},
   "source": [
    "## Part II: Adding a new MESSAGEix parameter \n",
    "In the second part of this tutorial, we further modify the GAMS code by adding a new parameter. The goal is to understand what modifications should be done when a new parameter is added."
   ]
  },
  {
   "cell_type": "markdown",
   "metadata": {},
   "source": [
    "### 2.1. An upper bound on investment\n",
    "The new parameter will be an upper bound on investment called `bound_investment_up`. This parameter can be defined per technology types, but here for simplicity we define this bound per node and year, similar to variable `INVEST`. We can define this bound as an absolute value, i.e., maximum amount that can be invested, or we can define it relative to the total system costs, e.g., specifying that investment can be up to 80% of total costs. We choose the former.\n",
    "\n",
    "Adding a parameter in the GAMS side is different from adding variables shown in Part I of this tutorial. Because GAMS expects this parameter as an input data to be passed from the python side. Therefore, the following additional modifications are needed:\n",
    "\n",
    "#### a. GAMS side\n",
    "\n",
    "1. Define the new parameter in the GAMS file `parameter_def.gms`\n",
    "2. Add the new parameter to the items to be loaded from the input GDX file in `data_load.gms`\n",
    "\n",
    "and as shown in Part I:\n",
    "\n",
    "3. Introduce a new equation in `model_core.gms` called `INVESTMENT_CONSTRAINT`\n",
    "4. Add the following equation to `model_core.gms` for the new bound.\n",
    "\n",
    "$$\\text{INVEST}_{n,y} \\leq \\text{bound_investment_up}_{n,y}$$\n",
    "\n",
    "You can check these changes [here](https://github.com/iiasa/message_ix/pull/602/files).\n",
    "\n",
    "#### Notice:\n",
    "Please note that we filter this equation by `bound_investment_up` using the $ sign in GAMS. This means that if this parameter is not defined in a scenario, this equation will not be in effect. This way, we retain backward compatibility, i.e., we can still solve our scenarios that do not have bound on investment.\n",
    "\n",
    "#### b. Python side\n",
    "As mentioned in Part I, we need to update the `message_ix` python code about the new changes. This can be simply done by adding a line of code to the model configuration file (`models.py`) as shown in Section 1.4 above.\n",
    "\n",
    "5. Add new parameter to the `MESSAGE_ITEMS` in the model configuration file `models.py`:\n",
    "\n",
    "`\"bound_investment_up\": item(\"par\", \"n y\"),`\n"
   ]
  },
  {
   "cell_type": "code",
   "execution_count": 10,
   "metadata": {
    "scrolled": true
   },
   "outputs": [],
   "source": [
    "# Now, let's clone a new scenario from \"baseline\" and solve\n",
    "scen2 = base.clone(scenario=\"investment_bound\", keep_solution=False)\n",
    "scen2.solve(var_list=[\"INVEST\"])"
   ]
  },
  {
   "cell_type": "code",
   "execution_count": 11,
   "metadata": {
    "scrolled": true
   },
   "outputs": [
    {
     "data": {
      "text/html": [
       "<div>\n",
       "<style scoped>\n",
       "    .dataframe tbody tr th:only-of-type {\n",
       "        vertical-align: middle;\n",
       "    }\n",
       "\n",
       "    .dataframe tbody tr th {\n",
       "        vertical-align: top;\n",
       "    }\n",
       "\n",
       "    .dataframe thead th {\n",
       "        text-align: right;\n",
       "    }\n",
       "</style>\n",
       "<table border=\"1\" class=\"dataframe\">\n",
       "  <thead>\n",
       "    <tr style=\"text-align: right;\">\n",
       "      <th></th>\n",
       "      <th>node</th>\n",
       "      <th>year</th>\n",
       "      <th>lvl</th>\n",
       "      <th>mrg</th>\n",
       "    </tr>\n",
       "  </thead>\n",
       "  <tbody>\n",
       "    <tr>\n",
       "      <th>0</th>\n",
       "      <td>Westeros</td>\n",
       "      <td>700</td>\n",
       "      <td>2380.580683</td>\n",
       "      <td>0.0</td>\n",
       "    </tr>\n",
       "    <tr>\n",
       "      <th>1</th>\n",
       "      <td>Westeros</td>\n",
       "      <td>710</td>\n",
       "      <td>3432.070015</td>\n",
       "      <td>0.0</td>\n",
       "    </tr>\n",
       "    <tr>\n",
       "      <th>2</th>\n",
       "      <td>Westeros</td>\n",
       "      <td>720</td>\n",
       "      <td>2195.600646</td>\n",
       "      <td>0.0</td>\n",
       "    </tr>\n",
       "  </tbody>\n",
       "</table>\n",
       "</div>"
      ],
      "text/plain": [
       "       node  year          lvl  mrg\n",
       "0  Westeros   700  2380.580683  0.0\n",
       "1  Westeros   710  3432.070015  0.0\n",
       "2  Westeros   720  2195.600646  0.0"
      ]
     },
     "execution_count": 11,
     "metadata": {},
     "output_type": "execute_result"
    }
   ],
   "source": [
    "df = scen2.var(\"INVEST\", {\"node\": \"Westeros\"})\n",
    "df"
   ]
  },
  {
   "cell_type": "markdown",
   "metadata": {},
   "source": [
    "Everything seems fine. Now, we can add a value to `bound_investment_up` too. The total investment averaged over the entire modeling horizon is around 2667 million \\\\$ per year (how ?). Let's assume an investment cap of 3000 million $ per year, e.g., to distribute the investment over modeling horizon, and see if the model solves."
   ]
  },
  {
   "cell_type": "code",
   "execution_count": 12,
   "metadata": {
    "scrolled": true
   },
   "outputs": [
    {
     "data": {
      "text/html": [
       "<div>\n",
       "<style scoped>\n",
       "    .dataframe tbody tr th:only-of-type {\n",
       "        vertical-align: middle;\n",
       "    }\n",
       "\n",
       "    .dataframe tbody tr th {\n",
       "        vertical-align: top;\n",
       "    }\n",
       "\n",
       "    .dataframe thead th {\n",
       "        text-align: right;\n",
       "    }\n",
       "</style>\n",
       "<table border=\"1\" class=\"dataframe\">\n",
       "  <thead>\n",
       "    <tr style=\"text-align: right;\">\n",
       "      <th></th>\n",
       "      <th>node</th>\n",
       "      <th>year</th>\n",
       "      <th>value</th>\n",
       "      <th>unit</th>\n",
       "    </tr>\n",
       "  </thead>\n",
       "  <tbody>\n",
       "    <tr>\n",
       "      <th>0</th>\n",
       "      <td>Westeros</td>\n",
       "      <td>700</td>\n",
       "      <td>3000</td>\n",
       "      <td>M$</td>\n",
       "    </tr>\n",
       "    <tr>\n",
       "      <th>1</th>\n",
       "      <td>Westeros</td>\n",
       "      <td>710</td>\n",
       "      <td>3000</td>\n",
       "      <td>M$</td>\n",
       "    </tr>\n",
       "    <tr>\n",
       "      <th>2</th>\n",
       "      <td>Westeros</td>\n",
       "      <td>720</td>\n",
       "      <td>3000</td>\n",
       "      <td>M$</td>\n",
       "    </tr>\n",
       "  </tbody>\n",
       "</table>\n",
       "</div>"
      ],
      "text/plain": [
       "       node  year  value unit\n",
       "0  Westeros   700   3000   M$\n",
       "1  Westeros   710   3000   M$\n",
       "2  Westeros   720   3000   M$"
      ]
     },
     "execution_count": 12,
     "metadata": {},
     "output_type": "execute_result"
    }
   ],
   "source": [
    "# Adding input data for \"bound_investment_up\"\n",
    "bound = pd.DataFrame({\n",
    "    \"node\": \"Westeros\",\n",
    "    \"year\": [700, 710, 720],\n",
    "    \"value\": 3000,\n",
    "    \"unit\": \"M$\",\n",
    "    })\n",
    "# Check the input data before adding to the scenario\n",
    "bound"
   ]
  },
  {
   "cell_type": "code",
   "execution_count": 13,
   "metadata": {
    "scrolled": true
   },
   "outputs": [],
   "source": [
    "# Adding the unit to the platform (if not exists yet)\n",
    "mp.add_unit(\"M$\")\n",
    "\n",
    "# Adding data to the scenario\n",
    "scen2.remove_solution()\n",
    "scen2.check_out()\n",
    "scen2.add_par(\"bound_investment_up\", bound)\n",
    "scen2.add_par(\"bound_investment_up\", bound)\n",
    "scen2.commit(\"bound added\")"
   ]
  },
  {
   "cell_type": "code",
   "execution_count": 14,
   "metadata": {
    "scrolled": true
   },
   "outputs": [],
   "source": [
    "# Solving the scenario\n",
    "scen2.solve(var_list=[\"INVEST\"])"
   ]
  },
  {
   "cell_type": "markdown",
   "metadata": {},
   "source": [
    "### 2.2. Checking the results\n",
    "In this Section, we check the results after adding the bound compared to the case before. We do this comparison on a few outputs, including:\n",
    "- investment needs\n",
    "- total system costs\n",
    "- price of \"light\""
   ]
  },
  {
   "cell_type": "code",
   "execution_count": 15,
   "metadata": {
    "scrolled": true
   },
   "outputs": [
    {
     "data": {
      "text/html": [
       "<div>\n",
       "<style scoped>\n",
       "    .dataframe tbody tr th:only-of-type {\n",
       "        vertical-align: middle;\n",
       "    }\n",
       "\n",
       "    .dataframe tbody tr th {\n",
       "        vertical-align: top;\n",
       "    }\n",
       "\n",
       "    .dataframe thead th {\n",
       "        text-align: right;\n",
       "    }\n",
       "</style>\n",
       "<table border=\"1\" class=\"dataframe\">\n",
       "  <thead>\n",
       "    <tr style=\"text-align: right;\">\n",
       "      <th></th>\n",
       "      <th>node</th>\n",
       "      <th>year</th>\n",
       "      <th>lvl</th>\n",
       "      <th>mrg</th>\n",
       "    </tr>\n",
       "  </thead>\n",
       "  <tbody>\n",
       "    <tr>\n",
       "      <th>3</th>\n",
       "      <td>Westeros</td>\n",
       "      <td>700</td>\n",
       "      <td>2380.580683</td>\n",
       "      <td>0.0</td>\n",
       "    </tr>\n",
       "    <tr>\n",
       "      <th>4</th>\n",
       "      <td>Westeros</td>\n",
       "      <td>710</td>\n",
       "      <td>3432.070015</td>\n",
       "      <td>0.0</td>\n",
       "    </tr>\n",
       "    <tr>\n",
       "      <th>5</th>\n",
       "      <td>Westeros</td>\n",
       "      <td>720</td>\n",
       "      <td>2195.600646</td>\n",
       "      <td>0.0</td>\n",
       "    </tr>\n",
       "  </tbody>\n",
       "</table>\n",
       "</div>"
      ],
      "text/plain": [
       "       node  year          lvl  mrg\n",
       "3  Westeros   700  2380.580683  0.0\n",
       "4  Westeros   710  3432.070015  0.0\n",
       "5  Westeros   720  2195.600646  0.0"
      ]
     },
     "execution_count": 15,
     "metadata": {},
     "output_type": "execute_result"
    }
   ],
   "source": [
    "# Investment needs before the bound\n",
    "scen.var(\"INVEST\", {\"node\": \"Westeros\"})"
   ]
  },
  {
   "cell_type": "code",
   "execution_count": 16,
   "metadata": {
    "scrolled": true
   },
   "outputs": [
    {
     "data": {
      "text/html": [
       "<div>\n",
       "<style scoped>\n",
       "    .dataframe tbody tr th:only-of-type {\n",
       "        vertical-align: middle;\n",
       "    }\n",
       "\n",
       "    .dataframe tbody tr th {\n",
       "        vertical-align: top;\n",
       "    }\n",
       "\n",
       "    .dataframe thead th {\n",
       "        text-align: right;\n",
       "    }\n",
       "</style>\n",
       "<table border=\"1\" class=\"dataframe\">\n",
       "  <thead>\n",
       "    <tr style=\"text-align: right;\">\n",
       "      <th></th>\n",
       "      <th>node</th>\n",
       "      <th>year</th>\n",
       "      <th>lvl</th>\n",
       "      <th>mrg</th>\n",
       "    </tr>\n",
       "  </thead>\n",
       "  <tbody>\n",
       "    <tr>\n",
       "      <th>0</th>\n",
       "      <td>Westeros</td>\n",
       "      <td>700</td>\n",
       "      <td>2812.650698</td>\n",
       "      <td>0.0</td>\n",
       "    </tr>\n",
       "    <tr>\n",
       "      <th>1</th>\n",
       "      <td>Westeros</td>\n",
       "      <td>710</td>\n",
       "      <td>3000.000000</td>\n",
       "      <td>0.0</td>\n",
       "    </tr>\n",
       "    <tr>\n",
       "      <th>2</th>\n",
       "      <td>Westeros</td>\n",
       "      <td>720</td>\n",
       "      <td>2458.319649</td>\n",
       "      <td>0.0</td>\n",
       "    </tr>\n",
       "  </tbody>\n",
       "</table>\n",
       "</div>"
      ],
      "text/plain": [
       "       node  year          lvl  mrg\n",
       "0  Westeros   700  2812.650698  0.0\n",
       "1  Westeros   710  3000.000000  0.0\n",
       "2  Westeros   720  2458.319649  0.0"
      ]
     },
     "execution_count": 16,
     "metadata": {},
     "output_type": "execute_result"
    }
   ],
   "source": [
    "# Investment needs after the bound\n",
    "scen2.var(\"INVEST\", {\"node\": \"Westeros\"})"
   ]
  },
  {
   "cell_type": "markdown",
   "metadata": {},
   "source": [
    "#### Observation (1): Investment dynamics\n",
    "The results show that after adding an upper bound on investment, the model has to distribute investment differently, to remain under the maximum threshold. This has resulted in higher investments in 700 and 720 compared to the previous scenario without annual investment bounds. How much has the total investment changed and why?\n",
    "\n",
    "Let's compare the objective value, i.e., the total system costs"
   ]
  },
  {
   "cell_type": "code",
   "execution_count": 17,
   "metadata": {
    "scrolled": true
   },
   "outputs": [
    {
     "data": {
      "text/plain": [
       "2052.6875"
      ]
     },
     "execution_count": 17,
     "metadata": {},
     "output_type": "execute_result"
    }
   ],
   "source": [
    "# Difference in the total system costs after investment limits (M$)\n",
    "scen2.var(\"OBJ\")[\"lvl\"] - scen.var(\"OBJ\")[\"lvl\"]"
   ]
  },
  {
   "cell_type": "markdown",
   "metadata": {},
   "source": [
    "#### Observation (2): Total system costs\n",
    "After adding an upper bound on investment, the total costs of the system has increased compared to the previous scenario without investment bounds. More importantly, the increase in total system cost is not only due to an increase in total investment but also a higher O&M costs.\n",
    "\n",
    "**Question**: how can we calculate the change in O&M cost?"
   ]
  },
  {
   "cell_type": "markdown",
   "metadata": {},
   "source": [
    "## Exercise\n",
    "1- Modify the equation `INVESTMENT_EQUIVALENCE` so that the upper bound on investment will be as % of total system costs.\n",
    "\n",
    "2- How can we relate the upper bound on investment as % of GDP in MESSAGEix?"
   ]
  },
  {
   "cell_type": "code",
   "execution_count": 18,
   "metadata": {
    "scrolled": true
   },
   "outputs": [],
   "source": [
    "# Close the connection to the database\n",
    "mp.close_db()"
   ]
  }
 ],
 "metadata": {
  "kernelspec": {
   "display_name": "Python 3",
   "language": "python",
   "name": "python3"
  },
  "language_info": {
   "codemirror_mode": {
    "name": "ipython",
    "version": 3
   },
   "file_extension": ".py",
   "mimetype": "text/x-python",
   "name": "python",
   "nbconvert_exporter": "python",
   "pygments_lexer": "ipython3",
   "version": "3.7.6"
  }
 },
 "nbformat": 4,
 "nbformat_minor": 2
}
