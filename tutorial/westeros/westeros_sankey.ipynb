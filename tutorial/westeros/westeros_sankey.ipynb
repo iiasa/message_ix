{
 "cells": [
  {
   "cell_type": "markdown",
   "metadata": {},
   "source": [
    "# Westeros Tutorial - Introducing Sankey diagrams\n",
    "\n",
    "Sankey diagrams are a useful technique to visualize energy flow accounts.\n",
    "\n",
    "This tutorial introduces the sankey feature provided by the ``pyam`` packages.\n",
    "\n",
    "\n",
    "**Pre-requisites**\n",
    "- You have the *MESSAGEix* framework installed and working\n",
    "  In particular, you should have installed ``message_ix``, ``pyam``, and ``plotly``\n",
    "- Complete tutorial Part 1 (``westeros_baseline.ipynb``) and Introducing Reporting (``westeros_report.ipynb``)"
   ]
  },
  {
   "cell_type": "code",
   "execution_count": null,
   "metadata": {},
   "outputs": [],
   "source": [
    "import ixmp\n",
    "\n",
    "from message_ix import Scenario\n",
    "\n",
    "mp = ixmp.Platform()\n",
    "scenario = Scenario(mp, model=\"Westeros Electrified\", scenario=\"baseline\")"
   ]
  },
  {
   "cell_type": "code",
   "execution_count": null,
   "metadata": {},
   "outputs": [],
   "source": [
    "# Remove any existing solution\n",
    "try:\n",
    "    scenario.remove_solution()\n",
    "except ValueError:\n",
    "    pass\n",
    "\n",
    "scenario.solve()"
   ]
  },
  {
   "cell_type": "markdown",
   "metadata": {},
   "source": [
    "Create the reporter object. (Since ``\"-\"`` is not a unit, we replace it by ``\"\"``.)"
   ]
  },
  {
   "cell_type": "code",
   "execution_count": null,
   "metadata": {},
   "outputs": [],
   "source": [
    "from message_ix.report import Reporter\n",
    "\n",
    "rep = Reporter.from_scenario(scenario)\n",
    "\n",
    "rep.configure(units={\"replace\": {\"-\": \"\"}})"
   ]
  },
  {
   "cell_type": "markdown",
   "metadata": {},
   "source": [
    "Use the `message::sankey` reporter option to generate a pyam.dataframe including the reqiured input (`in::pyam`) and output flows (`out::pyam`) in iamc format.\n"
   ]
  },
  {
   "cell_type": "code",
   "execution_count": null,
   "metadata": {},
   "outputs": [],
   "source": [
    "df = rep.get(\"message::sankey\")"
   ]
  },
  {
   "cell_type": "markdown",
   "metadata": {},
   "source": [
    "The utility function `sankey_mapper(df, year, region, exclude=[])` can be used to create the required mapping for the `figures.sankey()` function of the `pyam` package.\n",
    "\n",
    "In some models it might be necessary to exclude variables and flow to get meaningful sankey diagrams. But let´s try with all!"
   ]
  },
  {
   "cell_type": "code",
   "execution_count": null,
   "metadata": {},
   "outputs": [],
   "source": [
    "from message_ix.util.sankey import sankey_mapper\n",
    "\n",
    "mapping = sankey_mapper(df, year=700, region=\"Westeros\")"
   ]
  },
  {
   "cell_type": "markdown",
   "metadata": {},
   "source": [
    "The pyam function `plot.sankey(mapping)`returns a plotly sankey figure object that can be further modified.\n",
    "\n",
    "To plot it as an interactive diagram in your web browser, you can do the following."
   ]
  },
  {
   "cell_type": "code",
   "execution_count": null,
   "metadata": {},
   "outputs": [],
   "source": [
    "from pyam.figures import sankey\n",
    "\n",
    "fig = sankey(df=df.filter(year=700), mapping=mapping)\n",
    "fig.show()"
   ]
  },
  {
   "cell_type": "code",
   "execution_count": null,
   "metadata": {},
   "outputs": [],
   "source": [
    "mapping_without_final_electricity = sankey_mapper(\n",
    "    df, year=700, region=\"Westeros\", exclude=[\"final|electricity\"]\n",
    ")"
   ]
  },
  {
   "cell_type": "code",
   "execution_count": null,
   "metadata": {},
   "outputs": [],
   "source": [
    "fig = sankey(df=df.filter(year=700), mapping=mapping_without_final_electricity)\n",
    "fig.show()"
   ]
  },
  {
   "cell_type": "code",
   "execution_count": null,
   "metadata": {},
   "outputs": [],
   "source": [
    "mapping_without_wind_ppl_standard = sankey_mapper(\n",
    "    df, year=700, region=\"Westeros\", exclude=[\"wind_ppl|standard\"]\n",
    ")\n",
    "fig = sankey(df=df.filter(year=700), mapping=mapping_without_wind_ppl_standard)\n",
    "fig.show()"
   ]
  },
  {
   "cell_type": "markdown",
   "metadata": {},
   "source": [
    "Do not forget to close the database ;-) "
   ]
  },
  {
   "cell_type": "code",
   "execution_count": null,
   "metadata": {},
   "outputs": [],
   "source": [
    "mp.close_db()"
   ]
  }
 ],
 "metadata": {
  "kernelspec": {
   "display_name": "messageix",
   "language": "python",
   "name": "python3"
  },
  "language_info": {
   "codemirror_mode": {
    "name": "ipython",
    "version": 3
   },
   "file_extension": ".py",
   "mimetype": "text/x-python",
   "name": "python",
   "nbconvert_exporter": "python",
   "pygments_lexer": "ipython3",
   "version": "3.10.12"
  },
  "orig_nbformat": 4
 },
 "nbformat": 4,
 "nbformat_minor": 2
}
