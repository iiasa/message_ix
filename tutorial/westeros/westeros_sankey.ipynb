{
 "cells": [
  {
   "cell_type": "markdown",
   "metadata": {},
   "source": [
    "# Westeros Tutorial - Introducing Sankey diagrams\n",
    "\n",
    "Sankey diagrams are a useful technique to visualize energy flow accounts.\n",
    "This tutorial demonstrates how to produce Sankey diagrams from the solution of a MESSAGEix Scenario object, using features provided by [`plotly`](https://plotly.com/python/) via [`pyam-iamc`](https://pyam-iamc.readthedocs.io).\n",
    "\n",
    "\n",
    "**Pre-requisites**\n",
    "- You have the *MESSAGEix* framework installed and working.\n",
    "  In particular, you should have installed `message_ix[report,sankey]`, which installs the dependencies `pyam` and `plotly`.\n",
    "- Complete tutorials Part 1 (`westeros_baseline.ipynb`) and “Introducing Reporting” (`westeros_report.ipynb`)."
   ]
  },
  {
   "cell_type": "markdown",
   "metadata": {},
   "source": [
    "We start as usual by connecting to a database and loading the solved \"baseline\" scenario of the \"Westeros Electified\" MESSAGE model.\n",
    "(Note that we do not `clone()` the scenario here because we do not intend to make any changes to it.)"
   ]
  },
  {
   "cell_type": "code",
   "execution_count": null,
   "metadata": {
    "scrolled": true
   },
   "outputs": [],
   "source": [
    "import ixmp\n",
    "\n",
    "from message_ix import Scenario\n",
    "\n",
    "mp = ixmp.Platform()\n",
    "\n",
    "try:\n",
    "    scenario = Scenario(mp, model=\"Westeros Electrified\", scenario=\"baseline\")\n",
    "\n",
    "    # Ensure the scenario has a solution\n",
    "    if not scenario.has_solution():\n",
    "        scenario.solve(quiet=True)\n",
    "except ValueError:\n",
    "    # The scenario doesn't exist → use a utility function to create it\n",
    "    from message_ix.testing import make_westeros\n",
    "\n",
    "    scenario = make_westeros(mp, solve=True, quiet=True)"
   ]
  },
  {
   "cell_type": "markdown",
   "metadata": {},
   "source": [
    "Next, we create the `Reporter` object from the solved scenario:"
   ]
  },
  {
   "cell_type": "code",
   "execution_count": 2,
   "metadata": {},
   "outputs": [],
   "source": [
    "from message_ix.report import Reporter\n",
    "\n",
    "rep = Reporter.from_scenario(\n",
    "    scenario,\n",
    "    # Reporter uses the Python package 'pint' to handle units.\n",
    "    # \"-\"\", used in the Westeros tutorial, is not a defined SI\n",
    "    # unit. We tell the Reporter to replace it with \"\"\n",
    "    # (unitless) everywhere it appears.\n",
    "    units={\"replace\": {\"-\": \"\"}},\n",
    ")"
   ]
  },
  {
   "cell_type": "markdown",
   "metadata": {},
   "source": [
    "## The `add_sankey()` method\n",
    "\n",
    "The code uses [`pyam.figures.sankey()`](https://pyam-iamc.readthedocs.io/en/stable/api/plotting.html#pyam.figures.sankey) under the hood which (as of `pyam-iamc` version 3.0.0) supports only one year (MESSAGE time period) and one region (MESSAGE `node`).\n",
    "Our model is already a single-node model, so we use its one node, and choose to prepare our first Sankey diagram for the **year 700**:\n"
   ]
  },
  {
   "cell_type": "code",
   "execution_count": null,
   "metadata": {},
   "outputs": [],
   "source": [
    "key = rep.add_sankey(year=700, node=\"Westeros\")\n",
    "key"
   ]
  },
  {
   "cell_type": "markdown",
   "metadata": {},
   "source": [
    "This returns a *key*.\n",
    "As explained in the “Introducing Reporting” tutorial, nothing has happened yet; no data has been retrieved from the Scenario.\n",
    "The key identifies a task that will trigger all these steps and return the created diagram.\n",
    "Let's now do that:\n"
   ]
  },
  {
   "cell_type": "code",
   "execution_count": null,
   "metadata": {},
   "outputs": [],
   "source": [
    "fig = rep.get(key)\n",
    "type(fig)"
   ]
  },
  {
   "cell_type": "markdown",
   "metadata": {},
   "source": [
    "The diagram is created!\n",
    "It is a `plotly.Figure` object.\n",
    "A Jupyter notebook, like this one, can provide interactive display of this figure:"
   ]
  },
  {
   "cell_type": "code",
   "execution_count": null,
   "metadata": {},
   "outputs": [],
   "source": [
    "fig"
   ]
  },
  {
   "cell_type": "markdown",
   "metadata": {},
   "source": [
    "This diagram alternates between showing `{technology}|{mode}` (for example: `coal_ppl|standard`) and `{level}|{commodity}` (for example, `secondary|electricity`).\n",
    "By mousing over the colored areas, we can see that:\n",
    "\n",
    "- 61.1 units of (level=secondary, commodity=electricity) are produced in (year=700, node=Westeros); of these, 47.4 units are supplied by (technology=coal_ppl, mode=standard) and 13.7 units are supplied by (technology=wind_ppl, mode=standard).\n",
    "- All of the (secondary, electricity) is consumed as an input to (technology=grid, mode=standard).\n",
    "- …and so on.\n",
    "\n",
    "## Simplifying the diagram\n",
    "\n",
    "Large models like [`MESSAGEix-GLOBIOM`](https://docs.messageix.org/models) can include hundreds of (technology, mode) and (level, commodity) combinations.\n",
    "You can imagine that this diagram could get very crowded!\n",
    "To exclude flows we are not interested in, we can use the `exclude` parameter of `add_sankey()`.\n"
   ]
  },
  {
   "cell_type": "code",
   "execution_count": null,
   "metadata": {},
   "outputs": [],
   "source": [
    "key2 = rep.add_sankey(year=700, node=\"Westeros\", exclude=[\"wind_ppl|standard\"])\n",
    "key2"
   ]
  },
  {
   "cell_type": "markdown",
   "metadata": {},
   "source": [
    "Notice this key is different from the previous key.\n",
    "This allows to prepare multiple diagrams, and later generate one or more of them, without conflict.\n",
    "\n",
    "Next, we can display the figure as before:"
   ]
  },
  {
   "cell_type": "code",
   "execution_count": null,
   "metadata": {},
   "outputs": [],
   "source": [
    "rep.get(key2)"
   ]
  },
  {
   "cell_type": "markdown",
   "metadata": {},
   "source": [
    "Compare this diagram to the first one and notice that `wind_ppl|standard` does not appear any more.\n",
    "\n",
    "You can pick any variable for this, even if it's in the middle of the overall flow!\n",
    "And, for any scenario like this one with multiple periods, you can pick other years, too:\n"
   ]
  },
  {
   "cell_type": "code",
   "execution_count": null,
   "metadata": {},
   "outputs": [],
   "source": [
    "key3 = rep.add_sankey(year=720, node=\"Westeros\", exclude=[\"final|electricity\"])\n",
    "print(key3)\n",
    "rep.get(key3)"
   ]
  },
  {
   "cell_type": "markdown",
   "metadata": {},
   "source": [
    "Omitting `final|electricity` splits this Sankey diagram in two, so Plotly automatically arranges the two parts on top of one another.\n",
    "\n",
    "## Under the hood\n",
    "\n",
    "This section gives a step-by-step explanation of the atomic tasks that are prepared by `add_sankey()`.\n",
    "You may wish to read this section to get a better understanding of how the code operates, or if you want to build your own code to do something different.\n",
    "\n",
    "The function we want to use, `pyam.figures.sankey()`, takes two arguments: `df` and `mapping`.\n",
    "\n",
    "After calling `Reporter.from_scenario()`, `rep` already has keys for `in::pyam` and `out::pyam`.\n",
    "These give, respectively the total (level, commodity) inputs to, and outputs from, each (technology, mode), in the IAMC data structure and as a `pyam.IamDataFrame` object.\n",
    "\n",
    "The first step is to concatenate these two objects together:"
   ]
  },
  {
   "cell_type": "code",
   "execution_count": null,
   "metadata": {},
   "outputs": [],
   "source": [
    "from genno.operator import concat\n",
    "\n",
    "df_all = concat(rep.get(\"in::pyam\"), rep.get(\"out::pyam\"))\n",
    "df_all"
   ]
  },
  {
   "cell_type": "markdown",
   "metadata": {},
   "source": [
    "…and then select the one year to be plotted:"
   ]
  },
  {
   "cell_type": "code",
   "execution_count": null,
   "metadata": {},
   "outputs": [],
   "source": [
    "df = df_all.filter(year=700)\n",
    "df"
   ]
  },
  {
   "cell_type": "markdown",
   "metadata": {},
   "source": [
    "Next, to prepare the `mapping` argument, we use the function `message_ix.tools.map_for_sankey()`:"
   ]
  },
  {
   "cell_type": "code",
   "execution_count": null,
   "metadata": {},
   "outputs": [],
   "source": [
    "from message_ix.tools.sankey import map_for_sankey\n",
    "\n",
    "mapping = map_for_sankey(\n",
    "    df,\n",
    "    node=\"Westeros\",\n",
    "    exclude=[\"wind_ppl|standard\"],\n",
    ")\n",
    "mapping"
   ]
  },
  {
   "cell_type": "markdown",
   "metadata": {},
   "source": [
    "Finally, we generate the plot:"
   ]
  },
  {
   "cell_type": "code",
   "execution_count": null,
   "metadata": {},
   "outputs": [],
   "source": [
    "from pyam.figures import sankey\n",
    "\n",
    "fig = sankey(df=df, mapping=mapping)\n",
    "fig"
   ]
  },
  {
   "cell_type": "markdown",
   "metadata": {},
   "source": [
    "We can see this is the same as the second example diagram in the tutorial.\n",
    "\n",
    "We can also visualize the steps created by `add_sankey()`:"
   ]
  },
  {
   "cell_type": "code",
   "execution_count": null,
   "metadata": {},
   "outputs": [],
   "source": [
    "print(rep.describe(key2))"
   ]
  },
  {
   "cell_type": "markdown",
   "metadata": {},
   "source": [
    "This also shows how the core MESSAGE parameters `input` and `output`, and solution variable `ACT`, are retrieved, multiplied, summed on some dimensions, and mapped in the the IAMC data structure understood by `pyam`, leading up to the `concat()` step with which we started this section.\n",
    "\n",
    "Lastly, as always, please do not forget to close the database 😉"
   ]
  },
  {
   "cell_type": "code",
   "execution_count": 14,
   "metadata": {},
   "outputs": [],
   "source": [
    "mp.close_db()"
   ]
  }
 ],
 "metadata": {
  "kernelspec": {
   "display_name": "3.13",
   "language": "python",
   "name": "python3"
  },
  "language_info": {
   "codemirror_mode": {
    "name": "ipython",
    "version": 3
   },
   "file_extension": ".py",
   "mimetype": "text/x-python",
   "name": "python",
   "nbconvert_exporter": "python",
   "pygments_lexer": "ipython3",
   "version": "3.13.0"
  }
 },
 "nbformat": 4,
 "nbformat_minor": 4
}
