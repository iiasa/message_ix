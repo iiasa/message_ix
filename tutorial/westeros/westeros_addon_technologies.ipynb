{
 "cells": [
  {
   "attachments": {},
   "cell_type": "markdown",
   "metadata": {},
   "source": [
    "# Westeros Tutorial - Introducing `\"addon\"` technologies\n",
    "\n",
    "This tutorial shows how to establish an inter-dependency between two technologies by configuring one of them as `\"addon\"`  to another one, i.e., parent technology. This can be used to model additional technology features such as carbon-capture-and-storage (CCS) retrofits, passout-turbines (for optional heat cogeneration) or cooling technologies, to existing technologies.\n",
    "\n",
    "There are several ways to tackle this issue. Lets take the example of a coal power plant (`\"coal_ppl\"`). All of the above mentioned additional features could be implemented by introducing different *modes* of operation for `\"coal_ppl\"`. For example, heat cogeneration could be implemented as a separate operation `\"mode\"` of `\"coal_ppl\"`, where instead of just generating electricity, heat can also be produced at the cost of reducing the amount of electricity generated. Another approach would make use of the generic `\"relations\"` in MESSAGEix, therefore linking the newly added technology representing the passout-turbine with the activity of `\"coal_ppl\"`. Both of these approaches have some downsides. Using a separate `\"mode\"` will not permit explicitly modelling investment costs and lifetime associated with the asset being added to `\"coal_ppl\"`. Generic relations are very flexible, but if too many of them are added, the model becomes very hard to understand. MESSAGEix offers an explicit `\"addon\"` formulation for tackling this issue.\n",
    "\n",
    "The additional technology options are explicitly modelled as separate technologies, classified as `\"addon\"` technologies, linked to the activity of the technology to which they serve as additional configuration options, i.e., the parent technology. Through an `\"addon_conversion\"` factor, the activity of `\"addon\"` technology can further be restricted to a minimum or maximum share of the activity of the parent technology.\n",
    "\n",
    "**Pre-requisites for running this tutorial**\n",
    "- You have the *MESSAGEix* framework installed and working\n",
    "- You have run Westeros baseline scenario (`westeros_baseline.ipynb`) and solved it successfully"
   ]
  },
  {
   "cell_type": "code",
   "execution_count": null,
   "metadata": {},
   "outputs": [],
   "source": [
    "# Importing required software packages\n",
    "import pandas as pd\n",
    "import ixmp\n",
    "import message_ix\n",
    "\n",
    "from message_ix.utils import make_df\n",
    "\n",
    "%matplotlib inline"
   ]
  },
  {
   "cell_type": "code",
   "execution_count": null,
   "metadata": {},
   "outputs": [],
   "source": [
    "mp = ixmp.Platform()"
   ]
  },
  {
   "cell_type": "markdown",
   "metadata": {},
   "source": [
    "## Making a clone of the existing scenario '*baseline*'"
   ]
  },
  {
   "cell_type": "code",
   "execution_count": null,
   "metadata": {},
   "outputs": [],
   "source": [
    "model = \"Westeros Electrified\"\n",
    "base = message_ix.Scenario(mp, model=model, scenario=\"baseline\")\n",
    "scen = base.clone(\n",
    "    model, \"addon_technology\", \"illustration of addon formulation\", keep_solution=False\n",
    ")\n",
    "scen.check_out()"
   ]
  },
  {
   "cell_type": "markdown",
   "metadata": {},
   "source": [
    "### i. Setting up parameters"
   ]
  },
  {
   "cell_type": "code",
   "execution_count": null,
   "metadata": {},
   "outputs": [],
   "source": [
    "year_df = scen.vintage_and_active_years()\n",
    "vintage_years, act_years = year_df[\"year_vtg\"], year_df[\"year_act\"]\n",
    "model_horizon = scen.set(\"year\")\n",
    "country = \"Westeros\"\n",
    "gdp_profile = pd.Series([1.0, 1.5, 1.9], index=pd.Index([700, 710, 720], name=\"time\"))"
   ]
  },
  {
   "cell_type": "markdown",
   "metadata": {},
   "source": [
    "### ii. Define helper dictionaries used for subsequent operations"
   ]
  },
  {
   "cell_type": "code",
   "execution_count": null,
   "metadata": {},
   "outputs": [],
   "source": [
    "base_input = {\n",
    "    \"node_loc\": country,\n",
    "    \"year_vtg\": vintage_years,\n",
    "    \"year_act\": act_years,\n",
    "    \"mode\": \"standard\",\n",
    "    \"node_origin\": country,\n",
    "    \"time\": \"year\",\n",
    "    \"time_origin\": \"year\",\n",
    "}\n",
    "base_output = {\n",
    "    \"node_loc\": country,\n",
    "    \"year_vtg\": vintage_years,\n",
    "    \"year_act\": act_years,\n",
    "    \"mode\": \"standard\",\n",
    "    \"node_dest\": country,\n",
    "    \"time\": \"year\",\n",
    "    \"time_dest\": \"year\",\n",
    "    \"unit\": \"-\",\n",
    "}\n",
    "base_capacity_factor = {\n",
    "    \"node_loc\": country,\n",
    "    \"year_vtg\": vintage_years,\n",
    "    \"year_act\": act_years,\n",
    "    \"time\": \"year\",\n",
    "    \"unit\": \"-\",\n",
    "}\n",
    "base_technical_lifetime = {\n",
    "    \"node_loc\": country,\n",
    "    \"year_vtg\": model_horizon,\n",
    "    \"unit\": \"y\",\n",
    "}\n",
    "base_inv_cost = {\n",
    "    \"node_loc\": country,\n",
    "    \"year_vtg\": model_horizon,\n",
    "    \"unit\": \"USD/kW\",\n",
    "}\n",
    "base_fix_cost = {\n",
    "    \"node_loc\": country,\n",
    "    \"year_vtg\": vintage_years,\n",
    "    \"year_act\": act_years,\n",
    "    \"unit\": \"USD/kW\",\n",
    "}\n",
    "base_var_cost = {\n",
    "    \"node_loc\": country,\n",
    "    \"year_vtg\": vintage_years,\n",
    "    \"year_act\": act_years,\n",
    "    \"mode\": \"standard\",\n",
    "    \"time\": \"year\",\n",
    "    \"unit\": \"USD/kWa\",\n",
    "}"
   ]
  },
  {
   "attachments": {},
   "cell_type": "markdown",
   "metadata": {},
   "source": [
    "## `\"addon\"` technology in MESSAGEix\n",
    "This tutorial will extend the current reference-energy-system to include a demand for heat and the necessary technologies to meet this demand. Heat will be generated via a passout-turbine which will be linked to the `\"coal_ppl\"` using the `\"addon\"` formulation.\n",
    "\n",
    "<img src='_static/addon_technologies_res.png' width='700'>\n",
    "\n",
    "We will therefore carry out the following three steps:\n",
    "1. Define a new commodity and demand for heat:\n",
    "    - Define new `\"commodity\"` `\"heat\"`.\n",
    "    - Parametrize `\"demand\"` for `\"heat\"`.\n",
    "    \n",
    "    \n",
    "2. Add new technologies:\n",
    "    - Add a new technology to generate heat: `\"passout-turbine\"`.\n",
    "    - Add a new technology district heat network to transport heat to the end-use technology: `\"dh_grid\"`.\n",
    "    - Add a new end-use technology, an in-house district heat connection which is linked to `\"demand\": \"hs_house\"`.\n",
    "    \n",
    "3. Link the passout-turbine to the coal_ppl using the `\"addon\"` feature."
   ]
  },
  {
   "cell_type": "markdown",
   "metadata": {},
   "source": [
    "### 1: Define a new commodity and demand\n",
    "We therefore add a new `\"commodity\"` `\"heat\"` and a corresponding demand, which will rise at the same rate as electricity demand."
   ]
  },
  {
   "cell_type": "code",
   "execution_count": null,
   "metadata": {},
   "outputs": [],
   "source": [
    "# Define a new commodity `\"heat\"`\n",
    "scen.add_set(\"commodity\", [\"heat\"])\n",
    "\n",
    "# Add heat demand at the useful level\n",
    "heat_demand = pd.DataFrame(\n",
    "    {\n",
    "        \"node\": country,\n",
    "        \"commodity\": \"heat\",\n",
    "        \"level\": \"useful\",\n",
    "        \"year\": [700, 710, 720],\n",
    "        \"time\": \"year\",\n",
    "        \"value\": (25 * gdp_profile).round(),\n",
    "        \"unit\": \"GWa\",\n",
    "    }\n",
    ")\n",
    "scen.add_par(\"demand\", heat_demand)"
   ]
  },
  {
   "attachments": {},
   "cell_type": "markdown",
   "metadata": {},
   "source": [
    "### 2: Define new technologies\n",
    "\n",
    "i. Heat will be generated via a pass-out turbine:\n",
    "Passout-turbine (`\"po_turbine\"`) characteristics: The passout-turbine requires one unit of electricity to generate five units of heat. The lifetime is assumed to be 30 years, 10 years longer then that of `\"coal_ppl\"`.  Investment costs are 150\\\\$/kW compared to 500\\\\$/kW for `\"coal_ppl\"`.  A coal heatplant would have higher investment costs, approximately double that of \"po_turbine\". Lastly, `\"po_turbine\"` represents an alternative production mode of `\"coal_ppl\"`, hence in order to produce heat, the electricity of `\"coal_ppl\"` is reduced. Thus, electricity is parametrized as an input to `\"po_turbine\"`; for each unit of electricity, 5 units of heat can be produced. This will later also be used for establishing a \"link\" between `\"coal_ppl\"` and `\"po_turbine\"`.\n",
    "\n",
    "ii. Heat will be transported via a district heating grid:\n",
    "District heat (`\"dh_grid\"`) network characteristics: District heating networks have only very low losses as these cover only short distances (within city perimeters). We will assume the district heating network to have an efficiency of 97%.\n",
    "\n",
    "iii. Heat demand will be linked to an end-use technology:\n",
    "`\"hs_house\"` will represent the end-use technology, which distributes heat within the buildings."
   ]
  },
  {
   "cell_type": "markdown",
   "metadata": {},
   "source": [
    "Similar to previous tutorials, we work our way backwards, starting from the `\"heat\"` demand defined at the `\"useful\"` energy level and connecting this to the `\"final\"` energy level via a technology, `\"hs_house\"`, representing the in-house heat distribution system."
   ]
  },
  {
   "cell_type": "code",
   "execution_count": null,
   "metadata": {},
   "outputs": [],
   "source": [
    "tec = \"hs_house\"\n",
    "scen.add_set(\"technology\", tec)\n",
    "\n",
    "hs_house_out = make_df(\n",
    "    \"output\", **base_output, technology=tec, commodity=\"heat\", level=\"useful\", value=1.0\n",
    ")\n",
    "scen.add_par(\"output\", hs_house_out)\n",
    "\n",
    "hs_house_in = make_df(\n",
    "    \"input\",\n",
    "    **base_input,\n",
    "    technology=tec,\n",
    "    commodity=\"heat\",\n",
    "    level=\"final\",\n",
    "    value=1.0,\n",
    "    unit=\"-\"\n",
    ")\n",
    "scen.add_par(\"input\", hs_house_in)"
   ]
  },
  {
   "cell_type": "markdown",
   "metadata": {},
   "source": [
    "Next, we add the information for the district heating network."
   ]
  },
  {
   "cell_type": "code",
   "execution_count": null,
   "metadata": {},
   "outputs": [],
   "source": [
    "tec = \"dh_grid\"\n",
    "scen.add_set(\"technology\", tec)\n",
    "\n",
    "dh_grid_out = make_df(\n",
    "    \"output\", **base_output, technology=tec, commodity=\"heat\", level=\"final\", value=1.0\n",
    ")\n",
    "scen.add_par(\"output\", dh_grid_out)\n",
    "\n",
    "dh_grid_in = make_df(\n",
    "    \"input\",\n",
    "    **base_input,\n",
    "    technology=tec,\n",
    "    commodity=\"heat\",\n",
    "    level=\"secondary\",\n",
    "    value=1.03,\n",
    "    unit=\"-\",\n",
    ")\n",
    "scen.add_par(\"input\", dh_grid_in)"
   ]
  },
  {
   "cell_type": "markdown",
   "metadata": {},
   "source": [
    "Last, we add `\"po_turbine\"` as a technology."
   ]
  },
  {
   "cell_type": "code",
   "execution_count": null,
   "metadata": {},
   "outputs": [],
   "source": [
    "tec = \"po_turbine\"\n",
    "scen.add_set(\"technology\", tec)\n",
    "\n",
    "po_out = make_df(\n",
    "    \"output\",\n",
    "    **base_output,\n",
    "    technology=tec,\n",
    "    commodity=\"heat\",\n",
    "    level=\"secondary\",\n",
    "    value=1.0,\n",
    ")\n",
    "scen.add_par(\"output\", po_out)\n",
    "\n",
    "po_in = make_df(\n",
    "    \"input\",\n",
    "    **base_input,\n",
    "    technology=tec,\n",
    "    commodity=\"electricity\",\n",
    "    level=\"secondary\",\n",
    "    value=0.2,\n",
    "    unit=\"-\",\n",
    ")\n",
    "scen.add_par(\"input\", po_in)\n",
    "\n",
    "po_tl = make_df(\n",
    "    \"technical_lifetime\", **base_technical_lifetime, technology=tec, value=30\n",
    ")\n",
    "scen.add_par(\"technical_lifetime\", po_tl)\n",
    "\n",
    "po_inv = make_df(\"inv_cost\", **base_inv_cost, technology=tec, value=150)\n",
    "scen.add_par(\"inv_cost\", po_inv)\n",
    "\n",
    "po_fix = make_df(\"fix_cost\", **base_fix_cost, technology=tec, value=15)\n",
    "scen.add_par(\"fix_cost\", po_fix)"
   ]
  },
  {
   "cell_type": "markdown",
   "metadata": {},
   "source": [
    "### 3: Link `\"po_turbine\"` with `\"coal_ppl\"`\n",
    "`\"po_turbine\"` could already operate as all required parameters are defined, yet without a link to the activity of `\"coal_ppl\"`, `\"po_turbine\"` has the possibility of using electricity generated from either `\"coal_ppl\"` or `\"wind_ppl\"`.  But because `\"po_turbine\"` is an addon component to `\"coal_ppl\"` a distinct linkage needs to be established."
   ]
  },
  {
   "cell_type": "markdown",
   "metadata": {},
   "source": [
    "First, the newly added technology `\"po_turbine\"` needs to be classified as an `\"addon\"` technology"
   ]
  },
  {
   "cell_type": "code",
   "execution_count": null,
   "metadata": {},
   "outputs": [],
   "source": [
    "scen.add_set(\"addon\", \"po_turbine\")"
   ]
  },
  {
   "attachments": {},
   "cell_type": "markdown",
   "metadata": {},
   "source": [
    "Next, we need a new `\"type_addon\"`, which we will name `\"cogeneration_heat\"`.  We will classify the `\"po_turbine\"` via the *category* `\"addon\"` as one of the addon technologies as part of this specific `\"type_addon\"`.  In some cases, for example when modelling cooling technologies, multiple technologies can be classfied within a single `\"type_addon\"`.\n",
    "\n",
    "Via the set `\"map_tec_addon\"` we map the electricity generation technology, `\"coal_ppl\"`, to the `\"addon\"` technology, `\"po_turbine\"`. Multiple technologies, for example further fossil powerplants, could also be added to this `\"type_addon\"` so as to be able to produce heat via `\"po_turbine\"`.\n",
    "\n",
    "Note: the `\"addon\"` technology as well as the parent technology must have the same `\"mode\"`."
   ]
  },
  {
   "cell_type": "code",
   "execution_count": null,
   "metadata": {},
   "outputs": [],
   "source": [
    "type_addon_ch = \"cogeneration_heat\"\n",
    "addon_tech = \"po_turbine\"\n",
    "tec = \"coal_ppl\"\n",
    "scen.add_cat(\"addon\", type_addon_ch, addon_tech)\n",
    "scen.add_set(\n",
    "    \"map_tec_addon\", pd.DataFrame({\"technology\": tec, \"type_addon\": [type_addon_ch]})\n",
    ")"
   ]
  },
  {
   "attachments": {},
   "cell_type": "markdown",
   "metadata": {},
   "source": [
    "The last step required in order to link the `\"coal_ppl\"` is to define the `\"addon_conversion\"` factor between the `\"coal_ppl\"` and the `\"type_addon\"`.  This is important, because the `\"coal_ppl\"` generates electricity while the `\"po_turbine\"` generates heat. Therefore, we can use the inverse of the `\"input\"` coefficient from the `\"po_turbine\"`."
   ]
  },
  {
   "cell_type": "code",
   "execution_count": null,
   "metadata": {},
   "outputs": [],
   "source": [
    "df = pd.DataFrame(\n",
    "    {\n",
    "        \"node\": country,\n",
    "        \"technology\": tec,\n",
    "        \"year_vtg\": vintage_years,\n",
    "        \"year_act\": act_years,\n",
    "        \"mode\": \"standard\",\n",
    "        \"time\": \"year\",\n",
    "        \"type_addon\": type_addon_ch,\n",
    "        \"value\": 5,\n",
    "        \"unit\": \"-\",\n",
    "    }\n",
    ")\n",
    "scen.add_par(\"addon_conversion\", df)"
   ]
  },
  {
   "cell_type": "markdown",
   "metadata": {},
   "source": [
    "Although not necessary for this specific example, it is also possible to limit the activity of `\"po_turbine\"` to a specific share of `\"coal_ppl\"` activity. In the example below, `\"po_turbine\"` is limited to using 15% of `\"coal_ppl\"` activity.  Likewise, a constraint on the minimum amount of electricity used from `\"po_turbine\"` can be applied by using the parameter `\"addon_lo\"`."
   ]
  },
  {
   "cell_type": "code",
   "execution_count": null,
   "metadata": {},
   "outputs": [],
   "source": [
    "# Index for \"addon_up\" is [\"node\", \"technology\", \"year_act\",\n",
    "#                          \"mode\", \"time\", \"type_addon\",\n",
    "#                          \"value\", \"unit\"]\n",
    "df = pd.DataFrame(\n",
    "    {\n",
    "        \"node\": country,\n",
    "        \"technology\": tec,\n",
    "        \"year_act\": act_years,\n",
    "        \"mode\": \"standard\",\n",
    "        \"time\": \"year\",\n",
    "        \"type_addon\": type_addon_ch,\n",
    "        \"value\": 0.15,\n",
    "        \"unit\": \"-\",\n",
    "    }\n",
    ")\n",
    "scen.add_par(\"addon_up\", df)"
   ]
  },
  {
   "cell_type": "markdown",
   "metadata": {},
   "source": [
    "### Commit and solve"
   ]
  },
  {
   "cell_type": "code",
   "execution_count": null,
   "metadata": {},
   "outputs": [],
   "source": [
    "scen.commit(comment=\"define parameters for renewable implementation\")\n",
    "scen.set_as_default()"
   ]
  },
  {
   "cell_type": "code",
   "execution_count": null,
   "metadata": {},
   "outputs": [],
   "source": [
    "scen.solve()"
   ]
  },
  {
   "cell_type": "code",
   "execution_count": null,
   "metadata": {},
   "outputs": [],
   "source": [
    "scen.var(\"OBJ\")[\"lvl\"]"
   ]
  },
  {
   "cell_type": "markdown",
   "metadata": {},
   "source": [
    "# Plotting Results"
   ]
  },
  {
   "cell_type": "code",
   "execution_count": null,
   "metadata": {},
   "outputs": [],
   "source": [
    "# Create a Reporter object to describe and carry out reporting\n",
    "# calculations and operations (like plotting) based on `scenario`\n",
    "from message_ix.reporting import Reporter\n",
    "\n",
    "rep_bl = Reporter.from_scenario(base)\n",
    "rep_addon = Reporter.from_scenario(scen)\n",
    "\n",
    "# \"prepare_plots\" enables several to describe reporting operations, e.g.\n",
    "# \"plot activity\", \"plot capacity\", or \"plot prices\"\n",
    "# See message_ix/util/tutorial.py for more information\n",
    "from message_ix.util.tutorial import prepare_plots\n",
    "\n",
    "prepare_plots(rep_bl)\n",
    "prepare_plots(rep_addon)"
   ]
  },
  {
   "cell_type": "markdown",
   "metadata": {},
   "source": [
    "## Activity\n",
    "***"
   ]
  },
  {
   "cell_type": "markdown",
   "metadata": {},
   "source": [
    "### Scenario: '*baseline*'"
   ]
  },
  {
   "cell_type": "code",
   "execution_count": null,
   "metadata": {},
   "outputs": [],
   "source": [
    "rep_bl.set_filters(t=[\"coal_ppl\", \"wind_ppl\"])\n",
    "rep_bl.get(\"plot activity\")"
   ]
  },
  {
   "cell_type": "markdown",
   "metadata": {},
   "source": [
    "### Scenario: '*addon_technology*'"
   ]
  },
  {
   "cell_type": "code",
   "execution_count": null,
   "metadata": {},
   "outputs": [],
   "source": [
    "rep_addon.set_filters(t=[\"coal_ppl\", \"wind_ppl\"])\n",
    "rep_addon.get(\"plot activity\")"
   ]
  },
  {
   "cell_type": "code",
   "execution_count": null,
   "metadata": {},
   "outputs": [],
   "source": [
    "rep_addon.set_filters(t=[\"po_turbine\"])\n",
    "rep_addon.get(\"plot activity\")"
   ]
  },
  {
   "attachments": {},
   "cell_type": "markdown",
   "metadata": {},
   "source": [
    "### Question\n",
    "Comparing the electricity generation of wind power plants in *baseline* and in this scenario shows that wind is generating more electricity now. Can you explain the reason? You can find the answer at the end of this tutorial."
   ]
  },
  {
   "cell_type": "markdown",
   "metadata": {},
   "source": [
    "## Capacity\n",
    "***\n",
    "The behavior observed for the activity of the two electricity generation technologies is reflected in the capacity."
   ]
  },
  {
   "cell_type": "markdown",
   "metadata": {},
   "source": [
    "### Scenario: '*baseline*'"
   ]
  },
  {
   "cell_type": "code",
   "execution_count": null,
   "metadata": {},
   "outputs": [],
   "source": [
    "rep_bl.set_filters(t=[\"coal_ppl\", \"wind_ppl\"])\n",
    "rep_bl.get(\"plot capacity\")"
   ]
  },
  {
   "cell_type": "markdown",
   "metadata": {},
   "source": [
    "### Scenario: '*addon_technology*'"
   ]
  },
  {
   "cell_type": "code",
   "execution_count": null,
   "metadata": {},
   "outputs": [],
   "source": [
    "rep_addon.set_filters(t=[\"coal_ppl\", \"wind_ppl\"])\n",
    "rep_addon.get(\"plot capacity\")"
   ]
  },
  {
   "attachments": {},
   "cell_type": "markdown",
   "metadata": {},
   "source": [
    "## Prices\n",
    "***\n",
    "The resulting impact on the electricity price is negligable, though. Yet we can see that the price of heat is significantly lower than that of light."
   ]
  },
  {
   "cell_type": "markdown",
   "metadata": {},
   "source": [
    "### Scenario: '*baseline*'"
   ]
  },
  {
   "cell_type": "code",
   "execution_count": null,
   "metadata": {},
   "outputs": [],
   "source": [
    "rep_bl.set_filters(c=[\"light\"])\n",
    "rep_bl.get(\"plot prices\")"
   ]
  },
  {
   "cell_type": "markdown",
   "metadata": {},
   "source": [
    "### Scenario: '*addon_technology*'"
   ]
  },
  {
   "cell_type": "code",
   "execution_count": null,
   "metadata": {},
   "outputs": [],
   "source": [
    "rep_addon.set_filters(c=[\"light\"])\n",
    "rep_addon.get(\"plot prices\")"
   ]
  },
  {
   "cell_type": "code",
   "execution_count": null,
   "metadata": {},
   "outputs": [],
   "source": [
    "rep_addon.set_filters(c=[\"heat\"])\n",
    "rep_addon.get(\"plot prices\")"
   ]
  },
  {
   "attachments": {},
   "cell_type": "markdown",
   "metadata": {},
   "source": [
    "### Answer to the question:\n",
    "In the new scenario ('*addon_technology*'), the effects of the addon technology can be seen when comparing the activity to the baseline scenario ('*baseline*'). From 700 onwards, the activity of the `\"wind_ppl\"` has increased to compensate for the electricity required from the `\"coal_ppl\"` for use in the `\"po_turbine\"`. In 720, when the `\"wind_ppl\"` is phased out, more electricity is required to be produced by the `\"coal_ppl\"`. "
   ]
  },
  {
   "cell_type": "code",
   "execution_count": null,
   "metadata": {},
   "outputs": [],
   "source": [
    "mp.close_db()"
   ]
  }
 ],
 "metadata": {
  "kernelspec": {
   "display_name": "message_ix",
   "language": "python",
   "name": "python3"
  },
  "language_info": {
   "codemirror_mode": {
    "name": "ipython",
    "version": 3
   },
   "file_extension": ".py",
   "mimetype": "text/x-python",
   "name": "python",
   "nbconvert_exporter": "python",
   "pygments_lexer": "ipython3",
   "version": "3.10.6"
  },
  "vscode": {
   "interpreter": {
    "hash": "29605b568787f5559ca1ba05da75d155c3dcfa15a1a63b1885b057c5465ade2e"
   }
  }
 },
 "nbformat": 4,
 "nbformat_minor": 2
}
