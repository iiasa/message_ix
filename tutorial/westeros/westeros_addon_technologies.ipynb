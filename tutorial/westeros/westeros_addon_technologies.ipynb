{
 "cells": [
  {
   "cell_type": "markdown",
   "metadata": {},
   "source": [
    "# Westeros Tutorial\n",
    "## Adding additional technology functionalities: Introducing `addon` technologies\n",
    "\n",
    "This tutorial is concerned with is looking at how to add additional features, known as `addon` technologies such as carbon-capture-and-storage (CCS) retrofits, passout-turbines (for optional heat cogeneration) or cooling technologies, to existing technologies.\n",
    "\n",
    "There are several ways in which to tackle this issue.  Lets take for example our `coal_ppl`.  All of the above mentioned additional features could be implemented by introducing different modes for the `coal_ppl`.  For example, heat cogeneration could be implemented as a separate `mode` of the `coal_ppl`, where instead of just generating electricity, heat can also be produced at the cost of reducing the amount of electricity generated. Another approach would make use of the generic `relations`, therefore linking the a newly added technology representing the passout-turbine with the activity of the `coal_ppl`.  Both of these approaches have some downsides. Using a separate `mode` will not permit explicitly modelling investment costs and lifetimes associated with the asset being added to the `coal_ppl`.  Generic relations are very flexible, but if too many of these exist, then the modell quickly becomes very hard to understand.  Therefore, MESSAGEix offers an explicit `addon` formulation.\n",
    "\n",
    "What this means, is that the additional technology options are explicitly modelled as separate technologies, classified as `addon` technologies, linked to the activity of the technology to which they serve as additional configuration options, the parent technology, through specifying a `addon_conversion` factor.  The activity of the `addon` technology can further be restricted to a minimum or maximum share of the activity of the parent technology."
   ]
  },
  {
   "cell_type": "markdown",
   "metadata": {},
   "source": [
    "## Adding heat co-generation capacibility to the `coal_ppl`\n",
    "This tutorial will extend the current reference-energy-system to include a demand for heat and the necessary technologies to meet this demand.  Heat will be generated via a `passout-turbine` which will be linked to the `coal_ppl` using the `addon` formulation.\n",
    "\n",
    "# *Add modified RES*"
   ]
  },
  {
   "cell_type": "code",
   "execution_count": null,
   "metadata": {},
   "outputs": [],
   "source": [
    "import pandas as pd\n",
    "import ixmp as ix\n",
    "import message_ix\n",
    "\n",
    "from message_ix.utils import make_df\n",
    "\n",
    "%matplotlib inline"
   ]
  },
  {
   "cell_type": "code",
   "execution_count": null,
   "metadata": {},
   "outputs": [],
   "source": [
    "mp = ix.Platform(dbtype='HSQLDB')"
   ]
  },
  {
   "cell_type": "markdown",
   "metadata": {},
   "source": [
    "## Load the existing scenario '*baseline*' and clone to a new scenario '*addon_technology*' which we will extended to include heat cogeneration using the `addon` feature"
   ]
  },
  {
   "cell_type": "code",
   "execution_count": null,
   "metadata": {},
   "outputs": [],
   "source": [
    "model = 'Westeros Electrified'\n",
    "base = message_ix.Scenario(mp, model=model, scenario='baseline')\n",
    "scen = base.clone(model, 'addon_technology', 'illustration of addon formulation', keep_solution=False)\n",
    "scen.check_out()"
   ]
  },
  {
   "cell_type": "markdown",
   "metadata": {},
   "source": [
    "## Retrieve parameters to perform subsequent addition of parameters"
   ]
  },
  {
   "cell_type": "code",
   "execution_count": null,
   "metadata": {},
   "outputs": [],
   "source": [
    "year_df = scen.vintage_and_active_years()\n",
    "vintage_years, act_years = year_df['year_vtg'], year_df['year_act']\n",
    "model_horizon = scen.set('year')\n",
    "country = 'Westeros'\n",
    "gdp_profile = pd.Series([1., 1.5, 1.9], index=pd.Index([700, 710, 720], name='Time'))"
   ]
  },
  {
   "cell_type": "markdown",
   "metadata": {},
   "source": [
    "## Define helper dataframes used for subsequent operations"
   ]
  },
  {
   "cell_type": "code",
   "execution_count": null,
   "metadata": {},
   "outputs": [],
   "source": [
    "base_input = {\n",
    "    'node_loc': country,\n",
    "    'year_vtg': vintage_years\n",
    "    ,\n",
    "    'year_act': act_years,\n",
    "    'mode': 'standard',\n",
    "    'node_origin': country,\n",
    "    'commodity': 'electricity',\n",
    "    'time': 'year',\n",
    "    'time_origin': 'year',\n",
    "}\n",
    "\n",
    "base_output = {\n",
    "    'node_loc': country,\n",
    "    'year_vtg': vintage_years,\n",
    "    'year_act': act_years,\n",
    "    'mode': 'standard',\n",
    "    'node_dest': country,\n",
    "    'time': 'year',\n",
    "    'time_dest': 'year', \n",
    "    'unit': '%',\n",
    "}\n",
    "base_capacity_factor = {\n",
    "    'node_loc': country,\n",
    "    'year_vtg': vintage_years,\n",
    "    'year_act': act_years,\n",
    "    'time': 'year',\n",
    "    'unit': '%',\n",
    "}\n",
    "base_technical_lifetime = {\n",
    "    'node_loc': country,\n",
    "    'year_vtg': model_horizon,\n",
    "    'unit': 'y',\n",
    "}\n",
    "base_inv_cost = {\n",
    "    'node_loc': country,\n",
    "    'year_vtg': model_horizon,\n",
    "    'unit': 'USD/GWa',\n",
    "}\n",
    "base_fix_cost = {\n",
    "    'node_loc': country,\n",
    "    'year_vtg': vintage_years,\n",
    "    'year_act': act_years,\n",
    "    'unit': 'USD/GWa',\n",
    "}\n",
    "base_var_cost = {\n",
    "    'node_loc': country,\n",
    "    'year_vtg': vintage_years,\n",
    "    'year_act': act_years,\n",
    "    'mode': 'standard',\n",
    "    'time': 'year',\n",
    "    'unit': 'USD/GWa',\n",
    "}"
   ]
  },
  {
   "cell_type": "markdown",
   "metadata": {},
   "source": [
    "## `addon` technology - interlinking technologies\n",
    "In order to demonstrate the use of this feature, we will be adding a new demand for heat to this scenario.  This demand will be met by the `coal_ppl` via a passout-turbine, the `addon` technology.\n",
    "\n",
    "We will therefore go through the following steps:\n",
    "1. Define a new demand for heat.\n",
    "2. Add new technologies: passout-turbine, district heat network, in-house district heat connection\n",
    "3. Link the passout-turbine to the coal_ppl using the `addon` feature."
   ]
  },
  {
   "cell_type": "markdown",
   "metadata": {},
   "source": [
    "### Step1: Define a new demand\n",
    "Note: Austria has an approximate space heating requirement of about 47000 GWh supplied via district heat, at approximately 9 Mio. inhabitants this equates to approximately 5000 kWh per capita."
   ]
  },
  {
   "cell_type": "code",
   "execution_count": null,
   "metadata": {},
   "outputs": [],
   "source": [
    "# Define a new commodity `heat`\n",
    "scen.add_set(\"commodity\", [\"heat\"])\n",
    "\n",
    "# Add heat demand at the useful level\n",
    "heat_demand = pd.DataFrame({\n",
    "        'node': country,\n",
    "        'commodity': 'heat',\n",
    "        'level': 'useful',\n",
    "        'year': [700, 710, 720],\n",
    "        'time': 'year',\n",
    "        'value': (50 * gdp_profile).round(),\n",
    "        'unit': 'GWa',\n",
    "    })\n",
    "scen.add_par(\"demand\", heat_demand)"
   ]
  },
  {
   "cell_type": "markdown",
   "metadata": {},
   "source": [
    "### Step2: Define new technologies inlcuding a passout-turbine along with a grid and an in-house heat-distribution system\n",
    "\n",
    "Passout-turbine (`po_turbine`) characteristics: The passout-turbine requires one unit of electricity to generate five units of heat. The lifetime is assumed to be 30 years, 10 years longer then that of the `coal_ppl`.  Investment costs are 150\\$/kW compared to 500\\$/kW for the `coal_ppl`.  A coal heatplant would have higher investment costs, approximately double that of the `po_turbine`.\n",
    "\n",
    "District heat (`dh_grid`) network characteristics: District heating networks have only very low losses as these cover only short distances (within city perimeters). We will assume the district heating network to have an efficiency of 97%."
   ]
  },
  {
   "cell_type": "markdown",
   "metadata": {},
   "source": [
    "As before we will work our way backwards, starting from the `heat` demand defined at the `useful` energy level and connecting this to the `final` energy level via a technology, `dh_house`, representing the in-house heat distribution system."
   ]
  },
  {
   "cell_type": "code",
   "execution_count": null,
   "metadata": {},
   "outputs": [],
   "source": [
    "tec = 'dh_house'\n",
    "scen.add_set('technology', tec)\n",
    "\n",
    "dh_house_out = make_df(base_output, technology=tec, commodity='heat', \n",
    "                   level='useful', value=1.0)\n",
    "scen.add_par('output', dh_house_out)\n",
    "\n",
    "dh_house_in = make_df(base_input, technology=tec, commodity='heat',  \n",
    "                  level='final', value=1.0, unit='%')\n",
    "scen.add_par('input', dh_house_in)"
   ]
  },
  {
   "cell_type": "markdown",
   "metadata": {},
   "source": [
    "Next, we will add the district heating network"
   ]
  },
  {
   "cell_type": "code",
   "execution_count": null,
   "metadata": {},
   "outputs": [],
   "source": [
    "tec = 'dh_grid'\n",
    "scen.add_set('technology', tec)\n",
    "\n",
    "dh_grid_out = make_df(base_output, technology='dh_grid', commodity='heat', \n",
    "                   level='final', value=1.0)\n",
    "scen.add_par('output', dh_grid_out)\n",
    "\n",
    "dh_grid_in = make_df(base_input, technology='dh_grid', commodity='heat',  \n",
    "                  level='secondary', value=1.03, unit='%')\n",
    "scen.add_par('input', dh_grid_in)"
   ]
  },
  {
   "cell_type": "markdown",
   "metadata": {},
   "source": [
    "The last technology we will add is the `po_turbine` itself."
   ]
  },
  {
   "cell_type": "code",
   "execution_count": null,
   "metadata": {},
   "outputs": [],
   "source": [
    "tec = 'po_turbine'\n",
    "scen.add_set('technology', tec)\n",
    "\n",
    "po_out = make_df(base_output, technology=tec, commodity='heat', \n",
    "                   level='secondary', value=1.0)\n",
    "scen.add_par('output', po_out)\n",
    "\n",
    "po_in = make_df(base_input, technology=tec, commodity='electricity',  \n",
    "                  level='secondary', value=0.2, unit='%')\n",
    "scen.add_par('input', po_in)\n",
    "\n",
    "po_tl = make_df(base_technical_lifetime, technology=tec, value=30)\n",
    "scen.add_par('technical_lifetime', po_tl)\n",
    "\n",
    "po_inv = make_df(base_inv_cost, technology=tec, value=150)\n",
    "scen.add_par('inv_cost', po_inv)\n",
    "\n",
    "po_fix = make_df(base_fix_cost, technology=tec, value=15)\n",
    "scen.add_par('fix_cost', po_fix)"
   ]
  },
  {
   "cell_type": "markdown",
   "metadata": {},
   "source": [
    "### Step3: Link the `po_turbine` with `coal_ppl`\n",
    "The `po_turbine` could already operate as all required parameters are defined, yet without a link to the activity of the `coal_ppl`, the `po_turbine` has the possibility of using electricity generated from either the `coal_ppl` or  the `wind_ppl`.  But because the `po_turbine` is an addon component to the `coal_ppl` a distinct linkage needs to be established."
   ]
  },
  {
   "cell_type": "markdown",
   "metadata": {},
   "source": [
    "First, the newly added technology `po_turbine` needs to be classified as an `addon` technology"
   ]
  },
  {
   "cell_type": "code",
   "execution_count": null,
   "metadata": {},
   "outputs": [],
   "source": [
    "scen.add_set('addon', 'po_turbine')"
   ]
  },
  {
   "cell_type": "markdown",
   "metadata": {},
   "source": [
    "Next, we need a new `type_addon`, which we will name `cogeneration_heat`.  We will classify the `po_turbine` via the *category* `addon` as one of the addon technologies as part of this specific `type_addon`.  In some cases, for example when modelling cooling technologies, multiple technologies can be classfied within a single `type_addon`.\n",
    "\n",
    "Via the set `map_tec_addon` we map the electricity generation technology, `coal_ppl`, to the `addon` technology, `po_turbine`. Multiple technologies, for example further fossil powerplants, could also be added to the this `type_addon` so as to be able to produce heat via the `po_turbine`.\n",
    "\n",
    "Note: the `addon` technology as well as the parent technology must have the same `mode`."
   ]
  },
  {
   "cell_type": "code",
   "execution_count": null,
   "metadata": {},
   "outputs": [],
   "source": [
    "type_addon = 'cogeneration_heat'\n",
    "addon = 'po_turbine'\n",
    "tec = 'coal_ppl'\n",
    "scen.add_cat('addon', type_addon, addon)\n",
    "scen.add_set('map_tec_addon', pd.DataFrame({'technology': tec,\n",
    "                                            'type_addon': [type_addon]}))"
   ]
  },
  {
   "cell_type": "markdown",
   "metadata": {},
   "source": [
    "The last step required in order to link the `coal_ppl` is to define the `addon_conversion` factor between the `coal_ppl` and the `type_addon`.  This is important, because the `coal_ppl` generates electricty while the `po_turbine` generates heat. Therefore, we can use the inverse of the `input` coefficient from the `po_turbine`."
   ]
  },
  {
   "cell_type": "code",
   "execution_count": null,
   "metadata": {},
   "outputs": [],
   "source": [
    "# Index for `addon_conversion` is ['node', 'technology', 'year_vtg',\n",
    "#                                  'year_act', 'mode', 'time',\n",
    "#                                  'type_addon', 'value', 'unit']\n",
    "df = pd.DataFrame({'node': country,\n",
    "                   'technology': tec,\n",
    "                   'year_vtg': vintage_years,\n",
    "                   'year_act': act_years,\n",
    "                   'mode': 'standard',\n",
    "                   'time': 'year',\n",
    "                   'type_addon': type_addon,\n",
    "                   'value': 5,\n",
    "                   'unit': '%'})\n",
    "scen.add_par('addon_conversion', df)"
   ]
  },
  {
   "cell_type": "markdown",
   "metadata": {},
   "source": [
    "Although not necessary for this specific example, it is also possible to limit the activity of the `po_turbine` to a specific share of the `coal_ppl` activity. In the example below, the `po_turbine` is limited to using 15% of the `coal_ppl` activity.  Likewise, a constraint on the minimum amount of electricity used from the `po_turbine` can be applied by using the parameter `addon_lo`."
   ]
  },
  {
   "cell_type": "code",
   "execution_count": null,
   "metadata": {},
   "outputs": [],
   "source": [
    "# Index for `addon_up` is ['node', 'technology', 'year_act',\n",
    "#                          'mode', 'time', 'type_addon',\n",
    "#                          'value', 'unit']\n",
    "df = pd.DataFrame({'node': country,\n",
    "                   'technology': tec,\n",
    "                   'year_act': act_years,\n",
    "                   'mode': 'standard',\n",
    "                   'time': 'year',\n",
    "                   'type_addon': type_addon,\n",
    "                   'value': .15,\n",
    "                   'unit': '%'})\n",
    "scen.add_par('addon_up', df)"
   ]
  },
  {
   "cell_type": "markdown",
   "metadata": {},
   "source": [
    "### Commit and solve"
   ]
  },
  {
   "cell_type": "code",
   "execution_count": null,
   "metadata": {},
   "outputs": [],
   "source": [
    "scen.commit(comment='define parameters for renewable implementation')\n",
    "scen.set_as_default()"
   ]
  },
  {
   "cell_type": "code",
   "execution_count": null,
   "metadata": {},
   "outputs": [],
   "source": [
    "scen.solve()"
   ]
  },
  {
   "cell_type": "code",
   "execution_count": null,
   "metadata": {},
   "outputs": [],
   "source": [
    "scen.var('OBJ')['lvl']"
   ]
  },
  {
   "cell_type": "markdown",
   "metadata": {},
   "source": [
    "# Plotting Results"
   ]
  },
  {
   "cell_type": "code",
   "execution_count": null,
   "metadata": {},
   "outputs": [],
   "source": [
    "from tools import Plots\n",
    "p = Plots(scen, country, firstyear=700) # scenario: 'renewable_potential' (emission_bound scenario with firm capacity)\n",
    "b = Plots(base, country, firstyear=700) # scenario: 'carbon_tax' (without renewable potentials)"
   ]
  },
  {
   "cell_type": "markdown",
   "metadata": {},
   "source": [
    "## Activity\n",
    "***\n",
    "In the new scenario ('*addon_technology*'), the effects of the addon technology can be seen when comparing the activity to the baseline scenario ('*baseline*'). From 700 onwards, the activity of the `wind_ppl` has increased to compensate for the electricity required from the `coal_ppl` for use in the `po_turbine`. In 720, when the `wind_ppl` is phased out, then more electricity is required to be produced by the `coal_ppl`. "
   ]
  },
  {
   "cell_type": "markdown",
   "metadata": {},
   "source": [
    "### Scenario: '*baseline*'"
   ]
  },
  {
   "cell_type": "code",
   "execution_count": null,
   "metadata": {},
   "outputs": [],
   "source": [
    "b.plot_activity(baseyear=True, subset=['coal_ppl', 'wind_ppl'])"
   ]
  },
  {
   "cell_type": "markdown",
   "metadata": {},
   "source": [
    "### Scenario: '*addon_technology*'"
   ]
  },
  {
   "cell_type": "code",
   "execution_count": null,
   "metadata": {},
   "outputs": [],
   "source": [
    "p.plot_activity(baseyear=True, subset=['coal_ppl', 'wind_ppl'])"
   ]
  },
  {
   "cell_type": "markdown",
   "metadata": {},
   "source": [
    "## Capacity\n",
    "***\n",
    "The behavior observed for the activity of the two electricity generation technologies is reflected in the capacity."
   ]
  },
  {
   "cell_type": "markdown",
   "metadata": {},
   "source": [
    "### Scenario: '*baseline*'"
   ]
  },
  {
   "cell_type": "code",
   "execution_count": null,
   "metadata": {},
   "outputs": [],
   "source": [
    "b.plot_capacity(baseyear=True, subset=['coal_ppl', 'wind_ppl'])"
   ]
  },
  {
   "cell_type": "markdown",
   "metadata": {},
   "source": [
    "### Scenario: '*addon_technology*'"
   ]
  },
  {
   "cell_type": "code",
   "execution_count": null,
   "metadata": {},
   "outputs": [],
   "source": [
    "p.plot_capacity(baseyear=True, subset=['coal_ppl', 'wind_ppl'])"
   ]
  },
  {
   "cell_type": "markdown",
   "metadata": {},
   "source": [
    "## Prices\n",
    "***\n",
    "The resulting impact on the electricity price though is negligable."
   ]
  },
  {
   "cell_type": "markdown",
   "metadata": {},
   "source": [
    "### Scenario: '*baseline*'"
   ]
  },
  {
   "cell_type": "code",
   "execution_count": null,
   "metadata": {},
   "outputs": [],
   "source": [
    "b.plot_prices(subset=['light'], baseyear=True)"
   ]
  },
  {
   "cell_type": "markdown",
   "metadata": {},
   "source": [
    "### Scenario: '*addon_technology*'"
   ]
  },
  {
   "cell_type": "code",
   "execution_count": null,
   "metadata": {},
   "outputs": [],
   "source": [
    "p.plot_prices(subset=['light'], baseyear=True)"
   ]
  },
  {
   "cell_type": "code",
   "execution_count": null,
   "metadata": {},
   "outputs": [],
   "source": [
    "mp.close_db()"
   ]
  }
 ],
 "metadata": {
  "kernelspec": {
   "display_name": "Python [default]",
   "language": "python",
   "name": "python3"
  },
  "language_info": {
   "codemirror_mode": {
    "name": "ipython",
    "version": 3
   },
   "file_extension": ".py",
   "mimetype": "text/x-python",
   "name": "python",
   "nbconvert_exporter": "python",
   "pygments_lexer": "ipython3",
   "version": "3.6.5"
  }
 },
 "nbformat": 4,
 "nbformat_minor": 2
}
