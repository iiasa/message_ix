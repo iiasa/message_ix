{
 "cells": [
  {
   "cell_type": "markdown",
   "metadata": {},
   "source": [
    "# Westeros Tutorial\n",
    "## Adding representation of renewables - Part 3: Introducing `renewable_resource_constraints`\n",
    "\n",
    "This tutorial, which demonstrates how to apply various model features to provide a more realistic representation of renewable energy integration in the energy system, is comprised of three parts. Previously, we introduced constraints on `firm_capacity` and `flexible_generation`.  In the third part we will show you how to introduce renewable resource potentials.  Up until now, `wind_ppl` activity was unrestricted.  In order to reflect the fact that there are limited wind potentials within a given region and the fact that these differ in quality, we will add introduce `renewable_potnetials` and `renewable_capacity_factors` for wind.\n",
    "\n",
    "Further information can be found in https://doi.org/10.1016/j.esr.2013.01.001 (*Sullivan et al., 2013*)"
   ]
  },
  {
   "cell_type": "code",
   "execution_count": 1,
   "metadata": {},
   "outputs": [],
   "source": [
    "import pandas as pd\n",
    "import ixmp as ix\n",
    "import message_ix\n",
    "\n",
    "from message_ix.utils import make_df\n",
    "\n",
    "%matplotlib inline"
   ]
  },
  {
   "cell_type": "code",
   "execution_count": null,
   "metadata": {},
   "outputs": [
    {
     "name": "stderr",
     "output_type": "stream",
     "text": [
      "INFO:root:launching ixmp.Platform with local HSQLDB database at 'C:\\Users\\fricko\\.local\\ixmp\\localdb\\default'\n"
     ]
    }
   ],
   "source": [
    "mp = ix.Platform(dbtype='HSQLDB')"
   ]
  },
  {
   "cell_type": "markdown",
   "metadata": {},
   "source": [
    "## Load the existing scenario '*carbon_tax*' and clone to a new scenario '*renewable_potential*' to which we will apply the `renewable_resource_constraints` constraint"
   ]
  },
  {
   "cell_type": "code",
   "execution_count": null,
   "metadata": {},
   "outputs": [],
   "source": [
    "model = 'Westeros Electrified'\n",
    "base = message_ix.Scenario(mp, model=model, scenario='carbon_tax')\n",
    "scen = base.clone(model, 'renewable_potential', 'illustration of renewable_resource_constraint formulation', keep_solution=False)\n",
    "scen.check_out()"
   ]
  },
  {
   "cell_type": "markdown",
   "metadata": {},
   "source": [
    "## Retrieve parameters to perform subsequent addition of parameters"
   ]
  },
  {
   "cell_type": "code",
   "execution_count": null,
   "metadata": {},
   "outputs": [],
   "source": [
    "year_df = scen.vintage_and_active_years()\n",
    "vintage_years, act_years = year_df['year_vtg'], year_df['year_act']\n",
    "model_horizon = scen.set('year')\n",
    "country = 'Westeros'"
   ]
  },
  {
   "cell_type": "markdown",
   "metadata": {},
   "source": [
    "## `renewable_resource_constraints` - Describing the renewable resource potentials\n",
    "From the previous tutorials, we know based on the results that in 720, wind capacity reaches over 150GWa. We will therefore define 4 wind potential categories which in total will provide 200GWa, yet the quality of these potentials will vary substantially from the current assumptions, where the capacity factor for `wind_ppl` has been assumed to be 1, meaning that the installed `wind_ppl` capacity can operate 8760 hours per year i.e., 100% of the year.  Depending on the region, high quality on-shore wind potentials result in capacity factors around 35%, yet the marjority of the potentials will lie below this value.  Therefore, 4 reource categories will be introduced:\n",
    "\n",
    "| Resource Category | Potential | Capacity Factor |\n",
    "| ----------------- | --------- | --------------- |\n",
    "| c1 | 100 | .15 |\n",
    "| c2 | 50 | .20 |\n",
    "| c3 | 25 | .25 |\n",
    "| c4 | 25 | .30 |\n",
    "\n",
    "The capacity factor of the `wind_ppl` will remain unchanged and will be reflected in the parametrization of the `renewable_resources`.  \n",
    "\n",
    "The following steps are required:\n",
    "1. Add level and commodity:\n",
    "   - Specify and new level and commodity which accounts for the wind potentials and which serve as inputs to the `wind_ppl`\n",
    "   - Specify which level is a `level_renewable`\n",
    "2. Modify existing renewable technology:\n",
    "   - Specify which technology is classified as a `'type_tec` renewable (optional) \n",
    "   - Modify the input of the wind_ppl\n",
    "3. Add potentials and corresponding \n",
    "   - Add grades\n",
    "   - Add `renewable_potentials'\n",
    "   - Add `renewable_capacity_factor`"
   ]
  },
  {
   "cell_type": "markdown",
   "metadata": {},
   "source": [
    "### Define new level and commodity which accounts for potentials for wind"
   ]
  },
  {
   "cell_type": "code",
   "execution_count": null,
   "metadata": {},
   "outputs": [],
   "source": [
    "scen.add_set('level', ['renewable'])\n",
    "scen.add_set('commodity', ['wind_onshore'])\n",
    "scen.add_set('level_renewable', ['renewable'])"
   ]
  },
  {
   "cell_type": "markdown",
   "metadata": {},
   "source": [
    "### Define a new technology category `renewable`, to which `wind_ppl` is added"
   ]
  },
  {
   "cell_type": "code",
   "execution_count": null,
   "metadata": {},
   "outputs": [],
   "source": [
    "scen.add_set('type_tec', ['renewable'])\n",
    "df = pd.DataFrame({'type_tec': ['renewable'],\n",
    "                   'technology': ['wind_ppl']})\n",
    "scen.add_set('cat_tec', df)"
   ]
  },
  {
   "cell_type": "markdown",
   "metadata": {},
   "source": [
    "### Define input for `wind_ppl` as newly defined level and commodity"
   ]
  },
  {
   "cell_type": "code",
   "execution_count": null,
   "metadata": {},
   "outputs": [],
   "source": [
    "# input has index set ['node_loc', 'technology', 'year_vtg', 'year_act',\n",
    "#                      'mode', 'node_origin', 'commodity', 'level',\n",
    "#                      'time', 'time_origin', 'value', 'unit]\n",
    "df = pd.DataFrame({\n",
    "    'node_loc': country,\n",
    "    'technology': 'wind_ppl',\n",
    "    'year_vtg': vintage_years,\n",
    "    'year_act': act_years,\n",
    "    'mode': 'standard',\n",
    "    'node_origin': country,\n",
    "    'commodity': 'wind_onshore',\n",
    "    'level': 'renewable',\n",
    "    'time': 'year',\n",
    "    'time_origin': 'year',\n",
    "    'value': 1,\n",
    "    'unit': '%'})\n",
    "scen.add_par('input', df)"
   ]
  },
  {
   "cell_type": "markdown",
   "metadata": {},
   "source": [
    "### Add new resource potential categories as `grade`"
   ]
  },
  {
   "cell_type": "code",
   "execution_count": null,
   "metadata": {},
   "outputs": [],
   "source": [
    "grades = ['c1', 'c2', 'c3', 'c4']\n",
    "scen.add_set('grade', grades)"
   ]
  },
  {
   "cell_type": "markdown",
   "metadata": {},
   "source": [
    "### Add resource potentials for every timestep in the model\n",
    "Note, that unlike fossil resources which are finite, renewable resources must be defined for each year."
   ]
  },
  {
   "cell_type": "code",
   "execution_count": null,
   "metadata": {},
   "outputs": [],
   "source": [
    "# renewable_potential has index ['node', 'commodity', 'grade', 'level', 'year', 'value', 'unit']\n",
    "idx = pd.MultiIndex.from_product([[country], ['wind_onshore'], grades, ['renewable'], model_horizon, ['GWa']],\n",
    "                                 names=['node', 'commodity', 'grade', 'level', 'year', 'unit'])\n",
    "df = pd.DataFrame({'value': sorted([100, 50, 25, 25] * len(model_horizon), reverse=True)}, idx).reset_index()\n",
    "scen.add_par('renewable_potential', df)"
   ]
  },
  {
   "cell_type": "markdown",
   "metadata": {},
   "source": [
    "### Add `renewable_capacity_factor` for every timestep in the model"
   ]
  },
  {
   "cell_type": "code",
   "execution_count": null,
   "metadata": {},
   "outputs": [],
   "source": [
    "# renewable_potential has index ['node', 'commodity', 'grade', 'level', 'year', 'value', 'unit']\n",
    "idx = pd.MultiIndex.from_product([[country], ['wind_onshore'], grades, ['renewable'], model_horizon, ['%']],\n",
    "                                 names=['node', 'commodity', 'grade', 'level', 'year', 'unit'])\n",
    "df = pd.DataFrame({'value': sorted([.15, .20, .25, .30] * len(model_horizon))}, idx).reset_index()\n",
    "scen.add_par('renewable_capacity_factor', df)"
   ]
  },
  {
   "cell_type": "markdown",
   "metadata": {},
   "source": [
    "### Commit and solve"
   ]
  },
  {
   "cell_type": "code",
   "execution_count": null,
   "metadata": {},
   "outputs": [],
   "source": [
    "scen.commit(comment='define parameters for renewable implementation')\n",
    "scen.set_as_default()"
   ]
  },
  {
   "cell_type": "code",
   "execution_count": null,
   "metadata": {},
   "outputs": [],
   "source": [
    "scen.solve()"
   ]
  },
  {
   "cell_type": "code",
   "execution_count": null,
   "metadata": {},
   "outputs": [],
   "source": [
    "scen.var('OBJ')['lvl']"
   ]
  },
  {
   "cell_type": "markdown",
   "metadata": {},
   "source": [
    "# Plotting Results"
   ]
  },
  {
   "cell_type": "code",
   "execution_count": null,
   "metadata": {},
   "outputs": [],
   "source": [
    "from tools import Plots\n",
    "p = Plots(scen, country, firstyear=700) # scenario: 'renewable_potential' (emission_bound scenario with firm capacity)\n",
    "b = Plots(base, country, firstyear=700) # scenario: 'carbon_tax' (without renewable potentials)"
   ]
  },
  {
   "cell_type": "markdown",
   "metadata": {},
   "source": [
    "## Activity\n",
    "***\n",
    "When comparing the results of the original scenario without the renewable potentials ('*carbon_tax*') with the results of our newly modified scenario ('*renewable_potential*'), for the same carbon price we can observe that the activity of the `wind_ppl` has substantially decreased.  This is because through adding potentials with corresponding plant factors, the `wind_ppl` has become increasingly economicaly unattractive and despite the carbon tax is not used. \n",
    "Note, that the `coal_ppl` still has a plant factor of 1 and has no resource constraints, thus in order to further improve the model, the parameters for the `coal_ppl` would need to be adjusted."
   ]
  },
  {
   "cell_type": "markdown",
   "metadata": {},
   "source": [
    "### Scenario: '*carbon_tax*'"
   ]
  },
  {
   "cell_type": "code",
   "execution_count": null,
   "metadata": {},
   "outputs": [],
   "source": [
    "b.plot_activity(baseyear=True, subset=['coal_ppl', 'wind_ppl'])"
   ]
  },
  {
   "cell_type": "markdown",
   "metadata": {},
   "source": [
    "### Scenario: '*renewable_potential*'"
   ]
  },
  {
   "cell_type": "code",
   "execution_count": null,
   "metadata": {},
   "outputs": [],
   "source": [
    "p.plot_activity(baseyear=True, subset=['coal_ppl', 'wind_ppl'])"
   ]
  },
  {
   "cell_type": "markdown",
   "metadata": {},
   "source": [
    "## Capacity\n",
    "***\n",
    "The behavior observed for the activity of the two electricity generation technologies is reflected in the capacity. No further capacity is built for the `wind_ppl` and thus is phased out by 720."
   ]
  },
  {
   "cell_type": "markdown",
   "metadata": {},
   "source": [
    "### Scenario: '*carbon_tax*'"
   ]
  },
  {
   "cell_type": "code",
   "execution_count": null,
   "metadata": {},
   "outputs": [],
   "source": [
    "b.plot_capacity(baseyear=True, subset=['coal_ppl', 'wind_ppl'])"
   ]
  },
  {
   "cell_type": "markdown",
   "metadata": {},
   "source": [
    "### Scenario: '*renewable_potential*'"
   ]
  },
  {
   "cell_type": "code",
   "execution_count": null,
   "metadata": {},
   "outputs": [],
   "source": [
    "p.plot_capacity(baseyear=True, subset=['coal_ppl', 'wind_ppl'])"
   ]
  },
  {
   "cell_type": "markdown",
   "metadata": {},
   "source": [
    "## Prices\n",
    "***\n",
    "Especially in the earlier model time periods, electricity and therefore the price for light increase dramatically.  The increase in 720 is due to the emission taxes associated with the operation of the `coal_ppl`."
   ]
  },
  {
   "cell_type": "markdown",
   "metadata": {},
   "source": [
    "### Scenario: '*carbon_tax*'"
   ]
  },
  {
   "cell_type": "code",
   "execution_count": null,
   "metadata": {},
   "outputs": [],
   "source": [
    "b.plot_prices(subset=['light'], baseyear=True)"
   ]
  },
  {
   "cell_type": "markdown",
   "metadata": {},
   "source": [
    "### Scenario: '*renewable_potential*'"
   ]
  },
  {
   "cell_type": "code",
   "execution_count": null,
   "metadata": {},
   "outputs": [],
   "source": [
    "p.plot_prices(subset=['light'], baseyear=True)"
   ]
  },
  {
   "cell_type": "code",
   "execution_count": null,
   "metadata": {},
   "outputs": [],
   "source": [
    "mp.close_db()"
   ]
  }
 ],
 "metadata": {
  "kernelspec": {
   "display_name": "Python [default]",
   "language": "python",
   "name": "python3"
  },
  "language_info": {
   "codemirror_mode": {
    "name": "ipython",
    "version": 3
   },
   "file_extension": ".py",
   "mimetype": "text/x-python",
   "name": "python",
   "nbconvert_exporter": "python",
   "pygments_lexer": "ipython3",
   "version": "3.6.5"
  }
 },
 "nbformat": 4,
 "nbformat_minor": 2
}
