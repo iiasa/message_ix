{
 "cells": [
  {
   "cell_type": "markdown",
   "metadata": {},
   "source": [
    "# Westeros Tutorial\n",
    "## Adding fossil resources - Part 1\n",
    "\n",
    "In this tutorial we will cover the addition of fossil resources, i.e. resource supply curves, to the model.  This will include defining a `resource_volume` and respective costs.  Multiple resource categories can be added for a single commodity, allowing, for example, a differentiation to be made between '*reserves*' and '*resources*' and/or the location of the resources, i.e. above or below ground; on- or off-shore.\n",
    "\n",
    "‘*Reserves*’ are generally defined as being those quantities for which geological and engineering information indicate with reasonable certainty that they can be recovered in the future from known reservoirs under existing economic and operating conditions. ‘*Resources*’ are detected quantities that cannot be profitably recovered with current technology, but might be recoverable in the future, as well as those quantities that are geologically possible, but yet to be found. Definitions are based on Rogner et al. (2012). \n",
    "\n",
    "In this tutorial, we will be adding two categories of coal resources.  The assumed potential is based on the coal requirements by the `coal_ppl` in the baseline, and will be split so that we can also observe the use of multiple resource categories. \n",
    "\n",
    "Two further tutorials on adding fossil resources are available, which will elaborate on the modelling of fossil resources. Part 2 will introduce the constraint `resource_remaining`, therefore specifying what share of these resources must be preserved over time.  In Part 3, we will further add a coal extraction technology, linking the coal resources to the primary energy level, which can be used to model energy requirements of the extraction process."
   ]
  },
  {
   "cell_type": "code",
   "execution_count": 1,
   "metadata": {},
   "outputs": [],
   "source": [
    "import pandas as pd\n",
    "import ixmp as ix\n",
    "import message_ix\n",
    "\n",
    "from message_ix.utils import make_df\n",
    "\n",
    "%matplotlib inline"
   ]
  },
  {
   "cell_type": "code",
   "execution_count": 2,
   "metadata": {},
   "outputs": [
    {
     "name": "stderr",
     "output_type": "stream",
     "text": [
      "INFO:root:launching ixmp.Platform with local HSQLDB database at 'C:\\Users\\fricko\\.local\\ixmp\\localdb\\default'\n"
     ]
    }
   ],
   "source": [
    "mp = ix.Platform(dbtype='HSQLDB')"
   ]
  },
  {
   "cell_type": "markdown",
   "metadata": {},
   "source": [
    "## Load the existing scenario '*baseline*' and clone to a new scenario '*renewable_potential*' to which we will apply the `renewable_resource_constraints` constraint"
   ]
  },
  {
   "cell_type": "code",
   "execution_count": 3,
   "metadata": {},
   "outputs": [],
   "source": [
    "model = 'Westeros Electrified'\n",
    "base = message_ix.Scenario(mp, model=model, scenario='baseline')\n",
    "scen = base.clone(model, 'fossil_resources', 'illustration of adding fossil resources', keep_solution=False)\n",
    "scen.check_out()"
   ]
  },
  {
   "cell_type": "markdown",
   "metadata": {},
   "source": [
    "## Retrieve parameters to perform subsequent addition of parameters and define 'base' dataframes for adding parameters"
   ]
  },
  {
   "cell_type": "code",
   "execution_count": 4,
   "metadata": {},
   "outputs": [],
   "source": [
    "year_df = scen.vintage_and_active_years()\n",
    "vintage_years, act_years = year_df['year_vtg'], year_df['year_act']\n",
    "model_horizon = scen.set('year')\n",
    "country = 'Westeros'\n",
    "\n",
    "base_input = {\n",
    "    'node_loc': country,\n",
    "    'year_vtg': vintage_years\n",
    "    ,\n",
    "    'year_act': act_years,\n",
    "    'mode': 'standard',\n",
    "    'node_origin': country,\n",
    "    'commodity': 'electricity',\n",
    "    'time': 'year',\n",
    "    'time_origin': 'year',\n",
    "}"
   ]
  },
  {
   "cell_type": "markdown",
   "metadata": {},
   "source": [
    "## `resource_potential` and `grade`- Describing the fossil resource potentials\n",
    "\n",
    "Introducing fossil resources requires the following steps to be carried out:\n",
    "1. Add level and commodity required for resources:\n",
    "   - Specify the new level and commodity which accounts for the coal resources.\n",
    "   - Specify which level is a `resource`\n",
    "2. Add potentials and corresponding parameters\n",
    "   - Add `grade`\n",
    "   - Add `resource_volume`\n",
    "   - Add `resource_cost`\n",
    "   - Add `historical_extraction`\n",
    "3. Modify existing `coal_ppl` technology by adding a new `input` parameter."
   ]
  },
  {
   "cell_type": "markdown",
   "metadata": {},
   "source": [
    "From the '*baseline*' scenario we know that the `coal_ppl` required 3942 GWa of coal.  We will set the potentials so that sufficient coal is available for use bu the `coal_ppl`. A parameter `historical_extraction` is also introduced purly for demonstation purposes, although this will not impact the `resource_potentials`, i.e. `historical_extraction` is disregarded in the equation 'RESOURCE_CONSTRAINT'. Therefore, the potentials added will always reflect the resource availability as of the `firstmodelyear`.\n",
    "NOTE: When cloning a scenario and shifting the firstmodelyear, the `resource_volume` will be automatically adjusted to reflected the amounts previously used."
   ]
  },
  {
   "cell_type": "markdown",
   "metadata": {},
   "source": [
    "### Add coal resources"
   ]
  },
  {
   "cell_type": "code",
   "execution_count": 5,
   "metadata": {},
   "outputs": [],
   "source": [
    "# {grade: [volume, cost, share remaining, historical_extraction]}\n",
    "potentials = {'a': [1000, 1.0, 280],\n",
    "              'b': [2942, 6.0, 0]}"
   ]
  },
  {
   "cell_type": "code",
   "execution_count": 6,
   "metadata": {},
   "outputs": [],
   "source": [
    "commodity= 'coal'\n",
    "level = 'resource'\n",
    "scen.add_set('commodity', commodity)\n",
    "scen.add_set('level', level)\n",
    "scen.add_set('level_resource', level)\n",
    "for grade in potentials:\n",
    "    scen.add_set('grade', grade)\n",
    "    # index for resource_volume is ['node', 'commodity', 'grade', 'value', 'unit']\n",
    "    df = pd.DataFrame({'node': [country],\n",
    "                       'commodity': commodity,\n",
    "                       'grade': grade,\n",
    "                       'value': potentials[grade][0],\n",
    "                       'unit': 'GWa'})\n",
    "    scen.add_par('resource_volume', df)\n",
    "       \n",
    "    # index for resouce_cost is ['node', 'commodity', 'grade', 'year', 'value', 'unit']\n",
    "    df = pd.DataFrame({'node': country,\n",
    "                       'commodity': commodity,\n",
    "                       'grade': grade,\n",
    "                       'year': model_horizon.values.tolist(),\n",
    "                       'value': potentials[grade][1],\n",
    "                       'unit': 'GWa'})\n",
    "    scen.add_par('resource_cost', df)\n",
    "    \n",
    "    # index for historical_extraction is ['node', 'commodity', 'grade', 'year', 'value', 'unit']\n",
    "    df = pd.DataFrame({'node': country,\n",
    "                       'commodity': commodity,\n",
    "                       'grade': grade,\n",
    "                       'year': [690],\n",
    "                       'value':  potentials[grade][2],\n",
    "                       'unit': 'GWa'})\n",
    "    scen.add_par('historical_extraction', df)"
   ]
  },
  {
   "cell_type": "markdown",
   "metadata": {},
   "source": [
    "### Adjust `coal_ppl` parameter `input` to establish link to the resources"
   ]
  },
  {
   "cell_type": "code",
   "execution_count": 7,
   "metadata": {},
   "outputs": [],
   "source": [
    "df = make_df(base_input, technology='coal_ppl', commodity='coal', \n",
    "                   level='resource', value=1, unit='%')\n",
    "scen.add_par('input', df)"
   ]
  },
  {
   "cell_type": "markdown",
   "metadata": {},
   "source": [
    "### Commit and solve"
   ]
  },
  {
   "cell_type": "code",
   "execution_count": 8,
   "metadata": {},
   "outputs": [],
   "source": [
    "scen.commit(comment='added coal resources')\n",
    "scen.set_as_default()"
   ]
  },
  {
   "cell_type": "code",
   "execution_count": 9,
   "metadata": {},
   "outputs": [],
   "source": [
    "scen.solve()"
   ]
  },
  {
   "cell_type": "code",
   "execution_count": 10,
   "metadata": {},
   "outputs": [
    {
     "data": {
      "text/plain": [
       "191942.265625"
      ]
     },
     "execution_count": 10,
     "metadata": {},
     "output_type": "execute_result"
    }
   ],
   "source": [
    "scen.var('OBJ')['lvl']"
   ]
  },
  {
   "cell_type": "markdown",
   "metadata": {},
   "source": [
    "# Plotting Results"
   ]
  },
  {
   "cell_type": "code",
   "execution_count": 11,
   "metadata": {},
   "outputs": [],
   "source": [
    "from tools import Plots\n",
    "b = Plots(base, country, firstyear=700) # scenario: 'baseline' (without coal resource potential)\n",
    "p = Plots(scen, country, firstyear=700) # scenario: 'fossil_resources' (baseline scenario with coal resource potentials)"
   ]
  },
  {
   "cell_type": "markdown",
   "metadata": {},
   "source": [
    "## Activity\n",
    "***\n",
    "When comparing the results of the original scenario without coal resource potentials ('*baseline*') to the results of our newly modified scenario ('*fossil_resources*'), the activity of the both electricity generation technologies is the same."
   ]
  },
  {
   "cell_type": "markdown",
   "metadata": {},
   "source": [
    "### Scenario: '*baseline*'"
   ]
  },
  {
   "cell_type": "code",
   "execution_count": 12,
   "metadata": {},
   "outputs": [
    {
     "data": {
      "image/png": "[encoded data removed]",
      "text/plain": [
       "<Figure size 432x288 with 1 Axes>"
      ]
     },
     "metadata": {
      "needs_background": "light"
     },
     "output_type": "display_data"
    }
   ],
   "source": [
    "b.plot_activity(baseyear=True, subset=['coal_ppl', 'wind_ppl'])"
   ]
  },
  {
   "cell_type": "markdown",
   "metadata": {},
   "source": [
    "### Scenario: '*fossil_resource*'"
   ]
  },
  {
   "cell_type": "code",
   "execution_count": 13,
   "metadata": {},
   "outputs": [
    {
     "data": {
      "image/png": "[encoded data removed]",
      "text/plain": [
       "<Figure size 432x288 with 1 Axes>"
      ]
     },
     "metadata": {
      "needs_background": "light"
     },
     "output_type": "display_data"
    }
   ],
   "source": [
    "p.plot_activity(baseyear=True, subset=['coal_ppl', 'wind_ppl'])"
   ]
  },
  {
   "cell_type": "markdown",
   "metadata": {},
   "source": [
    "## Capacity\n",
    "***\n",
    "As is the case for activity, capacity also remains the same in both scenarios."
   ]
  },
  {
   "cell_type": "markdown",
   "metadata": {},
   "source": [
    "### Scenario: '*baseline*'"
   ]
  },
  {
   "cell_type": "code",
   "execution_count": 14,
   "metadata": {},
   "outputs": [
    {
     "data": {
      "image/png": "[encoded data removed]",
      "text/plain": [
       "<Figure size 432x288 with 1 Axes>"
      ]
     },
     "metadata": {
      "needs_background": "light"
     },
     "output_type": "display_data"
    }
   ],
   "source": [
    "b.plot_capacity(baseyear=True, subset=['coal_ppl', 'wind_ppl'])"
   ]
  },
  {
   "cell_type": "markdown",
   "metadata": {},
   "source": [
    "### Scenario: '*fossil_resource*'"
   ]
  },
  {
   "cell_type": "code",
   "execution_count": 15,
   "metadata": {},
   "outputs": [
    {
     "data": {
      "image/png": "[encoded data removed]",
      "text/plain": [
       "<Figure size 432x288 with 1 Axes>"
      ]
     },
     "metadata": {
      "needs_background": "light"
     },
     "output_type": "display_data"
    }
   ],
   "source": [
    "p.plot_capacity(baseyear=True, subset=['coal_ppl', 'wind_ppl'])"
   ]
  },
  {
   "cell_type": "markdown",
   "metadata": {},
   "source": [
    "## Prices\n",
    "***\n",
    "The impact of introducing coal resources and therewith associated costs, only becomes noticeable when looking at prices for `light`.  Especially in the latter two timeperiods the impact is noticable, where prices increase compared to the '*baseline*' scenario."
   ]
  },
  {
   "cell_type": "markdown",
   "metadata": {},
   "source": [
    "### Scenario: '*baseline*'"
   ]
  },
  {
   "cell_type": "code",
   "execution_count": 16,
   "metadata": {},
   "outputs": [
    {
     "data": {
      "image/png": "[encoded data removed]",
      "text/plain": [
       "<Figure size 432x288 with 1 Axes>"
      ]
     },
     "metadata": {
      "needs_background": "light"
     },
     "output_type": "display_data"
    }
   ],
   "source": [
    "b.plot_prices(subset=['light'], baseyear=True)"
   ]
  },
  {
   "cell_type": "markdown",
   "metadata": {},
   "source": [
    "### Scenario: '*fossil_resource*'"
   ]
  },
  {
   "cell_type": "code",
   "execution_count": 17,
   "metadata": {},
   "outputs": [
    {
     "data": {
      "image/png": "[encoded data removed]",
      "text/plain": [
       "<Figure size 432x288 with 1 Axes>"
      ]
     },
     "metadata": {
      "needs_background": "light"
     },
     "output_type": "display_data"
    }
   ],
   "source": [
    "p.plot_prices(subset=['light'], baseyear=True)"
   ]
  },
  {
   "cell_type": "markdown",
   "metadata": {},
   "source": [
    "## Extraction\n",
    "***\n",
    "Looking at the extraction over time, we can see that the model uses up the available potential of the cheaper `grade a` early on.  The switch to the more expensive `grade b` as of 710, is the reason for the price increase of `light`."
   ]
  },
  {
   "cell_type": "markdown",
   "metadata": {},
   "source": [
    "### Scenario: '*fossil_resource*'"
   ]
  },
  {
   "cell_type": "code",
   "execution_count": 18,
   "metadata": {},
   "outputs": [
    {
     "data": {
      "image/png": "[encoded data removed]",
      "text/plain": [
       "<Figure size 432x288 with 1 Axes>"
      ]
     },
     "metadata": {
      "needs_background": "light"
     },
     "output_type": "display_data"
    }
   ],
   "source": [
    "p.plot_extraction(subset=['coal'], baseyear=True, bygrade=True)"
   ]
  },
  {
   "cell_type": "code",
   "execution_count": 19,
   "metadata": {},
   "outputs": [],
   "source": [
    "mp.close_db()"
   ]
  }
 ],
 "metadata": {
  "kernelspec": {
   "display_name": "Python 3",
   "language": "python",
   "name": "python3"
  },
  "language_info": {
   "codemirror_mode": {
    "name": "ipython",
    "version": 3
   },
   "file_extension": ".py",
   "mimetype": "text/x-python",
   "name": "python",
   "nbconvert_exporter": "python",
   "pygments_lexer": "ipython3",
   "version": "3.7.2"
  }
 },
 "nbformat": 4,
 "nbformat_minor": 2
}
