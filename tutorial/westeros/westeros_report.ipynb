{
 "cells": [
  {
   "cell_type": "markdown",
   "metadata": {},
   "source": [
    "# Westeros tutorial, part VII: Reporting\n",
    "\n",
    "‘Reporting’ is the term used in the MESSAGEix ecosystem to refer to any calculations performed _after_ the MESSAGE mathematical optimization problem has been solved (using ``Scenario.solve()``).\n",
    "\n",
    "This tutorial introduces the reporting features provided by the ``ixmp`` and ``message_ix`` packages.\n",
    "It was developed by Paul Natsuo Kishimoto ([@khaeru](https://github.com/khaeru)) for a MESSAGE training workshop held at IIASA in October 2019.\n",
    "<!-- Add a line here if you revise the tutorial! -->\n",
    "\n",
    "## Introduction\n",
    "\n",
    "### Pre-requisites\n",
    "\n",
    "- Complete tutorial Part I (``westeros_baseline.ipynb``)\n",
    "  - Understand the following MESSAGEix terms: ‘variable’, ‘parameter’\n",
    "- Read the [‘Reporting’ page in the MESSAGEix documentation](https://message.iiasa.ac.at/en/stable/reporting.html).\n",
    "  Some text in this tutorial is drawn from that page.\n",
    "  - Understand the following terms: ‘quantity’."
   ]
  },
  {
   "cell_type": "markdown",
   "metadata": {},
   "source": [
    "### What does ‘reporting’ include?\n",
    "\n",
    "Individual modelers often make different distinctions between—on one hand—the internals of an optimization model and—on the other—reporting, ‘post-processing’, ‘analysis’, and other tasks.\n",
    "Doing valid research using models like MESSAGE requires that we understand these differences clearly, as well as how we choose to communicate them.\n",
    "\n",
    "For example, we might say: “The MESSAGE model shows that total secondary energy (electricity) output in Westeros in the year 720 is 9 GWa.”\n",
    "\n",
    "But, if we are using the model from ``westeros_baseline.ipynb``:\n",
    "1. The raw data from the ``Scenario`` after the ``.solve()`` command **only** tells us the ``ACT`` variable has certain values.\n",
    "2. To get the 9 GWa figure, we must:\n",
    "   1. Compute the product of activity (``ACT``, which is dimensionless) and output efficiency (``output`` in GWa/year), then\n",
    "   2. Sum across the ``technology`` dimension, and finally\n",
    "   3. Select the value for the ``year`` 720.\n",
    "   \n",
    "In the above example, the steps under 2 are reporting.\n",
    "\n",
    "Next, we may want to create a plot of electricity output by year.\n",
    "Some modelers consider this part of ‘reporting’; for others, ‘reporting’ is complete when the values needed for the plot are written to a file, which they can then use with their favourite plotting tool."
   ]
  },
  {
   "cell_type": "markdown",
   "metadata": {},
   "source": [
    "### Reporting features in MESSAGEix\n",
    "\n",
    "The reporting features in ``ixmp`` and ``message_ix`` were developed to support the complicated reporting and multiple workflows required by the IIASA Energy program for scenario analysis projects involving large, detailed models such as the [MESSAGE-GLOBIOM global model](https://message.iiasa.ac.at/global/).\n",
    "While powerful enough for this purpose, they are also intended to be user-friendly, flexible, and customizable."
   ]
  },
  {
   "cell_type": "markdown",
   "metadata": {},
   "source": [
    "## The Graph\n",
    "\n",
    "``ixmp.Reporter`` is based around a *graph* of *nodes* and *edges*; specifically, a *directed, acyclic graph*.\n",
    "This means:\n",
    "- Every edge has a direction; *from* one node *to* another.\n",
    "- There are no recursive loops in the graph; i.e. no node is its own ancestor.\n",
    "\n",
    "In the reporting graph, every node is a *calculation*—or, more generally, a *computation*.\n",
    "We label the node with the name of the quantity it produces and the operation, calculation, or computation it performs.\n",
    "\n",
    "Every computation node depends on certain inputs; these are represented by the *edges* of the graph.\n",
    "\n",
    "For example, the following equation:\n",
    "\n",
    "> $C = A + B$\n",
    "\n",
    "is represented by:\n",
    "- A node 'A' that provides the raw value of A.\n",
    "- A node 'B' that provides the raw value of C.\n",
    "- A node 'C' that computes a sum of its inputs.\n",
    "- An edge from 'A' to 'C'\n",
    "- An edge from 'B' to 'C'\n",
    "\n",
    "Let's do this in code:"
   ]
  },
  {
   "cell_type": "code",
   "execution_count": null,
   "metadata": {},
   "outputs": [],
   "source": [
    "import ixmp\n",
    "\n",
    "# Create a new Reporter object\n",
    "rep = ixmp.Reporter()\n",
    "\n",
    "# Add two nodes to the graph\n",
    "rep.add('A', 1)\n",
    "rep.add('B', 2)\n",
    "\n",
    "# Add one node and two edges to the graph\n",
    "rep.add('C', (lambda *inputs: sum(inputs), 'A', 'B'))"
   ]
  },
  {
   "cell_type": "markdown",
   "metadata": {},
   "source": [
    "We use the ``add()`` method of a Reporter object to build the graph.\n",
    "(Remember, you can type ``rep.add?`` in a new cell to use Jupyter's help features; or look at the documentation page linked above.)\n",
    "\n",
    "Let's break this down:\n",
    "- The first argument is the name of the node, which we call a **key**.\n",
    "- The second argument describes the computation to be performed:\n",
    "  - For A and B, these are simply the raw or literal value to be produced by the node.\n",
    "  - For C, it is ``(lambda *inputs: sum(inputs), 'A', 'B')``; let's break that down further.\n",
    "    - The first argument (``lambda *inputs: sum(inputs)``) is an anonymous function ([read more](https://doc.python.org/3/tutorial/controlflow.html#lambda-expressions)) that computes the sum of its inputs.\n",
    "    - The remaining arguments (``'A', B'``) are keys that reference other nodes in the graph.\n",
    "\n",
    "Next, let's trigger the calculation of 'C', which gives the expected value:"
   ]
  },
  {
   "cell_type": "code",
   "execution_count": null,
   "metadata": {},
   "outputs": [],
   "source": [
    "rep.get('C')"
   ]
  },
  {
   "cell_type": "markdown",
   "metadata": {},
   "source": [
    "We can use the ``Reporter.describe()`` to see steps used in this calculation.\n",
    "The graph is printed out as a hierarchical list:"
   ]
  },
  {
   "cell_type": "code",
   "execution_count": null,
   "metadata": {},
   "outputs": [],
   "source": [
    "print(rep.describe('C'))"
   ]
  },
  {
   "cell_type": "markdown",
   "metadata": {},
   "source": [
    "### Exercise 1\n",
    "Extend the graph to produce the following equation.\n",
    "\n",
    "> $E = A + D * \\frac{A}{A + B} = A + D * \\frac{A}{C}; D = 12$\n",
    "\n",
    "(Code blocks that solve all exercises are listed at the bottom of the tutorial—don't peek!)"
   ]
  },
  {
   "cell_type": "code",
   "execution_count": null,
   "metadata": {},
   "outputs": [],
   "source": [
    "# Some helper functions you can use\n",
    "def sum_calc(*inputs):\n",
    "    return sum(inputs)\n",
    "\n",
    "def product(a, b):\n",
    "    return a * b\n",
    "\n",
    "def ratio(a, b):\n",
    "    return a / b\n",
    "\n",
    "# Replace 'C' with a reference to sum_calc (instead of an anonymous function)\n",
    "rep.add('C', (sum_calc, 'A', 'B'))\n",
    "\n",
    "# Add your code here:"
   ]
  },
  {
   "cell_type": "markdown",
   "metadata": {},
   "source": [
    "## Big Graphs\n",
    "\n",
    "\n",
    "\n",
    "\n"
   ]
  },
  {
   "cell_type": "markdown",
   "metadata": {},
   "source": [
    "## Solutions to exercises\n",
    "\n",
    "### Exercise 1\n",
    "\n",
    "One solution involves using intermediate nodes:"
   ]
  },
  {
   "cell_type": "code",
   "execution_count": null,
   "metadata": {},
   "outputs": [],
   "source": [
    "rep.add('D', 12)\n",
    "rep.add('foo1', (ratio, 'A', 'C'))\n",
    "rep.add('foo2', (product, 'D', 'foo1'))\n",
    "rep.add('E', (sum_calc, 'A', 'foo2'))\n",
    "rep.get('E')"
   ]
  },
  {
   "cell_type": "markdown",
   "metadata": {},
   "source": [
    "Another solution is to define a new or anonymous function:"
   ]
  },
  {
   "cell_type": "code",
   "execution_count": null,
   "metadata": {},
   "outputs": [],
   "source": [
    "rep.add('D', 12)\n",
    "rep.add('E', (lambda a, c, d: a + d * (a / c), 'A', 'C', 'D'))\n",
    "rep.get('E')"
   ]
  }
 ],
 "metadata": {
  "kernelspec": {
   "display_name": "Python 3",
   "language": "python",
   "name": "python3"
  },
  "language_info": {
   "codemirror_mode": {
    "name": "ipython",
    "version": 3
   },
   "file_extension": ".py",
   "mimetype": "text/x-python",
   "name": "python",
   "nbconvert_exporter": "python",
   "pygments_lexer": "ipython3",
   "version": "3.7.3"
  }
 },
 "nbformat": 4,
 "nbformat_minor": 2
}
