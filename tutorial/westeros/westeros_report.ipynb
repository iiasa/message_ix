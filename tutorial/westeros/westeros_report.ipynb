{
 "cells": [
  {
   "attachments": {},
   "cell_type": "markdown",
   "metadata": {},
   "source": [
    "# Westeros Tutorial - Introducing reporting\n",
    "\n",
    "‘Reporting’ is the term used in the MESSAGEix ecosystem to refer to any calculations performed _after_ the MESSAGE mathematical optimization problem has been solved.\n",
    "\n",
    "This tutorial introduces the reporting features provided by the ``ixmp`` and ``message_ix`` packages.\n",
    "It was developed by Paul Natsuo Kishimoto ([@khaeru](https://github.com/khaeru)) for a MESSAGEix training workshop held at IIASA in October 2019.\n",
    "Participants in the MESSAGEix workshops of June and September 2020 contributed feedback.\n",
    "<!-- Add a line here if you revise the tutorial! -->\n",
    "\n",
    "**Pre-requisites**\n",
    "- You have the *MESSAGEix* framework installed and working.\n",
    "  In particular, you should have installed ``message_ix[report]``, which requires ``ixmp[report]``, ``genno[compat]``, and ``plotnine``.\n",
    "- Complete tutorial Part 1 (``westeros_baseline.ipynb``).\n",
    "  - Understand the following MESSAGEix terms: ‘variable’, ‘parameter’.\n",
    "- Open the [‘Reporting’ page in the MESSAGEix documentation](https://docs.messageix.org/en/stable/reporting.html);\n",
    "  bookmark it or keep it open in a tab.\n",
    "  Some text in this tutorial is drawn from that page,\n",
    "  and it provides a concise reference for concepts explained below"
   ]
  },
  {
   "attachments": {},
   "cell_type": "markdown",
   "metadata": {
    "jp-MarkdownHeadingCollapsed": true
   },
   "source": [
    "## Introduction\n",
    "### What does ‘reporting’ include?\n",
    "\n",
    "Individual modelers will make different distinctions between—on one hand—the internals of an optimization model and—on the other—reporting, ‘post-processing’, ‘analysis’, and other tasks.\n",
    "Doing valid research using models like MESSAGE requires that we understand these differences clearly, as well as how we choose to communicate them.\n",
    "\n",
    "For example, we might say:\n",
    "\n",
    "> The MESSAGE model shows that total secondary energy (electricity) output in Westeros in the year 720 is 9 GWa.\n",
    "\n",
    "But, if we are using the model from `westeros_baseline.ipynb`:\n",
    "1. The raw data from the `Scenario`, after `.solve()` has been called,\n",
    "   **only** tells us the $\\mathrm{ACT}$ variable has certain values.\n",
    "2. To get the “9 GWa” figure, we must:\n",
    "   1. Compute the product of activity ($\\mathrm{ACT}$, which is dimensionless) and output efficiency ($\\mathrm{output}$, in GWa/year), then\n",
    "   2. Sum across the $t$/`technology` dimension, and finally\n",
    "   3. Select the single value for the period ($y^A$/`year`) 720.\n",
    "   \n",
    "In this example, steps (2.1), (2.2), and (2.3) are ‘reporting’.\n",
    "Even an intuitive concept like “total secondary energy” **is not a direct output** of the model:\n",
    "it must be reported.\n",
    "\n",
    "Next, we may want to create a plot of electricity output by year.\n",
    "Some modelers consider this part of ‘reporting’; for others, ‘reporting’ is complete when the values needed for the plot are written to a file, which they can then use with their favourite plotting tool."
   ]
  },
  {
   "cell_type": "markdown",
   "metadata": {},
   "source": [
    "## Reporting features in MESSAGEix\n",
    "\n",
    "The reporting features in ``ixmp`` and ``message_ix`` are developed to support the complicated reporting and multiple workflows required by the IIASA ECE Program for research projects involving large, detailed models such as the [MESSAGEix-GLOBIOM global model](https://docs.messageix.org/global/).\n",
    "While powerful enough for this purpose, they are also intended to be user-friendly, flexible, and customizable.\n",
    "\n",
    "The main Python class used for reporting is `message_ix.Reporter`,\n",
    "which extends the classes `ixmp.Reporter` and `genno.Computer`.\n",
    "A reporting workflow has two steps:\n",
    "\n",
    "1. **Prepare** or describe all tasks the Reporter may possibly handle, using ``Reporter.add()`` and other helper methods.\n",
    "2. **Execute** a subset of these tasks using ``Reporter.get()``, in order to generate one or more quantities, files, reports, etc.\n",
    "\n",
    "This two-step process allows the Reporter to deliver good performance,\n",
    "by excluding unneeded tasks\n",
    "and storing intermediate results that are used in multiple places\n",
    "(in order to avoid recomputing them)."
   ]
  },
  {
   "cell_type": "markdown",
   "metadata": {},
   "source": [
    "## Concepts: task graph, node, edge, key\n",
    "\n",
    "The Reporter is built around a **graph** of *nodes* and *edges*; specifically, a *directed, acyclic graph* (DAG).\n",
    "This is a simple and generic mathematical concept wherein:\n",
    "- Every edge has a direction; *from* one node *to* another.\n",
    "- There are no recursive loops in the graph; that is, no node is its own ancestor.\n",
    "\n",
    "In the Reporter's graph, every **node** represents some kind of **task**.\n",
    "These can include:\n",
    "\n",
    "- Numerical *calculation*.\n",
    "- Other *computations* like manipulating data formats, writing files, etc.\n",
    "- Simply collecting the outputs of 1 or more *other* nodes.\n",
    "\n",
    "The node is labeled with a unique name for the output, quantity, or effect it produces.\n",
    "We call this a **key**.\n",
    "\n",
    "The task represented by one node may depend on certain inputs that are outputs of other nodes.\n",
    "These output-to-input links are represented by the **edges** of the graph.\n",
    "\n",
    "### Example\n",
    "\n",
    "The following equation\n",
    "\n",
    "> $C = A + B$\n",
    "\n",
    "…can be represented as:\n",
    "- A node named \"A\" that outputs the raw value of A.\n",
    "- A node named \"B\" that outputs the raw value of B.\n",
    "- A node named \"C\" that computes a sum of its inputs.\n",
    "- An edge from \"A\" to \"C\", indicating that the value of A is an input to C.\n",
    "- An edge from \"B\" to \"C\".\n",
    "\n",
    "We use the Reporter to describe this equation (step 1 of the 2-step workflow):"
   ]
  },
  {
   "cell_type": "code",
   "execution_count": null,
   "metadata": {},
   "outputs": [],
   "source": [
    "from message_ix.report import Reporter\n",
    "\n",
    "# Create a new Reporter object\n",
    "rep = Reporter()\n",
    "\n",
    "# Add two nodes\n",
    "#\n",
    "# These have no inputs and don't execute any code.\n",
    "# They only return a literal value: integer 1 or 2\n",
    "rep.add(\"A\", 1)\n",
    "rep.add(\"B\", 2)\n",
    "\n",
    "\n",
    "def compute_sum(*inputs):\n",
    "    \"\"\"A function that adds 1 or more inputs together.\"\"\"\n",
    "    return sum(inputs)\n",
    "\n",
    "\n",
    "# Add one more node\n",
    "rep.add(\"C\", compute_sum, \"A\", \"B\")"
   ]
  },
  {
   "cell_type": "markdown",
   "metadata": {},
   "source": [
    "Here is a detailed explanation, in words, of what we just did:\n",
    "- We use the ``Reporter.add()`` method to build the graph.\n",
    "\n",
    "  (Remember: you can type ``Reporter.add?`` or ``rep.add?`` in a new cell to use Jupyter's help features;\n",
    "  or look at the documentation page linked above.)\n",
    "- The first argument to ``add()`` is the key (name) of the node.\n",
    "- The remaining arguments describe the computation to be performed:\n",
    "  - For nodes \"A\" and \"B\", these are simply the raw or literal value to be produced by the node.\n",
    "  - For node \"C\" there are 3 items: ``compute_sum, \"A\", \"B\"``.\n",
    "    Let's break that down further:\n",
    "    - The first item, ``compute_sum`` is a reference to a Python function that we have defined.\n",
    "    - The second item, `\"A\"` is a string.\n",
    "      This matches the key we already gave to another node in the graph.\n",
    "    - Likewise, the third item.\n",
    "\n",
    "At this point, we have given the Reporter a series of instructions like \"In order to compute 'C', first compute 'A' and 'B', then run the function ``compute_sum()`` on their values.\" But **we have not yet executed** any of these tasks.\n",
    "\n",
    "Let's do that now.\n",
    "We trigger the calculation of `\"C\"` (step 2 in the 2-step workflow),\n",
    "which gives the expected value:"
   ]
  },
  {
   "cell_type": "code",
   "execution_count": null,
   "metadata": {},
   "outputs": [],
   "source": [
    "rep.get(\"C\")"
   ]
  },
  {
   "cell_type": "markdown",
   "metadata": {},
   "source": [
    "We can use ``Reporter.describe()`` to see a text representation\n",
    "of the steps used in this calculation.\n",
    "The task graph is printed out as a hierarchical list:"
   ]
  },
  {
   "cell_type": "code",
   "execution_count": null,
   "metadata": {},
   "outputs": [],
   "source": [
    "print(rep.describe(\"C\"))"
   ]
  },
  {
   "cell_type": "markdown",
   "metadata": {},
   "source": [
    "This description shows how the Reporter traverses the graph in order to calculate the quantity we asked for:\n",
    "\n",
    "1. The desired value is from node \"C\".\n",
    "2. \"C\" is computed by running a function, specifically `compute_sum()`.\n",
    "3. The first argument to the function is \"A\".\n",
    "4. \"A\" is the name of another node.\n",
    "5. Node \"A\" gives a literal value `int(1)`, which the Reporter stores for later use.\n",
    "6. The Reporter returns to \"C\" and moves on to the next argument: \"B\".\n",
    "7. Steps (4) and (5) are repeated for \"B\", giving `int(2)`.\n",
    "8. All of the arguments to \"C\" have been processed.\n",
    "9. The function for \"C\" is called.\n",
    "\n",
    "   Instead of the (string) keys \"A\" and \"B\", this function is given the computed `int` values from steps (5) and (7) respectively.\n",
    "   In effect, the Reporter runs: ``compute_sum(1, 2)``.\n",
    "10. The result is returned.\n",
    "\n",
    "We can also use `rep.visualize()` to generate an image with a simplified version of `rep.describe()`.\n",
    "(This requires installing the ``graphviz`` package, so is not included in this tutorial.\n",
    "[See the documentation](https://genno.readthedocs.io/en/latest/api.html#genno.Computer.visualize).)\n",
    "\n",
    "![Visualization of A + B = C](westeros_report-C.svg)"
   ]
  },
  {
   "cell_type": "code",
   "execution_count": null,
   "metadata": {},
   "outputs": [],
   "source": [
    "# rep.visualize(key=\"C\", filename=\"westeros_report-C.svg\", rankdir=\"LR\")"
   ]
  },
  {
   "cell_type": "code",
   "execution_count": null,
   "metadata": {},
   "outputs": [],
   "source": [
    "# Store *rep* for the solutions at the bottom of the notebook\n",
    "rep1 = rep"
   ]
  },
  {
   "cell_type": "markdown",
   "metadata": {},
   "source": [
    "\n",
    "## From simple to complicated\n",
    "\n",
    "In this first example nodes \"A\" and \"B\" are, at most, 1 step away from the node we requested.\n",
    "The values each computes are used only once,\n",
    "and they run very quickly.\n",
    "\n",
    "In more realistic examples, the task graph can have:\n",
    "- Long chains of calculations, each depending on the output of its ancestors, and/or\n",
    "- Multiple connection, so that for instance the result of task \"A\" is used in 2 or more places.\n",
    "- Tasks that perform operations on lots of data, load large files, access a network, or are otherwise slow.\n",
    "\n",
    "However, the Reporter can still follow the same,\n",
    "simple procedure to traverse the graph and calculate the results."
   ]
  },
  {
   "cell_type": "markdown",
   "metadata": {},
   "source": [
    "### Exercise 1\n",
    "\n",
    "Add a node \"X\" to the graph that returns the literal value 42."
   ]
  },
  {
   "cell_type": "code",
   "execution_count": null,
   "metadata": {},
   "outputs": [],
   "source": [
    "# Add your code here"
   ]
  },
  {
   "cell_type": "markdown",
   "metadata": {},
   "source": [
    "After adding \"X\", what do you think will be the result when you run the following cell?\n",
    "Why?\n",
    "\n",
    "Write down your answer before trying the code.\n",
    "\n",
    "(Answers and code blocks that solve all exercises are listed at the bottom of the tutorial—don't peek!)"
   ]
  },
  {
   "cell_type": "code",
   "execution_count": null,
   "metadata": {},
   "outputs": [],
   "source": [
    "print(rep.describe(\"C\"))"
   ]
  },
  {
   "cell_type": "markdown",
   "metadata": {},
   "source": [
    "### Exercise 2\n",
    "Extend the Reporter to describe the following equation:\n",
    "\n",
    "> $E = A + D \\times \\frac{A}{A + B} = A + D \\times \\frac{A}{C}; \\qquad D = 12$"
   ]
  },
  {
   "cell_type": "code",
   "execution_count": null,
   "metadata": {},
   "outputs": [],
   "source": [
    "# Some helper functions you can use\n",
    "def product(a, b):\n",
    "    return a * b\n",
    "\n",
    "\n",
    "def ratio(a, b):\n",
    "    return a / b\n",
    "\n",
    "\n",
    "# Add your code here:"
   ]
  },
  {
   "attachments": {},
   "cell_type": "markdown",
   "metadata": {},
   "source": [
    "## Concepts: Quantities, Keys, and data formats\n",
    "\n",
    "In the last section, $A$, $B$, and so on were *scalar* variables with a single value.\n",
    "In energy systems modeling, including with MESSAGE*ix*, we usually deal with scientific **quantities** that have the following properties:\n",
    "\n",
    "1. They are **multi-dimensional**, with 1 or more *dimensions* and *labels* that identify *coordinates* along those dimensions such as specific time periods, technologies, etc.\n",
    "2. They are **sparse**: there is not necessarily a value for every possible combination of labels; and\n",
    "3. They have **units** of measurement associated, like \"exajoule\" or \"kilometre\",\n",
    "   that we want to preserve and keep consistent as we do calculations.\n",
    "\n",
    "Mathematically, we can say the following:\n",
    "\n",
    "$$\n",
    "\\begin{align}\n",
    "A_{ij} & = \\left[a_{i,j} \\right] \\\\\n",
    "i & \\in I = \\left\\{ i1, i2, i3, ... \\right\\} \\\\\n",
    "j & \\in J = \\left\\{ j1, j2, j3, ... \\right\\} \\\\\n",
    "a_{i,j} & \\in \\left\\{ \\mathbb{R}, \\mathrm{NaN} \\right\\} \\\\\n",
    "a_{i,j} & \\, [=]\\, \\mathrm{units\\ of\\ measurement\\ for\\ A}\n",
    "\\end{align}\n",
    "$$\n",
    "…where ‘NaN’ means “not a number,” i.e. a missing value.\n",
    "\n",
    "### Kinds of data\n",
    "\n",
    "In other MESSAGEix tutorials, we emphasized the distinction between…\n",
    "\n",
    "- **parameters** or “input data” that are fixed/exogenous to the core optimization model; and\n",
    "- **variables** that the optimizer can change in order to find the optimal model solution.\n",
    "  These are “output data” from the core.\n",
    "\n",
    "During the reporting phase of a modeling workflow,\n",
    "the optimal solution *has already been computed*.\n",
    "So this distinction is no longer crucial,\n",
    "and we often want to mix together parameter and variable data in our calculations\n",
    "—plus other “non-model data” from files and other places.\n",
    "Thus we use the term “quantity” for everything."
   ]
  },
  {
   "cell_type": "markdown",
   "metadata": {},
   "source": [
    "### Dimensionality of quantities\n",
    "\n",
    "Some of the quantities in the MESSAGE mathematical formulation have many dimensions.\n",
    "For some calculations, we may want to “get rid of” some of these dimensions,\n",
    "or handle them in specific ways.\n",
    "\n",
    "For instance, $\\mathrm{output}$ has ten dimensions: $\\mathrm{output}_{chh^Dn^Dn^Llmty^Vy^A}$.\n",
    "We might be interested in the total output in a given period ($y^A$),\n",
    "but not concerned about different vintages of a technology ($y^V$).\n",
    "In this case, we don't really want the 10-dimensional quantity\n",
    "—instead we want its **partial sum** over all values of $y^V$.\n",
    "\n",
    "**Notation.**\n",
    "Consider a quantity with three dimensions, $A_{ijk}$, and another with two, $B_{kl}$, and a scalar $C$.\n",
    "We define partial sums over every possible combination of dimensions:\n",
    "\n",
    "$$\n",
    "\\begin{align}\n",
    "A_{ij} & = \\left[ a_{i,j} \\right], \\quad\n",
    "  & a_{i,j} = \\sum_{k}{a_{i,j,k}} \\ \\forall \\ i, j\n",
    "  & \\quad\\mathrm{similarly } A_{ik}, A_{jk} \\\\\n",
    "A_{i} & = \\left[ a_i \\right], \\quad\n",
    "  & a_i = \\sum_j\\sum_{k}{a_{i,j,k}} \\ \\forall\\  i\n",
    "  & \\quad\\mathrm{similarly } A_j, A_k \\\\\n",
    "A & = \\sum_i\\sum_j\\sum_k{a_{i,j,k}}\n",
    "  & & \\mathrm{(a\\ scalar)}\n",
    "\\end{align}\n",
    "$$\n",
    "\n",
    "Note that $A$ and $B$ share one dimension, $k$, but the other dimensions are distinct.\n",
    "We specify that simple arithmetic operations result in a quantity whose dimensions are the union of the dimensions of the operands. In other words:\n",
    "\n",
    "$$\n",
    "\\begin{align}\n",
    "C + A_{i} = X_{i} = \\left[ x_{i} \\right],\n",
    "  & \\quad x_{i} = C + a_{i} \\ \\forall \\ i \\\\\n",
    "A_{jk} \\times B_{kl} = Y_{jkl} = \\left[ y_{j,k,l} \\right],\n",
    "  & \\quad y_{j,k,l} = a_{j,k} \\times b_{k,l} \\ \\forall \\ j, k, l \\\\\n",
    "A_{j} - B_{j} = Z_{j} = \\left[ z_{j} \\right],\n",
    "  & \\quad z_{j} = a_{j} - b_{j} \\ \\forall \\ j \\\\\n",
    "\\end{align}\n",
    "$$\n",
    "\n",
    "As a result of this rule:\n",
    "- The difference $Z_j$ has the same dimensionality as *both* of its operands.\n",
    "- The sum $X_i$ has the same dimensionality as *one* of its operands.\n",
    "- The product $Y_{jkl}$ has a *different* dimensonality from each of its operands.\n",
    "\n",
    "These operations are called **broadcasting** and **alignment**:\n",
    "- The scalar value $C$ is *broadcast* across all labels on the dimension $i$ that it lacks, in order to calculate $x_i$.\n",
    "- $A_{jk}$ and $B_{kl}$ are *aligned* on matching values of $k$, but *broadcast* over dimensions $j$ and $l$, respectively."
   ]
  },
  {
   "cell_type": "markdown",
   "metadata": {},
   "source": [
    "### Keys\n",
    "\n",
    "In the first code example, `\"C\"` was the node label or key that we used to refer to the output of a certain calculation—even before it was been computed.\n",
    "Likewise, the Python string `\"A\"` is a key.\n",
    "When computed, node `\"A\"` returns a Python `int(1)`—an object representing its actual *value*.\n",
    "\n",
    "In step 1 of the reporting workflow, tasks are described using *only* keys.\n",
    "No *values* are created until step 2—and *only* the values needed to provide the result of `Reporter.get()`.\n",
    "\n",
    "For multi-dimensional calculations, we need keys that distinguish $A_i$—the partial sum of $A_{ijk}$ used in the calculation of $X_i$—from $A_{jk}$—a *different* partial sum used in the calculation of $Y_{jkl}$.\n",
    "It is **not** sufficient to refer to both as `\"A\"`, since this is ambiguous about what calculation we want to perform.\n",
    "\n",
    "For this purpose we use the `Key` class provided by message_ix/ixmp/genno.\n",
    "\n",
    "A Key has a name, zero or more dimensions, and an optional tag:"
   ]
  },
  {
   "cell_type": "code",
   "execution_count": null,
   "metadata": {},
   "outputs": [],
   "source": [
    "from message_ix.report import Key\n",
    "\n",
    "# from ixmp.report import Key  # Same class\n",
    "# from genno import Key        # Same class\n",
    "\n",
    "# Quantity named \"A\" with 3 dimensions\n",
    "k1 = Key(\"A\", (\"i\", \"j\", \"k\"))\n",
    "\n",
    "k1"
   ]
  },
  {
   "cell_type": "markdown",
   "metadata": {},
   "source": [
    "The Key class allows many kinds of manipulations to get related keys.\n",
    "For example, we can drop one dimension from the key for $A_{ijk}$ to get the key referring to its partial sum $A_{ik}$:"
   ]
  },
  {
   "cell_type": "code",
   "execution_count": null,
   "metadata": {},
   "outputs": [],
   "source": [
    "# \"/\" operator = drop a dimension\n",
    "k1 / \"j\""
   ]
  },
  {
   "cell_type": "code",
   "execution_count": null,
   "metadata": {},
   "outputs": [],
   "source": [
    "k2 = Key(\"A:i-k\")  # Construct a Key from a string\n",
    "k2 == k1 / \"j\"  #    Compare Keys with one another"
   ]
  },
  {
   "cell_type": "markdown",
   "metadata": {},
   "source": [
    "### Quantity values\n",
    "\n",
    "To represent the **values** of quantities from a model or produced by reporting calculations, message_ix uses the `genno.Quantity` class.\n",
    "Quantity is derived from [`xarray.DataArray`](http://xarray.pydata.org/en/stable/data-structures.html#dataarray)—a labeled, multi-dimensional array, with attributes.\n",
    "\n",
    "The combination of Key and Quantity lets the Reporter (and you!) handle multi-dimensional data, while automatically handling alignment and broadcasting. "
   ]
  },
  {
   "cell_type": "markdown",
   "metadata": {},
   "source": [
    "## Automated reporting\n",
    "\n",
    "A `message_ix.Reporter` for a specific `Scenario` is created using the `.from_scenario()` method.\n",
    "This method automatically adds many nodes to the graph based on (a) the contents of the Scenario and (b) the well-defined mathematical formulation of MESSAGE.\n",
    "\n",
    "### Demonstration"
   ]
  },
  {
   "cell_type": "code",
   "execution_count": null,
   "metadata": {},
   "outputs": [],
   "source": [
    "from ixmp import Platform\n",
    "\n",
    "from message_ix.testing import make_westeros\n",
    "\n",
    "mp = Platform()\n",
    "scen = make_westeros(mp, emissions=True, solve=True)"
   ]
  },
  {
   "cell_type": "code",
   "execution_count": null,
   "metadata": {},
   "outputs": [],
   "source": [
    "from ixmp.report import configure\n",
    "\n",
    "# Create a reporter from the existing Scenario\n",
    "rep = Reporter.from_scenario(scen)\n",
    "\n",
    "# Reporter uses the Python package 'pint' to handle units. \"-\"\", used in the Westeros\n",
    "# tutorial, is not a defined SI unit. We tell the Reporter to replace it with \"\"\n",
    "# (dimensionless) everywhere it appears.\n",
    "configure(units={\"replace\": {\"-\": \"\"}})"
   ]
  },
  {
   "cell_type": "markdown",
   "metadata": {},
   "source": [
    "What is in this `rep` object that we've just created?"
   ]
  },
  {
   "cell_type": "code",
   "execution_count": null,
   "metadata": {
    "jupyter": {
     "name": "len-rep-graph"
    }
   },
   "outputs": [],
   "source": [
    "len(rep.graph)"
   ]
  },
  {
   "cell_type": "markdown",
   "metadata": {},
   "source": [
    "Over 16,000 nodes!\n",
    "\n",
    "Remember: `rep` simply *describes* these operations.\n",
    "None of them is executed until or unless you `get()` them.\n",
    "\n",
    "Let's look at some of the automatically populated content of the graph:"
   ]
  },
  {
   "cell_type": "code",
   "execution_count": null,
   "metadata": {},
   "outputs": [],
   "source": [
    "# Return the full-dimensionality Key for the MESSAGE parameter \"output\"\n",
    "output = rep.full_key(\"output\")\n",
    "output"
   ]
  },
  {
   "cell_type": "code",
   "execution_count": null,
   "metadata": {},
   "outputs": [],
   "source": [
    "# Return the full-dimensionality Key for the MESSAGE variable \"ACT\"\n",
    "ACT = rep.full_key(\"ACT\")\n",
    "ACT"
   ]
  },
  {
   "cell_type": "markdown",
   "metadata": {},
   "source": [
    "What would happen if we were to `get()` this key?"
   ]
  },
  {
   "cell_type": "code",
   "execution_count": null,
   "metadata": {},
   "outputs": [],
   "source": [
    "print(rep.describe(ACT))"
   ]
  },
  {
   "cell_type": "markdown",
   "metadata": {},
   "source": [
    "We can see:\n",
    "- The Reporter will call a function named `data_for_quantity()`.\n",
    "\n",
    "  This (and all built-in operators) are [described in the MESSAGEix documentation](https://docs.messageix.org/en/stable/reporting.html#ixmp.reporting.utils.data_for_quantity).\n",
    "- The function gets some direct arguments: `\"var\", \"ACT\", \"lvl\"`.\n",
    "\n",
    "  From the documentation, we can see this indicates the level (rather than marginal) of an ixmp `\"var\"`iable (rather than parameter) named `\"ACT\"`.\n",
    "- The next argument is ‘scenario’, another node in the graph.\n",
    "- This node gives a reference to the same Scenario object we passed to `Reporter.from_scenario()`.\n",
    "\n",
    "In short, if we `.get()` this key `ACT`,\n",
    "the Reporter will extract a 6-dimensional quantity from the Scenario object and return it.\n",
    "The other ~16,000 tasks will not be executed.\n",
    "\n",
    "Let's try:"
   ]
  },
  {
   "cell_type": "code",
   "execution_count": null,
   "metadata": {},
   "outputs": [],
   "source": [
    "rep.get(ACT)"
   ]
  },
  {
   "cell_type": "markdown",
   "metadata": {},
   "source": [
    "### More automated contents\n",
    "\n",
    "As mentioned, because `Reporter.from_scenario()` knows that `scen` follows the MESSAGE mathematical formulation, it can automatically fill the graph with tasks to derive quantities that we may want to work with.\n",
    "\n",
    "For example: the activity ($\\mathrm{ACT}$) for various technologies ($t$) has no units;\n",
    "these are not understood by GAMS or by ixmp.\n",
    "The amounts of specific commodities ($c$) produced by each $t$, **with** units, are given by the product:\n",
    "\n",
    "$$\\mathrm{ACT} \\times \\mathrm{output}$$\n",
    "\n",
    "The Reporter automatically prepares this calculation, with the name \"out\" (the documentation contains [the names for all automatic quantities](https://docs.messageix.org/en/latest/reporting.html#message_ix.reporting.Reporter.from_scenario)):"
   ]
  },
  {
   "cell_type": "code",
   "execution_count": null,
   "metadata": {},
   "outputs": [],
   "source": [
    "out = rep.full_key(\"out\")\n",
    "out"
   ]
  },
  {
   "cell_type": "code",
   "execution_count": null,
   "metadata": {},
   "outputs": [],
   "source": [
    "# Show what would be done\n",
    "print(rep.describe(out))"
   ]
  },
  {
   "cell_type": "code",
   "execution_count": null,
   "metadata": {},
   "outputs": [],
   "source": [
    "rep.get(out)"
   ]
  },
  {
   "cell_type": "markdown",
   "metadata": {},
   "source": [
    "### Automatic partial sums\n",
    "\n",
    "In this example, some dimensions like mode ($m$), time ($h$) and time_dest ($h^D$) don't contain useful information: they have the same label for every value.\n",
    "We also have a single-region model, so we don't need node_loc ($n^L$) or node_dest ($n^D$) either.\n",
    "We can instead ask for a partial sum.\n",
    "\n",
    "**Exercise:** review the notation above and satisfy yourself that for $A_{ijk}$, where $i \\in I$ and $\\|I\\| = 1$—that is, when there is only one label along the dimension $I$—then $a_{j,k} = a_{i,j,k} \\,\\forall\\, j, k$. That is, a partial sum over dimension $i$ is the same as ‘dropping’ the dimension $i$.\n",
    "\n",
    "`Key.drop()` lets us derive its key from the one we already have.\n",
    "This doesn't perform any calculation; simply returns a new Key with fewer dimensions:"
   ]
  },
  {
   "cell_type": "code",
   "execution_count": null,
   "metadata": {},
   "outputs": [],
   "source": [
    "out2 = out.drop(\"h\", \"hd\", \"m\", \"nd\", \"nl\")\n",
    "\n",
    "# out2 = out / (\"h\", \"hd\", \"m\", \"nd\", \"nl\")  # Same result\n",
    "# out2 = out / Key(\"_:h-hd-m-nd-nl\")         # Same result\n",
    "\n",
    "out2"
   ]
  },
  {
   "cell_type": "markdown",
   "metadata": {},
   "source": [
    "This partial sum is *also* already described in the Reporter:"
   ]
  },
  {
   "cell_type": "code",
   "execution_count": null,
   "metadata": {},
   "outputs": [],
   "source": [
    "print(rep.describe(out2))"
   ]
  },
  {
   "cell_type": "code",
   "execution_count": null,
   "metadata": {},
   "outputs": [],
   "source": [
    "rep.get(out2)"
   ]
  },
  {
   "cell_type": "markdown",
   "metadata": {},
   "source": [
    "### File output\n",
    "\n",
    "As noted above, the labeled, multi-dimensional Quantity is used so that values passing between reporting calculations are in a consistent, easy-to-manipulate format.\n",
    "\n",
    "For research purposes, we often want to transform data into other, particular formats or write it to file, in order to feed it into other tools such as existing analysis or plotting codes; both our own, and collaborators'. Reporter provides multiple ways to do this.\n",
    "\n",
    "For instance, we can `get()` a Quantity and write it directly to a file in a single step:"
   ]
  },
  {
   "cell_type": "code",
   "execution_count": null,
   "metadata": {},
   "outputs": [],
   "source": [
    "rep.write(out2, \"output.csv\")"
   ]
  },
  {
   "cell_type": "markdown",
   "metadata": {},
   "source": [
    "The file appears in the same directory where we started the Jupyter notebook.\n",
    "\n",
    "**Exercise:** Try using an .xlsx file name in the above.\n",
    "\n",
    "We can also define a conversion to a different data format.\n",
    "This is described in the next section.\n",
    "\n",
    "## Describing additional computations\n",
    "\n",
    "The previous section showed how to find and retrieve the results of computations for tasks automatically added by `Reporter.from_scenario()`.\n",
    "Reporter also provides many helper methods to describe **additional** computations in step 1 of the workflow.\n",
    "\n",
    "After using these methods, we can continue to describe further calculations using them as input (step 1); or we can `get()` them (step 2).\n",
    "\n",
    "### Converting to IAMC data structure\n",
    "\n",
    "Here, we'll use built-in operator [`as_pyam`](https://genno.readthedocs.io/en/latest/compat-pyam.html#genno.compat.pyam.operator.as_pyam).\n",
    "\n",
    "This converts data from a Quantity object to the `pyam.IamDataFrame` class from the [`pyam`](https://pyam-iamc.readthedocs.io) package.\n",
    "`pyam` is built around the [data file format](https://data.ene.iiasa.ac.at/database/) used by the [Integrated Assessment Modeling Consortium](http://www.globalchange.umd.edu/iamc/) (IAMC), and offers plotting and further calculation features."
   ]
  },
  {
   "cell_type": "code",
   "execution_count": null,
   "metadata": {},
   "outputs": [],
   "source": [
    "def format_variable(df):\n",
    "    \"\"\"Callback function to construct a label for the IAMC \"variable\" column.\n",
    "\n",
    "    The IAMC format does not support \"level\", \"technology\", or \"commodity\" dimensions,\n",
    "    so we prepare a label like \"final energy|technology name|commodity name\".\n",
    "    \"\"\"\n",
    "    df[\"variable\"] = df[\"l\"] + \" energy|\" + df[\"t\"] + \"|\" + df[\"c\"]\n",
    "    return df.drop([\"c\", \"l\", \"t\"], axis=1)\n",
    "\n",
    "\n",
    "# Add a node that converts data to a pyam.IamDataFrame object\n",
    "# - Give the quantity to convert: out, with partial sum across some dimensions.\n",
    "# - Use the MESSAGE \"node_loc\" dimension for the IAMC \"region\" dimension.\n",
    "# - Use the MESSAGE \"year_act\" dimension for the IAMC \"year\" dimension.\n",
    "# - Use format_variable() to collapse \"l\"/\"t\"/\"c\" into the IAMC \"variable\" dimension.\n",
    "new_key = rep.add(\n",
    "    \"as_pyam\",\n",
    "    out / (\"h\", \"hd\", \"m\", \"nd\", \"yv\"),\n",
    "    rename=dict(nl=\"region\", ya=\"year\"),\n",
    "    collapse=format_variable,\n",
    ")\n",
    "\n",
    "new_key"
   ]
  },
  {
   "cell_type": "markdown",
   "metadata": {},
   "source": [
    "Note that nothing was computed: we're still in step 1 of the reporting workflow!\n",
    "\n",
    "However, the method *did* return a new key for the node added to the graph.\n",
    "This key has the **tag** `'iamc'` added at the end.\n",
    "\n",
    "We describe the added computation, then execute it to get a `pyam.IamDataFrame`:"
   ]
  },
  {
   "cell_type": "code",
   "execution_count": null,
   "metadata": {},
   "outputs": [],
   "source": [
    "print(rep.describe(new_key))"
   ]
  },
  {
   "cell_type": "code",
   "execution_count": null,
   "metadata": {},
   "outputs": [],
   "source": [
    "iamc_df = rep.get(new_key)\n",
    "iamc_df"
   ]
  },
  {
   "cell_type": "markdown",
   "metadata": {},
   "source": [
    "(Note that, unlike a pandas.DataFrame, the contents of a pyam.IamDataFrame are not displayed by default.)\n",
    "\n",
    "After we have retrieved the `pyam` object, we can use its built-in methods to filter and plot the data:"
   ]
  },
  {
   "cell_type": "code",
   "execution_count": null,
   "metadata": {},
   "outputs": [],
   "source": [
    "%matplotlib inline\n",
    "\n",
    "(\n",
    "    iamc_df.filter(\n",
    "        model=\"Westeros Electrified\", scenario=\"baseline\", region=\"Westeros\"\n",
    "    ).plot()\n",
    ")"
   ]
  },
  {
   "cell_type": "markdown",
   "metadata": {},
   "source": [
    "### Custom computations\n",
    "\n",
    "Thus far we've described reporting calculations using simple, atomic operators,\n",
    "including those automatically added by `Reporter.from_scenario()`.\n",
    "\n",
    "However—just as in the first, introductory example—operators are merely Python functions.\n",
    "This means they can be **any function**—no matter how complex!\n",
    "Thus, it is easy to connect any existing analysis codes into the graph.\n",
    "\n",
    "To demonstrate this, we add several nodes, each using a custom function.\n",
    "- `as_tidy_data()` operates on the internal Quantity value to coerce it into a `pandas.DataFrame` in a specific format.\n",
    "- `my_plot()` uses a different Python plotting package named [`plotnine`](https://plotnine.readthedocs.io) that implements a “grammar of graphics,” similar to R's `ggplot` package. It returns a plot object without drawing it.\n",
    "- `save_plot()` saves the plot to file.\n",
    "- `show_plot()` shows the plot directly in this notebook.\n",
    "\n",
    "Finally, we define a node `\"do both\"` whose task is simply a Python list of other keys.\n",
    "This form of task means “compute each of the nodes, and return their outputs in a list.”"
   ]
  },
  {
   "cell_type": "code",
   "execution_count": null,
   "metadata": {},
   "outputs": [],
   "source": [
    "import pandas as pd\n",
    "import plotnine as p9\n",
    "\n",
    "from message_ix.report import Quantity\n",
    "\n",
    "\n",
    "def as_tidy_data(qty: Quantity) -> pd.DataFrame:\n",
    "    \"\"\"Convert `qty` to a tidy data frame, as expected by plotnine.\"\"\"\n",
    "    return qty.to_series().rename(\"value\").reset_index()\n",
    "\n",
    "\n",
    "def my_plot(data: pd.DataFrame):\n",
    "    \"\"\"Computation that returns a plotnine plot object.\"\"\"\n",
    "    # 'Aes'thetic mappings between column names and parts of the plot\n",
    "    aes = p9.aes(x=\"ya\", y=\"value\", color=\"t + ' ' + c\", shape=\"l\")\n",
    "\n",
    "    # Set up the plot but don't draw it\n",
    "    plot = (\n",
    "        p9.ggplot(data, aes)  # Create the plot\n",
    "        + p9.geom_line()  # Add a line\n",
    "        + p9.geom_point()  # Add points\n",
    "        + p9.labs(  # Label axes & legend\n",
    "            x=\"Year\",\n",
    "            y=\"Energy output\",\n",
    "            color=\"Tech & commodity\",\n",
    "            shape=\"Level\",\n",
    "        )\n",
    "    )\n",
    "\n",
    "    print(\"my_plot() runs only once\")\n",
    "    return plot\n",
    "\n",
    "\n",
    "def save_plot(obj) -> str:\n",
    "    obj.save(\"westeros_report.pdf\", verbose=False)\n",
    "    return \"Saved to westeros_report.pdf\"\n",
    "\n",
    "\n",
    "def show_plot(obj) -> str:\n",
    "    obj.show()\n",
    "    return \"Drawn in notebook\"\n",
    "\n",
    "\n",
    "# Add nodes to the graph\n",
    "rep.add(\"tidy\", as_tidy_data, out2 / \"yv\")\n",
    "rep.add(\"plot\", my_plot, \"tidy\")\n",
    "rep.add(\"save\", save_plot, \"plot\")\n",
    "rep.add(\"show\", show_plot, \"plot\")\n",
    "rep.add(\"do both\", [\"save\", \"show\"])"
   ]
  },
  {
   "cell_type": "code",
   "execution_count": null,
   "metadata": {},
   "outputs": [],
   "source": [
    "print(rep.describe(\"do both\"))\n",
    "\n",
    "# With Graphviz installed\n",
    "# rep.visualize(key=\"do both\", filename=\"westeros_report-do-both.svg\")"
   ]
  },
  {
   "cell_type": "markdown",
   "metadata": {},
   "source": [
    "![Visualization of \"do both\"](westeros_report-do-both.svg)\n",
    "\n",
    "Note that Reporter will avoid calling `my_plot()` repeatedly.\n",
    "Instead, it will be called just once, and the resulting object is stored.\n",
    "When the `\"save\"` and `\"show\"` nodes are executed,\n",
    "the *same* object is passed to each of `save_plot()` and `show_plot()` in turn."
   ]
  },
  {
   "cell_type": "code",
   "execution_count": null,
   "metadata": {},
   "outputs": [],
   "source": [
    "rep.get(\"do both\")"
   ]
  },
  {
   "cell_type": "markdown",
   "metadata": {},
   "source": [
    "In a real-world reporting workflow,\n",
    "a key like `\"do both\"` could refer to **many** plots.\n",
    "The Reporter would compute all the data necessary for these plots, generate them, and save them, all on a single `Reporter.get()` call.\n",
    "\n",
    "## Wrapping up\n",
    "\n",
    "`message_ix`, ixmp, and genno offer many other reporting features not covered by this tutorial.\n",
    "\n",
    "See the [`message-ix` reporting documentation](https://docs.messageix.org/en/stable/reporting.html) to learn how to:\n",
    "- Add exogenous (non-model) data to be used in other calculations, with `Reporter.add_file()`.\n",
    "- Use a function to add many nodes at once, with `Reporter.apply()`.\n",
    "\n",
    "You can also read documentation for other packages:\n",
    "- [`genno`](https://genno.readthedocs.io/en/stable/) that provides the core features underlying `message_ix.Reporter`.\n",
    "- [`message-ix-models`](https://docs.messageix.org/projects/models/en/stable/api/report/index.html) that:\n",
    "  - builds on `message_ix.report` to provide additional features tailored to the MESSAGEix-GLOBIOM model family and IIASA ECE Program research workflows.\n",
    "  - Applies these for model variants like MESSAGEix-Transport.\n",
    "  - Uses `genno.Computer` also for preparation of model *input* data.\n",
    "\n",
    "We would greatly appreciate:\n",
    "- Reports of your experience using the reporting features in your work, and\n",
    "- Issues and pull requests to extend the feature set."
   ]
  },
  {
   "cell_type": "markdown",
   "metadata": {},
   "source": [
    "## Solutions to exercises\n",
    "\n",
    "### Exercise 1\n",
    "\n",
    "The result does not change, because \"X\" is not needed to calculate \"C\".\n",
    "\n",
    "### Exercise 2\n",
    "\n",
    "One solution involves adding some intermediate nodes—call them \"foo1\" and \"foo2\":"
   ]
  },
  {
   "cell_type": "code",
   "execution_count": null,
   "metadata": {},
   "outputs": [],
   "source": [
    "# Restore the saved value rep1\n",
    "rep = rep1\n",
    "\n",
    "rep.add(\"D\", 12)\n",
    "rep.add(\"foo1\", (ratio, \"A\", \"C\"))\n",
    "rep.add(\"foo2\", (product, \"D\", \"foo1\"))\n",
    "rep.add(\"E\", (compute_sum, \"A\", \"foo2\"))\n",
    "print(rep.describe(\"E\"))\n",
    "\n",
    "rep.get(\"E\")"
   ]
  },
  {
   "cell_type": "markdown",
   "metadata": {},
   "source": [
    "Another solution is to define a new anonymous function that computes \"E\" in a single step:"
   ]
  },
  {
   "cell_type": "code",
   "execution_count": null,
   "metadata": {},
   "outputs": [],
   "source": [
    "rep.add(\"D\", 12)\n",
    "rep.add(\"E\", (lambda a, c, d: a + d * (a / c), \"A\", \"C\", \"D\"))\n",
    "print(rep.describe(\"E\"))\n",
    "\n",
    "rep.get(\"E\")"
   ]
  },
  {
   "cell_type": "code",
   "execution_count": null,
   "metadata": {},
   "outputs": [],
   "source": [
    "mp.close_db()"
   ]
  }
 ],
 "metadata": {
  "kernelspec": {
   "display_name": "Python 3 (ipykernel)",
   "language": "python",
   "name": "python3"
  },
  "language_info": {
   "codemirror_mode": {
    "name": "ipython",
    "version": 3
   },
   "file_extension": ".py",
   "mimetype": "text/x-python",
   "name": "python",
   "nbconvert_exporter": "python",
   "pygments_lexer": "ipython3",
   "version": "3.13.3"
  }
 },
 "nbformat": 4,
 "nbformat_minor": 4
}
