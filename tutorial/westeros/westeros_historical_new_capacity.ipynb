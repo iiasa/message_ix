{
 "cells": [
  {
   "cell_type": "markdown",
   "metadata": {},
   "source": [
    "# Westeros Tutorial - Introducing `\"historical_new_capacity\"`"
   ]
  },
  {
   "cell_type": "markdown",
   "metadata": {},
   "source": [
    "## Scope of this tutorial\n",
    "\n",
    "This tutorial takes a closer look at the parameter [`\"historical_new_capacity\"`](https://docs.messageix.org/en/stable/model/MESSAGE/parameter_def.html?highlight=historical_new_capacity#historical-capacity-and-activity-values).\n",
    "We will take a look at how MESSAGEix defines historical periods, and how to apply and parametrize one of the historical parameters, `\"historical_new_capacity\"`.\n",
    "We will further investigate the concept of early retirement i.e. the retirement of a powerplant before it reaches the end of its lifetime.\n",
    "\n",
    "\n",
    "**Pre-requisites**\n",
    "- You have the *MESSAGEix* framework installed and working\n",
    "- You have run Westeros baseline scenario (`westeros_baseline.ipynb`) and solved it successfully\n",
    "\n",
    "In the first part of the tutorial, we will load and subsequently clone the Westeros baseline scenario.\n",
    "The new scenario will be simplified in order to demonstrate how to parametrize `\"historical_new_capacity\"` for `\"coal_ppl\"`.\n",
    "In the second part, we will then add a cheaper electricity generation technology, `\"gas_ppl\"`, as shown in the figure below.  The `\"gas_ppl\"` will  demonstrate the early retirement of `\"coal_ppl\"`.\n",
    "Lastly, we will look at how to circumvent early retirement for a specific technology, should this be undesired.\n",
    "\n",
    "<img src='_static/historical_new_capacity_res.png'>"
   ]
  },
  {
   "cell_type": "markdown",
   "metadata": {
    "slideshow": {
     "slide_type": "slide"
    }
   },
   "source": [
    "As in the \"original\" tutorial, we start by importing all the packages we need."
   ]
  },
  {
   "cell_type": "code",
   "execution_count": null,
   "metadata": {
    "slideshow": {
     "slide_type": "fragment"
    }
   },
   "outputs": [],
   "source": [
    "import pandas as pd\n",
    "import ixmp\n",
    "import message_ix\n",
    "\n",
    "from message_ix.utils import make_df\n",
    "\n",
    "%matplotlib inline"
   ]
  },
  {
   "cell_type": "code",
   "execution_count": null,
   "metadata": {},
   "outputs": [],
   "source": [
    "# Loading Modeling platform\n",
    "mp = ixmp.Platform()"
   ]
  },
  {
   "cell_type": "markdown",
   "metadata": {
    "slideshow": {
     "slide_type": "slide"
    }
   },
   "source": [
    "## Load and clone Westeros baseline scenario"
   ]
  },
  {
   "cell_type": "code",
   "execution_count": null,
   "metadata": {
    "slideshow": {
     "slide_type": "fragment"
    }
   },
   "outputs": [],
   "source": [
    "base = message_ix.Scenario(mp, model=\"Westeros Electrified\", scenario=\"baseline\")\n",
    "scenario = base.clone(\n",
    "    model=\"Westeros Electrified\",\n",
    "    scenario=\"baseline_historic_new_capacity\",\n",
    "    keep_solution=False,\n",
    ")"
   ]
  },
  {
   "cell_type": "markdown",
   "metadata": {},
   "source": [
    "## Define generic parameters required for the example"
   ]
  },
  {
   "cell_type": "code",
   "execution_count": null,
   "metadata": {},
   "outputs": [],
   "source": [
    "country = \"Westeros\"\n",
    "model_horizon = [700, 710, 720]"
   ]
  },
  {
   "attachments": {},
   "cell_type": "markdown",
   "metadata": {},
   "source": [
    "<div class=\"alert alert-block alert-success\">\n",
    "\n",
    "### A quick look at historical parameters and their purpose\n",
    "\"Historical parameters\" can only be set for \"historical time-periods\".\n",
    "The \"historical time-periods\" are all the years which have been defined prior to the `firstmodelyear`.\n",
    "These can be used for two purposes.\n",
    "\n",
    "1. For **calibration of the model**: The `firstmodelyear` is used to specify as of which time-period the \"optimization\" should be carried out.\n",
    "There will be some past dependencies though, such as technology investments, their activity or emissions amongst others.\n",
    "In order to account for these dependencies, we can use the parameters `\"historical_new_capacity\"`, `\"historical_capacity\"` and `\"historical_emissions\"` respectively.\n",
    "These will have implications on dynamic constraints on capacities or activity.\n",
    "In the case of emissions, `\"historical_emissions\"` can be accounted for in cumulative emission bounds.\n",
    "2. The second application is when running **complex scenario setups**.\n",
    "If for example the aim is to assess climate mitigation efforts based on achieving the NDCs in 2030, then two scenarios can be run.\n",
    "Scenario a) implements \"only\" the NDCs related policies up to 2030 (see dashed orange line *\\\"NDC\\\"* in the panel a. of the figure below).\n",
    "After 2030, there is no continuation of policies assumed, hence the model will return to a \"baseline\" trajectory (see solid blue line *\\\"Baseline\\\"* in the panel a. of the figure below).\n",
    "This scenario will then serve as a basis for further analysis - e.g. scenario b) (see red dashed line *\\\"NDC-mitigation\\\"* in panel b. in the figure below).\n",
    "In order to avoid an \"overachievement\" of the NDCs, the time-periods until 2030 should be *fixed*.\n",
    "The historical time-periods (see the extension of the grey block in panel b. in the figure below) are therefore shifted.\n",
    "This can be done in the process of cloning the NDC scenario for use with mitigation runs.\n",
    "In the process of [cloning](https://docs.messageix.org/en/stable/api.html?highlight=clone#message_ix.Scenario.clone) a scenario, the argument `shift_first_model_year=<year>` with the corresponding time-period can be passed.\n",
    "In the process of cloning the scenario, for the example below, all time-periods prior to 2035 will be set to \"historical\" time-periods and its solutions will be transferred to historical_activity and `\"historical_new_capacity\"`. So the results (\"VAR\" - solved variables e.g. the activity-level) for those years will be added to the corresponding \"historical\" parameters.\n",
    "    \n",
    "<img src='_static/historical_new_capacity_use_in_scenarios.png' width='600'>"
   ]
  },
  {
   "cell_type": "markdown",
   "metadata": {},
   "source": [
    "### Historical time-periods in our scenario"
   ]
  },
  {
   "cell_type": "code",
   "execution_count": null,
   "metadata": {
    "slideshow": {
     "slide_type": "fragment"
    }
   },
   "outputs": [],
   "source": [
    "years = scenario.set(\"year\").tolist()\n",
    "\n",
    "print(f\"The model years include: {years}\")\n",
    "print(f\"the `firstmodelyear` is {scenario.firstmodelyear}\")\n",
    "\n",
    "# Retrieve historic time-steps\n",
    "history = [y for y in years if y < scenario.firstmodelyear]"
   ]
  },
  {
   "attachments": {},
   "cell_type": "markdown",
   "metadata": {},
   "source": [
    "## Part 1.: Parametrizing `\"historical_new_capacity\"`\n",
    "We are going to undertake a few simplications of the baseline scenario to demonstrate how to set the parameter `\"historical_new_capacity\"`.\n",
    "\n",
    "- Step 1.1: Scenario simplifications.\n",
    "  - We will reduce the example to a single technology, by removing `\"wind_ppl\"`\n",
    "  - We will change the `\"demand\"` to remain constant\n",
    "- Step 1.2: Scenario adjustments to account for simplifications.\n",
    "  - We will remove the growth constraint for `\"coal_ppl\"`\n",
    "  - We will reparametrize `\"historical_new_capacity\"` so that `\"coal_ppl\"` can meet demand in the `firstmodelyear`\n",
    "  - We will adjust the technical lifetime of `\"coal_ppl\"`"
   ]
  },
  {
   "cell_type": "markdown",
   "metadata": {},
   "source": [
    "### Step 1.1.: Scenario simplifications"
   ]
  },
  {
   "attachments": {},
   "cell_type": "markdown",
   "metadata": {},
   "source": [
    "#### Remove `\"wind_ppl\"`\n",
    "First, we are going to remove the technology `\"wind_ppl\"`.\n",
    "Later on in the tutorial we are instead going to add a more efficient gas power plant.\n",
    "We do this because we want to introduce a technology which will result in the early retirement of the current `\"coal_ppl\"`."
   ]
  },
  {
   "cell_type": "code",
   "execution_count": null,
   "metadata": {},
   "outputs": [],
   "source": [
    "scenario.check_out()\n",
    "scenario.remove_set(\"technology\", \"wind_ppl\")"
   ]
  },
  {
   "cell_type": "markdown",
   "metadata": {},
   "source": [
    "#### Adjust `\"demand\"`"
   ]
  },
  {
   "attachments": {},
   "cell_type": "markdown",
   "metadata": {},
   "source": [
    "Next we will modify the demand to remain constant, hence to avoid the requirement in the optimization time-period to build any new capacity."
   ]
  },
  {
   "cell_type": "code",
   "execution_count": null,
   "metadata": {},
   "outputs": [],
   "source": [
    "df = scenario.par(\"demand\")\n",
    "df[\"value\"] = float(df[df[\"year\"] == 700][\"value\"])\n",
    "scenario.add_par(\"demand\", df)\n",
    "df"
   ]
  },
  {
   "cell_type": "markdown",
   "metadata": {},
   "source": [
    "### Step 1.2: Adjust `\"coal_ppl\"`"
   ]
  },
  {
   "attachments": {},
   "cell_type": "markdown",
   "metadata": {},
   "source": [
    "#### Remove dynamic growth constraints\n",
    "Now, we will remove the growth constraint on the current `\"coal_ppl\"`."
   ]
  },
  {
   "cell_type": "code",
   "execution_count": null,
   "metadata": {},
   "outputs": [],
   "source": [
    "df = scenario.par(\"growth_activity_up\", filters={\"technology\": \"coal_ppl\"})\n",
    "scenario.remove_par(\"growth_activity_up\", df)"
   ]
  },
  {
   "attachments": {},
   "cell_type": "markdown",
   "metadata": {},
   "source": [
    "#### Reparametrize `\"historical_new_capacity\"`\n",
    "Now, the `\"historical_new_capacity\"` parameter of `\"coal_ppl\"` will be adjusted so that sufficient capacity is installed in 690, to meet the demand in the `firstmodelyear`.\n",
    "\n",
    "- Retrieve demand of `firstmodelyear`\n",
    "- Account for grid losses. As both the `\"capacity_factor\"` and efficicency for `\"coal_ppl\"` are one, these need not be accounted for\n",
    "- Account for duration of the time-period, as the parameter `\"historical_new_capacity\"` is an annual value"
   ]
  },
  {
   "cell_type": "code",
   "execution_count": null,
   "metadata": {},
   "outputs": [],
   "source": [
    "# We assume demand is constant.\n",
    "# We will hence start by retrieving the demand in the `firstmodelyear`,\n",
    "# and assume this also applies for historic time-periods.\n",
    "demand_of_firstmodelyear = float(\n",
    "    scenario.par(\"demand\", filters={\"year\": scenario.firstmodelyear})[\"value\"]\n",
    ")\n",
    "print(f\"The demand of the `firstmodelyear` is {demand_of_firstmodelyear} GWa.\")"
   ]
  },
  {
   "cell_type": "code",
   "execution_count": null,
   "metadata": {},
   "outputs": [],
   "source": [
    "# We know that there are losses that occur when electricity is transmitted via the `grid`.\n",
    "grid_eff = float(\n",
    "    scenario.par(\n",
    "        \"output\",\n",
    "        filters={\n",
    "            \"year_vtg\": scenario.firstmodelyear,\n",
    "            \"year_act\": scenario.firstmodelyear,\n",
    "            \"technology\": \"grid\",\n",
    "        },\n",
    "    )[\"value\"]\n",
    ")\n",
    "print(f\"Grid efficiency is {grid_eff}.\")\n",
    "demand_of_firstmodelyear /= grid_eff"
   ]
  },
  {
   "cell_type": "code",
   "execution_count": null,
   "metadata": {},
   "outputs": [],
   "source": [
    "duration_period = float(\n",
    "    scenario.par(\"duration_period\", filters={\"year\": history})[\"value\"]\n",
    ")\n",
    "print(f\"The duration of the period is {duration_period} years.\")\n",
    "historical_new_capacity = demand_of_firstmodelyear / duration_period"
   ]
  },
  {
   "cell_type": "markdown",
   "metadata": {},
   "source": [
    "Each year within the historical 10 year period, a 11.11 GW `\"coal_ppl\"` must be added to meet the demand of the `firstmodelyear`. Therefore, the value of `\"historical_new_capacity\"` is calculated to `\"historical_new_capacity\" = demand_of_firstmodelyear / \"duration_period\"`."
   ]
  },
  {
   "cell_type": "code",
   "execution_count": null,
   "metadata": {},
   "outputs": [],
   "source": [
    "df = make_df(\n",
    "    \"historical_new_capacity\",\n",
    "    node_loc=country,\n",
    "    year_vtg=history,\n",
    "    unit=\"GWa\",\n",
    "    technology=\"coal_ppl\",\n",
    "    value=historical_new_capacity,\n",
    ")\n",
    "print(\n",
    "    f\"The `'historical_new_capacity'` for `coal_ppl` is set to {round(historical_new_capacity, 2)}\"\n",
    ")\n",
    "scenario.add_par(\"historical_new_capacity\", df)"
   ]
  },
  {
   "cell_type": "markdown",
   "metadata": {},
   "source": [
    "#### Adjust technical lifetime\n",
    "We need to ensure the parameter is also defined for historical vintages."
   ]
  },
  {
   "cell_type": "code",
   "execution_count": null,
   "metadata": {},
   "outputs": [],
   "source": [
    "df = scenario.par(\n",
    "    \"technical_lifetime\",\n",
    "    filters={\"technology\": \"coal_ppl\", \"year_vtg\": scenario.firstmodelyear},\n",
    ")\n",
    "df[\"year_vtg\"] = history[0]\n",
    "scenario.add_par(\"technical_lifetime\", df)"
   ]
  },
  {
   "cell_type": "markdown",
   "metadata": {
    "slideshow": {
     "slide_type": "slide"
    }
   },
   "source": [
    "## Time to Solve the Model"
   ]
  },
  {
   "cell_type": "code",
   "execution_count": null,
   "metadata": {},
   "outputs": [],
   "source": [
    "scenario.commit(\"Adjusted baseline to demonstrate parameter `historical_new_capacity`\")\n",
    "scenario.set_as_default()\n",
    "scenario.solve()"
   ]
  },
  {
   "cell_type": "markdown",
   "metadata": {
    "slideshow": {
     "slide_type": "slide"
    }
   },
   "source": [
    "## Plotting Results"
   ]
  },
  {
   "cell_type": "code",
   "execution_count": null,
   "metadata": {
    "slideshow": {
     "slide_type": "fragment"
    }
   },
   "outputs": [],
   "source": [
    "from message_ix.reporting import Reporter\n",
    "from message_ix.util.tutorial import prepare_plots\n",
    "\n",
    "rep = Reporter.from_scenario(scenario)\n",
    "prepare_plots(rep)"
   ]
  },
  {
   "cell_type": "markdown",
   "metadata": {
    "slideshow": {
     "slide_type": "slide"
    }
   },
   "source": [
    "### Capacity"
   ]
  },
  {
   "cell_type": "code",
   "execution_count": null,
   "metadata": {
    "slideshow": {
     "slide_type": "fragment"
    }
   },
   "outputs": [],
   "source": [
    "rep.set_filters(t=[\"coal_ppl\"])\n",
    "rep.get(\"plot capacity\")"
   ]
  },
  {
   "cell_type": "markdown",
   "metadata": {},
   "source": [
    "For the optimization time-periods, we can see from the above figure that `\"coal_ppl\"` capacity remains constant."
   ]
  },
  {
   "attachments": {},
   "cell_type": "markdown",
   "metadata": {},
   "source": [
    "<div class=\"alert alert-block alert-success\">\n",
    "    \n",
    "**New capacity installations vs. Total installed capacity**\n",
    "\n",
    "In the figure below we have illustrated the correlation between new capacity installations (left hand side) and total installed capacity.\n",
    "The corresponding scenario results can be retrieved executing `scenario.var(\"CAP_NEW\")` and `scenario.var(\"CAP\")`, respectively.\n",
    "\n",
    "As can be seen in the left hand panel, new capacity is installed at two points in time.\n",
    "The first occurs in a *historical* time-period, in the year 690.\n",
    "The investment costs for these capacities lie outside the optimization time-frame.\n",
    "Therefore these do not contribute to the objective function.\n",
    "The power plant in our example has a `\"technical_lifetime\"` of 20 years.\n",
    "The capacity installed in 690 will therefore need to be replaced in 710.\n",
    "The investment costs for this capacity addition is therefore accounted for in 710.\n",
    "    \n",
    "In the righthand panel, we can see the corresponding total installed capacity.\n",
    "The `\"duration_period\"` of the time-steps in our example is always 10 years.\n",
    "In order to determine the total installed capacity, we can multiply the new installed capacity, which is an annual value, by 10. \n",
    "    \n",
    "<img src='_static/historical_new_capacity_and_total_installed_capacity.png' width='800'>\n",
    "    \n",
    "**NOTE: if the technical lifetime is such that it covers a time-period only partially, then the total installed capacity shown in the variable \"CAP\", will only reflect the number of years covered.**"
   ]
  },
  {
   "attachments": {},
   "cell_type": "markdown",
   "metadata": {},
   "source": [
    "## Part 2.: Exploring early retirement\n",
    "In order to demonstrate early retirement of technologies, we are going to add a new, cheaper electricity generation technology.\n",
    "We will then look at what parameters can be used to *force* the model to use *non-economical* technology options.\n",
    "\n",
    "- Step 2.1: Add technology `\"gas_ppl\"`\n",
    "  - We will add the technology `\"gas_ppl\"` to the set `\"technology\"`\n",
    "  - We will add the parameters `\"output\"`, `\"capacity_factor\"`, `\"technical_lifetime\"`, `\"inv_cost\"` and `\"var_cost\"` (the parameters are listed in the table below)\n",
    "\n",
    "| Parameter  | coal_ppl | gas_ppl |\n",
    "| :--------- | :--------- | :-------- |\n",
    "| Efficiency \\[%\\] | 100 | 100 |\n",
    "| Capacity factor \\[%\\] | 100 | 100 |\n",
    "| Technical lifetime \\[years\\] | 20 | 40 |\n",
    "| Investment costs \\[USD/kW\\] | 500 | 300 |\n",
    "| Variable costs \\[USD/kWa\\] | 30 | 10 |\n",
    "\n",
    "  \n",
    "- Step 2.2: Explore parameters that can force the use of `\"coal_ppl\"`, despite being uneconomical\n",
    "  - `\"bound_capacity_lo\"`"
   ]
  },
  {
   "cell_type": "code",
   "execution_count": null,
   "metadata": {},
   "outputs": [],
   "source": [
    "scenario2 = scenario.clone(\n",
    "    model=\"Westeros Electrified\",\n",
    "    scenario=\"baseline_historic_new_capacity_part2\",\n",
    "    keep_solution=False,\n",
    ")\n",
    "scenario2.check_out()"
   ]
  },
  {
   "attachments": {},
   "cell_type": "markdown",
   "metadata": {},
   "source": [
    "# Define generic functions"
   ]
  },
  {
   "cell_type": "code",
   "execution_count": null,
   "metadata": {},
   "outputs": [],
   "source": [
    "year_df = scenario2.vintage_and_active_years()\n",
    "vintage_years, act_years = year_df[\"year_vtg\"], year_df[\"year_act\"]\n",
    "\n",
    "base = {\n",
    "    \"node_loc\": country,\n",
    "    \"year_vtg\": vintage_years,\n",
    "    \"year_act\": act_years,\n",
    "    \"mode\": \"standard\",\n",
    "    \"time\": \"year\",\n",
    "    \"unit\": \"-\",\n",
    "}\n",
    "\n",
    "base_output = make_df(\"output\", **base, node_dest=country, time_dest=\"year\")\n",
    "\n",
    "base_capacity_factor = {\n",
    "    \"node_loc\": country,\n",
    "    \"year_vtg\": vintage_years,\n",
    "    \"year_act\": act_years,\n",
    "    \"time\": \"year\",\n",
    "    \"unit\": \"-\",\n",
    "}\n",
    "\n",
    "base_technical_lifetime = {\n",
    "    \"node_loc\": country,\n",
    "    \"year_vtg\": model_horizon,\n",
    "    \"unit\": \"y\",\n",
    "}\n",
    "\n",
    "base_inv_cost = {\n",
    "    \"node_loc\": country,\n",
    "    \"year_vtg\": model_horizon,\n",
    "    \"unit\": \"USD/kW\",\n",
    "}\n",
    "\n",
    "base_var_cost = {\n",
    "    \"node_loc\": country,\n",
    "    \"year_vtg\": vintage_years,\n",
    "    \"year_act\": act_years,\n",
    "    \"mode\": \"standard\",\n",
    "    \"time\": \"year\",\n",
    "    \"unit\": \"USD/kWa\",\n",
    "}"
   ]
  },
  {
   "cell_type": "markdown",
   "metadata": {},
   "source": [
    "### Step 2.1: Add `\"gas_ppl\"`"
   ]
  },
  {
   "cell_type": "markdown",
   "metadata": {},
   "source": [
    "#### Define a new technology `\"gas_ppl\"`"
   ]
  },
  {
   "cell_type": "code",
   "execution_count": null,
   "metadata": {},
   "outputs": [],
   "source": [
    "scenario2.add_set(\"technology\", [\"gas_ppl\"])"
   ]
  },
  {
   "attachments": {},
   "cell_type": "markdown",
   "metadata": {},
   "source": [
    "#### Parametrize `\"output\"`"
   ]
  },
  {
   "cell_type": "code",
   "execution_count": null,
   "metadata": {},
   "outputs": [],
   "source": [
    "gas_out = base_output.assign(\n",
    "    technology=\"gas_ppl\",\n",
    "    commodity=\"electricity\",\n",
    "    level=\"secondary\",\n",
    "    value=1.0,\n",
    "    unit=\"GWa\",\n",
    ")\n",
    "scenario2.add_par(\"output\", gas_out)"
   ]
  },
  {
   "cell_type": "markdown",
   "metadata": {},
   "source": [
    "#### Parametrize `\"capacity_factor\"`"
   ]
  },
  {
   "cell_type": "code",
   "execution_count": null,
   "metadata": {},
   "outputs": [],
   "source": [
    "capacity_factor = {\n",
    "    \"gas_ppl\": 1,\n",
    "}\n",
    "\n",
    "for tec, val in capacity_factor.items():\n",
    "    df = make_df(\"capacity_factor\", **base_capacity_factor, technology=tec, value=val)\n",
    "    scenario2.add_par(\"capacity_factor\", df)"
   ]
  },
  {
   "cell_type": "markdown",
   "metadata": {},
   "source": [
    "#### Parametrize `\"technical_lifetime\"`"
   ]
  },
  {
   "cell_type": "code",
   "execution_count": null,
   "metadata": {},
   "outputs": [],
   "source": [
    "lifetime = {\n",
    "    \"gas_ppl\": 40,\n",
    "}\n",
    "\n",
    "for tec, val in lifetime.items():\n",
    "    df = make_df(\n",
    "        \"technical_lifetime\", **base_technical_lifetime, technology=tec, value=val\n",
    "    )\n",
    "    scenario2.add_par(\"technical_lifetime\", df)"
   ]
  },
  {
   "cell_type": "markdown",
   "metadata": {},
   "source": [
    "#### Parametrize `\"inv_cost\"`"
   ]
  },
  {
   "cell_type": "code",
   "execution_count": null,
   "metadata": {},
   "outputs": [],
   "source": [
    "costs = {\n",
    "    \"gas_ppl\": 300,\n",
    "}\n",
    "\n",
    "for tec, val in costs.items():\n",
    "    df = make_df(\"inv_cost\", **base_inv_cost, technology=tec, value=val)\n",
    "    scenario2.add_par(\"inv_cost\", df)"
   ]
  },
  {
   "cell_type": "markdown",
   "metadata": {},
   "source": [
    "#### Parametrize `\"var_cost\"`"
   ]
  },
  {
   "cell_type": "code",
   "execution_count": null,
   "metadata": {},
   "outputs": [],
   "source": [
    "costs = {\n",
    "    \"gas_ppl\": 10,\n",
    "}\n",
    "\n",
    "for tec, val in costs.items():\n",
    "    df = make_df(\"var_cost\", **base_var_cost, technology=tec, value=val)\n",
    "    scenario2.add_par(\"var_cost\", df)"
   ]
  },
  {
   "cell_type": "markdown",
   "metadata": {},
   "source": [
    "## Time to Solve the Model"
   ]
  },
  {
   "cell_type": "code",
   "execution_count": null,
   "metadata": {},
   "outputs": [],
   "source": [
    "scenario2.commit(\"\")\n",
    "scenario2.set_as_default()\n",
    "scenario2.solve()"
   ]
  },
  {
   "cell_type": "markdown",
   "metadata": {},
   "source": [
    "## Plotting Results"
   ]
  },
  {
   "cell_type": "code",
   "execution_count": null,
   "metadata": {},
   "outputs": [],
   "source": [
    "rep2 = Reporter.from_scenario(scenario2)\n",
    "prepare_plots(rep2)"
   ]
  },
  {
   "attachments": {},
   "cell_type": "markdown",
   "metadata": {},
   "source": [
    "### Capacity\n",
    "We will first plot the capacity of our first scenario and then compare these to the capacity installations for the example for which we added the cheaper electricity generation option, `\"gas_ppl\"`."
   ]
  },
  {
   "cell_type": "code",
   "execution_count": null,
   "metadata": {},
   "outputs": [],
   "source": [
    "rep.get(\"plot capacity\")"
   ]
  },
  {
   "cell_type": "code",
   "execution_count": null,
   "metadata": {},
   "outputs": [],
   "source": [
    "rep2.set_filters(t=[\"coal_ppl\", \"gas_ppl\"])\n",
    "rep2.get(\"plot capacity\")"
   ]
  },
  {
   "cell_type": "markdown",
   "metadata": {},
   "source": [
    "We can see from the two plots, that in the example for which we have added the cheaper electricity generation technology, `\"gas_ppl\"`, `\"coal_ppl\"` is retired in the `firstmodelyear`. Further details can be seen by looking at the variable `\"CAP\"`."
   ]
  },
  {
   "cell_type": "code",
   "execution_count": null,
   "metadata": {},
   "outputs": [],
   "source": [
    "scenario2.var(\"CAP\", filters={\"technology\": [\"coal_ppl\", \"gas_ppl\"]})"
   ]
  },
  {
   "attachments": {},
   "cell_type": "markdown",
   "metadata": {},
   "source": [
    "### Step 2.2: Using bounds to force the model to use `\"coal_ppl\"`\n",
    "There are multiple bounds that can be used to *force* the model to use the historical capacity of `\"coal_ppl\"` until the end of its lifetime.\n",
    "- `\"bound_total_capacity_lo\"` (possibly in combination with `\"bound_total_capacity_up\"`)\n",
    "- `\"bound_activity_lo\"` (possibly in combination with `\"bound_activity_up\"`)\n",
    "- dynamic constraints on activity and/or capacity\n",
    "- `\"fixed_activity\"` or `\"fixed_capacity\"` can also be used"
   ]
  },
  {
   "cell_type": "code",
   "execution_count": null,
   "metadata": {},
   "outputs": [],
   "source": [
    "scenario2.remove_solution()\n",
    "scenario2.check_out()"
   ]
  },
  {
   "attachments": {},
   "cell_type": "markdown",
   "metadata": {},
   "source": [
    "#### `\"bound_total_capacity_lo\"`\n",
    "Add a lower bound on capacity for `\"coal_ppl\"` in `\"year_act\"` installed in 690.\n",
    "\n",
    "In order to calculate the `\"bound_capacity_lo\"`, we first need to retrieve the `\"historical_new_capacity\"`. As this is an annual value, we will need to account for the `\"duration_period\"` when defining the `\"bound_capacity_lo\"`.\n",
    "\n",
    "**NOTE: `\"bound_capacity_lo\"` is indexed over the activity years, so if there are multiple vintages installed in historical years, their individual `\"technical_lifetime\"`s will need to be accounted for when formulating the constraint.**"
   ]
  },
  {
   "cell_type": "code",
   "execution_count": null,
   "metadata": {},
   "outputs": [],
   "source": [
    "# Retrieve `\"historical_new_capacity\"`\n",
    "value = float(\n",
    "    scenario2.par(\"historical_new_capacity\", filters={\"technology\": \"coal_ppl\"}).value\n",
    ")\n",
    "\n",
    "# Retrieve `\"duration_period\"` for the year 700\n",
    "duration_period = float(\n",
    "    scenario.par(\"duration_period\", filters={\"year\": scenario.firstmodelyear})[\"value\"]\n",
    ")\n",
    "\n",
    "value *= duration_period\n",
    "\n",
    "df = pd.DataFrame(\n",
    "    {\"node_loc\": country, \"technology\": \"coal_ppl\", \"year_act\": [700], \"value\": value}\n",
    ")\n",
    "scenario2.add_par(\"bound_total_capacity_lo\", df)\n",
    "print(\n",
    "    f\"The `'bound_total_capacity_lo'` for `'coal_ppl'` is set to {round(value, 2)} for the year 700.\"\n",
    ")"
   ]
  },
  {
   "cell_type": "markdown",
   "metadata": {},
   "source": [
    "## Time to Solve the Model"
   ]
  },
  {
   "cell_type": "code",
   "execution_count": null,
   "metadata": {},
   "outputs": [],
   "source": [
    "scenario2.commit(\"\")\n",
    "scenario2.set_as_default()\n",
    "scenario2.solve()"
   ]
  },
  {
   "cell_type": "markdown",
   "metadata": {},
   "source": [
    "## Plotting Results"
   ]
  },
  {
   "cell_type": "code",
   "execution_count": null,
   "metadata": {},
   "outputs": [],
   "source": [
    "rep2 = Reporter.from_scenario(scenario2)\n",
    "prepare_plots(rep2)"
   ]
  },
  {
   "attachments": {},
   "cell_type": "markdown",
   "metadata": {},
   "source": [
    "### Capacity\n",
    "When plotting the capacity, we can see that the bound has in fact achieved the desired effect, but only partially. While the capacity of the `\"coal_ppl\"` is maintained, we can also observe that the capacity for `\"gas_ppl\"` is also built in the `firstmodelyear`. This can e.g. be caused by there being no costs associated with maintaining the capacity of `\"coal_ppl\"` i.e. we haven't defined fixed operating and maintance costs."
   ]
  },
  {
   "cell_type": "code",
   "execution_count": null,
   "metadata": {},
   "outputs": [],
   "source": [
    "rep2.set_filters(t=[\"coal_ppl\", \"gas_ppl\"])\n",
    "rep2.get(\"plot capacity\")"
   ]
  },
  {
   "cell_type": "markdown",
   "metadata": {},
   "source": [
    "### Activity\n",
    "Looking at the results for activity, we can see that `\"coal_ppl\"` is no longer generating electricity."
   ]
  },
  {
   "cell_type": "code",
   "execution_count": null,
   "metadata": {},
   "outputs": [],
   "source": [
    "rep2.get(\"plot activity\")"
   ]
  },
  {
   "attachments": {},
   "cell_type": "markdown",
   "metadata": {},
   "source": [
    "So, an alternative would be to use the `\"bound_activity_lo\"`."
   ]
  },
  {
   "cell_type": "code",
   "execution_count": null,
   "metadata": {},
   "outputs": [],
   "source": [
    "scenario2.remove_solution()\n",
    "scenario2.check_out()"
   ]
  },
  {
   "attachments": {},
   "cell_type": "markdown",
   "metadata": {},
   "source": [
    "#### `\"bound_activity_lo\"`\n",
    "Add a lower bound on activity for `\"coal_ppl\"` in `\"year_act\"` installed in 690.\n",
    "\n",
    "In order to calculate the `\"bound_activity_lo\"`, we first need to retrieve the `\"historical_new_capacity\"`.\n",
    "As this is an annual value, we will need to account for the `\"duration_period\"` when defining the `\"bound_activity_lo\"`.\n",
    "We would normally also need to account for the `\"capacity_factor\"` as well as the efficiency, but we know that they are both 1.\n",
    "\n",
    "**NOTE: `\"bound_activity_lo\"` is indexed over the activity years, so if there are multiple vintages installed in historical years, their individual `\"technical_lifetime\"`s will need to be accounted for when formulating the constraint.**"
   ]
  },
  {
   "cell_type": "code",
   "execution_count": null,
   "metadata": {},
   "outputs": [],
   "source": [
    "# Retrieve `historical_new_capacity`\n",
    "value = float(\n",
    "    scenario2.par(\"historical_new_capacity\", filters={\"technology\": \"coal_ppl\"}).value\n",
    ")\n",
    "\n",
    "# Retrieve `duration_period` for the year 700\n",
    "duration_period = float(\n",
    "    scenario.par(\"duration_period\", filters={\"year\": scenario.firstmodelyear})[\"value\"]\n",
    ")\n",
    "\n",
    "value *= duration_period\n",
    "\n",
    "df = pd.DataFrame(\n",
    "    {\n",
    "        \"node_loc\": country,\n",
    "        \"technology\": \"coal_ppl\",\n",
    "        \"year_act\": [700],\n",
    "        \"value\": value,\n",
    "        \"mode\": \"standard\",\n",
    "        \"time\": \"year\",\n",
    "        \"units\": \"GWa\",\n",
    "    }\n",
    ")\n",
    "scenario2.add_par(\"bound_activity_lo\", df)\n",
    "print(\n",
    "    f\"The `'bound_activity_lo'` for `'coal_ppl'` is set to {round(value, 2)} for the year 700.\"\n",
    ")"
   ]
  },
  {
   "cell_type": "markdown",
   "metadata": {},
   "source": [
    "As we are using the same scenario as before, we will need to remove the `\"bound_total_capacity_lo\"` which we previously introduced."
   ]
  },
  {
   "cell_type": "code",
   "execution_count": null,
   "metadata": {},
   "outputs": [],
   "source": [
    "df = scenario2.par(\"bound_total_capacity_lo\")\n",
    "scenario2.remove_par(\"bound_total_capacity_lo\", df)"
   ]
  },
  {
   "cell_type": "markdown",
   "metadata": {},
   "source": [
    "## Time to Solve the Model"
   ]
  },
  {
   "cell_type": "code",
   "execution_count": null,
   "metadata": {},
   "outputs": [],
   "source": [
    "scenario2.commit(\"\")\n",
    "scenario2.set_as_default()\n",
    "scenario2.solve()"
   ]
  },
  {
   "cell_type": "markdown",
   "metadata": {},
   "source": [
    "## Plotting Results"
   ]
  },
  {
   "cell_type": "code",
   "execution_count": null,
   "metadata": {},
   "outputs": [],
   "source": [
    "rep2 = Reporter.from_scenario(scenario2)\n",
    "prepare_plots(rep2)"
   ]
  },
  {
   "attachments": {},
   "cell_type": "markdown",
   "metadata": {},
   "source": [
    "### Capacity\n",
    "If we now replot the capacity, we can see that capacity for `\"gas_ppl\"` is only added as of 710."
   ]
  },
  {
   "cell_type": "code",
   "execution_count": null,
   "metadata": {},
   "outputs": [],
   "source": [
    "rep2.set_filters(t=[\"coal_ppl\", \"gas_ppl\"])\n",
    "rep2.get(\"plot capacity\")"
   ]
  },
  {
   "attachments": {},
   "cell_type": "markdown",
   "metadata": {},
   "source": [
    "### Activity\n",
    "Looking at the results for activity, we can see that `\"coal_ppl\"` is generating electricity up until the year 700."
   ]
  },
  {
   "cell_type": "code",
   "execution_count": null,
   "metadata": {},
   "outputs": [],
   "source": [
    "rep2.get(\"plot activity\")"
   ]
  },
  {
   "cell_type": "code",
   "execution_count": null,
   "metadata": {},
   "outputs": [],
   "source": [
    "mp.close_db()"
   ]
  }
 ],
 "metadata": {
  "anaconda-cloud": {},
  "kernelspec": {
   "display_name": "Python 3 (ipykernel)",
   "language": "python",
   "name": "python3"
  },
  "language_info": {
   "codemirror_mode": {
    "name": "ipython",
    "version": 3
   },
   "file_extension": ".py",
   "mimetype": "text/x-python",
   "name": "python",
   "nbconvert_exporter": "python",
   "pygments_lexer": "ipython3",
   "version": "3.9.2"
  }
 },
 "nbformat": 4,
 "nbformat_minor": 2
}
