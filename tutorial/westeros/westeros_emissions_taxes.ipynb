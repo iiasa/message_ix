{
 "cells": [
  {
   "cell_type": "markdown",
   "metadata": {},
   "source": [
    "# Westeros Tutorial - Introducing emissions (part2/2): Adding emission taxes\n",
    "\n",
    "In the previous tutorial (``westeros_emissions_bounds.ipynb``), we showed how to introduce emissions into a stylized energy systems model, and what happens if you put a constraint on total CO2 emissions.\n",
    "\n",
    "Now, we will tackle the complementary policy to emissions constraints, namely emissions taxes.\n",
    "\n",
    "**Pre-requisites**\n",
    "- You have the *MESSAGEix* framework installed and working\n",
    "- You have run Westeros baseline scenario (``westeros_baseline.ipynb``) and solved it successfully\n",
    "- You have run the tutorial on introducing emissions (``westeros_emissions_bounds.ipynb``)"
   ]
  },
  {
   "cell_type": "code",
   "execution_count": null,
   "metadata": {},
   "outputs": [],
   "source": [
    "import pandas as pd\n",
    "import ixmp\n",
    "import message_ix\n",
    "\n",
    "from message_ix.util import make_df\n",
    "\n",
    "%matplotlib inline"
   ]
  },
  {
   "cell_type": "code",
   "execution_count": null,
   "metadata": {},
   "outputs": [],
   "source": [
    "mp = ixmp.Platform()"
   ]
  },
  {
   "cell_type": "code",
   "execution_count": null,
   "metadata": {},
   "outputs": [],
   "source": [
    "model = \"Westeros Electrified\"\n",
    "base = message_ix.Scenario(mp, model=model, scenario=\"baseline\")"
   ]
  },
  {
   "cell_type": "markdown",
   "metadata": {},
   "source": [
    "## Load the scenario with an emission bound and look at the result in more detail"
   ]
  },
  {
   "cell_type": "code",
   "execution_count": null,
   "metadata": {},
   "outputs": [],
   "source": [
    "scen_bd = message_ix.Scenario(mp, model=model, scenario=\"emission_bound\")"
   ]
  },
  {
   "cell_type": "code",
   "execution_count": null,
   "metadata": {},
   "outputs": [],
   "source": [
    "# Emissions in MtCO2\n",
    "emissions = scen_bd.var(\"EMISS\", {\"node\": \"Westeros\"})\n",
    "emissions"
   ]
  },
  {
   "cell_type": "code",
   "execution_count": null,
   "metadata": {},
   "outputs": [],
   "source": [
    "# Price in USD/tCO2\n",
    "emission_prices = scen_bd.var(\"PRICE_EMISSION\")\n",
    "emission_prices"
   ]
  },
  {
   "attachments": {},
   "cell_type": "markdown",
   "metadata": {},
   "source": [
    "When setting a cumulative bound, the undiscounted price of emission is the same in different model years (see the marginals of\n",
    "equation `\"EMISSION_CONSTRAINT\"`). However, considering the year-to-year discount factor, we observe an ascending trend in\n",
    "emission prices shown in `\"PRICE_EMISSION\"` above. This means the emission price in later years is higher as the value of money in\n",
    "the future is lower compared to today. "
   ]
  },
  {
   "cell_type": "markdown",
   "metadata": {},
   "source": [
    "## Make a new scenario with emission bounds by year\n",
    "\n",
    "In the previous example, we imposed a bound on emissions over the entire model horizon by using the `type_year` as 'cumulative'\n",
    "in the parameter `\"bound_emission\"`. Now, we will create a similar scenario, but the emission constraint will be defined per year.\n",
    "\n",
    "For the sake of comparison, the per-year emission values will be chosen exactly in line with the optimal emission trajectory\n",
    "obtained from the solution of the previous scenario."
   ]
  },
  {
   "cell_type": "code",
   "execution_count": null,
   "metadata": {},
   "outputs": [],
   "source": [
    "scen_bd_by_year = base.clone(\n",
    "    model, \"carbon_bound_by_year\", \"introducing a carbon tax\", keep_solution=False\n",
    ")\n",
    "scen_bd_by_year.check_out()"
   ]
  },
  {
   "cell_type": "code",
   "execution_count": null,
   "metadata": {},
   "outputs": [],
   "source": [
    "scen_bd_by_year.add_set(\"emission\", \"CO2\")\n",
    "scen_bd_by_year.add_cat(\"emission\", \"GHG\", \"CO2\")\n",
    "scen_bd_by_year.add_par(\"emission_factor\", scen_bd.par(\"emission_factor\"))\n",
    "scen_bd_by_year.par(\"emission_factor\")"
   ]
  },
  {
   "cell_type": "markdown",
   "metadata": {},
   "source": [
    "We specify the model horizon and subsequently add an emission bound parameter to the model. Note that the key `value` here takes the values of the `lvl` column of the `emissions` dataframe printed some cells above."
   ]
  },
  {
   "cell_type": "code",
   "execution_count": null,
   "metadata": {},
   "outputs": [],
   "source": [
    "horizon = [700, 710, 720]\n",
    "\n",
    "bd_emission = make_df(\n",
    "    \"bound_emission\",\n",
    "    node=\"Westeros\",\n",
    "    type_year=horizon,\n",
    "    type_tec=\"all\",\n",
    "    unit=\"MtCO2\",\n",
    "    type_emission=\"GHG\",\n",
    "    value=emissions.set_index(\"year\").lvl,\n",
    ")\n",
    "scen_bd_by_year.add_par(\"bound_emission\", bd_emission)\n",
    "scen_bd_by_year.par(\"bound_emission\")"
   ]
  },
  {
   "cell_type": "code",
   "execution_count": null,
   "metadata": {},
   "outputs": [],
   "source": [
    "scen_bd_by_year.commit(comment=\"emission bound by year\")"
   ]
  },
  {
   "cell_type": "code",
   "execution_count": null,
   "metadata": {},
   "outputs": [],
   "source": [
    "scen_bd_by_year.solve()"
   ]
  },
  {
   "cell_type": "code",
   "execution_count": null,
   "metadata": {},
   "outputs": [],
   "source": [
    "emission_prices_by_year = scen_bd_by_year.var(\"PRICE_EMISSION\")\n",
    "emission_prices_by_year"
   ]
  },
  {
   "cell_type": "markdown",
   "metadata": {},
   "source": [
    "Comparing the emission prices between the two scenarios at this stage, we see that the values are not identical.\n",
    "The reason is that when we introduce emission bounds per year, the price of emission in each year reflects the cost occuring\n",
    "when reducing one more unit of emission in that year.\n",
    "However, in the scenario with a cumulative bound over the entire model horizon, the price of emission reflects the cost of the\n",
    "system in reducing one more unit of emission over the entire model horizon."
   ]
  },
  {
   "cell_type": "markdown",
   "metadata": {},
   "source": [
    "## Setting an emissions tax instead of a bound\n",
    "\n",
    "Again, we choose the emissions prices from the first example (with a cumulative bound) as the tax level over time."
   ]
  },
  {
   "cell_type": "code",
   "execution_count": null,
   "metadata": {},
   "outputs": [],
   "source": [
    "scen_tax = base.clone(\n",
    "    model, \"carbon_tax\", \"introducing a carbon tax\", keep_solution=False\n",
    ")\n",
    "scen_tax.check_out()"
   ]
  },
  {
   "cell_type": "code",
   "execution_count": null,
   "metadata": {},
   "outputs": [],
   "source": [
    "scen_tax.add_set(\"emission\", \"CO2\")\n",
    "scen_tax.add_cat(\"emission\", \"GHG\", \"CO2\")\n",
    "scen_tax.add_par(\"emission_factor\", scen_bd.par(\"emission_factor\"))"
   ]
  },
  {
   "cell_type": "code",
   "execution_count": null,
   "metadata": {},
   "outputs": [],
   "source": [
    "scen_tax.add_set(\"type_year\", [700, 710, 720])\n",
    "\n",
    "# In case you need to add the new unit to the platform\n",
    "mp.add_unit(\"USD/tCO2\")\n",
    "\n",
    "tax_emission = make_df(\n",
    "    \"tax_emission\",\n",
    "    node=\"Westeros\",\n",
    "    type_year=[700, 710, 720],\n",
    "    type_tec=\"all\",\n",
    "    unit=\"USD/tCO2\",\n",
    "    type_emission=\"GHG\",\n",
    "    value=emission_prices.set_index(\"year\").lvl,\n",
    ")\n",
    "scen_tax.add_par(\"tax_emission\", tax_emission)\n",
    "scen_tax.par(\"tax_emission\")"
   ]
  },
  {
   "cell_type": "code",
   "execution_count": null,
   "metadata": {},
   "outputs": [],
   "source": [
    "scen_tax.commit(comment=\"setting taxes on emissions\")"
   ]
  },
  {
   "cell_type": "code",
   "execution_count": null,
   "metadata": {},
   "outputs": [],
   "source": [
    "scen_tax.solve()"
   ]
  },
  {
   "cell_type": "code",
   "execution_count": null,
   "metadata": {},
   "outputs": [],
   "source": [
    "scen_tax.var(\"EMISS\", {\"node\": \"Westeros\"})"
   ]
  },
  {
   "attachments": {},
   "cell_type": "markdown",
   "metadata": {},
   "source": [
    "# Exercises\n",
    "- How do these prices compare to the scenario with a cumulative emission bound (`scen_bd`)?\n",
    "- Try setting the emission tax again by using emission prices obtained from the scenario with yearly bounds on emissions (`scen_bd_by_year`). What is the difference in emissions (i.e., variable `EMISS`)?"
   ]
  },
  {
   "cell_type": "markdown",
   "metadata": {},
   "source": [
    "## Close the connection to the database"
   ]
  },
  {
   "cell_type": "code",
   "execution_count": null,
   "metadata": {},
   "outputs": [],
   "source": [
    "mp.close_db()"
   ]
  }
 ],
 "metadata": {
  "kernelspec": {
   "display_name": "message_ix",
   "language": "python",
   "name": "python3"
  },
  "language_info": {
   "codemirror_mode": {
    "name": "ipython",
    "version": 3
   },
   "file_extension": ".py",
   "mimetype": "text/x-python",
   "name": "python",
   "nbconvert_exporter": "python",
   "pygments_lexer": "ipython3",
   "version": "3.10.6"
  },
  "vscode": {
   "interpreter": {
    "hash": "29605b568787f5559ca1ba05da75d155c3dcfa15a1a63b1885b057c5465ade2e"
   }
  }
 },
 "nbformat": 4,
 "nbformat_minor": 2
}
