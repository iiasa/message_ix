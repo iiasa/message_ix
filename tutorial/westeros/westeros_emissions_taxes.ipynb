{
 "cells": [
  {
   "cell_type": "markdown",
   "metadata": {},
   "source": [
    "# Westeros Tutorial Part III - Introducing emission taxes\n",
    "\n",
    "In the second part, we showed how to introduce emissions into a stylized energy systems model, and what happens if you put a constraint on total CO2 emissions.\n",
    "\n",
    "Now, we will tackle the complementary policy to emissions constraints, namely emissions taxes."
   ]
  },
  {
   "cell_type": "code",
   "execution_count": 1,
   "metadata": {},
   "outputs": [],
   "source": [
    "import pandas as pd\n",
    "import ixmp\n",
    "import message_ix\n",
    "\n",
    "from message_ix.utils import make_df\n",
    "\n",
    "%matplotlib inline"
   ]
  },
  {
   "cell_type": "code",
   "execution_count": 2,
   "metadata": {},
   "outputs": [
    {
     "name": "stderr",
     "output_type": "stream",
     "text": [
      "INFO:root:launching ixmp.Platform with local HSQLDB database at '/Users/BintangYuwono/.local/share/ixmp/localdbdefault'\n"
     ]
    }
   ],
   "source": [
    "mp = ixmp.Platform(dbtype='HSQLDB')"
   ]
  },
  {
   "cell_type": "code",
   "execution_count": 3,
   "metadata": {},
   "outputs": [],
   "source": [
    "model = 'Westeros Electrified'\n",
    "base = message_ix.Scenario(mp, model=model, scenario='baseline')"
   ]
  },
  {
   "cell_type": "markdown",
   "metadata": {},
   "source": [
    "## Load the scenario with an emission bound and look at the result in more detail"
   ]
  },
  {
   "cell_type": "code",
   "execution_count": 4,
   "metadata": {},
   "outputs": [],
   "source": [
    "scen_bd = message_ix.Scenario(mp, model=model, scenario='emission_bound')"
   ]
  },
  {
   "cell_type": "code",
   "execution_count": 5,
   "metadata": {},
   "outputs": [
    {
     "data": {
      "text/html": [
       "<div>\n",
       "<style scoped>\n",
       "    .dataframe tbody tr th:only-of-type {\n",
       "        vertical-align: middle;\n",
       "    }\n",
       "\n",
       "    .dataframe tbody tr th {\n",
       "        vertical-align: top;\n",
       "    }\n",
       "\n",
       "    .dataframe thead th {\n",
       "        text-align: right;\n",
       "    }\n",
       "</style>\n",
       "<table border=\"1\" class=\"dataframe\">\n",
       "  <thead>\n",
       "    <tr style=\"text-align: right;\">\n",
       "      <th></th>\n",
       "      <th>node</th>\n",
       "      <th>emission</th>\n",
       "      <th>type_tec</th>\n",
       "      <th>year</th>\n",
       "      <th>lvl</th>\n",
       "      <th>mrg</th>\n",
       "    </tr>\n",
       "  </thead>\n",
       "  <tbody>\n",
       "    <tr>\n",
       "      <th>0</th>\n",
       "      <td>Westeros</td>\n",
       "      <td>CO2</td>\n",
       "      <td>all</td>\n",
       "      <td>700</td>\n",
       "      <td>7664.400879</td>\n",
       "      <td>0.0</td>\n",
       "    </tr>\n",
       "    <tr>\n",
       "      <th>1</th>\n",
       "      <td>Westeros</td>\n",
       "      <td>CO2</td>\n",
       "      <td>all</td>\n",
       "      <td>710</td>\n",
       "      <td>9501.081055</td>\n",
       "      <td>0.0</td>\n",
       "    </tr>\n",
       "    <tr>\n",
       "      <th>2</th>\n",
       "      <td>Westeros</td>\n",
       "      <td>CO2</td>\n",
       "      <td>all</td>\n",
       "      <td>720</td>\n",
       "      <td>6834.517578</td>\n",
       "      <td>0.0</td>\n",
       "    </tr>\n",
       "  </tbody>\n",
       "</table>\n",
       "</div>"
      ],
      "text/plain": [
       "       node emission type_tec  year          lvl  mrg\n",
       "0  Westeros      CO2      all   700  7664.400879  0.0\n",
       "1  Westeros      CO2      all   710  9501.081055  0.0\n",
       "2  Westeros      CO2      all   720  6834.517578  0.0"
      ]
     },
     "execution_count": 5,
     "metadata": {},
     "output_type": "execute_result"
    }
   ],
   "source": [
    "emissions = scen_bd.var('EMISS', {'node': 'Westeros'})\n",
    "emissions"
   ]
  },
  {
   "cell_type": "code",
   "execution_count": 6,
   "metadata": {},
   "outputs": [
    {
     "data": {
      "text/html": [
       "<div>\n",
       "<style scoped>\n",
       "    .dataframe tbody tr th:only-of-type {\n",
       "        vertical-align: middle;\n",
       "    }\n",
       "\n",
       "    .dataframe tbody tr th {\n",
       "        vertical-align: top;\n",
       "    }\n",
       "\n",
       "    .dataframe thead th {\n",
       "        text-align: right;\n",
       "    }\n",
       "</style>\n",
       "<table border=\"1\" class=\"dataframe\">\n",
       "  <thead>\n",
       "    <tr style=\"text-align: right;\">\n",
       "      <th></th>\n",
       "      <th>node</th>\n",
       "      <th>type_emission</th>\n",
       "      <th>type_tec</th>\n",
       "      <th>year</th>\n",
       "      <th>lvl</th>\n",
       "      <th>mrg</th>\n",
       "    </tr>\n",
       "  </thead>\n",
       "  <tbody>\n",
       "    <tr>\n",
       "      <th>0</th>\n",
       "      <td>Westeros</td>\n",
       "      <td>GHG</td>\n",
       "      <td>all</td>\n",
       "      <td>700</td>\n",
       "      <td>1.623407</td>\n",
       "      <td>0.0</td>\n",
       "    </tr>\n",
       "    <tr>\n",
       "      <th>1</th>\n",
       "      <td>Westeros</td>\n",
       "      <td>GHG</td>\n",
       "      <td>all</td>\n",
       "      <td>710</td>\n",
       "      <td>2.644359</td>\n",
       "      <td>0.0</td>\n",
       "    </tr>\n",
       "    <tr>\n",
       "      <th>2</th>\n",
       "      <td>Westeros</td>\n",
       "      <td>GHG</td>\n",
       "      <td>all</td>\n",
       "      <td>720</td>\n",
       "      <td>4.307382</td>\n",
       "      <td>0.0</td>\n",
       "    </tr>\n",
       "  </tbody>\n",
       "</table>\n",
       "</div>"
      ],
      "text/plain": [
       "       node type_emission type_tec  year       lvl  mrg\n",
       "0  Westeros           GHG      all   700  1.623407  0.0\n",
       "1  Westeros           GHG      all   710  2.644359  0.0\n",
       "2  Westeros           GHG      all   720  4.307382  0.0"
      ]
     },
     "execution_count": 6,
     "metadata": {},
     "output_type": "execute_result"
    }
   ],
   "source": [
    "emission_prices = scen_bd.var('PRICE_EMISSION')\n",
    "emission_prices"
   ]
  },
  {
   "cell_type": "markdown",
   "metadata": {},
   "source": [
    "When setting a cumlulative bound, the optimization model choses an emission trajectory that pushes the cost towards the  end of the model horizon. As a consequence, the shadow price or dual variable of the constraint increase exponentially at the discount rate."
   ]
  },
  {
   "cell_type": "markdown",
   "metadata": {},
   "source": [
    "## Make a new scenario with emission bounds by year\n",
    "\n",
    "In the previous example, we imposed a bound on emissions over the entire model horizon by using the `type_year 'cumulative'`. Now, we will create a similar scenario, but the constraint will be defined per year.\n",
    "\n",
    "For the sake of comparison, the per-year emission values will be chosen exactly in line with the optimal emission trajectory from the previous scenario."
   ]
  },
  {
   "cell_type": "code",
   "execution_count": 7,
   "metadata": {},
   "outputs": [],
   "source": [
    "scen_bd_by_year = base.clone(model, 'carbon_bound_by_year','introducing a carbon tax',\n",
    "                             keep_solution=False)\n",
    "scen_bd_by_year.check_out()"
   ]
  },
  {
   "cell_type": "code",
   "execution_count": 8,
   "metadata": {},
   "outputs": [],
   "source": [
    "scen_bd_by_year.add_set('emission', 'CO2')\n",
    "scen_bd_by_year.add_cat('emission', 'GHG', 'CO2')\n",
    "scen_bd_by_year.add_par('emission_factor', scen_bd.par('emission_factor'))"
   ]
  },
  {
   "cell_type": "code",
   "execution_count": 9,
   "metadata": {},
   "outputs": [],
   "source": [
    "base_bd_emission = {\n",
    "    'node': 'Westeros',\n",
    "    'type_year': [700, 710, 720],\n",
    "    'type_tec': 'all',\n",
    "    'unit': 'tCO2',\n",
    "    'type_emission': 'GHG',\n",
    "    'value': emissions.lvl\n",
    "}\n",
    "\n",
    "bd_emission = make_df(base_bd_emission)\n",
    "scen_bd_by_year.add_par('bound_emission', bd_emission)"
   ]
  },
  {
   "cell_type": "code",
   "execution_count": 10,
   "metadata": {},
   "outputs": [],
   "source": [
    "scen_bd_by_year.commit(comment='emission bound by year')"
   ]
  },
  {
   "cell_type": "code",
   "execution_count": 11,
   "metadata": {},
   "outputs": [],
   "source": [
    "scen_bd_by_year.solve()"
   ]
  },
  {
   "cell_type": "code",
   "execution_count": 12,
   "metadata": {},
   "outputs": [
    {
     "data": {
      "text/html": [
       "<div>\n",
       "<style scoped>\n",
       "    .dataframe tbody tr th:only-of-type {\n",
       "        vertical-align: middle;\n",
       "    }\n",
       "\n",
       "    .dataframe tbody tr th {\n",
       "        vertical-align: top;\n",
       "    }\n",
       "\n",
       "    .dataframe thead th {\n",
       "        text-align: right;\n",
       "    }\n",
       "</style>\n",
       "<table border=\"1\" class=\"dataframe\">\n",
       "  <thead>\n",
       "    <tr style=\"text-align: right;\">\n",
       "      <th></th>\n",
       "      <th>node</th>\n",
       "      <th>type_emission</th>\n",
       "      <th>type_tec</th>\n",
       "      <th>year</th>\n",
       "      <th>lvl</th>\n",
       "      <th>mrg</th>\n",
       "    </tr>\n",
       "  </thead>\n",
       "  <tbody>\n",
       "    <tr>\n",
       "      <th>0</th>\n",
       "      <td>Westeros</td>\n",
       "      <td>GHG</td>\n",
       "      <td>all</td>\n",
       "      <td>710</td>\n",
       "      <td>4.726496</td>\n",
       "      <td>0.0</td>\n",
       "    </tr>\n",
       "    <tr>\n",
       "      <th>1</th>\n",
       "      <td>Westeros</td>\n",
       "      <td>GHG</td>\n",
       "      <td>all</td>\n",
       "      <td>720</td>\n",
       "      <td>4.307382</td>\n",
       "      <td>0.0</td>\n",
       "    </tr>\n",
       "  </tbody>\n",
       "</table>\n",
       "</div>"
      ],
      "text/plain": [
       "       node type_emission type_tec  year       lvl  mrg\n",
       "0  Westeros           GHG      all   710  4.726496  0.0\n",
       "1  Westeros           GHG      all   720  4.307382  0.0"
      ]
     },
     "execution_count": 12,
     "metadata": {},
     "output_type": "execute_result"
    }
   ],
   "source": [
    "emission_prices_by_year = scen_bd_by_year.var('PRICE_EMISSION')\n",
    "emission_prices_by_year"
   ]
  },
  {
   "cell_type": "markdown",
   "metadata": {},
   "source": [
    "Comparing the emission prices between the two scenarios, we see that the values are identical in the year 710 and close in the year 720. However, the bound in the year 700 is not binding, so the shadow price is 0 (and is not shown here)."
   ]
  },
  {
   "cell_type": "markdown",
   "metadata": {},
   "source": [
    "## Setting an emissions tax instead of a bound\n",
    "\n",
    "Again, we choose the emissions prices from the first example (with a cumulative bound) as the tax level over time."
   ]
  },
  {
   "cell_type": "code",
   "execution_count": 13,
   "metadata": {},
   "outputs": [],
   "source": [
    "scen_tax = base.clone(model, 'carbon_tax','introducing a carbon tax',\n",
    "                      keep_solution=False)\n",
    "scen_tax.check_out()"
   ]
  },
  {
   "cell_type": "code",
   "execution_count": 14,
   "metadata": {},
   "outputs": [],
   "source": [
    "scen_tax.add_set('emission', 'CO2')\n",
    "scen_tax.add_cat('emission', 'GHG', 'CO2')\n",
    "scen_tax.add_par('emission_factor', scen_bd.par('emission_factor'))"
   ]
  },
  {
   "cell_type": "code",
   "execution_count": 15,
   "metadata": {},
   "outputs": [],
   "source": [
    "scen_tax.add_set('type_year', [700, 710, 720])\n",
    "horizon = scen_tax.set('type_year')\n",
    "base_tax_emission = {\n",
    "        'node': 'Westeros',\n",
    "        'type_emission': 'GHG',\n",
    "        'type_year': horizon,\n",
    "        'type_tec': 'all',\n",
    "        'value': 70.,\n",
    "        'unit': 'USD/tCO2',\n",
    "}\n",
    "\n",
    "tax_emission = make_df(base_tax_emission)\n",
    "scen_tax.add_par('tax_emission', tax_emission)"
   ]
  },
  {
   "cell_type": "code",
   "execution_count": 16,
   "metadata": {},
   "outputs": [],
   "source": [
    "scen_tax.commit(comment='setting taxes on emissions')"
   ]
  },
  {
   "cell_type": "code",
   "execution_count": 17,
   "metadata": {},
   "outputs": [],
   "source": [
    "scen_tax.solve()"
   ]
  },
  {
   "cell_type": "code",
   "execution_count": 18,
   "metadata": {},
   "outputs": [
    {
     "data": {
      "text/html": [
       "<div>\n",
       "<style scoped>\n",
       "    .dataframe tbody tr th:only-of-type {\n",
       "        vertical-align: middle;\n",
       "    }\n",
       "\n",
       "    .dataframe tbody tr th {\n",
       "        vertical-align: top;\n",
       "    }\n",
       "\n",
       "    .dataframe thead th {\n",
       "        text-align: right;\n",
       "    }\n",
       "</style>\n",
       "<table border=\"1\" class=\"dataframe\">\n",
       "  <thead>\n",
       "    <tr style=\"text-align: right;\">\n",
       "      <th></th>\n",
       "      <th>node</th>\n",
       "      <th>emission</th>\n",
       "      <th>type_tec</th>\n",
       "      <th>year</th>\n",
       "      <th>lvl</th>\n",
       "      <th>mrg</th>\n",
       "    </tr>\n",
       "  </thead>\n",
       "  <tbody>\n",
       "    <tr>\n",
       "      <th>0</th>\n",
       "      <td>Westeros</td>\n",
       "      <td>CO2</td>\n",
       "      <td>all</td>\n",
       "      <td>700</td>\n",
       "      <td>5813.749512</td>\n",
       "      <td>0.0</td>\n",
       "    </tr>\n",
       "    <tr>\n",
       "      <th>1</th>\n",
       "      <td>Westeros</td>\n",
       "      <td>CO2</td>\n",
       "      <td>all</td>\n",
       "      <td>710</td>\n",
       "      <td>4700.967773</td>\n",
       "      <td>0.0</td>\n",
       "    </tr>\n",
       "    <tr>\n",
       "      <th>2</th>\n",
       "      <td>Westeros</td>\n",
       "      <td>CO2</td>\n",
       "      <td>all</td>\n",
       "      <td>720</td>\n",
       "      <td>1034.237183</td>\n",
       "      <td>0.0</td>\n",
       "    </tr>\n",
       "  </tbody>\n",
       "</table>\n",
       "</div>"
      ],
      "text/plain": [
       "       node emission type_tec  year          lvl  mrg\n",
       "0  Westeros      CO2      all   700  5813.749512  0.0\n",
       "1  Westeros      CO2      all   710  4700.967773  0.0\n",
       "2  Westeros      CO2      all   720  1034.237183  0.0"
      ]
     },
     "execution_count": 18,
     "metadata": {},
     "output_type": "execute_result"
    }
   ],
   "source": [
    "scen_tax.var('EMISS', {'node': 'Westeros'})"
   ]
  },
  {
   "cell_type": "markdown",
   "metadata": {},
   "source": [
    "Comparing the emissions trajectory in the tax scenario to the outcome in the cumulative budget constraint scenario, we notice that the values in the years 700 and 720 are identical, but the value in 710 is different.\n",
    "\n",
    "This is the flip side of having an identical shadow price on the constraint in the two previous examples - at that price, the costs between wind and coal (with the tax) are exactly equal, hence the optimal solution is not unique.\n",
    "\n",
    "This is usually only an issue in small, stylized problems..."
   ]
  },
  {
   "cell_type": "markdown",
   "metadata": {},
   "source": [
    "## Plotting Results"
   ]
  },
  {
   "cell_type": "code",
   "execution_count": 19,
   "metadata": {},
   "outputs": [],
   "source": [
    "from tools import Plots\n",
    "p = Plots(scen_tax, 'Westeros', firstyear=700)"
   ]
  },
  {
   "cell_type": "code",
   "execution_count": 20,
   "metadata": {},
   "outputs": [
    {
     "data": {
      "image/png": "[encoded data removed]",
      "text/plain": [
       "<Figure size 432x288 with 1 Axes>"
      ]
     },
     "metadata": {
      "needs_background": "light"
     },
     "output_type": "display_data"
    }
   ],
   "source": [
    "p.plot_activity(baseyear=True, subset=['coal_ppl', 'gas_ppl', 'wind_ppl'])"
   ]
  },
  {
   "cell_type": "code",
   "execution_count": 21,
   "metadata": {},
   "outputs": [
    {
     "data": {
      "image/png": "[encoded data removed]",
      "text/plain": [
       "<Figure size 432x288 with 1 Axes>"
      ]
     },
     "metadata": {
      "needs_background": "light"
     },
     "output_type": "display_data"
    }
   ],
   "source": [
    "p.plot_capacity(baseyear=True, subset=['coal_ppl', 'gas_ppl', 'wind_ppl'])"
   ]
  },
  {
   "cell_type": "markdown",
   "metadata": {},
   "source": [
    "## Close the connection to the database"
   ]
  },
  {
   "cell_type": "code",
   "execution_count": 22,
   "metadata": {},
   "outputs": [],
   "source": [
    "mp.close_db()"
   ]
  }
 ],
 "metadata": {
  "kernelspec": {
   "display_name": "Python 3",
   "language": "python",
   "name": "python3"
  },
  "language_info": {
   "codemirror_mode": {
    "name": "ipython",
    "version": 3
   },
   "file_extension": ".py",
   "mimetype": "text/x-python",
   "name": "python",
   "nbconvert_exporter": "python",
   "pygments_lexer": "ipython3",
   "version": "3.7.1"
  }
 },
 "nbformat": 4,
 "nbformat_minor": 2
}
