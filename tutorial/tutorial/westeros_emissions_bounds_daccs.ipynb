{
 "cells": [
  {
   "cell_type": "markdown",
   "id": "3ce427fd",
   "metadata": {},
   "source": [
    "# Adding DACCS in MESSAGE\n",
    "In the previous tutorials, we have learnt how to create a baseline scenario (`westeros_baseline.ipynb`) and add emissions bounds (`westeros_emissions_bounds.ipynb`) to the baseline scenario. Here, we will show how to include an additional/new technology to a MESSAGE model. While the combination of currently existing technologies might be able to deliver the Paris targets, the deployment of some new technologies might improve the probability of meeting the targets and/or reducing the costs. These technologies include CO2 removal (CDR) technologies. Hence, in this tutorial, we will use direct air carbon capture and storage (DACCS) as an example of new technologies to be considered in climate mitigation pathways. \n",
    "\n",
    "In order to smoothly follow this tutorial, you have to alrady have the MESSAGEix framework installed and working. Moreover, you should have run the Westeros baseline and emissions bounds scenarios successfully as this tutorial is built on top of those scenarios.\n",
    "\n",
    "If all set, we can start by importing all the packages we need and connect to a database that store the scenario input and results. We can also name the model as `Westeros Electrified` here."
   ]
  },
  {
   "cell_type": "code",
   "execution_count": 1,
   "id": "239a17a2",
   "metadata": {},
   "outputs": [
    {
     "data": {
      "application/javascript": [
       "if (typeof IPython !== 'undefined') { IPython.OutputArea.prototype._should_scroll = function(lines){ return false; }}"
      ],
      "text/plain": [
       "<IPython.core.display.Javascript object>"
      ]
     },
     "metadata": {},
     "output_type": "display_data"
    }
   ],
   "source": [
    "import pandas as pd\n",
    "import ixmp\n",
    "import message_ix\n",
    "\n",
    "from message_ix.utils import make_df\n",
    "\n",
    "%matplotlib inline\n",
    "\n",
    "mp = ixmp.Platform()\n",
    "\n",
    "model = \"Westeros Electrified\""
   ]
  },
  {
   "cell_type": "markdown",
   "id": "c82f18ff",
   "metadata": {},
   "source": [
    "After we are connected to the database, we can call the prevously run `\"emission_bound\"` scenario as our base model and clone the data before we start adding DACCS to the model. As prevoiusly mentioned, to run this tutorial, you have to have succesfully run the `\"emission_bound\"` scenario, which was built based on the `\"baseline\"` scenario."
   ]
  },
  {
   "cell_type": "code",
   "execution_count": 2,
   "id": "9a868ad2",
   "metadata": {},
   "outputs": [],
   "source": [
    "base = message_ix.Scenario(mp, model=model, scenario=\"emission_bound\")\n",
    "\n",
    "scen = base.clone(\n",
    "    model,\n",
    "    \"emission_bound_DACCS\",\n",
    "    \"introducing an upper bound on emissions\",\n",
    "    keep_solution=False,)\n",
    "scen.check_out()\n",
    "\n",
    "year_df = scen.vintage_and_active_years()\n",
    "vintage_years, act_years = year_df[\"year_vtg\"], year_df[\"year_act\"]\n",
    "model_horizon = scen.set(\"year\")\n",
    "country = \"Westeros\""
   ]
  },
  {
   "cell_type": "markdown",
   "id": "634cecd6",
   "metadata": {},
   "source": [
    "Now, let's call the list of historical and model orizon years so we can use these lists for the next steps."
   ]
  },
  {
   "cell_type": "code",
   "execution_count": 3,
   "id": "0a2bb27c",
   "metadata": {},
   "outputs": [],
   "source": [
    "history = [690]\n",
    "model_horizon = [700, 710, 720]"
   ]
  },
  {
   "cell_type": "markdown",
   "id": "b5db71ca",
   "metadata": {},
   "source": [
    "# Adding DACCS description\n",
    "First step of adding DACCS as a technology in the model is by including DACCS into the `\"technology\"` set."
   ]
  },
  {
   "cell_type": "code",
   "execution_count": 4,
   "id": "3b203192",
   "metadata": {},
   "outputs": [],
   "source": [
    "scen.add_set(\"technology\", [\"DACCS\"])"
   ]
  },
  {
   "cell_type": "markdown",
   "id": "017c5ca3",
   "metadata": {},
   "source": [
    "Similar to what we did when generating the `\"baseline\"` scenario, the first thing we need to do is defining the input and output comodities of each technology. "
   ]
  },
  {
   "cell_type": "code",
   "execution_count": 5,
   "id": "c74cf466",
   "metadata": {},
   "outputs": [],
   "source": [
    "# Some common values to be used for both the \"input\" and \"output\" parameters\n",
    "base = dict(\n",
    "    node_loc=country,\n",
    "    year_vtg=vintage_years,\n",
    "    year_act=act_years,\n",
    "    mode=\"standard\",\n",
    "    time=\"year\",\n",
    "    unit=\"-\",\n",
    ")\n",
    "\n",
    "# Use the message_ix utility function make_df() to create a base data frame for\n",
    "# different \"input\" parameter values\n",
    "base_input = make_df(\"input\", **base, node_origin=country, time_origin=\"year\")\n",
    "\n",
    "# Create a base data frame for different \"output\" parameter values\n",
    "base_output = make_df(\"output\", **base, node_dest=country, time_dest=\"year\")"
   ]
  },
  {
   "cell_type": "markdown",
   "id": "74bc41d1",
   "metadata": {},
   "source": [
    "In this example, DACCS is described as a technology that consumes electricity in order to remove CO2 from the atmosphere. This electricity is assumed to be obtained from the grid. Hence, we define DACCS input as final energy in the form of electricity."
   ]
  },
  {
   "cell_type": "code",
   "execution_count": 6,
   "id": "0dae391a",
   "metadata": {},
   "outputs": [],
   "source": [
    "daccs_in = base_input.assign(\n",
    "    technology=\"DACCS\", commodity=\"electricity\", level=\"final\", value=1.0\n",
    ")\n",
    "scen.add_par(\"input\", daccs_in)"
   ]
  },
  {
   "cell_type": "markdown",
   "id": "8e087a2c",
   "metadata": {},
   "source": [
    "Then, we can also add emissions and capacity factors as well as the technical lifetime of the technology. As can be seen in the code block below, the emissions factor has a negative value, showing that the technology removes insted of emits CO2."
   ]
  },
  {
   "cell_type": "code",
   "execution_count": 7,
   "id": "c80ec39f",
   "metadata": {},
   "outputs": [],
   "source": [
    "emission_factor = make_df(\n",
    "    \"emission_factor\",\n",
    "    node_loc=country,\n",
    "    year_vtg=vintage_years,\n",
    "    year_act=act_years,\n",
    "    mode=\"standard\",\n",
    "    unit=\"tCO2/kWa\",\n",
    "    technology=\"DACCS\",\n",
    "    emission=\"CO2\",\n",
    "    value=-20,\n",
    ")\n",
    "scen.add_par(\"emission_factor\", emission_factor)\n",
    "\n",
    "capacity_factor = make_df(\n",
    "    \"capacity_factor\",\n",
    "    node_loc=country,\n",
    "    year_vtg=vintage_years,\n",
    "    year_act=act_years,\n",
    "    time=\"year\",\n",
    "    unit=\"-\",\n",
    "    technology='DACCS',\n",
    "    value=1,\n",
    ")\n",
    "scen.add_par(\"capacity_factor\", capacity_factor)\n",
    "    \n",
    "lifetime = make_df(\n",
    "    \"technical_lifetime\",\n",
    "    node_loc=country,\n",
    "    year_vtg=model_horizon,\n",
    "    unit=\"y\",\n",
    "    technology='DACCS',\n",
    "    value=20,\n",
    ")\n",
    "scen.add_par(\"technical_lifetime\", lifetime)"
   ]
  },
  {
   "cell_type": "markdown",
   "id": "cef799ae",
   "metadata": {},
   "source": [
    "We also asume that DACCS is a first of a kind technology, i.e., the technology has never been historically deployed. Accordingly, to allow the technology to be installed in the system, we need to define initial deployment (`\"initial_new_capacity_up\"`) and capacity growth (`\"growth_new_capacity_up\"`) rates"
   ]
  },
  {
   "cell_type": "code",
   "execution_count": 8,
   "id": "ad76ac94",
   "metadata": {},
   "outputs": [],
   "source": [
    "initial_newcapacity_up = {\n",
    "    \"DACCS\":0.5,\n",
    "}\n",
    "\n",
    "for tec,val in initial_newcapacity_up.items():\n",
    "    df = make_df(\n",
    "        \"initial_new_capacity_up\",\n",
    "        node_loc=country,\n",
    "        year_vtg=model_horizon,\n",
    "        time=\"year\",\n",
    "        unit=\"GW\",\n",
    "        technology=tec,\n",
    "        value=val,\n",
    "    )\n",
    "    scen.add_par(\"initial_new_capacity_up\", df)\n",
    "\n",
    "growth_newcapacity_up = {\n",
    "    \"DACCS\":0.05,\n",
    "}\n",
    "\n",
    "for tec,val in growth_newcapacity_up.items():\n",
    "    dfgrowth = make_df(\n",
    "        \"growth_new_capacity_up\",\n",
    "        node_loc=country,\n",
    "        year_vtg=model_horizon,\n",
    "        time=\"year\",\n",
    "        unit=\"-\",\n",
    "        technology=tec,\n",
    "        value=val,\n",
    "    )\n",
    "    scen.add_par(\"growth_new_capacity_up\", dfgrowth)"
   ]
  },
  {
   "cell_type": "markdown",
   "id": "dfe89d5e",
   "metadata": {},
   "source": [
    "The last thing we need to do in describing DACCS is adding the technology costs data"
   ]
  },
  {
   "cell_type": "code",
   "execution_count": 9,
   "id": "3ae4574b",
   "metadata": {},
   "outputs": [],
   "source": [
    "# Add a new unit for ixmp to recognize as valid\n",
    "mp.add_unit(\"USD/kW\")\n",
    "\n",
    "# in $ / kW (specific investment cost)\n",
    "capex = make_df(\n",
    "    \"inv_cost\",\n",
    "    node_loc=country,\n",
    "    year_vtg=model_horizon,\n",
    "    unit=\"USD/kW\",\n",
    "    technology='DACCS',\n",
    "    value=2500,\n",
    ")\n",
    "scen.add_par(\"inv_cost\", capex)\n",
    "    \n",
    "# in $ / kW / year (every year a fixed quantity is destinated to cover part of the O&M costs\n",
    "# based on the size of the plant, e.g. lightning, labor, scheduled maintenance, etc.)\n",
    "\n",
    "omfix = make_df(\n",
    "    \"fix_cost\",\n",
    "    node_loc=country,\n",
    "    year_vtg=vintage_years,\n",
    "    year_act=act_years,\n",
    "    unit=\"USD/kWa\",\n",
    "    technology='DACCS',\n",
    "    value=5,\n",
    ")\n",
    "scen.add_par(\"fix_cost\", omfix)\n",
    "\n",
    "# In $ / kWa (costs associated to the degradation of equipment\n",
    "# when the plant is functioning per unit of energy consumed\n",
    "# kW·year = 8760 kWh in generating electricity. Therefore the costs represents USD per 8760 kWh\n",
    "# of electricity consumed.\n",
    "\n",
    "omvar = make_df(\n",
    "    \"var_cost\",\n",
    "    node_loc=country,\n",
    "    year_vtg=vintage_years,\n",
    "    year_act=act_years,\n",
    "    mode=\"standard\",\n",
    "    time=\"year\",\n",
    "    unit=\"USD/kWa\",\n",
    "    technology='DACCS',\n",
    "    value=0,\n",
    ")\n",
    "scen.add_par(\"var_cost\", omvar)"
   ]
  },
  {
   "cell_type": "markdown",
   "id": "54cc0111",
   "metadata": {},
   "source": [
    "# Solve Statement and Plotting Results\n",
    "Finally, this is the solve statement and plotting results command"
   ]
  },
  {
   "cell_type": "code",
   "execution_count": 10,
   "id": "fb160143",
   "metadata": {},
   "outputs": [
    {
     "data": {
      "image/png": "[encoded data removed]",
      "text/plain": [
       "<Figure size 640x480 with 1 Axes>"
      ]
     },
     "metadata": {},
     "output_type": "display_data"
    },
    {
     "data": {
      "image/png": "[encoded data removed]",
      "text/plain": [
       "<Figure size 640x480 with 1 Axes>"
      ]
     },
     "metadata": {},
     "output_type": "display_data"
    },
    {
     "data": {
      "image/png": "[encoded data removed]",
      "text/plain": [
       "<Figure size 640x480 with 1 Axes>"
      ]
     },
     "metadata": {},
     "output_type": "display_data"
    }
   ],
   "source": [
    "scen.commit(comment=\"Introducing emissions, DACCS technology, and setting an upper bound\")\n",
    "scen.set_as_default()\n",
    "\n",
    "scen.solve()\n",
    "scen.var(\"OBJ\")[\"lvl\"]\n",
    "\n",
    "# Create a Reporter object to describe and carry out reporting\n",
    "# calculations and operations (like plotting) based on `scenario`\n",
    "# Add keys like \"plot activity\" to describe reporting operations.\n",
    "# See tutorial/utils/plotting.py\n",
    "from message_ix.reporting import Reporter\n",
    "from message_ix.util.tutorial import prepare_plots\n",
    "\n",
    "rep = Reporter.from_scenario(scen)\n",
    "\n",
    "prepare_plots(rep)\n",
    "\n",
    "# Only show a subset of technologies in the follow plots;\n",
    "# e.g. exclude \"bulb\" and \"grid\"\n",
    "rep.set_filters(t=[\"coal_ppl\", \"wind_ppl\",\"DACCS\"])\n",
    "\n",
    "# Trigger the calculation and plotting\n",
    "rep.get(\"plot activity\")\n",
    "\n",
    "# Create a different plot. The same filters are still active.\n",
    "rep.get(\"plot capacity\")\n",
    "\n",
    "# Replace the technology filters with a commodity filter;\n",
    "# show only \"light\" and not e.g. \"electricity\".\n",
    "rep.set_filters(t=None, c=[\"light\"])\n",
    "\n",
    "# Create a price plot\n",
    "rep.get(\"plot prices\")\n",
    "\n",
    "mp.close_db()"
   ]
  },
  {
   "cell_type": "markdown",
   "id": "3a6671bf",
   "metadata": {},
   "source": [
    "# All Done\n",
    "Voila! You can now see DACCS included in the model. Congratulations!"
   ]
  },
  {
   "cell_type": "code",
   "execution_count": null,
   "id": "c2009f76",
   "metadata": {},
   "outputs": [],
   "source": []
  }
 ],
 "metadata": {
  "kernelspec": {
   "display_name": "Python 3 (ipykernel)",
   "language": "python",
   "name": "python3"
  },
  "language_info": {
   "codemirror_mode": {
    "name": "ipython",
    "version": 3
   },
   "file_extension": ".py",
   "mimetype": "text/x-python",
   "name": "python",
   "nbconvert_exporter": "python",
   "pygments_lexer": "ipython3",
   "version": "3.10.9"
  }
 },
 "nbformat": 4,
 "nbformat_minor": 5
}
