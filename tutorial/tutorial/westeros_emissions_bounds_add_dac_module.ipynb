{
 "cells": [
  {
   "cell_type": "markdown",
   "id": "3ce427fd",
   "metadata": {},
   "source": [
    "# Adding DACCS in MESSAGE\n",
    "In the previous tutorials, we have learnt how to create a baseline scenario (`westeros_baseline.ipynb`) and add emissions bounds (`westeros_emissions_bounds.ipynb`) to the baseline scenario. Here, we will show how to include an additional/new technology to a MESSAGE model. While the combination of currently existing technologies might be able to deliver the Paris targets, the deployment of some new technologies might improve the probability of meeting the targets and/or reducing the costs. These technologies include CO2 removal (CDR) technologies. Hence, in this tutorial, we will use direct air carbon capture and storage (DACCS) as an example of new technologies to be considered in climate mitigation pathways. \n",
    "\n",
    "In order to smoothly follow this tutorial, you have to alrady have the MESSAGEix framework installed and working. Moreover, you should have run the Westeros baseline and emissions bounds scenarios successfully as this tutorial is built on top of those scenarios.\n",
    "\n",
    "If all set, we can start by importing all the packages we need and connect to a database that store the scenario input and results. We can also name the model as `Westeros Electrified` here."
   ]
  },
  {
   "cell_type": "code",
   "execution_count": 1,
   "id": "239a17a2",
   "metadata": {},
   "outputs": [
    {
     "data": {
      "application/javascript": "if (typeof IPython !== 'undefined') { IPython.OutputArea.prototype._should_scroll = function(lines){ return false; }}",
      "text/plain": [
       "<IPython.core.display.Javascript object>"
      ]
     },
     "metadata": {},
     "output_type": "display_data"
    },
    {
     "name": "stderr",
     "output_type": "stream",
     "text": [
      "C:\\Users\\pratama\\Documents\\GitHub\\MESSAGEix\\message_ix\\message_ix\\reporting\\__init__.py:98: FutureWarning: Importing from genno.computations will be deprecated in a future version; use genno.operator instead.\n",
      "  (\"tom:nl-t-yv-ya\", (genno.computations.add, \"fom:nl-t-yv-ya\", \"vom:nl-t-yv-ya\")),\n"
     ]
    }
   ],
   "source": [
    "import pandas as pd\n",
    "import ixmp\n",
    "import message_ix\n",
    "\n",
    "from message_ix.utils import make_df\n",
    "from message_ix.tools.add_dac import *\n",
    "\n",
    "%matplotlib inline\n",
    "\n",
    "mp = ixmp.Platform()\n",
    "\n",
    "model = \"Westeros Electrified\""
   ]
  },
  {
   "cell_type": "markdown",
   "id": "c82f18ff",
   "metadata": {},
   "source": [
    "After we are connected to the database, we can call the prevously run `\"emission_bound\"` scenario as our base model and clone the data before we start adding DACCS to the model. As prevoiusly mentioned, to run this tutorial, you have to have succesfully run the `\"emission_bound\"` scenario, which was built based on the `\"baseline\"` scenario."
   ]
  },
  {
   "cell_type": "code",
   "execution_count": 3,
   "id": "9a868ad2",
   "metadata": {},
   "outputs": [],
   "source": [
    "base = message_ix.Scenario(mp, model=model, scenario=\"emission_bound\")\n",
    "\n",
    "scenario = base.clone(\n",
    "    model,\n",
    "    \"emission_bound_DAC_module\",\n",
    "    \"adding dac using add_dac\",\n",
    "    keep_solution=False,)\n",
    "scenario.check_out()\n",
    "\n",
    "year_df = scenario.vintage_and_active_years()\n",
    "vintage_years, act_years = year_df[\"year_vtg\"], year_df[\"year_act\"]\n",
    "model_horizon = scenario.set(\"year\")\n",
    "country = \"Westeros\""
   ]
  },
  {
   "cell_type": "markdown",
   "id": "634cecd6",
   "metadata": {},
   "source": [
    "Now, let's call the list of historical and model orizon years so we can use these lists for the next steps."
   ]
  },
  {
   "cell_type": "code",
   "execution_count": 4,
   "id": "0a2bb27c",
   "metadata": {},
   "outputs": [],
   "source": [
    "history = [690]\n",
    "model_horizon = [700, 710, 720]"
   ]
  },
  {
   "cell_type": "code",
   "execution_count": 6,
   "id": "373a79bb",
   "metadata": {},
   "outputs": [
    {
     "data": {
      "text/plain": [
       "0       World\n",
       "1    Westeros\n",
       "dtype: object"
      ]
     },
     "execution_count": 6,
     "metadata": {},
     "output_type": "execute_result"
    }
   ],
   "source": [
    "scenario.set('node')"
   ]
  },
  {
   "cell_type": "markdown",
   "id": "b5db71ca",
   "metadata": {},
   "source": [
    "# Adding DACCS description\n",
    "First step of adding DACCS as a technology in the model is by including DACCS into the `\"technology\"` set."
   ]
  },
  {
   "cell_type": "code",
   "execution_count": null,
   "id": "3b203192",
   "metadata": {
    "scrolled": true
   },
   "outputs": [],
   "source": [
    "generate_df(scenario)"
   ]
  },
  {
   "cell_type": "code",
   "execution_count": null,
   "id": "f15d29bf",
   "metadata": {},
   "outputs": [],
   "source": [
    "#from message_ix.tools.add_dac import print_df\n",
    "\n",
    "print_df(scenario)"
   ]
  },
  {
   "cell_type": "markdown",
   "id": "017c5ca3",
   "metadata": {},
   "source": [
    "Similar to what we did when generating the `\"baseline\"` scenario, the first thing we need to do is defining the input and output comodities of each technology. "
   ]
  },
  {
   "cell_type": "markdown",
   "id": "54cc0111",
   "metadata": {},
   "source": [
    "# Solve Statement and Plotting Results\n",
    "Finally, this is the solve statement and plotting results command"
   ]
  },
  {
   "cell_type": "code",
   "execution_count": null,
   "id": "fb160143",
   "metadata": {},
   "outputs": [],
   "source": [
    "scenario.commit(comment=\"Adding DACCS using add_dac module\")\n",
    "scenario.set_as_default()\n",
    "\n",
    "scenario.solve()\n",
    "scenario.var(\"OBJ\")[\"lvl\"]\n",
    "\n",
    "print('Objective value: ', scenario.var(\"OBJ\")[\"lvl\"])\n",
    "\n"
   ]
  },
  {
   "cell_type": "code",
   "execution_count": 7,
   "id": "ff03f487",
   "metadata": {},
   "outputs": [],
   "source": [
    "mp.close_db()"
   ]
  }
 ],
 "metadata": {
  "kernelspec": {
   "display_name": "Python 3 (ipykernel)",
   "language": "python",
   "name": "python3"
  },
  "language_info": {
   "codemirror_mode": {
    "name": "ipython",
    "version": 3
   },
   "file_extension": ".py",
   "mimetype": "text/x-python",
   "name": "python",
   "nbconvert_exporter": "python",
   "pygments_lexer": "ipython3",
   "version": "3.10.9"
  }
 },
 "nbformat": 4,
 "nbformat_minor": 5
}
